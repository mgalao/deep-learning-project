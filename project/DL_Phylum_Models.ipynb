{
 "cells": [
  {
   "cell_type": "markdown",
   "metadata": {
    "id": "IarMyf8tHE9O"
   },
   "source": [
    "<div class=\"alert alert-block alert-success\">\n",
    "\n",
    "# **1.** Environment Setup\n",
    "\n",
    "<div>"
   ]
  },
  {
   "cell_type": "code",
   "execution_count": 1,
   "metadata": {
    "colab": {
     "base_uri": "https://localhost:8080/"
    },
    "executionInfo": {
     "elapsed": 230,
     "status": "ok",
     "timestamp": 1745453675097,
     "user": {
      "displayName": "Marco Galão",
      "userId": "08018044528075081454"
     },
     "user_tz": -60
    },
    "id": "XxCNHXvYIxsc",
    "outputId": "2b87780c-7c78-4805-a0cf-b87c79462815"
   },
   "outputs": [],
   "source": [
    "# gpu_info = !nvidia-smi\n",
    "# gpu_info = '\\n'.join(gpu_info)\n",
    "# if gpu_info.find('failed') >= 0:\n",
    "#   print('Not connected to a GPU')\n",
    "# else:\n",
    "#   print(gpu_info)"
   ]
  },
  {
   "cell_type": "code",
   "execution_count": 2,
   "metadata": {
    "colab": {
     "base_uri": "https://localhost:8080/"
    },
    "executionInfo": {
     "elapsed": 27,
     "status": "ok",
     "timestamp": 1745453675179,
     "user": {
      "displayName": "Marco Galão",
      "userId": "08018044528075081454"
     },
     "user_tz": -60
    },
    "id": "1Im046xxIzgM",
    "outputId": "0f4ffb82-f8fe-491b-f6b6-0cba42c2af6d"
   },
   "outputs": [],
   "source": [
    "# from psutil import virtual_memory\n",
    "# ram_gb = virtual_memory().total / 1e9\n",
    "# print('Your runtime has {:.1f} gigabytes of available RAM\\n'.format(ram_gb))\n",
    "\n",
    "# if ram_gb < 20:\n",
    "#   print('Not using a high-RAM runtime')\n",
    "# else:\n",
    "#   print('You are using a high-RAM runtime!')"
   ]
  },
  {
   "cell_type": "markdown",
   "metadata": {
    "id": "BFzFY6OAHE9S"
   },
   "source": [
    "## 1.1 Connect Google Drive"
   ]
  },
  {
   "cell_type": "code",
   "execution_count": 3,
   "metadata": {
    "colab": {
     "base_uri": "https://localhost:8080/"
    },
    "executionInfo": {
     "elapsed": 20668,
     "status": "ok",
     "timestamp": 1745453695849,
     "user": {
      "displayName": "Marco Galão",
      "userId": "08018044528075081454"
     },
     "user_tz": -60
    },
    "id": "QxFPtRX_HE9S",
    "outputId": "8895c2f7-6894-4253-ce08-d5a46cbed959"
   },
   "outputs": [],
   "source": [
    "# from google.colab import drive\n",
    "# drive.mount('/content/drive')"
   ]
  },
  {
   "cell_type": "code",
   "execution_count": 4,
   "metadata": {
    "colab": {
     "base_uri": "https://localhost:8080/"
    },
    "executionInfo": {
     "elapsed": 1422,
     "status": "ok",
     "timestamp": 1745453697276,
     "user": {
      "displayName": "Marco Galão",
      "userId": "08018044528075081454"
     },
     "user_tz": -60
    },
    "id": "9MXJsXNQHE9T",
    "outputId": "cde80bfa-296c-4a1d-ffc8-c18cd9e836d7"
   },
   "outputs": [],
   "source": [
    "# import os\n",
    "\n",
    "# # Change to the directory where project is located\n",
    "# os.chdir('/content/drive/MyDrive/College/MSc/2nd Semester/Deep Learning/project')\n",
    "\n",
    "# # Verify that we changed the directory\n",
    "# print(\"Changed directory to:\", os.getcwd())"
   ]
  },
  {
   "cell_type": "markdown",
   "metadata": {
    "id": "KqYUDYg3HE9U"
   },
   "source": [
    "## 1.2 Import Libraries"
   ]
  },
  {
   "cell_type": "code",
   "execution_count": 5,
   "metadata": {
    "colab": {
     "base_uri": "https://localhost:8080/"
    },
    "executionInfo": {
     "elapsed": 4011,
     "status": "ok",
     "timestamp": 1745453701290,
     "user": {
      "displayName": "Marco Galão",
      "userId": "08018044528075081454"
     },
     "user_tz": -60
    },
    "id": "lbdGTrRLHE9U",
    "outputId": "dd5cc4f1-ec39-4da7-cafc-0abcd60f8582"
   },
   "outputs": [],
   "source": [
    "# Google Colab\n",
    "# !pip install keras_cv"
   ]
  },
  {
   "cell_type": "code",
   "execution_count": 6,
   "metadata": {
    "executionInfo": {
     "elapsed": 11712,
     "status": "ok",
     "timestamp": 1745453713046,
     "user": {
      "displayName": "Marco Galão",
      "userId": "08018044528075081454"
     },
     "user_tz": -60
    },
    "id": "CMD7vSkiHE9U"
   },
   "outputs": [
    {
     "name": "stderr",
     "output_type": "stream",
     "text": [
      "/Users/mgalao/Library/CloudStorage/OneDrive-NOVAIMS/MSc_DSAA-DS/2nd Semester/Q3 Deep Learning/deep-learning-project/venv/lib/python3.11/site-packages/tqdm/auto.py:21: TqdmWarning: IProgress not found. Please update jupyter and ipywidgets. See https://ipywidgets.readthedocs.io/en/stable/user_install.html\n",
      "  from .autonotebook import tqdm as notebook_tqdm\n"
     ]
    }
   ],
   "source": [
    "import pandas as pd\n",
    "import zipfile\n",
    "import pickle\n",
    "from sklearn.preprocessing import LabelEncoder\n",
    "from pathlib import Path\n",
    "from sklearn.model_selection import train_test_split\n",
    "from tensorflow import keras\n",
    "from keras import regularizers\n",
    "from classes import *\n",
    "from functions import *"
   ]
  },
  {
   "cell_type": "code",
   "execution_count": null,
   "metadata": {
    "executionInfo": {
     "elapsed": 3,
     "status": "ok",
     "timestamp": 1745453713054,
     "user": {
      "displayName": "Marco Galão",
      "userId": "08018044528075081454"
     },
     "user_tz": -60
    },
    "id": "KDUcMRkgHE9V"
   },
   "outputs": [],
   "source": [
    "import tensorflow as tf\n",
    "from tensorflow.keras import models\n",
    "from tensorflow.keras import layers\n",
    "from tensorflow.keras.applications.efficientnet import EfficientNetB0, preprocess_input\n",
    "from tensorflow.keras.applications import ResNet50\n",
    "from tensorflow.keras.applications.resnet50 import preprocess_input\n",
    "from tensorflow.keras.models import Model\n",
    "from tensorflow.keras.layers import Dense, GlobalAveragePooling2D, Concatenate, Dropout, Input, Conv2D, MaxPooling2D, Flatten\n",
    "from tensorflow.keras.preprocessing.image import ImageDataGenerator\n",
    "from tensorflow.keras.optimizers import Adam\n",
    "from tensorflow.keras.callbacks import EarlyStopping, LearningRateScheduler, ReduceLROnPlateau\n",
    "from keras.metrics import AUC, F1Score, CategoricalAccuracy, TopKCategoricalAccuracy\n",
    "from sklearn.metrics import f1_score, precision_score, recall_score\n",
    "from keras import optimizers"
   ]
  },
  {
   "cell_type": "markdown",
   "metadata": {
    "id": "9aODyFOSHE9W"
   },
   "source": [
    "## 1.3 Import Dataset"
   ]
  },
  {
   "cell_type": "markdown",
   "metadata": {
    "id": "EuHifv_JHE9W"
   },
   "source": [
    "The amount of data we have is not supported by GitHub (where we have our project stored). The solution is: create a folder named data and allocate the rare_species file inside it. The gitignore file makes sure this folder is not used when we are pulling or pushing changes but everyone needs to have it on their machines locally. A random seed was used to ensure that the splits stay the same."
   ]
  },
  {
   "cell_type": "code",
   "execution_count": 8,
   "metadata": {
    "colab": {
     "base_uri": "https://localhost:8080/",
     "height": 206
    },
    "executionInfo": {
     "elapsed": 3078,
     "status": "ok",
     "timestamp": 1745453716133,
     "user": {
      "displayName": "Marco Galão",
      "userId": "08018044528075081454"
     },
     "user_tz": -60
    },
    "id": "H2tnyOH7HE9W",
    "outputId": "d359a842-76e6-4c4d-fee4-b96d78d6e3f2"
   },
   "outputs": [
    {
     "data": {
      "text/html": [
       "<div>\n",
       "<style scoped>\n",
       "    .dataframe tbody tr th:only-of-type {\n",
       "        vertical-align: middle;\n",
       "    }\n",
       "\n",
       "    .dataframe tbody tr th {\n",
       "        vertical-align: top;\n",
       "    }\n",
       "\n",
       "    .dataframe thead th {\n",
       "        text-align: right;\n",
       "    }\n",
       "</style>\n",
       "<table border=\"1\" class=\"dataframe\">\n",
       "  <thead>\n",
       "    <tr style=\"text-align: right;\">\n",
       "      <th></th>\n",
       "      <th>rare_species_id</th>\n",
       "      <th>eol_content_id</th>\n",
       "      <th>eol_page_id</th>\n",
       "      <th>kingdom</th>\n",
       "      <th>phylum</th>\n",
       "      <th>family</th>\n",
       "      <th>file_path</th>\n",
       "    </tr>\n",
       "  </thead>\n",
       "  <tbody>\n",
       "    <tr>\n",
       "      <th>0</th>\n",
       "      <td>75fd91cb-2881-41cd-88e6-de451e8b60e2</td>\n",
       "      <td>12853737</td>\n",
       "      <td>449393</td>\n",
       "      <td>animalia</td>\n",
       "      <td>mollusca</td>\n",
       "      <td>unionidae</td>\n",
       "      <td>mollusca_unionidae/12853737_449393_eol-full-si...</td>\n",
       "    </tr>\n",
       "    <tr>\n",
       "      <th>1</th>\n",
       "      <td>28c508bc-63ff-4e60-9c8f-1934367e1528</td>\n",
       "      <td>20969394</td>\n",
       "      <td>793083</td>\n",
       "      <td>animalia</td>\n",
       "      <td>chordata</td>\n",
       "      <td>geoemydidae</td>\n",
       "      <td>chordata_geoemydidae/20969394_793083_eol-full-...</td>\n",
       "    </tr>\n",
       "    <tr>\n",
       "      <th>2</th>\n",
       "      <td>00372441-588c-4af8-9665-29bee20822c0</td>\n",
       "      <td>28895411</td>\n",
       "      <td>319982</td>\n",
       "      <td>animalia</td>\n",
       "      <td>chordata</td>\n",
       "      <td>cryptobranchidae</td>\n",
       "      <td>chordata_cryptobranchidae/28895411_319982_eol-...</td>\n",
       "    </tr>\n",
       "    <tr>\n",
       "      <th>3</th>\n",
       "      <td>29cc6040-6af2-49ee-86ec-ab7d89793828</td>\n",
       "      <td>29658536</td>\n",
       "      <td>45510188</td>\n",
       "      <td>animalia</td>\n",
       "      <td>chordata</td>\n",
       "      <td>turdidae</td>\n",
       "      <td>chordata_turdidae/29658536_45510188_eol-full-s...</td>\n",
       "    </tr>\n",
       "    <tr>\n",
       "      <th>4</th>\n",
       "      <td>94004bff-3a33-4758-8125-bf72e6e57eab</td>\n",
       "      <td>21252576</td>\n",
       "      <td>7250886</td>\n",
       "      <td>animalia</td>\n",
       "      <td>chordata</td>\n",
       "      <td>indriidae</td>\n",
       "      <td>chordata_indriidae/21252576_7250886_eol-full-s...</td>\n",
       "    </tr>\n",
       "  </tbody>\n",
       "</table>\n",
       "</div>"
      ],
      "text/plain": [
       "                        rare_species_id  eol_content_id  eol_page_id  \\\n",
       "0  75fd91cb-2881-41cd-88e6-de451e8b60e2        12853737       449393   \n",
       "1  28c508bc-63ff-4e60-9c8f-1934367e1528        20969394       793083   \n",
       "2  00372441-588c-4af8-9665-29bee20822c0        28895411       319982   \n",
       "3  29cc6040-6af2-49ee-86ec-ab7d89793828        29658536     45510188   \n",
       "4  94004bff-3a33-4758-8125-bf72e6e57eab        21252576      7250886   \n",
       "\n",
       "    kingdom    phylum            family  \\\n",
       "0  animalia  mollusca         unionidae   \n",
       "1  animalia  chordata       geoemydidae   \n",
       "2  animalia  chordata  cryptobranchidae   \n",
       "3  animalia  chordata          turdidae   \n",
       "4  animalia  chordata         indriidae   \n",
       "\n",
       "                                           file_path  \n",
       "0  mollusca_unionidae/12853737_449393_eol-full-si...  \n",
       "1  chordata_geoemydidae/20969394_793083_eol-full-...  \n",
       "2  chordata_cryptobranchidae/28895411_319982_eol-...  \n",
       "3  chordata_turdidae/29658536_45510188_eol-full-s...  \n",
       "4  chordata_indriidae/21252576_7250886_eol-full-s...  "
      ]
     },
     "execution_count": 8,
     "metadata": {},
     "output_type": "execute_result"
    }
   ],
   "source": [
    "# Import Metadata\n",
    "metadata_path = Path(\"../data/rare_species/metadata.csv\")\n",
    "df = pd.read_csv(metadata_path)\n",
    "df.head()"
   ]
  },
  {
   "cell_type": "code",
   "execution_count": 9,
   "metadata": {
    "colab": {
     "base_uri": "https://localhost:8080/"
    },
    "executionInfo": {
     "elapsed": 8,
     "status": "ok",
     "timestamp": 1745453716144,
     "user": {
      "displayName": "Marco Galão",
      "userId": "08018044528075081454"
     },
     "user_tz": -60
    },
    "id": "bPX86TODHE9X",
    "outputId": "085962ff-045b-4cc3-fcff-27aee219dc8b"
   },
   "outputs": [
    {
     "data": {
      "text/plain": [
       "(11983, 7)"
      ]
     },
     "execution_count": 9,
     "metadata": {},
     "output_type": "execute_result"
    }
   ],
   "source": [
    "df.shape # 11983 images"
   ]
  },
  {
   "cell_type": "markdown",
   "metadata": {
    "id": "dXv1c3MsHE9X"
   },
   "source": [
    "<div class=\"alert alert-block alert-success\">\n",
    "\n",
    "# **2.** Preprocessing\n",
    "\n",
    "<div>"
   ]
  },
  {
   "cell_type": "code",
   "execution_count": 10,
   "metadata": {
    "executionInfo": {
     "elapsed": 2441,
     "status": "ok",
     "timestamp": 1745453718587,
     "user": {
      "displayName": "Marco Galão",
      "userId": "08018044528075081454"
     },
     "user_tz": -60
    },
    "id": "HYdDcJNrHE9X"
   },
   "outputs": [],
   "source": [
    "#Load the DataFrames from the .pkl files\n",
    "with open(\"../data/train_df.pkl\", \"rb\") as f:\n",
    "     train_df = pickle.load(f)\n",
    "\n",
    "with open(\"../data/valid_df.pkl\", \"rb\") as f:\n",
    "     val_df = pickle.load(f)\n",
    "\n",
    "with open(\"../data/test_df.pkl\", \"rb\") as f:\n",
    "     test_df = pickle.load(f)\n",
    "\n",
    "with open(\"family_encoder.pkl\", \"rb\") as f:\n",
    "     family_encoder = pickle.load(f)\n",
    "\n",
    "with open(\"phylum_encoder.pkl\", \"rb\") as f:\n",
    "     phylum_encoder = pickle.load(f)"
   ]
  },
  {
   "cell_type": "code",
   "execution_count": 11,
   "metadata": {
    "executionInfo": {
     "elapsed": 166,
     "status": "ok",
     "timestamp": 1745453719001,
     "user": {
      "displayName": "Marco Galão",
      "userId": "08018044528075081454"
     },
     "user_tz": -60
    },
    "id": "O-dgw1jcHE9X"
   },
   "outputs": [],
   "source": [
    "batch_size = 32 ## the less the better because in each epoch the model sees N / batch_size images\n",
    "image_size = (224, 224)\n",
    "\n",
    "preprocess = Preprocessor_with_phylum(image_size=image_size, batch_size=batch_size)"
   ]
  },
  {
   "cell_type": "code",
   "execution_count": 12,
   "metadata": {
    "executionInfo": {
     "elapsed": 2244,
     "status": "ok",
     "timestamp": 1745453721261,
     "user": {
      "displayName": "Marco Galão",
      "userId": "08018044528075081454"
     },
     "user_tz": -60
    },
    "id": "mW-7dQV8HE9X"
   },
   "outputs": [],
   "source": [
    "# identify the minority class\n",
    "minority_class = train_df['family'].value_counts()[train_df['family'].value_counts() < 25].index\n",
    "minority_class = minority_class.to_list()\n",
    "\n",
    "# Load training data with oversampling and mixup augmentation\n",
    "train_ds, family_class_names, phylum_class_names = preprocess.load_img(\n",
    "    train_df, \n",
    "    minority_class=minority_class, \n",
    "    family_encoder=family_encoder, \n",
    "    phylum_encoder=phylum_encoder, \n",
    "    shuffle=True, \n",
    "    augment='mixup', \n",
    "    oversampling=True\n",
    ")\n",
    "\n",
    "# Load validation and test data without augmentation or oversampling\n",
    "val_ds, _, _ = preprocess.load_img(\n",
    "    val_df, \n",
    "    minority_class=minority_class, \n",
    "    family_encoder=family_encoder, \n",
    "    phylum_encoder=phylum_encoder, \n",
    "    shuffle=False, \n",
    "    augment=None, \n",
    "    oversampling=False\n",
    ")\n",
    "test_ds, _, _ = preprocess.load_img(\n",
    "    test_df, \n",
    "    minority_class=minority_class, \n",
    "    family_encoder=family_encoder, \n",
    "    phylum_encoder=phylum_encoder, \n",
    "    shuffle=False, \n",
    "    augment=None, \n",
    "    oversampling=False\n",
    ")"
   ]
  },
  {
   "cell_type": "code",
   "execution_count": 13,
   "metadata": {
    "executionInfo": {
     "elapsed": 26,
     "status": "ok",
     "timestamp": 1745453721292,
     "user": {
      "displayName": "Marco Galão",
      "userId": "08018044528075081454"
     },
     "user_tz": -60
    },
    "id": "Zx4qLcAuHE9X"
   },
   "outputs": [],
   "source": [
    "# num_images = 16 ##\n",
    "# rows, cols = 4, 4 ##\n",
    "\n",
    "# plot_batch(train_ds, class_names=class_names, num_images=num_images, rows=rows, cols=cols)"
   ]
  },
  {
   "cell_type": "markdown",
   "metadata": {
    "id": "pnYT4oJ4HE9Y"
   },
   "source": [
    "<div class=\"alert alert-block alert-success\">\n",
    "\n",
    "# **3.** Models\n",
    "\n",
    "<div>"
   ]
  },
  {
   "cell_type": "markdown",
   "metadata": {
    "id": "W0bSA5ZmHE9Y"
   },
   "source": [
    "## EfficientNet + Phylum"
   ]
  },
  {
   "cell_type": "markdown",
   "metadata": {
    "id": "fQQR7JRnHE9Y"
   },
   "source": [
    "### Model"
   ]
  },
  {
   "cell_type": "code",
   "execution_count": null,
   "metadata": {
    "executionInfo": {
     "elapsed": 14,
     "status": "ok",
     "timestamp": 1745453721309,
     "user": {
      "displayName": "Marco Galão",
      "userId": "08018044528075081454"
     },
     "user_tz": -60
    },
    "id": "m9iPSfxDHE9Y"
   },
   "outputs": [],
   "source": [
    "        #     ┌────────────────────┐\n",
    "        #     │  image_input (224x224x3)\n",
    "        #     └─────────┬──────────┘\n",
    "        #               │\n",
    "        #      Pretrained Efficient (no top)\n",
    "        #               │\n",
    "        # GlobalAveragePooling2D (→ 2048)\n",
    "        #   - 2048 = number of filters in the final convolutional layer of ResNet50.\n",
    "        #   - GlobalAveragePooling2D averages over 7×7 spatial grid, giving a single 2048-element feature vector per image.\n",
    "\n",
    "        #               │\n",
    "        #               ▼\n",
    "        #        ┌───────────────┐\n",
    "        #        │ image features│\n",
    "        #        └──────┬────────┘\n",
    "        #               │\n",
    "        #     ┌─────────▼────────┐\n",
    "        #     │ phylum_input (5,)│\n",
    "        #     └─────────┬────────┘\n",
    "        #               │\n",
    "        #       Concatenate (→ 2048+5)\n",
    "        #               │\n",
    "        #       Dense(256, ReLU)\n",
    "        #               │\n",
    "        #          Dropout(0.3)\n",
    "        #               │\n",
    "        #    Dense(202, Softmax Output)\n",
    "        #               │\n",
    "        #               ▼\n",
    "        #    Final prediction (family)"
   ]
  },
  {
   "cell_type": "code",
   "execution_count": 17,
   "metadata": {
    "colab": {
     "base_uri": "https://localhost:8080/"
    },
    "executionInfo": {
     "elapsed": 2372,
     "status": "ok",
     "timestamp": 1745453723683,
     "user": {
      "displayName": "Marco Galão",
      "userId": "08018044528075081454"
     },
     "user_tz": -60
    },
    "id": "y40z53qWHE9Y",
    "outputId": "81a409ca-877c-4a64-e610-254300e93984"
   },
   "outputs": [
    {
     "name": "stdout",
     "output_type": "stream",
     "text": [
      "Downloading data from https://storage.googleapis.com/keras-applications/efficientnetb0_notop.h5\n",
      "\u001b[1m16705208/16705208\u001b[0m \u001b[32m━━━━━━━━━━━━━━━━━━━━\u001b[0m\u001b[37m\u001b[0m \u001b[1m1s\u001b[0m 0us/step\n"
     ]
    }
   ],
   "source": [
    "# Image input pipeline\n",
    "image_input = Input(shape=(224, 224, 3), name=\"image_input\")  # Input for RGB image\n",
    "base_model = EfficientNetB0(include_top=False, weights=\"imagenet\", input_tensor=image_input)  # Pretrained EfficientNet without final dense layers\n",
    "\n",
    "# Freeze the base model layers\n",
    "for layer in base_model.layers:\n",
    "    layer.trainable = False\n",
    "\n",
    "# Add a global average pooling layer\n",
    "x = base_model.output\n",
    "x = GlobalAveragePooling2D()(x)  # Convert 4D feature map to 2D vector (batch_size, 2048)\n",
    "\n",
    "# Phylum input (one-hot or multi-class vector with 5 classes)\n",
    "phylum_input = Input(shape=(5,), name=\"phylum_input\")  # Input for phylum-level info\n",
    "\n",
    "# Combine image and phylum features\n",
    "combined = Concatenate()([x, phylum_input])  # Concatenate the two inputs: (batch_size, 2048 + 5)\n",
    "combined = Dense(256, activation='relu', kernel_regularizer=regularizers.l2(1e-4))(combined)  # Fully connected layer\n",
    "combined = Dropout(0.5)(combined)  # Dropout for regularization\n",
    "output = Dense(202, activation='softmax', kernel_regularizer=regularizers.l2(1e-4))(combined)  # Final classification layer (202 family classes)\n",
    "\n",
    "# Define the model\n",
    "model = Model(inputs=[image_input, phylum_input], outputs=output)\n",
    "\n",
    "# Compile with metrics\n",
    "metrics = [\n",
    "    CategoricalAccuracy(name=\"accuracy\"),\n",
    "    AUC(name=\"auc\"),\n",
    "    F1Score(average=\"macro\", name=\"f1_macro\"),\n",
    "    F1Score(average=\"weighted\", name=\"f1_weighted\"),\n",
    "    TopKCategoricalAccuracy(k=5, name=\"top5_accuracy\")\n",
    "]\n",
    "\n",
    "model.compile(\n",
    "    optimizer=optimizers.RMSprop(learning_rate=1e-4),\n",
    "    loss=keras.losses.CategoricalCrossentropy(label_smoothing=0.01),\n",
    "    metrics=metrics\n",
    ")\n",
    "\n",
    "# Print the model summary\n",
    "# model.summary()"
   ]
  },
  {
   "cell_type": "code",
   "execution_count": null,
   "metadata": {
    "colab": {
     "base_uri": "https://localhost:8080/"
    },
    "executionInfo": {
     "elapsed": 797968,
     "status": "ok",
     "timestamp": 1745454521656,
     "user": {
      "displayName": "Marco Galão",
      "userId": "08018044528075081454"
     },
     "user_tz": -60
    },
    "id": "w8O73XQaHE9Y",
    "outputId": "a9d3bd2d-3366-4e70-8cb9-a0e5b8a0b597"
   },
   "outputs": [
    {
     "name": "stdout",
     "output_type": "stream",
     "text": [
      "Epoch 1/50\n"
     ]
    },
    {
     "name": "stderr",
     "output_type": "stream",
     "text": [
      "2025-04-24 02:02:17.164767: I tensorflow/core/kernels/data/shuffle_dataset_op.cc:450] fused(ShuffleDatasetV3:2,RepeatDataset:3): Filling up shuffle buffer (this may take a while): 948 of 8388\n",
      "2025-04-24 02:02:37.091817: I tensorflow/core/kernels/data/shuffle_dataset_op.cc:450] fused(ShuffleDatasetV3:2,RepeatDataset:3): Filling up shuffle buffer (this may take a while): 2797 of 8388\n",
      "2025-04-24 02:02:47.108144: I tensorflow/core/kernels/data/shuffle_dataset_op.cc:450] fused(ShuffleDatasetV3:2,RepeatDataset:3): Filling up shuffle buffer (this may take a while): 3579 of 8388\n",
      "2025-04-24 02:02:57.121997: I tensorflow/core/kernels/data/shuffle_dataset_op.cc:450] fused(ShuffleDatasetV3:2,RepeatDataset:3): Filling up shuffle buffer (this may take a while): 4449 of 8388\n",
      "2025-04-24 02:03:07.150254: I tensorflow/core/kernels/data/shuffle_dataset_op.cc:450] fused(ShuffleDatasetV3:2,RepeatDataset:3): Filling up shuffle buffer (this may take a while): 5547 of 8388\n"
     ]
    }
   ],
   "source": [
    "# Initialize the experiment\n",
    "experiment = Experiment(\n",
    "    model=model,\n",
    "    train_ds=train_ds,\n",
    "    val_ds=val_ds,\n",
    "    experiment_name=\"eff-net_with_phylum\",\n",
    "    resume=False,\n",
    "    phylum=True,\n",
    ")\n",
    "\n",
    "# Define the learning rate scheduler function\n",
    "initial_lr = 1e-4\n",
    "final_lr = 1e-5\n",
    "n_epochs = 70\n",
    "\n",
    "my_scheduler_fn = lr_scheduler(initial_lr, final_lr, n_epochs)\n",
    "lr_callback = LearningRateScheduler(my_scheduler_fn)\n",
    "\n",
    "# Default callbacks\n",
    "# ExperimentLogger,  # Log experiment results after each epoch\n",
    "# ModelCheckpoint(checkpoint_file, save_best_only=True)  # Save best model based on validation performance\n",
    "\n",
    "# Define additional callbacks\n",
    "callbacks_additional = [\n",
    "    lr_callback,\n",
    "    EarlyStopping(patience=3, restore_best_weights=True),\n",
    "    ReduceLROnPlateau(monitor='val_loss', factor=0.5, patience=3, min_lr=1e-6, verbose=1)\n",
    "]\n",
    "\n",
    "# Run the experiment\n",
    "# resume=False means start from scratch, resume=True means continue from last checkpoint)\n",
    "# callbacks=None use default callbacks (created in the Experiment class)\n",
    "history = experiment.run_experiment(callbacks=callbacks_additional, epochs=50)"
   ]
  },
  {
   "cell_type": "code",
   "execution_count": 19,
   "metadata": {
    "colab": {
     "base_uri": "https://localhost:8080/",
     "height": 472
    },
    "executionInfo": {
     "elapsed": 278,
     "status": "ok",
     "timestamp": 1745454800428,
     "user": {
      "displayName": "Marco Galão",
      "userId": "08018044528075081454"
     },
     "user_tz": -60
    },
    "id": "OiHQXPqoHE9Z",
    "outputId": "52d02acc-81e4-46f7-beb8-963e285a44a5"
   },
   "outputs": [
    {
     "data": {
      "image/png": "[encoded data removed]",
      "text/plain": [
       "<Figure size 640x480 with 1 Axes>"
      ]
     },
     "metadata": {},
     "output_type": "display_data"
    }
   ],
   "source": [
    "acc_train = history.history['accuracy']\n",
    "acc_val = history.history['val_accuracy']\n",
    "plot_model_acc(num_epochs=4, train_acc=acc_train, val_acc=acc_val)"
   ]
  },
  {
   "cell_type": "code",
   "execution_count": 20,
   "metadata": {
    "colab": {
     "base_uri": "https://localhost:8080/",
     "height": 472
    },
    "executionInfo": {
     "elapsed": 175,
     "status": "ok",
     "timestamp": 1745454817901,
     "user": {
      "displayName": "Marco Galão",
      "userId": "08018044528075081454"
     },
     "user_tz": -60
    },
    "id": "kZdGipa7HE9Z",
    "outputId": "5f2b987d-8d88-49f2-db5d-d2d7b2f2f17b"
   },
   "outputs": [
    {
     "data": {
      "image/png": "[encoded data removed]",
      "text/plain": [
       "<Figure size 640x480 with 1 Axes>"
      ]
     },
     "metadata": {},
     "output_type": "display_data"
    }
   ],
   "source": [
    "loss_train = history.history['loss']\n",
    "loss_val = history.history['val_loss']\n",
    "plot_model_loss(num_epochs=4, train_loss=loss_train, val_loss=loss_val)"
   ]
  },
  {
   "cell_type": "code",
   "execution_count": 21,
   "metadata": {
    "colab": {
     "base_uri": "https://localhost:8080/",
     "height": 216
    },
    "executionInfo": {
     "elapsed": 11,
     "status": "error",
     "timestamp": 1745454825432,
     "user": {
      "displayName": "Marco Galão",
      "userId": "08018044528075081454"
     },
     "user_tz": -60
    },
    "id": "e4y7Y739HE9Z",
    "outputId": "833d2015-99a6-403d-e462-e33ded6b8ca5"
   },
   "outputs": [
    {
     "ename": "KeyError",
     "evalue": "'f1_score'",
     "output_type": "error",
     "traceback": [
      "\u001b[0;31m---------------------------------------------------------------------------\u001b[0m",
      "\u001b[0;31mKeyError\u001b[0m                                  Traceback (most recent call last)",
      "\u001b[0;32m<ipython-input-21-dc4dc6487a67>\u001b[0m in \u001b[0;36m<cell line: 0>\u001b[0;34m()\u001b[0m\n\u001b[1;32m      1\u001b[0m \u001b[0mx_axis\u001b[0m \u001b[0;34m=\u001b[0m \u001b[0mrange\u001b[0m\u001b[0;34m(\u001b[0m\u001b[0;36m1\u001b[0m\u001b[0;34m,\u001b[0m\u001b[0;36m4\u001b[0m\u001b[0;34m+\u001b[0m\u001b[0;36m1\u001b[0m\u001b[0;34m)\u001b[0m\u001b[0;34m\u001b[0m\u001b[0;34m\u001b[0m\u001b[0m\n\u001b[0;32m----> 2\u001b[0;31m \u001b[0mplt\u001b[0m\u001b[0;34m.\u001b[0m\u001b[0mplot\u001b[0m\u001b[0;34m(\u001b[0m\u001b[0mx_axis\u001b[0m\u001b[0;34m,\u001b[0m \u001b[0mhistory\u001b[0m\u001b[0;34m.\u001b[0m\u001b[0mhistory\u001b[0m\u001b[0;34m[\u001b[0m\u001b[0;34m'f1_score'\u001b[0m\u001b[0;34m]\u001b[0m\u001b[0;34m,\u001b[0m \u001b[0;34m'r'\u001b[0m\u001b[0;34m,\u001b[0m \u001b[0mlabel\u001b[0m\u001b[0;34m=\u001b[0m\u001b[0;34m'Training F1-Score'\u001b[0m\u001b[0;34m)\u001b[0m\u001b[0;34m\u001b[0m\u001b[0;34m\u001b[0m\u001b[0m\n\u001b[0m\u001b[1;32m      3\u001b[0m \u001b[0mplt\u001b[0m\u001b[0;34m.\u001b[0m\u001b[0mplot\u001b[0m\u001b[0;34m(\u001b[0m\u001b[0mx_axis\u001b[0m\u001b[0;34m,\u001b[0m \u001b[0mhistory\u001b[0m\u001b[0;34m.\u001b[0m\u001b[0mhistory\u001b[0m\u001b[0;34m[\u001b[0m\u001b[0;34m'val_f1_score'\u001b[0m\u001b[0;34m]\u001b[0m\u001b[0;34m,\u001b[0m \u001b[0;34m'g'\u001b[0m\u001b[0;34m,\u001b[0m \u001b[0mlabel\u001b[0m\u001b[0;34m=\u001b[0m\u001b[0;34m'Validation F1-Score'\u001b[0m\u001b[0;34m)\u001b[0m\u001b[0;34m\u001b[0m\u001b[0;34m\u001b[0m\u001b[0m\n\u001b[1;32m      4\u001b[0m \u001b[0mplt\u001b[0m\u001b[0;34m.\u001b[0m\u001b[0mtitle\u001b[0m\u001b[0;34m(\u001b[0m\u001b[0;34m'Training and Validation F1-Score'\u001b[0m\u001b[0;34m)\u001b[0m\u001b[0;34m\u001b[0m\u001b[0;34m\u001b[0m\u001b[0m\n\u001b[1;32m      5\u001b[0m \u001b[0mplt\u001b[0m\u001b[0;34m.\u001b[0m\u001b[0mxlabel\u001b[0m\u001b[0;34m(\u001b[0m\u001b[0;34m'Epochs'\u001b[0m\u001b[0;34m)\u001b[0m\u001b[0;34m\u001b[0m\u001b[0;34m\u001b[0m\u001b[0m\n",
      "\u001b[0;31mKeyError\u001b[0m: 'f1_score'"
     ]
    }
   ],
   "source": [
    "x_axis = range(1,4+1)\n",
    "plt.plot(x_axis, history.history['f1_score'], 'r', label='Training F1-Score')\n",
    "plt.plot(x_axis, history.history['val_f1_score'], 'g', label='Validation F1-Score')\n",
    "plt.title('Training and Validation F1-Score')\n",
    "plt.xlabel('Epochs')\n",
    "plt.ylabel('F1-Score')\n",
    "plt.legend()\n",
    "plt.show()"
   ]
  },
  {
   "cell_type": "code",
   "execution_count": null,
   "metadata": {
    "id": "YGY1faslHE9Z",
    "outputId": "54ffdcda-51ee-4bfd-9457-93ce83f70834"
   },
   "outputs": [
    {
     "data": {
      "image/png": "[encoded data removed]",
      "text/plain": [
       "<Figure size 1000x600 with 1 Axes>"
      ]
     },
     "metadata": {},
     "output_type": "display_data"
    }
   ],
   "source": [
    "epochs = range(1, len(loss_train) + 1)\n",
    "plt.figure(figsize=(10, 6))\n",
    "plt.plot(epochs, loss_train, label='Train Loss')\n",
    "plt.plot(epochs, loss_val, label='Validation Loss')\n",
    "plt.axvline(x=40, color='r', linestyle='--', label='Overfitting')\n",
    "plt.xlabel('Epoch')\n",
    "plt.ylabel('Loss')\n",
    "plt.title('Overfitting Detection')\n",
    "plt.legend()\n",
    "plt.grid(True)\n",
    "plt.show()"
   ]
  },
  {
   "cell_type": "code",
   "execution_count": null,
   "metadata": {
    "id": "QJ7TwyjPHE9Z"
   },
   "outputs": [],
   "source": [
    "epochs = range(1, len(loss_train) + 1)\n",
    "plt.figure(figsize=(10, 6))\n",
    "plt.plot(epochs, loss_train, label='Train Loss')\n",
    "plt.plot(epochs, loss_val, label='Validation Loss')\n",
    "plt.axvline(x=40, color='r', linestyle='--', label='Overfitting')\n",
    "plt.xlabel('Epoch')\n",
    "plt.ylabel('Loss')\n",
    "plt.title('Overfitting Detection')\n",
    "plt.legend()\n",
    "plt.grid(True)\n",
    "plt.show()"
   ]
  },
  {
   "cell_type": "markdown",
   "metadata": {},
   "source": [
    "## Margarida"
   ]
  },
  {
   "cell_type": "markdown",
   "metadata": {},
   "source": [
    "### Base line (without preprocessing and without regularization)"
   ]
  },
  {
   "cell_type": "code",
   "execution_count": null,
   "metadata": {},
   "outputs": [],
   "source": [
    "from tensorflow.keras.applications.efficientnet import EfficientNetB0, preprocess_input"
   ]
  },
  {
   "cell_type": "code",
   "execution_count": null,
   "metadata": {},
   "outputs": [],
   "source": [
    "verbose = 1\n",
    "metrics = [\n",
    "    CategoricalAccuracy(name=\"acc\"),\n",
    "    AUC(name=\"auc\"),\n",
    "    F1Score(average=\"macro\", name=\"f1_score\")\n",
    "]"
   ]
  },
  {
   "cell_type": "code",
   "execution_count": null,
   "metadata": {},
   "outputs": [
    {
     "name": "stdout",
     "output_type": "stream",
     "text": [
      "Found 8388 files belonging to 202 classes.\n",
      "Found 1797 files belonging to 202 classes.\n"
     ]
    }
   ],
   "source": [
    "# Load datasets\n",
    "train_ds_baseline1, class_names = preprocess.load_img(\n",
    "    data_dir=\"../data/rare_species/train\",\n",
    "    minority_class=[],\n",
    "    augment=None,\n",
    "    oversampling=False,\n",
    "    shuffle=True,\n",
    "    preprocessing_function=preprocess_input)\n",
    "\n",
    "val_ds_baseline1, _ = preprocess.load_img(\n",
    "    data_dir=\"../data/rare_species/val\",\n",
    "    minority_class=[],\n",
    "    augment=None,\n",
    "    shuffle= False,\n",
    "    preprocessing_function=preprocess_input)"
   ]
  },
  {
   "cell_type": "code",
   "execution_count": null,
   "metadata": {},
   "outputs": [],
   "source": [
    "input_img = Input(shape=(224, 224, 3))\n",
    "base_model = EfficientNetB0(include_top=False, weights='imagenet', input_tensor=input_img)\n",
    "\n",
    "for layer in base_model.layers:\n",
    "    layer.trainable = False\n",
    "\n",
    "x = layers.GlobalAveragePooling2D()(base_model.output)\n",
    "x = layers.Dense(256, activation='relu')(x)\n",
    "x = layers.Dense(202, activation='softmax')(x)\n",
    "\n",
    "model_baseline1 = models.Model(inputs=base_model.input, outputs=x)\n",
    "\n",
    "model_baseline1.compile(\n",
    "    optimizer=optimizers.RMSprop(learning_rate=1e-4),\n",
    "    loss=keras.losses.CategoricalCrossentropy(),\n",
    "    metrics=metrics\n",
    ")"
   ]
  },
  {
   "cell_type": "code",
   "execution_count": null,
   "metadata": {},
   "outputs": [],
   "source": [
    "experiment_baseline1 = Experiment(\n",
    "    model=model_baseline1,\n",
    "    train_ds=train_ds_baseline1,\n",
    "    val_ds=val_ds_baseline1,\n",
    "    experiment_name=\"Efficient_net_baseline1\",\n",
    "    batch_size=32,\n",
    "    image_size=(224, 224)\n",
    ")"
   ]
  },
  {
   "cell_type": "code",
   "execution_count": null,
   "metadata": {},
   "outputs": [
    {
     "name": "stdout",
     "output_type": "stream",
     "text": [
      "No checkpoint found, starting from scratch.\n",
      "Epoch 1/25\n",
      "\u001b[1m263/263\u001b[0m \u001b[32m━━━━━━━━━━━━━━━━━━━━\u001b[0m\u001b[37m\u001b[0m \u001b[1m96s\u001b[0m 360ms/step - acc: 0.3534 - auc: 0.9424 - f1_score: 0.2043 - loss: 3.2932 - val_acc: 0.3968 - val_auc: 0.9478 - val_f1_score: 0.2444 - val_loss: 2.9208\n",
      "Epoch 2/25\n",
      "\u001b[1m263/263\u001b[0m \u001b[32m━━━━━━━━━━━━━━━━━━━━\u001b[0m\u001b[37m\u001b[0m \u001b[1m135s\u001b[0m 510ms/step - acc: 0.4381 - auc: 0.9638 - f1_score: 0.2921 - loss: 2.6855 - val_acc: 0.4674 - val_auc: 0.9595 - val_f1_score: 0.3188 - val_loss: 2.4960\n",
      "Epoch 3/25\n",
      "\u001b[1m263/263\u001b[0m \u001b[32m━━━━━━━━━━━━━━━━━━━━\u001b[0m\u001b[37m\u001b[0m \u001b[1m101s\u001b[0m 381ms/step - acc: 0.5238 - auc: 0.9739 - f1_score: 0.3923 - loss: 2.2544 - val_acc: 0.5153 - val_auc: 0.9692 - val_f1_score: 0.3788 - val_loss: 2.1885\n",
      "Epoch 4/25\n",
      "\u001b[1m263/263\u001b[0m \u001b[32m━━━━━━━━━━━━━━━━━━━━\u001b[0m\u001b[37m\u001b[0m \u001b[1m98s\u001b[0m 372ms/step - acc: 0.5865 - auc: 0.9825 - f1_score: 0.4751 - loss: 1.9269 - val_acc: 0.5543 - val_auc: 0.9727 - val_f1_score: 0.4284 - val_loss: 1.9627\n",
      "Epoch 5/25\n",
      "\u001b[1m263/263\u001b[0m \u001b[32m━━━━━━━━━━━━━━━━━━━━\u001b[0m\u001b[37m\u001b[0m \u001b[1m141s\u001b[0m 535ms/step - acc: 0.6333 - auc: 0.9858 - f1_score: 0.5385 - loss: 1.6840 - val_acc: 0.5860 - val_auc: 0.9758 - val_f1_score: 0.4877 - val_loss: 1.7962\n",
      "Epoch 6/25\n",
      "\u001b[1m263/263\u001b[0m \u001b[32m━━━━━━━━━━━━━━━━━━━━\u001b[0m\u001b[37m\u001b[0m \u001b[1m94s\u001b[0m 355ms/step - acc: 0.6673 - auc: 0.9887 - f1_score: 0.5902 - loss: 1.4806 - val_acc: 0.6032 - val_auc: 0.9770 - val_f1_score: 0.5194 - val_loss: 1.6724\n",
      "Epoch 7/25\n",
      "\u001b[1m263/263\u001b[0m \u001b[32m━━━━━━━━━━━━━━━━━━━━\u001b[0m\u001b[37m\u001b[0m \u001b[1m107s\u001b[0m 408ms/step - acc: 0.7040 - auc: 0.9901 - f1_score: 0.6404 - loss: 1.3351 - val_acc: 0.6155 - val_auc: 0.9779 - val_f1_score: 0.5387 - val_loss: 1.5770\n",
      "Epoch 8/25\n",
      "\u001b[1m263/263\u001b[0m \u001b[32m━━━━━━━━━━━━━━━━━━━━\u001b[0m\u001b[37m\u001b[0m \u001b[1m108s\u001b[0m 404ms/step - acc: 0.7305 - auc: 0.9914 - f1_score: 0.6757 - loss: 1.2100 - val_acc: 0.6272 - val_auc: 0.9785 - val_f1_score: 0.5593 - val_loss: 1.5051\n",
      "Epoch 9/25\n",
      "\u001b[1m263/263\u001b[0m \u001b[32m━━━━━━━━━━━━━━━━━━━━\u001b[0m\u001b[37m\u001b[0m \u001b[1m96s\u001b[0m 363ms/step - acc: 0.7567 - auc: 0.9927 - f1_score: 0.7078 - loss: 1.1058 - val_acc: 0.6433 - val_auc: 0.9795 - val_f1_score: 0.5821 - val_loss: 1.4455\n",
      "Epoch 10/25\n",
      "\u001b[1m263/263\u001b[0m \u001b[32m━━━━━━━━━━━━━━━━━━━━\u001b[0m\u001b[37m\u001b[0m \u001b[1m92s\u001b[0m 349ms/step - acc: 0.7750 - auc: 0.9935 - f1_score: 0.7319 - loss: 1.0269 - val_acc: 0.6494 - val_auc: 0.9793 - val_f1_score: 0.5927 - val_loss: 1.3967\n",
      "Epoch 11/25\n",
      "\u001b[1m263/263\u001b[0m \u001b[32m━━━━━━━━━━━━━━━━━━━━\u001b[0m\u001b[37m\u001b[0m \u001b[1m99s\u001b[0m 376ms/step - acc: 0.7868 - auc: 0.9942 - f1_score: 0.7402 - loss: 0.9525 - val_acc: 0.6594 - val_auc: 0.9793 - val_f1_score: 0.6062 - val_loss: 1.3577\n",
      "Epoch 12/25\n",
      "\u001b[1m263/263\u001b[0m \u001b[32m━━━━━━━━━━━━━━━━━━━━\u001b[0m\u001b[37m\u001b[0m \u001b[1m95s\u001b[0m 353ms/step - acc: 0.8061 - auc: 0.9958 - f1_score: 0.7666 - loss: 0.8840 - val_acc: 0.6667 - val_auc: 0.9785 - val_f1_score: 0.6177 - val_loss: 1.3250\n",
      "Epoch 13/25\n",
      "\u001b[1m263/263\u001b[0m \u001b[32m━━━━━━━━━━━━━━━━━━━━\u001b[0m\u001b[37m\u001b[0m \u001b[1m86s\u001b[0m 326ms/step - acc: 0.8221 - auc: 0.9960 - f1_score: 0.7840 - loss: 0.8318 - val_acc: 0.6750 - val_auc: 0.9785 - val_f1_score: 0.6265 - val_loss: 1.2958\n",
      "Epoch 14/25\n",
      "\u001b[1m263/263\u001b[0m \u001b[32m━━━━━━━━━━━━━━━━━━━━\u001b[0m\u001b[37m\u001b[0m \u001b[1m88s\u001b[0m 332ms/step - acc: 0.8291 - auc: 0.9964 - f1_score: 0.7933 - loss: 0.7771 - val_acc: 0.6750 - val_auc: 0.9787 - val_f1_score: 0.6257 - val_loss: 1.2732\n",
      "Epoch 15/25\n",
      "\u001b[1m263/263\u001b[0m \u001b[32m━━━━━━━━━━━━━━━━━━━━\u001b[0m\u001b[37m\u001b[0m \u001b[1m91s\u001b[0m 343ms/step - acc: 0.8441 - auc: 0.9969 - f1_score: 0.8068 - loss: 0.7306 - val_acc: 0.6817 - val_auc: 0.9788 - val_f1_score: 0.6329 - val_loss: 1.2520\n",
      "Epoch 16/25\n",
      "\u001b[1m263/263\u001b[0m \u001b[32m━━━━━━━━━━━━━━━━━━━━\u001b[0m\u001b[37m\u001b[0m \u001b[1m94s\u001b[0m 356ms/step - acc: 0.8545 - auc: 0.9970 - f1_score: 0.8241 - loss: 0.6851 - val_acc: 0.6828 - val_auc: 0.9790 - val_f1_score: 0.6373 - val_loss: 1.2334\n",
      "Epoch 17/25\n",
      "\u001b[1m263/263\u001b[0m \u001b[32m━━━━━━━━━━━━━━━━━━━━\u001b[0m\u001b[37m\u001b[0m \u001b[1m91s\u001b[0m 344ms/step - acc: 0.8620 - auc: 0.9975 - f1_score: 0.8282 - loss: 0.6515 - val_acc: 0.6945 - val_auc: 0.9788 - val_f1_score: 0.6495 - val_loss: 1.2193\n",
      "Epoch 18/25\n",
      "\u001b[1m263/263\u001b[0m \u001b[32m━━━━━━━━━━━━━━━━━━━━\u001b[0m\u001b[37m\u001b[0m \u001b[1m90s\u001b[0m 341ms/step - acc: 0.8712 - auc: 0.9981 - f1_score: 0.8394 - loss: 0.6042 - val_acc: 0.6917 - val_auc: 0.9776 - val_f1_score: 0.6460 - val_loss: 1.2063\n",
      "Epoch 19/25\n",
      "\u001b[1m263/263\u001b[0m \u001b[32m━━━━━━━━━━━━━━━━━━━━\u001b[0m\u001b[37m\u001b[0m \u001b[1m93s\u001b[0m 354ms/step - acc: 0.8798 - auc: 0.9982 - f1_score: 0.8500 - loss: 0.5771 - val_acc: 0.6950 - val_auc: 0.9769 - val_f1_score: 0.6538 - val_loss: 1.1952\n",
      "Epoch 20/25\n",
      "\u001b[1m263/263\u001b[0m \u001b[32m━━━━━━━━━━━━━━━━━━━━\u001b[0m\u001b[37m\u001b[0m \u001b[1m98s\u001b[0m 371ms/step - acc: 0.8881 - auc: 0.9982 - f1_score: 0.8577 - loss: 0.5489 - val_acc: 0.6984 - val_auc: 0.9761 - val_f1_score: 0.6548 - val_loss: 1.1823\n",
      "Epoch 21/25\n",
      "\u001b[1m263/263\u001b[0m \u001b[32m━━━━━━━━━━━━━━━━━━━━\u001b[0m\u001b[37m\u001b[0m \u001b[1m96s\u001b[0m 362ms/step - acc: 0.8997 - auc: 0.9985 - f1_score: 0.8700 - loss: 0.5146 - val_acc: 0.7017 - val_auc: 0.9762 - val_f1_score: 0.6589 - val_loss: 1.1755\n",
      "Epoch 22/25\n",
      "\u001b[1m263/263\u001b[0m \u001b[32m━━━━━━━━━━━━━━━━━━━━\u001b[0m\u001b[37m\u001b[0m \u001b[1m91s\u001b[0m 344ms/step - acc: 0.9015 - auc: 0.9987 - f1_score: 0.8727 - loss: 0.4909 - val_acc: 0.7056 - val_auc: 0.9757 - val_f1_score: 0.6645 - val_loss: 1.1693\n",
      "Epoch 23/25\n",
      "\u001b[1m263/263\u001b[0m \u001b[32m━━━━━━━━━━━━━━━━━━━━\u001b[0m\u001b[37m\u001b[0m \u001b[1m92s\u001b[0m 350ms/step - acc: 0.9100 - auc: 0.9989 - f1_score: 0.8786 - loss: 0.4626 - val_acc: 0.7045 - val_auc: 0.9752 - val_f1_score: 0.6638 - val_loss: 1.1614\n",
      "Epoch 24/25\n",
      "\u001b[1m263/263\u001b[0m \u001b[32m━━━━━━━━━━━━━━━━━━━━\u001b[0m\u001b[37m\u001b[0m \u001b[1m102s\u001b[0m 382ms/step - acc: 0.9170 - auc: 0.9989 - f1_score: 0.8901 - loss: 0.4422 - val_acc: 0.7056 - val_auc: 0.9742 - val_f1_score: 0.6662 - val_loss: 1.1563\n",
      "Epoch 25/25\n",
      "\u001b[1m263/263\u001b[0m \u001b[32m━━━━━━━━━━━━━━━━━━━━\u001b[0m\u001b[37m\u001b[0m \u001b[1m96s\u001b[0m 357ms/step - acc: 0.9222 - auc: 0.9993 - f1_score: 0.8951 - loss: 0.4104 - val_acc: 0.7090 - val_auc: 0.9743 - val_f1_score: 0.6673 - val_loss: 1.1498\n"
     ]
    }
   ],
   "source": [
    "history_baseline1 = experiment_baseline1.run_experiment(callbacks=None, epochs=25)"
   ]
  },
  {
   "cell_type": "code",
   "execution_count": null,
   "metadata": {},
   "outputs": [],
   "source": [
    "df_history_baseline1 = pd.DataFrame(history_baseline1.history)\n",
    "df_history_baseline1.to_csv('efficient_net_baseline1_history.csv', index=False)"
   ]
  },
  {
   "cell_type": "markdown",
   "metadata": {},
   "source": [
    "### Base line (without preprocessing and with regularization)"
   ]
  },
  {
   "cell_type": "code",
   "execution_count": null,
   "metadata": {},
   "outputs": [],
   "source": [
    "from tensorflow.keras.applications.efficientnet import EfficientNetB0, preprocess_input"
   ]
  },
  {
   "cell_type": "code",
   "execution_count": null,
   "metadata": {},
   "outputs": [],
   "source": [
    "verbose = 1\n",
    "metrics = [\n",
    "    CategoricalAccuracy(name=\"acc\"),\n",
    "    AUC(name=\"auc\"),\n",
    "    F1Score(average=\"macro\", name=\"f1_score\")\n",
    "]\n",
    "\n",
    "initial_lr = 1e-4  \n",
    "final_lr = 1e-5\n",
    "n_epochs = 50\n",
    "my_scheduler_fn = lr_scheduler(initial_lr, final_lr, n_epochs)\n",
    "lr_callback = LearningRateScheduler(my_scheduler_fn)\n"
   ]
  },
  {
   "cell_type": "code",
   "execution_count": null,
   "metadata": {},
   "outputs": [
    {
     "name": "stdout",
     "output_type": "stream",
     "text": [
      "Found 8388 files belonging to 202 classes.\n",
      "Found 1797 files belonging to 202 classes.\n"
     ]
    }
   ],
   "source": [
    "# Load datasets\n",
    "train_ds_baseline2, class_names = preprocess.load_img(\n",
    "    data_dir=\"../data/rare_species/train\",\n",
    "    minority_class=[],\n",
    "    augment=None,\n",
    "    oversampling=False,\n",
    "    shuffle=True,\n",
    "    preprocessing_function=preprocess_input)\n",
    "\n",
    "val_ds_baseline2, _ = preprocess.load_img(\n",
    "    data_dir=\"../data/rare_species/val\",\n",
    "    minority_class=[],\n",
    "    augment=None,\n",
    "    shuffle= False,\n",
    "    preprocessing_function=preprocess_input)"
   ]
  },
  {
   "cell_type": "code",
   "execution_count": null,
   "metadata": {},
   "outputs": [],
   "source": [
    "input_img = Input(shape=(224, 224, 3))\n",
    "base_model = EfficientNetB0(include_top=False, weights='imagenet', input_tensor=input_img)\n",
    "\n",
    "for layer in base_model.layers:\n",
    "    layer.trainable = False\n",
    "\n",
    "x = layers.GlobalAveragePooling2D()(base_model.output)\n",
    "x = layers.Dense(256, activation='relu', kernel_regularizer=regularizers.l2(1e-4))(x) # regularization parameter\n",
    "x = layers.Dropout(0.5)(x) # regularization layer\n",
    "x = layers.Dense(202, activation='softmax', kernel_regularizer=regularizers.l2(1e-4))(x)\n",
    "\n",
    "baseline_model2 = models.Model(inputs=base_model.input, outputs=x)\n",
    "\n",
    "baseline_model2.compile(\n",
    "    optimizer=optimizers.RMSprop(learning_rate=1e-4),\n",
    "    loss=keras.losses.CategoricalCrossentropy(label_smoothing=0.01), # regularization parameter\n",
    "    metrics=metrics\n",
    ")"
   ]
  },
  {
   "cell_type": "code",
   "execution_count": null,
   "metadata": {},
   "outputs": [],
   "source": [
    "callbacks = [\n",
    "    EarlyStopping(monitor='val_loss', patience=3, restore_best_weights=True),\n",
    "]"
   ]
  },
  {
   "cell_type": "code",
   "execution_count": null,
   "metadata": {},
   "outputs": [
    {
     "name": "stdout",
     "output_type": "stream",
     "text": [
      "Resuming training from epoch 11\n",
      "Epoch 12/50\n",
      "\u001b[1m263/263\u001b[0m \u001b[32m━━━━━━━━━━━━━━━━━━━━\u001b[0m\u001b[37m\u001b[0m \u001b[1m114s\u001b[0m 404ms/step - acc: 0.5090 - auc: 0.9652 - f1_score: 0.3633 - loss: 2.2868 - val_acc: 0.5492 - val_auc: 0.9708 - val_f1_score: 0.3895 - val_loss: 2.1670 - learning_rate: 7.5858e-05\n",
      "Epoch 13/50\n",
      "\u001b[1m263/263\u001b[0m \u001b[32m━━━━━━━━━━━━━━━━━━━━\u001b[0m\u001b[37m\u001b[0m \u001b[1m85s\u001b[0m 322ms/step - acc: 0.5210 - auc: 0.9692 - f1_score: 0.3878 - loss: 2.2065 - val_acc: 0.5576 - val_auc: 0.9716 - val_f1_score: 0.4066 - val_loss: 2.1109 - learning_rate: 7.4131e-05\n",
      "Epoch 14/50\n",
      "\u001b[1m263/263\u001b[0m \u001b[32m━━━━━━━━━━━━━━━━━━━━\u001b[0m\u001b[37m\u001b[0m \u001b[1m96s\u001b[0m 366ms/step - acc: 0.5412 - auc: 0.9694 - f1_score: 0.4073 - loss: 2.1418 - val_acc: 0.5704 - val_auc: 0.9731 - val_f1_score: 0.4249 - val_loss: 2.0598 - learning_rate: 7.2444e-05\n",
      "Epoch 15/50\n",
      "\u001b[1m263/263\u001b[0m \u001b[32m━━━━━━━━━━━━━━━━━━━━\u001b[0m\u001b[37m\u001b[0m \u001b[1m88s\u001b[0m 334ms/step - acc: 0.5484 - auc: 0.9724 - f1_score: 0.4199 - loss: 2.0935 - val_acc: 0.5748 - val_auc: 0.9739 - val_f1_score: 0.4367 - val_loss: 2.0137 - learning_rate: 7.0795e-05\n",
      "Epoch 16/50\n",
      "\u001b[1m263/263\u001b[0m \u001b[32m━━━━━━━━━━━━━━━━━━━━\u001b[0m\u001b[37m\u001b[0m \u001b[1m87s\u001b[0m 327ms/step - acc: 0.5592 - auc: 0.9753 - f1_score: 0.4302 - loss: 2.0379 - val_acc: 0.5871 - val_auc: 0.9751 - val_f1_score: 0.4603 - val_loss: 1.9755 - learning_rate: 6.9183e-05\n",
      "Epoch 17/50\n",
      "\u001b[1m263/263\u001b[0m \u001b[32m━━━━━━━━━━━━━━━━━━━━\u001b[0m\u001b[37m\u001b[0m \u001b[1m89s\u001b[0m 335ms/step - acc: 0.5757 - auc: 0.9764 - f1_score: 0.4555 - loss: 1.9780 - val_acc: 0.5904 - val_auc: 0.9753 - val_f1_score: 0.4659 - val_loss: 1.9391 - learning_rate: 6.7608e-05\n",
      "Epoch 18/50\n",
      "\u001b[1m263/263\u001b[0m \u001b[32m━━━━━━━━━━━━━━━━━━━━\u001b[0m\u001b[37m\u001b[0m \u001b[1m88s\u001b[0m 334ms/step - acc: 0.5776 - auc: 0.9773 - f1_score: 0.4697 - loss: 1.9413 - val_acc: 0.5993 - val_auc: 0.9748 - val_f1_score: 0.4827 - val_loss: 1.9098 - learning_rate: 6.6069e-05\n",
      "Epoch 19/50\n",
      "\u001b[1m263/263\u001b[0m \u001b[32m━━━━━━━━━━━━━━━━━━━━\u001b[0m\u001b[37m\u001b[0m \u001b[1m98s\u001b[0m 372ms/step - acc: 0.5906 - auc: 0.9770 - f1_score: 0.4778 - loss: 1.9033 - val_acc: 0.6043 - val_auc: 0.9751 - val_f1_score: 0.4929 - val_loss: 1.8807 - learning_rate: 6.4565e-05\n",
      "Epoch 20/50\n",
      "\u001b[1m263/263\u001b[0m \u001b[32m━━━━━━━━━━━━━━━━━━━━\u001b[0m\u001b[37m\u001b[0m \u001b[1m103s\u001b[0m 390ms/step - acc: 0.5931 - auc: 0.9766 - f1_score: 0.4849 - loss: 1.8727 - val_acc: 0.6071 - val_auc: 0.9753 - val_f1_score: 0.4985 - val_loss: 1.8569 - learning_rate: 6.3096e-05\n",
      "Epoch 21/50\n",
      "\u001b[1m263/263\u001b[0m \u001b[32m━━━━━━━━━━━━━━━━━━━━\u001b[0m\u001b[37m\u001b[0m \u001b[1m102s\u001b[0m 385ms/step - acc: 0.5985 - auc: 0.9790 - f1_score: 0.4991 - loss: 1.8264 - val_acc: 0.6105 - val_auc: 0.9758 - val_f1_score: 0.5032 - val_loss: 1.8338 - learning_rate: 6.1660e-05\n",
      "Epoch 22/50\n",
      "\u001b[1m263/263\u001b[0m \u001b[32m━━━━━━━━━━━━━━━━━━━━\u001b[0m\u001b[37m\u001b[0m \u001b[1m98s\u001b[0m 371ms/step - acc: 0.6072 - auc: 0.9785 - f1_score: 0.5027 - loss: 1.8166 - val_acc: 0.6155 - val_auc: 0.9755 - val_f1_score: 0.5178 - val_loss: 1.8137 - learning_rate: 6.0256e-05\n",
      "Epoch 23/50\n",
      "\u001b[1m263/263\u001b[0m \u001b[32m━━━━━━━━━━━━━━━━━━━━\u001b[0m\u001b[37m\u001b[0m \u001b[1m90s\u001b[0m 341ms/step - acc: 0.6181 - auc: 0.9808 - f1_score: 0.5228 - loss: 1.7859 - val_acc: 0.6166 - val_auc: 0.9762 - val_f1_score: 0.5203 - val_loss: 1.7945 - learning_rate: 5.8884e-05\n",
      "Epoch 24/50\n",
      "\u001b[1m263/263\u001b[0m \u001b[32m━━━━━━━━━━━━━━━━━━━━\u001b[0m\u001b[37m\u001b[0m \u001b[1m101s\u001b[0m 383ms/step - acc: 0.6191 - auc: 0.9811 - f1_score: 0.5300 - loss: 1.7696 - val_acc: 0.6183 - val_auc: 0.9764 - val_f1_score: 0.5255 - val_loss: 1.7775 - learning_rate: 5.7544e-05\n",
      "Epoch 25/50\n",
      "\u001b[1m263/263\u001b[0m \u001b[32m━━━━━━━━━━━━━━━━━━━━\u001b[0m\u001b[37m\u001b[0m \u001b[1m101s\u001b[0m 382ms/step - acc: 0.6343 - auc: 0.9810 - f1_score: 0.5437 - loss: 1.7239 - val_acc: 0.6249 - val_auc: 0.9768 - val_f1_score: 0.5344 - val_loss: 1.7620 - learning_rate: 5.6234e-05\n",
      "Epoch 26/50\n",
      "\u001b[1m263/263\u001b[0m \u001b[32m━━━━━━━━━━━━━━━━━━━━\u001b[0m\u001b[37m\u001b[0m \u001b[1m96s\u001b[0m 365ms/step - acc: 0.6334 - auc: 0.9831 - f1_score: 0.5402 - loss: 1.7149 - val_acc: 0.6266 - val_auc: 0.9766 - val_f1_score: 0.5382 - val_loss: 1.7494 - learning_rate: 5.4954e-05\n",
      "Epoch 27/50\n",
      "\u001b[1m263/263\u001b[0m \u001b[32m━━━━━━━━━━━━━━━━━━━━\u001b[0m\u001b[37m\u001b[0m \u001b[1m94s\u001b[0m 358ms/step - acc: 0.6366 - auc: 0.9826 - f1_score: 0.5479 - loss: 1.6953 - val_acc: 0.6283 - val_auc: 0.9767 - val_f1_score: 0.5411 - val_loss: 1.7347 - learning_rate: 5.3703e-05\n",
      "Epoch 28/50\n",
      "\u001b[1m263/263\u001b[0m \u001b[32m━━━━━━━━━━━━━━━━━━━━\u001b[0m\u001b[37m\u001b[0m \u001b[1m102s\u001b[0m 385ms/step - acc: 0.6417 - auc: 0.9824 - f1_score: 0.5537 - loss: 1.6863 - val_acc: 0.6294 - val_auc: 0.9771 - val_f1_score: 0.5441 - val_loss: 1.7238 - learning_rate: 5.2481e-05\n",
      "Epoch 29/50\n",
      "\u001b[1m263/263\u001b[0m \u001b[32m━━━━━━━━━━━━━━━━━━━━\u001b[0m\u001b[37m\u001b[0m \u001b[1m94s\u001b[0m 357ms/step - acc: 0.6529 - auc: 0.9840 - f1_score: 0.5672 - loss: 1.6562 - val_acc: 0.6305 - val_auc: 0.9772 - val_f1_score: 0.5430 - val_loss: 1.7127 - learning_rate: 5.1286e-05\n",
      "Epoch 30/50\n",
      "\u001b[1m263/263\u001b[0m \u001b[32m━━━━━━━━━━━━━━━━━━━━\u001b[0m\u001b[37m\u001b[0m \u001b[1m96s\u001b[0m 362ms/step - acc: 0.6457 - auc: 0.9843 - f1_score: 0.5635 - loss: 1.6498 - val_acc: 0.6311 - val_auc: 0.9775 - val_f1_score: 0.5446 - val_loss: 1.7015 - learning_rate: 5.0119e-05\n",
      "Epoch 31/50\n",
      "\u001b[1m263/263\u001b[0m \u001b[32m━━━━━━━━━━━━━━━━━━━━\u001b[0m\u001b[37m\u001b[0m \u001b[1m95s\u001b[0m 362ms/step - acc: 0.6613 - auc: 0.9843 - f1_score: 0.5823 - loss: 1.6073 - val_acc: 0.6338 - val_auc: 0.9777 - val_f1_score: 0.5489 - val_loss: 1.6920 - learning_rate: 4.8978e-05\n",
      "Epoch 32/50\n",
      "\u001b[1m263/263\u001b[0m \u001b[32m━━━━━━━━━━━━━━━━━━━━\u001b[0m\u001b[37m\u001b[0m \u001b[1m105s\u001b[0m 400ms/step - acc: 0.6602 - auc: 0.9850 - f1_score: 0.5834 - loss: 1.6071 - val_acc: 0.6355 - val_auc: 0.9777 - val_f1_score: 0.5552 - val_loss: 1.6841 - learning_rate: 4.7863e-05\n",
      "Epoch 33/50\n",
      "\u001b[1m263/263\u001b[0m \u001b[32m━━━━━━━━━━━━━━━━━━━━\u001b[0m\u001b[37m\u001b[0m \u001b[1m122s\u001b[0m 459ms/step - acc: 0.6591 - auc: 0.9833 - f1_score: 0.5773 - loss: 1.6026 - val_acc: 0.6388 - val_auc: 0.9773 - val_f1_score: 0.5588 - val_loss: 1.6742 - learning_rate: 4.6774e-05\n",
      "Epoch 34/50\n",
      "\u001b[1m263/263\u001b[0m \u001b[32m━━━━━━━━━━━━━━━━━━━━\u001b[0m\u001b[37m\u001b[0m \u001b[1m120s\u001b[0m 450ms/step - acc: 0.6695 - auc: 0.9864 - f1_score: 0.5935 - loss: 1.5634 - val_acc: 0.6416 - val_auc: 0.9773 - val_f1_score: 0.5645 - val_loss: 1.6680 - learning_rate: 4.5709e-05\n",
      "Epoch 35/50\n",
      "\u001b[1m263/263\u001b[0m \u001b[32m━━━━━━━━━━━━━━━━━━━━\u001b[0m\u001b[37m\u001b[0m \u001b[1m94s\u001b[0m 356ms/step - acc: 0.6699 - auc: 0.9831 - f1_score: 0.5987 - loss: 1.5714 - val_acc: 0.6461 - val_auc: 0.9774 - val_f1_score: 0.5723 - val_loss: 1.6598 - learning_rate: 4.4668e-05\n",
      "Epoch 36/50\n",
      "\u001b[1m263/263\u001b[0m \u001b[32m━━━━━━━━━━━━━━━━━━━━\u001b[0m\u001b[37m\u001b[0m \u001b[1m96s\u001b[0m 363ms/step - acc: 0.6731 - auc: 0.9859 - f1_score: 0.6000 - loss: 1.5676 - val_acc: 0.6450 - val_auc: 0.9774 - val_f1_score: 0.5698 - val_loss: 1.6533 - learning_rate: 4.3652e-05\n",
      "Epoch 37/50\n",
      "\u001b[1m263/263\u001b[0m \u001b[32m━━━━━━━━━━━━━━━━━━━━\u001b[0m\u001b[37m\u001b[0m \u001b[1m104s\u001b[0m 393ms/step - acc: 0.6730 - auc: 0.9848 - f1_score: 0.6031 - loss: 1.5650 - val_acc: 0.6450 - val_auc: 0.9775 - val_f1_score: 0.5707 - val_loss: 1.6469 - learning_rate: 4.2658e-05\n",
      "Epoch 38/50\n",
      "\u001b[1m263/263\u001b[0m \u001b[32m━━━━━━━━━━━━━━━━━━━━\u001b[0m\u001b[37m\u001b[0m \u001b[1m142s\u001b[0m 539ms/step - acc: 0.6817 - auc: 0.9854 - f1_score: 0.6097 - loss: 1.5248 - val_acc: 0.6477 - val_auc: 0.9773 - val_f1_score: 0.5757 - val_loss: 1.6391 - learning_rate: 4.1687e-05\n",
      "Epoch 39/50\n",
      "\u001b[1m263/263\u001b[0m \u001b[32m━━━━━━━━━━━━━━━━━━━━\u001b[0m\u001b[37m\u001b[0m \u001b[1m117s\u001b[0m 443ms/step - acc: 0.6835 - auc: 0.9848 - f1_score: 0.6113 - loss: 1.5356 - val_acc: 0.6472 - val_auc: 0.9774 - val_f1_score: 0.5763 - val_loss: 1.6349 - learning_rate: 4.0738e-05\n",
      "Epoch 40/50\n",
      "\u001b[1m263/263\u001b[0m \u001b[32m━━━━━━━━━━━━━━━━━━━━\u001b[0m\u001b[37m\u001b[0m \u001b[1m128s\u001b[0m 487ms/step - acc: 0.6862 - auc: 0.9861 - f1_score: 0.6199 - loss: 1.5180 - val_acc: 0.6483 - val_auc: 0.9775 - val_f1_score: 0.5780 - val_loss: 1.6292 - learning_rate: 3.9811e-05\n",
      "Epoch 41/50\n",
      "\u001b[1m263/263\u001b[0m \u001b[32m━━━━━━━━━━━━━━━━━━━━\u001b[0m\u001b[37m\u001b[0m \u001b[1m114s\u001b[0m 431ms/step - acc: 0.6842 - auc: 0.9872 - f1_score: 0.6134 - loss: 1.5096 - val_acc: 0.6483 - val_auc: 0.9775 - val_f1_score: 0.5761 - val_loss: 1.6247 - learning_rate: 3.8905e-05\n",
      "Epoch 42/50\n",
      "\u001b[1m263/263\u001b[0m \u001b[32m━━━━━━━━━━━━━━━━━━━━\u001b[0m\u001b[37m\u001b[0m \u001b[1m137s\u001b[0m 521ms/step - acc: 0.6844 - auc: 0.9876 - f1_score: 0.6081 - loss: 1.5089 - val_acc: 0.6500 - val_auc: 0.9775 - val_f1_score: 0.5798 - val_loss: 1.6193 - learning_rate: 3.8019e-05\n",
      "Epoch 43/50\n",
      "\u001b[1m263/263\u001b[0m \u001b[32m━━━━━━━━━━━━━━━━━━━━\u001b[0m\u001b[37m\u001b[0m \u001b[1m112s\u001b[0m 424ms/step - acc: 0.6899 - auc: 0.9879 - f1_score: 0.6201 - loss: 1.4981 - val_acc: 0.6511 - val_auc: 0.9776 - val_f1_score: 0.5824 - val_loss: 1.6149 - learning_rate: 3.7154e-05\n",
      "Epoch 44/50\n",
      "\u001b[1m263/263\u001b[0m \u001b[32m━━━━━━━━━━━━━━━━━━━━\u001b[0m\u001b[37m\u001b[0m \u001b[1m108s\u001b[0m 411ms/step - acc: 0.6912 - auc: 0.9878 - f1_score: 0.6165 - loss: 1.4869 - val_acc: 0.6511 - val_auc: 0.9776 - val_f1_score: 0.5816 - val_loss: 1.6103 - learning_rate: 3.6308e-05\n",
      "Epoch 45/50\n",
      "\u001b[1m263/263\u001b[0m \u001b[32m━━━━━━━━━━━━━━━━━━━━\u001b[0m\u001b[37m\u001b[0m \u001b[1m111s\u001b[0m 419ms/step - acc: 0.6862 - auc: 0.9870 - f1_score: 0.6167 - loss: 1.5007 - val_acc: 0.6516 - val_auc: 0.9774 - val_f1_score: 0.5825 - val_loss: 1.6058 - learning_rate: 3.5481e-05\n",
      "Epoch 46/50\n",
      "\u001b[1m263/263\u001b[0m \u001b[32m━━━━━━━━━━━━━━━━━━━━\u001b[0m\u001b[37m\u001b[0m \u001b[1m110s\u001b[0m 419ms/step - acc: 0.6908 - auc: 0.9873 - f1_score: 0.6248 - loss: 1.4813 - val_acc: 0.6539 - val_auc: 0.9777 - val_f1_score: 0.5841 - val_loss: 1.6038 - learning_rate: 3.4674e-05\n",
      "Epoch 47/50\n",
      "\u001b[1m263/263\u001b[0m \u001b[32m━━━━━━━━━━━━━━━━━━━━\u001b[0m\u001b[37m\u001b[0m \u001b[1m138s\u001b[0m 525ms/step - acc: 0.6905 - auc: 0.9881 - f1_score: 0.6257 - loss: 1.4612 - val_acc: 0.6533 - val_auc: 0.9777 - val_f1_score: 0.5843 - val_loss: 1.6012 - learning_rate: 3.3884e-05\n",
      "Epoch 48/50\n",
      "\u001b[1m263/263\u001b[0m \u001b[32m━━━━━━━━━━━━━━━━━━━━\u001b[0m\u001b[37m\u001b[0m \u001b[1m126s\u001b[0m 473ms/step - acc: 0.6927 - auc: 0.9889 - f1_score: 0.6191 - loss: 1.4665 - val_acc: 0.6539 - val_auc: 0.9775 - val_f1_score: 0.5864 - val_loss: 1.5983 - learning_rate: 3.3113e-05\n",
      "Epoch 49/50\n",
      "\u001b[1m263/263\u001b[0m \u001b[32m━━━━━━━━━━━━━━━━━━━━\u001b[0m\u001b[37m\u001b[0m \u001b[1m109s\u001b[0m 413ms/step - acc: 0.6983 - auc: 0.9884 - f1_score: 0.6278 - loss: 1.4359 - val_acc: 0.6566 - val_auc: 0.9775 - val_f1_score: 0.5904 - val_loss: 1.5927 - learning_rate: 3.2359e-05\n",
      "Epoch 50/50\n",
      "\u001b[1m263/263\u001b[0m \u001b[32m━━━━━━━━━━━━━━━━━━━━\u001b[0m\u001b[37m\u001b[0m \u001b[1m112s\u001b[0m 424ms/step - acc: 0.7062 - auc: 0.9887 - f1_score: 0.6349 - loss: 1.4391 - val_acc: 0.6578 - val_auc: 0.9773 - val_f1_score: 0.5917 - val_loss: 1.5913 - learning_rate: 3.1623e-05\n"
     ]
    }
   ],
   "source": [
    "experiment_baseline2 = Experiment(\n",
    "    model=baseline_model2,\n",
    "    train_ds=train_ds_baseline2,\n",
    "    val_ds=val_ds_baseline2,\n",
    "    experiment_name=\"Efficient_net_baseline2\",\n",
    "    batch_size=32,\n",
    "    image_size=(224, 224)\n",
    ")\n",
    "\n",
    "history_baseline2 = experiment_baseline2.run_experiment(callbacks=callbacks, epochs=50)"
   ]
  },
  {
   "cell_type": "code",
   "execution_count": null,
   "metadata": {},
   "outputs": [],
   "source": [
    "df_history_baseline2 = pd.DataFrame(history_baseline2.history)\n",
    "df_history_baseline2.to_csv('efficient_net_baseline2_history.csv', index=False)"
   ]
  },
  {
   "cell_type": "markdown",
   "metadata": {},
   "source": [
    "### Set-up"
   ]
  },
  {
   "cell_type": "code",
   "execution_count": null,
   "metadata": {},
   "outputs": [],
   "source": [
    "from tensorflow.keras.applications.efficientnet import EfficientNetB0, preprocess_input"
   ]
  },
  {
   "cell_type": "code",
   "execution_count": null,
   "metadata": {},
   "outputs": [
    {
     "name": "stdout",
     "output_type": "stream",
     "text": [
      "Found 8388 files belonging to 202 classes.\n",
      "Found 1797 files belonging to 202 classes.\n"
     ]
    }
   ],
   "source": [
    "# Load datasets\n",
    "train_ds, class_names = preprocess.load_img(\n",
    "    data_dir=\"../data/rare_species/train\",\n",
    "    minority_class=minority_class,\n",
    "    augment='mixup',\n",
    "    oversampling=True,\n",
    "    shuffle=True,\n",
    "    preprocessing_function=preprocess_input)\n",
    "\n",
    "val_ds, _ = preprocess.load_img(\n",
    "    data_dir=\"../data/rare_species/val\",\n",
    "    minority_class=[],\n",
    "    augment=None,\n",
    "    shuffle= False,\n",
    "    preprocessing_function=preprocess_input)"
   ]
  },
  {
   "cell_type": "markdown",
   "metadata": {},
   "source": [
    "### Head Train"
   ]
  },
  {
   "cell_type": "code",
   "execution_count": null,
   "metadata": {},
   "outputs": [],
   "source": [
    "verbose = 1\n",
    "metrics = [\n",
    "    CategoricalAccuracy(name=\"acc\"),\n",
    "    AUC(name=\"auc\"),\n",
    "    F1Score(average=\"macro\", name=\"f1_score\")\n",
    "]\n",
    "\n",
    "initial_lr = 1e-4  \n",
    "final_lr = 1e-5\n",
    "n_epochs = 50\n",
    "my_scheduler_fn = lr_scheduler(initial_lr, final_lr, n_epochs)\n",
    "lr_callback = LearningRateScheduler(my_scheduler_fn)\n",
    "\n"
   ]
  },
  {
   "cell_type": "code",
   "execution_count": null,
   "metadata": {},
   "outputs": [],
   "source": [
    "input_img = Input(shape=(224, 224, 3))\n",
    "base_model = EfficientNetB0(include_top=False, weights='imagenet', input_tensor=input_img)\n",
    "\n",
    "for layer in base_model.layers:\n",
    "    layer.trainable = False\n",
    "\n",
    "x = layers.GlobalAveragePooling2D()(base_model.output)\n",
    "x = layers.Dense(256, activation='relu', kernel_regularizer=regularizers.l2(1e-4))(x)\n",
    "x = layers.Dropout(0.5)(x)\n",
    "x = layers.Dense(202, activation='softmax', kernel_regularizer=regularizers.l2(1e-4))(x)\n",
    "\n",
    "model = models.Model(inputs=base_model.input, outputs=x)\n",
    "\n",
    "model.compile(\n",
    "    optimizer=optimizers.RMSprop(learning_rate=1e-4),\n",
    "    loss=keras.losses.CategoricalCrossentropy(label_smoothing=0.01),\n",
    "    metrics=metrics\n",
    ")\n"
   ]
  },
  {
   "cell_type": "code",
   "execution_count": null,
   "metadata": {},
   "outputs": [],
   "source": [
    "callbacks = [\n",
    "    EarlyStopping(monitor='val_loss', patience=3, restore_best_weights=True),\n",
    "    lr_callback\n",
    "]"
   ]
  },
  {
   "cell_type": "code",
   "execution_count": null,
   "metadata": {},
   "outputs": [],
   "source": [
    "experiment_en = Experiment(\n",
    "    model=model,\n",
    "    train_ds=train_ds,\n",
    "    val_ds=val_ds,\n",
    "    experiment_name=\"efficient_net_pre_finetuning_with_label_smoothing_batch_sized_corrected_launching_trying_lr_scheduler\",\n",
    "    batch_size=32,\n",
    "    image_size=(224, 224)\n",
    ")\n"
   ]
  },
  {
   "cell_type": "code",
   "execution_count": null,
   "metadata": {},
   "outputs": [
    {
     "name": "stdout",
     "output_type": "stream",
     "text": [
      "No checkpoint found, starting from scratch.\n",
      "Epoch 1/50\n"
     ]
    },
    {
     "name": "stderr",
     "output_type": "stream",
     "text": [
      "/Users/margaridabravocardoso/venvs/deep_learning_venv/lib/python3.12/site-packages/keras/src/models/functional.py:237: UserWarning: The structure of `inputs` doesn't match the expected structure.\n",
      "Expected: ['keras_tensor_2153']\n",
      "Received: inputs=Tensor(shape=(None, 224, 224, 3))\n",
      "  warnings.warn(msg)\n"
     ]
    },
    {
     "name": "stdout",
     "output_type": "stream",
     "text": [
      "\u001b[1m350/350\u001b[0m \u001b[32m━━━━━━━━━━━━━━━━━━━━\u001b[0m\u001b[37m\u001b[0m \u001b[1m178s\u001b[0m 468ms/step - acc: 0.0219 - auc: 0.5791 - f1_score: 0.0109 - loss: 5.3607 - val_acc: 0.2204 - val_auc: 0.8191 - val_f1_score: 0.0810 - val_loss: 4.5216 - learning_rate: 9.6891e-05\n",
      "Epoch 2/50\n",
      "\u001b[1m350/350\u001b[0m \u001b[32m━━━━━━━━━━━━━━━━━━━━\u001b[0m\u001b[37m\u001b[0m \u001b[1m130s\u001b[0m 370ms/step - acc: 0.1629 - auc: 0.7866 - f1_score: 0.0703 - loss: 4.5532 - val_acc: 0.3122 - val_auc: 0.9071 - val_f1_score: 0.1592 - val_loss: 3.8685 - learning_rate: 9.3880e-05\n",
      "Epoch 3/50\n",
      "\u001b[1m350/350\u001b[0m \u001b[32m━━━━━━━━━━━━━━━━━━━━\u001b[0m\u001b[37m\u001b[0m \u001b[1m145s\u001b[0m 413ms/step - acc: 0.2452 - auc: 0.8742 - f1_score: 0.1391 - loss: 3.9729 - val_acc: 0.3639 - val_auc: 0.9406 - val_f1_score: 0.2160 - val_loss: 3.4068 - learning_rate: 9.0961e-05\n",
      "Epoch 4/50\n",
      "\u001b[1m350/350\u001b[0m \u001b[32m━━━━━━━━━━━━━━━━━━━━\u001b[0m\u001b[37m\u001b[0m \u001b[1m117s\u001b[0m 332ms/step - acc: 0.3084 - auc: 0.9111 - f1_score: 0.1979 - loss: 3.5632 - val_acc: 0.4118 - val_auc: 0.9576 - val_f1_score: 0.2705 - val_loss: 3.0579 - learning_rate: 8.8134e-05\n",
      "Epoch 5/50\n",
      "\u001b[1m350/350\u001b[0m \u001b[32m━━━━━━━━━━━━━━━━━━━━\u001b[0m\u001b[37m\u001b[0m \u001b[1m129s\u001b[0m 367ms/step - acc: 0.3605 - auc: 0.9337 - f1_score: 0.2553 - loss: 3.2186 - val_acc: 0.4558 - val_auc: 0.9640 - val_f1_score: 0.3249 - val_loss: 2.7891 - learning_rate: 8.5394e-05\n",
      "Epoch 6/50\n",
      "\u001b[1m350/350\u001b[0m \u001b[32m━━━━━━━━━━━━━━━━━━━━\u001b[0m\u001b[37m\u001b[0m \u001b[1m121s\u001b[0m 344ms/step - acc: 0.4135 - auc: 0.9424 - f1_score: 0.3257 - loss: 2.9632 - val_acc: 0.4841 - val_auc: 0.9678 - val_f1_score: 0.3634 - val_loss: 2.5819 - learning_rate: 8.2740e-05\n",
      "Epoch 7/50\n",
      "\u001b[1m350/350\u001b[0m \u001b[32m━━━━━━━━━━━━━━━━━━━━\u001b[0m\u001b[37m\u001b[0m \u001b[1m130s\u001b[0m 369ms/step - acc: 0.4475 - auc: 0.9532 - f1_score: 0.3644 - loss: 2.7279 - val_acc: 0.5153 - val_auc: 0.9717 - val_f1_score: 0.4118 - val_loss: 2.4158 - learning_rate: 8.0168e-05\n",
      "Epoch 8/50\n",
      "\u001b[1m350/350\u001b[0m \u001b[32m━━━━━━━━━━━━━━━━━━━━\u001b[0m\u001b[37m\u001b[0m \u001b[1m129s\u001b[0m 368ms/step - acc: 0.4696 - auc: 0.9586 - f1_score: 0.3958 - loss: 2.5733 - val_acc: 0.5465 - val_auc: 0.9736 - val_f1_score: 0.4558 - val_loss: 2.2859 - learning_rate: 7.7676e-05\n",
      "Epoch 9/50\n",
      "\u001b[1m350/350\u001b[0m \u001b[32m━━━━━━━━━━━━━━━━━━━━\u001b[0m\u001b[37m\u001b[0m \u001b[1m145s\u001b[0m 413ms/step - acc: 0.5001 - auc: 0.9629 - f1_score: 0.4309 - loss: 2.4216 - val_acc: 0.5659 - val_auc: 0.9760 - val_f1_score: 0.4863 - val_loss: 2.1803 - learning_rate: 7.5261e-05\n",
      "Epoch 10/50\n",
      "\u001b[1m350/350\u001b[0m \u001b[32m━━━━━━━━━━━━━━━━━━━━\u001b[0m\u001b[37m\u001b[0m \u001b[1m137s\u001b[0m 390ms/step - acc: 0.5172 - auc: 0.9654 - f1_score: 0.4526 - loss: 2.3162 - val_acc: 0.5799 - val_auc: 0.9767 - val_f1_score: 0.5064 - val_loss: 2.0971 - learning_rate: 7.2922e-05\n",
      "Epoch 11/50\n",
      "\u001b[1m350/350\u001b[0m \u001b[32m━━━━━━━━━━━━━━━━━━━━\u001b[0m\u001b[37m\u001b[0m \u001b[1m123s\u001b[0m 349ms/step - acc: 0.5311 - auc: 0.9703 - f1_score: 0.4703 - loss: 2.1994 - val_acc: 0.5949 - val_auc: 0.9782 - val_f1_score: 0.5274 - val_loss: 2.0273 - learning_rate: 7.0655e-05\n",
      "Epoch 12/50\n",
      "\u001b[1m350/350\u001b[0m \u001b[32m━━━━━━━━━━━━━━━━━━━━\u001b[0m\u001b[37m\u001b[0m \u001b[1m123s\u001b[0m 351ms/step - acc: 0.5548 - auc: 0.9762 - f1_score: 0.5002 - loss: 2.1126 - val_acc: 0.6010 - val_auc: 0.9793 - val_f1_score: 0.5372 - val_loss: 1.9694 - learning_rate: 6.8459e-05\n",
      "Epoch 13/50\n",
      "\u001b[1m350/350\u001b[0m \u001b[32m━━━━━━━━━━━━━━━━━━━━\u001b[0m\u001b[37m\u001b[0m \u001b[1m140s\u001b[0m 399ms/step - acc: 0.5682 - auc: 0.9738 - f1_score: 0.5190 - loss: 2.0589 - val_acc: 0.6105 - val_auc: 0.9793 - val_f1_score: 0.5494 - val_loss: 1.9188 - learning_rate: 6.6331e-05\n",
      "Epoch 14/50\n",
      "\u001b[1m350/350\u001b[0m \u001b[32m━━━━━━━━━━━━━━━━━━━━\u001b[0m\u001b[37m\u001b[0m \u001b[1m124s\u001b[0m 354ms/step - acc: 0.5763 - auc: 0.9755 - f1_score: 0.5223 - loss: 1.9905 - val_acc: 0.6177 - val_auc: 0.9798 - val_f1_score: 0.5617 - val_loss: 1.8768 - learning_rate: 6.4269e-05\n",
      "Epoch 15/50\n",
      "\u001b[1m350/350\u001b[0m \u001b[32m━━━━━━━━━━━━━━━━━━━━\u001b[0m\u001b[37m\u001b[0m \u001b[1m137s\u001b[0m 389ms/step - acc: 0.5870 - auc: 0.9767 - f1_score: 0.5399 - loss: 1.9574 - val_acc: 0.6210 - val_auc: 0.9803 - val_f1_score: 0.5662 - val_loss: 1.8421 - learning_rate: 6.2271e-05\n",
      "Epoch 16/50\n",
      "\u001b[1m350/350\u001b[0m \u001b[32m━━━━━━━━━━━━━━━━━━━━\u001b[0m\u001b[37m\u001b[0m \u001b[1m113s\u001b[0m 320ms/step - acc: 0.6053 - auc: 0.9775 - f1_score: 0.5653 - loss: 1.8924 - val_acc: 0.6238 - val_auc: 0.9806 - val_f1_score: 0.5654 - val_loss: 1.8104 - learning_rate: 6.0335e-05\n",
      "Epoch 17/50\n",
      "\u001b[1m350/350\u001b[0m \u001b[32m━━━━━━━━━━━━━━━━━━━━\u001b[0m\u001b[37m\u001b[0m \u001b[1m121s\u001b[0m 344ms/step - acc: 0.6051 - auc: 0.9797 - f1_score: 0.5641 - loss: 1.8564 - val_acc: 0.6260 - val_auc: 0.9808 - val_f1_score: 0.5710 - val_loss: 1.7844 - learning_rate: 5.8460e-05\n",
      "Epoch 18/50\n",
      "\u001b[1m350/350\u001b[0m \u001b[32m━━━━━━━━━━━━━━━━━━━━\u001b[0m\u001b[37m\u001b[0m \u001b[1m117s\u001b[0m 331ms/step - acc: 0.6212 - auc: 0.9792 - f1_score: 0.5768 - loss: 1.8055 - val_acc: 0.6299 - val_auc: 0.9810 - val_f1_score: 0.5735 - val_loss: 1.7626 - learning_rate: 5.6642e-05\n",
      "Epoch 19/50\n",
      "\u001b[1m350/350\u001b[0m \u001b[32m━━━━━━━━━━━━━━━━━━━━\u001b[0m\u001b[37m\u001b[0m \u001b[1m112s\u001b[0m 320ms/step - acc: 0.6303 - auc: 0.9804 - f1_score: 0.5884 - loss: 1.7642 - val_acc: 0.6349 - val_auc: 0.9814 - val_f1_score: 0.5816 - val_loss: 1.7415 - learning_rate: 5.4882e-05\n",
      "Epoch 20/50\n",
      "\u001b[1m350/350\u001b[0m \u001b[32m━━━━━━━━━━━━━━━━━━━━\u001b[0m\u001b[37m\u001b[0m \u001b[1m111s\u001b[0m 317ms/step - acc: 0.6402 - auc: 0.9810 - f1_score: 0.5985 - loss: 1.7325 - val_acc: 0.6416 - val_auc: 0.9810 - val_f1_score: 0.5892 - val_loss: 1.7218 - learning_rate: 5.3176e-05\n",
      "Epoch 21/50\n",
      "\u001b[1m350/350\u001b[0m \u001b[32m━━━━━━━━━━━━━━━━━━━━\u001b[0m\u001b[37m\u001b[0m \u001b[1m111s\u001b[0m 315ms/step - acc: 0.6427 - auc: 0.9807 - f1_score: 0.6026 - loss: 1.7277 - val_acc: 0.6427 - val_auc: 0.9807 - val_f1_score: 0.5953 - val_loss: 1.7051 - learning_rate: 5.1523e-05\n",
      "Epoch 22/50\n",
      "\u001b[1m350/350\u001b[0m \u001b[32m━━━━━━━━━━━━━━━━━━━━\u001b[0m\u001b[37m\u001b[0m \u001b[1m111s\u001b[0m 318ms/step - acc: 0.6485 - auc: 0.9819 - f1_score: 0.6045 - loss: 1.7022 - val_acc: 0.6450 - val_auc: 0.9810 - val_f1_score: 0.5967 - val_loss: 1.6910 - learning_rate: 4.9921e-05\n",
      "Epoch 23/50\n",
      "\u001b[1m350/350\u001b[0m \u001b[32m━━━━━━━━━━━━━━━━━━━━\u001b[0m\u001b[37m\u001b[0m \u001b[1m112s\u001b[0m 320ms/step - acc: 0.6453 - auc: 0.9833 - f1_score: 0.6022 - loss: 1.6811 - val_acc: 0.6461 - val_auc: 0.9806 - val_f1_score: 0.5981 - val_loss: 1.6790 - learning_rate: 4.8369e-05\n",
      "Epoch 24/50\n",
      "\u001b[1m350/350\u001b[0m \u001b[32m━━━━━━━━━━━━━━━━━━━━\u001b[0m\u001b[37m\u001b[0m \u001b[1m117s\u001b[0m 334ms/step - acc: 0.6517 - auc: 0.9839 - f1_score: 0.6147 - loss: 1.6542 - val_acc: 0.6494 - val_auc: 0.9807 - val_f1_score: 0.6041 - val_loss: 1.6663 - learning_rate: 4.6866e-05\n",
      "Epoch 25/50\n",
      "\u001b[1m350/350\u001b[0m \u001b[32m━━━━━━━━━━━━━━━━━━━━\u001b[0m\u001b[37m\u001b[0m \u001b[1m122s\u001b[0m 344ms/step - acc: 0.6568 - auc: 0.9825 - f1_score: 0.6200 - loss: 1.6446 - val_acc: 0.6528 - val_auc: 0.9810 - val_f1_score: 0.6095 - val_loss: 1.6551 - learning_rate: 4.5409e-05\n",
      "Epoch 26/50\n",
      "\u001b[1m350/350\u001b[0m \u001b[32m━━━━━━━━━━━━━━━━━━━━\u001b[0m\u001b[37m\u001b[0m \u001b[1m124s\u001b[0m 353ms/step - acc: 0.6645 - auc: 0.9841 - f1_score: 0.6285 - loss: 1.6212 - val_acc: 0.6528 - val_auc: 0.9809 - val_f1_score: 0.6106 - val_loss: 1.6461 - learning_rate: 4.3997e-05\n",
      "Epoch 27/50\n",
      "\u001b[1m350/350\u001b[0m \u001b[32m━━━━━━━━━━━━━━━━━━━━\u001b[0m\u001b[37m\u001b[0m \u001b[1m117s\u001b[0m 333ms/step - acc: 0.6618 - auc: 0.9840 - f1_score: 0.6268 - loss: 1.6137 - val_acc: 0.6544 - val_auc: 0.9809 - val_f1_score: 0.6134 - val_loss: 1.6370 - learning_rate: 4.2630e-05\n",
      "Epoch 28/50\n",
      "\u001b[1m350/350\u001b[0m \u001b[32m━━━━━━━━━━━━━━━━━━━━\u001b[0m\u001b[37m\u001b[0m \u001b[1m121s\u001b[0m 344ms/step - acc: 0.6686 - auc: 0.9837 - f1_score: 0.6326 - loss: 1.5919 - val_acc: 0.6583 - val_auc: 0.9810 - val_f1_score: 0.6194 - val_loss: 1.6294 - learning_rate: 4.1305e-05\n",
      "Epoch 29/50\n",
      "\u001b[1m350/350\u001b[0m \u001b[32m━━━━━━━━━━━━━━━━━━━━\u001b[0m\u001b[37m\u001b[0m \u001b[1m124s\u001b[0m 352ms/step - acc: 0.6696 - auc: 0.9863 - f1_score: 0.6416 - loss: 1.5729 - val_acc: 0.6594 - val_auc: 0.9810 - val_f1_score: 0.6211 - val_loss: 1.6227 - learning_rate: 4.0021e-05\n",
      "Epoch 30/50\n",
      "\u001b[1m350/350\u001b[0m \u001b[32m━━━━━━━━━━━━━━━━━━━━\u001b[0m\u001b[37m\u001b[0m \u001b[1m115s\u001b[0m 327ms/step - acc: 0.6809 - auc: 0.9851 - f1_score: 0.6466 - loss: 1.5484 - val_acc: 0.6600 - val_auc: 0.9811 - val_f1_score: 0.6222 - val_loss: 1.6151 - learning_rate: 3.8777e-05\n",
      "Epoch 31/50\n",
      "\u001b[1m350/350\u001b[0m \u001b[32m━━━━━━━━━━━━━━━━━━━━\u001b[0m\u001b[37m\u001b[0m \u001b[1m124s\u001b[0m 355ms/step - acc: 0.6808 - auc: 0.9856 - f1_score: 0.6485 - loss: 1.5405 - val_acc: 0.6628 - val_auc: 0.9811 - val_f1_score: 0.6263 - val_loss: 1.6074 - learning_rate: 3.7571e-05\n",
      "Epoch 32/50\n",
      "\u001b[1m350/350\u001b[0m \u001b[32m━━━━━━━━━━━━━━━━━━━━\u001b[0m\u001b[37m\u001b[0m \u001b[1m117s\u001b[0m 333ms/step - acc: 0.6809 - auc: 0.9860 - f1_score: 0.6490 - loss: 1.5206 - val_acc: 0.6661 - val_auc: 0.9812 - val_f1_score: 0.6324 - val_loss: 1.6014 - learning_rate: 3.6403e-05\n",
      "Epoch 33/50\n",
      "\u001b[1m350/350\u001b[0m \u001b[32m━━━━━━━━━━━━━━━━━━━━\u001b[0m\u001b[37m\u001b[0m \u001b[1m124s\u001b[0m 354ms/step - acc: 0.6918 - auc: 0.9862 - f1_score: 0.6556 - loss: 1.5210 - val_acc: 0.6683 - val_auc: 0.9813 - val_f1_score: 0.6329 - val_loss: 1.5961 - learning_rate: 3.5272e-05\n",
      "Epoch 34/50\n",
      "\u001b[1m350/350\u001b[0m \u001b[32m━━━━━━━━━━━━━━━━━━━━\u001b[0m\u001b[37m\u001b[0m \u001b[1m116s\u001b[0m 329ms/step - acc: 0.6838 - auc: 0.9872 - f1_score: 0.6504 - loss: 1.5195 - val_acc: 0.6706 - val_auc: 0.9810 - val_f1_score: 0.6364 - val_loss: 1.5919 - learning_rate: 3.4175e-05\n",
      "Epoch 35/50\n",
      "\u001b[1m350/350\u001b[0m \u001b[32m━━━━━━━━━━━━━━━━━━━━\u001b[0m\u001b[37m\u001b[0m \u001b[1m116s\u001b[0m 329ms/step - acc: 0.6891 - auc: 0.9865 - f1_score: 0.6585 - loss: 1.4975 - val_acc: 0.6717 - val_auc: 0.9803 - val_f1_score: 0.6379 - val_loss: 1.5871 - learning_rate: 3.3113e-05\n",
      "Epoch 36/50\n",
      "\u001b[1m350/350\u001b[0m \u001b[32m━━━━━━━━━━━━━━━━━━━━\u001b[0m\u001b[37m\u001b[0m \u001b[1m120s\u001b[0m 343ms/step - acc: 0.6931 - auc: 0.9875 - f1_score: 0.6587 - loss: 1.4844 - val_acc: 0.6722 - val_auc: 0.9806 - val_f1_score: 0.6390 - val_loss: 1.5821 - learning_rate: 3.2084e-05\n",
      "Epoch 37/50\n",
      "\u001b[1m350/350\u001b[0m \u001b[32m━━━━━━━━━━━━━━━━━━━━\u001b[0m\u001b[37m\u001b[0m \u001b[1m120s\u001b[0m 343ms/step - acc: 0.6945 - auc: 0.9881 - f1_score: 0.6581 - loss: 1.4863 - val_acc: 0.6745 - val_auc: 0.9804 - val_f1_score: 0.6418 - val_loss: 1.5778 - learning_rate: 3.1086e-05\n",
      "Epoch 38/50\n",
      "\u001b[1m350/350\u001b[0m \u001b[32m━━━━━━━━━━━━━━━━━━━━\u001b[0m\u001b[37m\u001b[0m \u001b[1m116s\u001b[0m 331ms/step - acc: 0.7041 - auc: 0.9873 - f1_score: 0.6758 - loss: 1.4603 - val_acc: 0.6767 - val_auc: 0.9801 - val_f1_score: 0.6448 - val_loss: 1.5735 - learning_rate: 3.0120e-05\n",
      "Epoch 39/50\n",
      "\u001b[1m350/350\u001b[0m \u001b[32m━━━━━━━━━━━━━━━━━━━━\u001b[0m\u001b[37m\u001b[0m \u001b[1m119s\u001b[0m 339ms/step - acc: 0.7085 - auc: 0.9878 - f1_score: 0.6723 - loss: 1.4629 - val_acc: 0.6772 - val_auc: 0.9799 - val_f1_score: 0.6472 - val_loss: 1.5699 - learning_rate: 2.9184e-05\n",
      "Epoch 40/50\n",
      "\u001b[1m350/350\u001b[0m \u001b[32m━━━━━━━━━━━━━━━━━━━━\u001b[0m\u001b[37m\u001b[0m \u001b[1m118s\u001b[0m 337ms/step - acc: 0.7018 - auc: 0.9876 - f1_score: 0.6715 - loss: 1.4654 - val_acc: 0.6761 - val_auc: 0.9802 - val_f1_score: 0.6462 - val_loss: 1.5670 - learning_rate: 2.8277e-05\n",
      "Epoch 41/50\n",
      "\u001b[1m350/350\u001b[0m \u001b[32m━━━━━━━━━━━━━━━━━━━━\u001b[0m\u001b[37m\u001b[0m \u001b[1m121s\u001b[0m 345ms/step - acc: 0.7035 - auc: 0.9879 - f1_score: 0.6711 - loss: 1.4652 - val_acc: 0.6784 - val_auc: 0.9800 - val_f1_score: 0.6485 - val_loss: 1.5631 - learning_rate: 2.7398e-05\n",
      "Epoch 42/50\n",
      "\u001b[1m350/350\u001b[0m \u001b[32m━━━━━━━━━━━━━━━━━━━━\u001b[0m\u001b[37m\u001b[0m \u001b[1m139s\u001b[0m 396ms/step - acc: 0.7090 - auc: 0.9881 - f1_score: 0.6760 - loss: 1.4482 - val_acc: 0.6795 - val_auc: 0.9797 - val_f1_score: 0.6511 - val_loss: 1.5610 - learning_rate: 2.6546e-05\n",
      "Epoch 43/50\n",
      "\u001b[1m350/350\u001b[0m \u001b[32m━━━━━━━━━━━━━━━━━━━━\u001b[0m\u001b[37m\u001b[0m \u001b[1m114s\u001b[0m 326ms/step - acc: 0.7120 - auc: 0.9884 - f1_score: 0.6794 - loss: 1.4253 - val_acc: 0.6828 - val_auc: 0.9800 - val_f1_score: 0.6540 - val_loss: 1.5583 - learning_rate: 2.5721e-05\n",
      "Epoch 44/50\n",
      "\u001b[1m350/350\u001b[0m \u001b[32m━━━━━━━━━━━━━━━━━━━━\u001b[0m\u001b[37m\u001b[0m \u001b[1m120s\u001b[0m 341ms/step - acc: 0.7098 - auc: 0.9892 - f1_score: 0.6780 - loss: 1.4388 - val_acc: 0.6828 - val_auc: 0.9797 - val_f1_score: 0.6546 - val_loss: 1.5566 - learning_rate: 2.4921e-05\n",
      "Epoch 45/50\n",
      "\u001b[1m350/350\u001b[0m \u001b[32m━━━━━━━━━━━━━━━━━━━━\u001b[0m\u001b[37m\u001b[0m \u001b[1m107s\u001b[0m 306ms/step - acc: 0.7141 - auc: 0.9865 - f1_score: 0.6815 - loss: 1.4259 - val_acc: 0.6850 - val_auc: 0.9800 - val_f1_score: 0.6584 - val_loss: 1.5535 - learning_rate: 2.4147e-05\n",
      "Epoch 46/50\n",
      "\u001b[1m350/350\u001b[0m \u001b[32m━━━━━━━━━━━━━━━━━━━━\u001b[0m\u001b[37m\u001b[0m \u001b[1m106s\u001b[0m 302ms/step - acc: 0.7148 - auc: 0.9883 - f1_score: 0.6875 - loss: 1.4193 - val_acc: 0.6850 - val_auc: 0.9801 - val_f1_score: 0.6584 - val_loss: 1.5508 - learning_rate: 2.3396e-05\n",
      "Epoch 47/50\n",
      "\u001b[1m350/350\u001b[0m \u001b[32m━━━━━━━━━━━━━━━━━━━━\u001b[0m\u001b[37m\u001b[0m \u001b[1m109s\u001b[0m 309ms/step - acc: 0.7107 - auc: 0.9876 - f1_score: 0.6809 - loss: 1.4317 - val_acc: 0.6850 - val_auc: 0.9801 - val_f1_score: 0.6600 - val_loss: 1.5482 - learning_rate: 2.2669e-05\n",
      "Epoch 48/50\n",
      "\u001b[1m350/350\u001b[0m \u001b[32m━━━━━━━━━━━━━━━━━━━━\u001b[0m\u001b[37m\u001b[0m \u001b[1m107s\u001b[0m 306ms/step - acc: 0.7188 - auc: 0.9878 - f1_score: 0.6868 - loss: 1.4103 - val_acc: 0.6867 - val_auc: 0.9795 - val_f1_score: 0.6601 - val_loss: 1.5464 - learning_rate: 2.1964e-05\n",
      "Epoch 49/50\n",
      "\u001b[1m350/350\u001b[0m \u001b[32m━━━━━━━━━━━━━━━━━━━━\u001b[0m\u001b[37m\u001b[0m \u001b[1m134s\u001b[0m 382ms/step - acc: 0.7221 - auc: 0.9886 - f1_score: 0.6916 - loss: 1.3917 - val_acc: 0.6867 - val_auc: 0.9798 - val_f1_score: 0.6603 - val_loss: 1.5445 - learning_rate: 2.1281e-05\n",
      "Epoch 50/50\n",
      "\u001b[1m350/350\u001b[0m \u001b[32m━━━━━━━━━━━━━━━━━━━━\u001b[0m\u001b[37m\u001b[0m \u001b[1m127s\u001b[0m 362ms/step - acc: 0.7182 - auc: 0.9880 - f1_score: 0.6866 - loss: 1.4127 - val_acc: 0.6867 - val_auc: 0.9798 - val_f1_score: 0.6609 - val_loss: 1.5428 - learning_rate: 2.0620e-05\n"
     ]
    }
   ],
   "source": [
    "history_en = experiment_en.run_experiment(callbacks=callbacks_additional, epochs=50)"
   ]
  },
  {
   "cell_type": "code",
   "execution_count": null,
   "metadata": {},
   "outputs": [],
   "source": [
    "df_history_en = pd.DataFrame(history_en.history)\n",
    "df_history_en.to_csv('efficient_net_final_train_history.csv', index=False)"
   ]
  },
  {
   "cell_type": "code",
   "execution_count": null,
   "metadata": {},
   "outputs": [],
   "source": [
    "model.save(\"efficient_net_pre_finetuning_with_label_smoothing_batch_sized_corrected_launching_trying_lr_scheduler.keras\")"
   ]
  },
  {
   "cell_type": "code",
   "execution_count": null,
   "metadata": {},
   "outputs": [
    {
     "data": {
      "image/png": "[encoded data removed]",
      "text/plain": [
       "<Figure size 640x480 with 1 Axes>"
      ]
     },
     "metadata": {},
     "output_type": "display_data"
    }
   ],
   "source": [
    "acc_train_en = history_en.history['acc']\n",
    "acc_val_en = history_en.history['val_acc']\n",
    "plot_model_acc(num_epochs=50, train_acc=acc_train_en, val_acc=acc_val_en)"
   ]
  },
  {
   "cell_type": "code",
   "execution_count": null,
   "metadata": {},
   "outputs": [
    {
     "data": {
      "image/png": "[encoded data removed]",
      "text/plain": [
       "<Figure size 640x480 with 1 Axes>"
      ]
     },
     "metadata": {},
     "output_type": "display_data"
    }
   ],
   "source": [
    "loss_train_en = history_en.history['loss']\n",
    "loss_val_en = history_en.history['val_loss']\n",
    "plot_model_loss(num_epochs=50, train_loss=loss_train_en, val_loss=loss_val_en)"
   ]
  },
  {
   "cell_type": "code",
   "execution_count": null,
   "metadata": {},
   "outputs": [
    {
     "data": {
      "image/png": "[encoded data removed]",
      "text/plain": [
       "<Figure size 640x480 with 1 Axes>"
      ]
     },
     "metadata": {},
     "output_type": "display_data"
    }
   ],
   "source": [
    "x_axis = range(1,50+1)\n",
    "plt.plot(x_axis, history_en.history['f1_score'], 'r', label='Training F1-Score')\n",
    "plt.plot(x_axis, history_en.history['val_f1_score'], 'g', label='Validation F1-Score')\n",
    "plt.title('Training and Validation F1-Score')\n",
    "plt.xlabel('Epochs')\n",
    "plt.ylabel('F1-Score')\n",
    "plt.legend()\n",
    "plt.show()"
   ]
  },
  {
   "cell_type": "markdown",
   "metadata": {},
   "source": [
    "### Fine-tune"
   ]
  },
  {
   "cell_type": "code",
   "execution_count": null,
   "metadata": {},
   "outputs": [],
   "source": [
    "base_model_ft_en = load_model(\"efficient_net_pre_finetuning_with_label_smoothing_batch_sized_corrected_launching_trying_lr_scheduler.keras\", compile=False)"
   ]
  },
  {
   "cell_type": "code",
   "execution_count": null,
   "metadata": {},
   "outputs": [],
   "source": [
    "verbose = 1\n",
    "metrics = [\n",
    "    CategoricalAccuracy(name=\"acc\"),\n",
    "    AUC(name=\"auc\"),\n",
    "    F1Score(average=\"macro\", name=\"f1_score\")\n",
    "]\n",
    "\n",
    "initial_lr = 1e-5\n",
    "final_lr = 1e-6\n",
    "n_epochs = 100\n",
    "my_scheduler_fn = lr_scheduler(initial_lr, final_lr, n_epochs)\n",
    "lr_callback = LearningRateScheduler(my_scheduler_fn)\n",
    "\n"
   ]
  },
  {
   "cell_type": "code",
   "execution_count": null,
   "metadata": {},
   "outputs": [],
   "source": [
    "progressive_unfreeze = ProgressiveUnfreeze(base_model_ft_en)\n",
    "\n",
    "base_model_ft_en.compile(\n",
    "    optimizer=optimizers.RMSprop(learning_rate=1e-5),\n",
    "    loss=keras.losses.CategoricalCrossentropy(label_smoothing=0.01),\n",
    "    metrics=metrics\n",
    ")\n"
   ]
  },
  {
   "cell_type": "code",
   "execution_count": null,
   "metadata": {},
   "outputs": [
    {
     "name": "stdout",
     "output_type": "stream",
     "text": [
      "No checkpoint found, starting from scratch.\n",
      "Epoch 1/100\n",
      "\u001b[1m350/350\u001b[0m \u001b[32m━━━━━━━━━━━━━━━━━━━━\u001b[0m\u001b[37m\u001b[0m \u001b[1m0s\u001b[0m 249ms/step - acc: 0.7133 - auc: 0.9891 - f1_score: 0.6941 - loss: 1.4267Epoch 0: Layer now unfrozen 241 (dense_7)\n",
      "\u001b[1m350/350\u001b[0m \u001b[32m━━━━━━━━━━━━━━━━━━━━\u001b[0m\u001b[37m\u001b[0m \u001b[1m113s\u001b[0m 306ms/step - acc: 0.7133 - auc: 0.9891 - f1_score: 0.6942 - loss: 1.4267 - val_acc: 0.6867 - val_auc: 0.9801 - val_f1_score: 0.6611 - val_loss: 1.5418 - learning_rate: 9.7724e-06\n",
      "Epoch 2/100\n",
      "\u001b[1m350/350\u001b[0m \u001b[32m━━━━━━━━━━━━━━━━━━━━\u001b[0m\u001b[37m\u001b[0m \u001b[1m104s\u001b[0m 296ms/step - acc: 0.7269 - auc: 0.9894 - f1_score: 0.7065 - loss: 1.4045 - val_acc: 0.6878 - val_auc: 0.9801 - val_f1_score: 0.6624 - val_loss: 1.5405 - learning_rate: 9.5499e-06\n",
      "Epoch 3/100\n",
      "\u001b[1m350/350\u001b[0m \u001b[32m━━━━━━━━━━━━━━━━━━━━\u001b[0m\u001b[37m\u001b[0m \u001b[1m0s\u001b[0m 243ms/step - acc: 0.7130 - auc: 0.9893 - f1_score: 0.6895 - loss: 1.4263Epoch 2: Layer now unfrozen 240 (dropout_3)\n",
      "\u001b[1m350/350\u001b[0m \u001b[32m━━━━━━━━━━━━━━━━━━━━\u001b[0m\u001b[37m\u001b[0m \u001b[1m100s\u001b[0m 286ms/step - acc: 0.7130 - auc: 0.9893 - f1_score: 0.6896 - loss: 1.4262 - val_acc: 0.6889 - val_auc: 0.9799 - val_f1_score: 0.6628 - val_loss: 1.5397 - learning_rate: 9.3325e-06\n",
      "Epoch 4/100\n",
      "\u001b[1m350/350\u001b[0m \u001b[32m━━━━━━━━━━━━━━━━━━━━\u001b[0m\u001b[37m\u001b[0m \u001b[1m106s\u001b[0m 302ms/step - acc: 0.7134 - auc: 0.9885 - f1_score: 0.6935 - loss: 1.4326 - val_acc: 0.6895 - val_auc: 0.9802 - val_f1_score: 0.6639 - val_loss: 1.5383 - learning_rate: 9.1201e-06\n",
      "Epoch 5/100\n",
      "\u001b[1m350/350\u001b[0m \u001b[32m━━━━━━━━━━━━━━━━━━━━\u001b[0m\u001b[37m\u001b[0m \u001b[1m0s\u001b[0m 251ms/step - acc: 0.7122 - auc: 0.9875 - f1_score: 0.6929 - loss: 1.4220Epoch 4: Layer now unfrozen 239 (dense_6)\n",
      "\u001b[1m350/350\u001b[0m \u001b[32m━━━━━━━━━━━━━━━━━━━━\u001b[0m\u001b[37m\u001b[0m \u001b[1m103s\u001b[0m 293ms/step - acc: 0.7122 - auc: 0.9875 - f1_score: 0.6930 - loss: 1.4220 - val_acc: 0.6895 - val_auc: 0.9799 - val_f1_score: 0.6638 - val_loss: 1.5374 - learning_rate: 8.9125e-06\n",
      "Epoch 6/100\n",
      "\u001b[1m350/350\u001b[0m \u001b[32m━━━━━━━━━━━━━━━━━━━━\u001b[0m\u001b[37m\u001b[0m \u001b[1m103s\u001b[0m 292ms/step - acc: 0.7197 - auc: 0.9897 - f1_score: 0.6997 - loss: 1.4029 - val_acc: 0.6906 - val_auc: 0.9802 - val_f1_score: 0.6650 - val_loss: 1.5364 - learning_rate: 8.7096e-06\n",
      "Epoch 7/100\n",
      "\u001b[1m350/350\u001b[0m \u001b[32m━━━━━━━━━━━━━━━━━━━━\u001b[0m\u001b[37m\u001b[0m \u001b[1m0s\u001b[0m 258ms/step - acc: 0.7156 - auc: 0.9895 - f1_score: 0.6932 - loss: 1.4226Epoch 6: Layer now unfrozen 238 (global_average_pooling2d_3)\n",
      "\u001b[1m350/350\u001b[0m \u001b[32m━━━━━━━━━━━━━━━━━━━━\u001b[0m\u001b[37m\u001b[0m \u001b[1m108s\u001b[0m 308ms/step - acc: 0.7156 - auc: 0.9895 - f1_score: 0.6933 - loss: 1.4226 - val_acc: 0.6912 - val_auc: 0.9802 - val_f1_score: 0.6656 - val_loss: 1.5355 - learning_rate: 8.5114e-06\n",
      "Epoch 8/100\n",
      "\u001b[1m350/350\u001b[0m \u001b[32m━━━━━━━━━━━━━━━━━━━━\u001b[0m\u001b[37m\u001b[0m \u001b[1m107s\u001b[0m 301ms/step - acc: 0.7162 - auc: 0.9894 - f1_score: 0.6951 - loss: 1.4178 - val_acc: 0.6923 - val_auc: 0.9802 - val_f1_score: 0.6673 - val_loss: 1.5351 - learning_rate: 8.3176e-06\n",
      "Epoch 9/100\n",
      "\u001b[1m350/350\u001b[0m \u001b[32m━━━━━━━━━━━━━━━━━━━━\u001b[0m\u001b[37m\u001b[0m \u001b[1m0s\u001b[0m 258ms/step - acc: 0.7191 - auc: 0.9892 - f1_score: 0.6951 - loss: 1.4166Epoch 8: Layer now unfrozen 237 (top_activation)\n",
      "\u001b[1m350/350\u001b[0m \u001b[32m━━━━━━━━━━━━━━━━━━━━\u001b[0m\u001b[37m\u001b[0m \u001b[1m106s\u001b[0m 302ms/step - acc: 0.7191 - auc: 0.9892 - f1_score: 0.6952 - loss: 1.4166 - val_acc: 0.6923 - val_auc: 0.9802 - val_f1_score: 0.6674 - val_loss: 1.5345 - learning_rate: 8.1283e-06\n",
      "Epoch 10/100\n",
      "\u001b[1m350/350\u001b[0m \u001b[32m━━━━━━━━━━━━━━━━━━━━\u001b[0m\u001b[37m\u001b[0m \u001b[1m113s\u001b[0m 321ms/step - acc: 0.7087 - auc: 0.9887 - f1_score: 0.6902 - loss: 1.4292 - val_acc: 0.6923 - val_auc: 0.9802 - val_f1_score: 0.6669 - val_loss: 1.5341 - learning_rate: 7.9433e-06\n",
      "Epoch 11/100\n",
      "\u001b[1m350/350\u001b[0m \u001b[32m━━━━━━━━━━━━━━━━━━━━\u001b[0m\u001b[37m\u001b[0m \u001b[1m0s\u001b[0m 272ms/step - acc: 0.7182 - auc: 0.9899 - f1_score: 0.6981 - loss: 1.4064Epoch 10: Layer now unfrozen 235 (top_conv)\n",
      "\u001b[1m350/350\u001b[0m \u001b[32m━━━━━━━━━━━━━━━━━━━━\u001b[0m\u001b[37m\u001b[0m \u001b[1m112s\u001b[0m 320ms/step - acc: 0.7183 - auc: 0.9899 - f1_score: 0.6982 - loss: 1.4063 - val_acc: 0.6912 - val_auc: 0.9802 - val_f1_score: 0.6650 - val_loss: 1.5335 - learning_rate: 7.7625e-06\n",
      "Epoch 12/100\n",
      "\u001b[1m350/350\u001b[0m \u001b[32m━━━━━━━━━━━━━━━━━━━━\u001b[0m\u001b[37m\u001b[0m \u001b[1m105s\u001b[0m 300ms/step - acc: 0.7153 - auc: 0.9902 - f1_score: 0.6958 - loss: 1.4107 - val_acc: 0.6912 - val_auc: 0.9802 - val_f1_score: 0.6656 - val_loss: 1.5329 - learning_rate: 7.5858e-06\n",
      "Epoch 13/100\n",
      "\u001b[1m350/350\u001b[0m \u001b[32m━━━━━━━━━━━━━━━━━━━━\u001b[0m\u001b[37m\u001b[0m \u001b[1m0s\u001b[0m 258ms/step - acc: 0.7121 - auc: 0.9890 - f1_score: 0.6893 - loss: 1.4222Epoch 12: Layer now unfrozen 233 (block7a_project_conv)\n",
      "\u001b[1m350/350\u001b[0m \u001b[32m━━━━━━━━━━━━━━━━━━━━\u001b[0m\u001b[37m\u001b[0m \u001b[1m107s\u001b[0m 306ms/step - acc: 0.7121 - auc: 0.9890 - f1_score: 0.6894 - loss: 1.4221 - val_acc: 0.6928 - val_auc: 0.9802 - val_f1_score: 0.6676 - val_loss: 1.5322 - learning_rate: 7.4131e-06\n",
      "Epoch 14/100\n",
      "\u001b[1m350/350\u001b[0m \u001b[32m━━━━━━━━━━━━━━━━━━━━\u001b[0m\u001b[37m\u001b[0m \u001b[1m109s\u001b[0m 309ms/step - acc: 0.7243 - auc: 0.9913 - f1_score: 0.6972 - loss: 1.3769 - val_acc: 0.6934 - val_auc: 0.9805 - val_f1_score: 0.6678 - val_loss: 1.5314 - learning_rate: 7.2444e-06\n",
      "Epoch 15/100\n",
      "\u001b[1m350/350\u001b[0m \u001b[32m━━━━━━━━━━━━━━━━━━━━\u001b[0m\u001b[37m\u001b[0m \u001b[1m0s\u001b[0m 264ms/step - acc: 0.7149 - auc: 0.9895 - f1_score: 0.6953 - loss: 1.4111Epoch 14: Layer now unfrozen 232 (block7a_se_excite)\n",
      "\u001b[1m350/350\u001b[0m \u001b[32m━━━━━━━━━━━━━━━━━━━━\u001b[0m\u001b[37m\u001b[0m \u001b[1m108s\u001b[0m 309ms/step - acc: 0.7149 - auc: 0.9895 - f1_score: 0.6953 - loss: 1.4111 - val_acc: 0.6923 - val_auc: 0.9805 - val_f1_score: 0.6667 - val_loss: 1.5309 - learning_rate: 7.0795e-06\n",
      "Epoch 16/100\n",
      "\u001b[1m350/350\u001b[0m \u001b[32m━━━━━━━━━━━━━━━━━━━━\u001b[0m\u001b[37m\u001b[0m \u001b[1m105s\u001b[0m 299ms/step - acc: 0.7195 - auc: 0.9904 - f1_score: 0.6979 - loss: 1.4023 - val_acc: 0.6934 - val_auc: 0.9805 - val_f1_score: 0.6682 - val_loss: 1.5302 - learning_rate: 6.9183e-06\n",
      "Epoch 17/100\n",
      "\u001b[1m350/350\u001b[0m \u001b[32m━━━━━━━━━━━━━━━━━━━━\u001b[0m\u001b[37m\u001b[0m \u001b[1m0s\u001b[0m 253ms/step - acc: 0.7227 - auc: 0.9897 - f1_score: 0.6965 - loss: 1.3923Epoch 16: Layer now unfrozen 231 (block7a_se_expand)\n",
      "\u001b[1m350/350\u001b[0m \u001b[32m━━━━━━━━━━━━━━━━━━━━\u001b[0m\u001b[37m\u001b[0m \u001b[1m105s\u001b[0m 299ms/step - acc: 0.7227 - auc: 0.9897 - f1_score: 0.6966 - loss: 1.3923 - val_acc: 0.6928 - val_auc: 0.9805 - val_f1_score: 0.6678 - val_loss: 1.5294 - learning_rate: 6.7608e-06\n",
      "Epoch 18/100\n",
      "\u001b[1m350/350\u001b[0m \u001b[32m━━━━━━━━━━━━━━━━━━━━\u001b[0m\u001b[37m\u001b[0m \u001b[1m108s\u001b[0m 308ms/step - acc: 0.7173 - auc: 0.9897 - f1_score: 0.6945 - loss: 1.3965 - val_acc: 0.6923 - val_auc: 0.9805 - val_f1_score: 0.6672 - val_loss: 1.5287 - learning_rate: 6.6069e-06\n",
      "Epoch 19/100\n",
      "\u001b[1m350/350\u001b[0m \u001b[32m━━━━━━━━━━━━━━━━━━━━\u001b[0m\u001b[37m\u001b[0m \u001b[1m0s\u001b[0m 256ms/step - acc: 0.7215 - auc: 0.9890 - f1_score: 0.6985 - loss: 1.4053Epoch 18: Layer now unfrozen 230 (block7a_se_reduce)\n",
      "\u001b[1m350/350\u001b[0m \u001b[32m━━━━━━━━━━━━━━━━━━━━\u001b[0m\u001b[37m\u001b[0m \u001b[1m106s\u001b[0m 301ms/step - acc: 0.7215 - auc: 0.9890 - f1_score: 0.6986 - loss: 1.4053 - val_acc: 0.6934 - val_auc: 0.9805 - val_f1_score: 0.6686 - val_loss: 1.5282 - learning_rate: 6.4565e-06\n",
      "Epoch 20/100\n",
      "\u001b[1m350/350\u001b[0m \u001b[32m━━━━━━━━━━━━━━━━━━━━\u001b[0m\u001b[37m\u001b[0m \u001b[1m104s\u001b[0m 296ms/step - acc: 0.7249 - auc: 0.9906 - f1_score: 0.7038 - loss: 1.3812 - val_acc: 0.6939 - val_auc: 0.9805 - val_f1_score: 0.6690 - val_loss: 1.5277 - learning_rate: 6.3096e-06\n",
      "Epoch 21/100\n",
      "\u001b[1m350/350\u001b[0m \u001b[32m━━━━━━━━━━━━━━━━━━━━\u001b[0m\u001b[37m\u001b[0m \u001b[1m0s\u001b[0m 251ms/step - acc: 0.7216 - auc: 0.9899 - f1_score: 0.6997 - loss: 1.3998Epoch 20: Layer now unfrozen 229 (block7a_se_reshape)\n",
      "\u001b[1m350/350\u001b[0m \u001b[32m━━━━━━━━━━━━━━━━━━━━\u001b[0m\u001b[37m\u001b[0m \u001b[1m104s\u001b[0m 297ms/step - acc: 0.7216 - auc: 0.9899 - f1_score: 0.6998 - loss: 1.3997 - val_acc: 0.6939 - val_auc: 0.9805 - val_f1_score: 0.6690 - val_loss: 1.5272 - learning_rate: 6.1660e-06\n",
      "Epoch 22/100\n",
      "\u001b[1m350/350\u001b[0m \u001b[32m━━━━━━━━━━━━━━━━━━━━\u001b[0m\u001b[37m\u001b[0m \u001b[1m105s\u001b[0m 299ms/step - acc: 0.7294 - auc: 0.9896 - f1_score: 0.7104 - loss: 1.3857 - val_acc: 0.6950 - val_auc: 0.9805 - val_f1_score: 0.6703 - val_loss: 1.5270 - learning_rate: 6.0256e-06\n",
      "Epoch 23/100\n",
      "\u001b[1m350/350\u001b[0m \u001b[32m━━━━━━━━━━━━━━━━━━━━\u001b[0m\u001b[37m\u001b[0m \u001b[1m0s\u001b[0m 267ms/step - acc: 0.7245 - auc: 0.9891 - f1_score: 0.7012 - loss: 1.4033Epoch 22: Layer now unfrozen 228 (block7a_se_squeeze)\n",
      "\u001b[1m350/350\u001b[0m \u001b[32m━━━━━━━━━━━━━━━━━━━━\u001b[0m\u001b[37m\u001b[0m \u001b[1m111s\u001b[0m 314ms/step - acc: 0.7245 - auc: 0.9891 - f1_score: 0.7013 - loss: 1.4032 - val_acc: 0.6956 - val_auc: 0.9805 - val_f1_score: 0.6706 - val_loss: 1.5266 - learning_rate: 5.8884e-06\n",
      "Epoch 24/100\n",
      "\u001b[1m350/350\u001b[0m \u001b[32m━━━━━━━━━━━━━━━━━━━━\u001b[0m\u001b[37m\u001b[0m \u001b[1m112s\u001b[0m 319ms/step - acc: 0.7254 - auc: 0.9902 - f1_score: 0.7028 - loss: 1.3936 - val_acc: 0.6956 - val_auc: 0.9806 - val_f1_score: 0.6705 - val_loss: 1.5261 - learning_rate: 5.7544e-06\n",
      "Epoch 25/100\n",
      "\u001b[1m350/350\u001b[0m \u001b[32m━━━━━━━━━━━━━━━━━━━━\u001b[0m\u001b[37m\u001b[0m \u001b[1m0s\u001b[0m 254ms/step - acc: 0.7324 - auc: 0.9895 - f1_score: 0.7073 - loss: 1.3856Epoch 24: Layer now unfrozen 227 (block7a_activation)\n",
      "\u001b[1m350/350\u001b[0m \u001b[32m━━━━━━━━━━━━━━━━━━━━\u001b[0m\u001b[37m\u001b[0m \u001b[1m105s\u001b[0m 297ms/step - acc: 0.7324 - auc: 0.9895 - f1_score: 0.7074 - loss: 1.3856 - val_acc: 0.6956 - val_auc: 0.9806 - val_f1_score: 0.6705 - val_loss: 1.5256 - learning_rate: 5.6234e-06\n",
      "Epoch 26/100\n",
      "\u001b[1m350/350\u001b[0m \u001b[32m━━━━━━━━━━━━━━━━━━━━\u001b[0m\u001b[37m\u001b[0m \u001b[1m108s\u001b[0m 308ms/step - acc: 0.7149 - auc: 0.9891 - f1_score: 0.6954 - loss: 1.4000 - val_acc: 0.6950 - val_auc: 0.9806 - val_f1_score: 0.6698 - val_loss: 1.5251 - learning_rate: 5.4954e-06\n",
      "Epoch 27/100\n",
      "\u001b[1m350/350\u001b[0m \u001b[32m━━━━━━━━━━━━━━━━━━━━\u001b[0m\u001b[37m\u001b[0m \u001b[1m0s\u001b[0m 258ms/step - acc: 0.7287 - auc: 0.9896 - f1_score: 0.7032 - loss: 1.3768Epoch 26: Layer now unfrozen 225 (block7a_dwconv)\n",
      "\u001b[1m350/350\u001b[0m \u001b[32m━━━━━━━━━━━━━━━━━━━━\u001b[0m\u001b[37m\u001b[0m \u001b[1m113s\u001b[0m 321ms/step - acc: 0.7287 - auc: 0.9896 - f1_score: 0.7033 - loss: 1.3768 - val_acc: 0.6945 - val_auc: 0.9806 - val_f1_score: 0.6694 - val_loss: 1.5247 - learning_rate: 5.3703e-06\n",
      "Epoch 28/100\n",
      "\u001b[1m350/350\u001b[0m \u001b[32m━━━━━━━━━━━━━━━━━━━━\u001b[0m\u001b[37m\u001b[0m \u001b[1m107s\u001b[0m 305ms/step - acc: 0.7232 - auc: 0.9910 - f1_score: 0.7004 - loss: 1.3860 - val_acc: 0.6945 - val_auc: 0.9806 - val_f1_score: 0.6694 - val_loss: 1.5244 - learning_rate: 5.2481e-06\n",
      "Epoch 29/100\n",
      "\u001b[1m350/350\u001b[0m \u001b[32m━━━━━━━━━━━━━━━━━━━━\u001b[0m\u001b[37m\u001b[0m \u001b[1m0s\u001b[0m 259ms/step - acc: 0.7268 - auc: 0.9906 - f1_score: 0.7034 - loss: 1.3724Epoch 28: Layer now unfrozen 224 (block7a_expand_activation)\n",
      "\u001b[1m350/350\u001b[0m \u001b[32m━━━━━━━━━━━━━━━━━━━━\u001b[0m\u001b[37m\u001b[0m \u001b[1m107s\u001b[0m 305ms/step - acc: 0.7268 - auc: 0.9906 - f1_score: 0.7035 - loss: 1.3724 - val_acc: 0.6950 - val_auc: 0.9806 - val_f1_score: 0.6699 - val_loss: 1.5241 - learning_rate: 5.1286e-06\n",
      "Epoch 30/100\n",
      "\u001b[1m350/350\u001b[0m \u001b[32m━━━━━━━━━━━━━━━━━━━━\u001b[0m\u001b[37m\u001b[0m \u001b[1m115s\u001b[0m 326ms/step - acc: 0.7226 - auc: 0.9896 - f1_score: 0.7024 - loss: 1.3921 - val_acc: 0.6945 - val_auc: 0.9806 - val_f1_score: 0.6696 - val_loss: 1.5236 - learning_rate: 5.0119e-06\n",
      "Epoch 31/100\n",
      "\u001b[1m350/350\u001b[0m \u001b[32m━━━━━━━━━━━━━━━━━━━━\u001b[0m\u001b[37m\u001b[0m \u001b[1m0s\u001b[0m 256ms/step - acc: 0.7236 - auc: 0.9902 - f1_score: 0.7022 - loss: 1.3847Epoch 30: Layer now unfrozen 222 (block7a_expand_conv)\n",
      "\u001b[1m350/350\u001b[0m \u001b[32m━━━━━━━━━━━━━━━━━━━━\u001b[0m\u001b[37m\u001b[0m \u001b[1m106s\u001b[0m 301ms/step - acc: 0.7236 - auc: 0.9902 - f1_score: 0.7023 - loss: 1.3846 - val_acc: 0.6945 - val_auc: 0.9806 - val_f1_score: 0.6695 - val_loss: 1.5233 - learning_rate: 4.8978e-06\n",
      "Epoch 32/100\n",
      "\u001b[1m350/350\u001b[0m \u001b[32m━━━━━━━━━━━━━━━━━━━━\u001b[0m\u001b[37m\u001b[0m \u001b[1m106s\u001b[0m 302ms/step - acc: 0.7323 - auc: 0.9900 - f1_score: 0.7120 - loss: 1.3743 - val_acc: 0.6939 - val_auc: 0.9806 - val_f1_score: 0.6692 - val_loss: 1.5231 - learning_rate: 4.7863e-06\n",
      "Epoch 33/100\n",
      "\u001b[1m350/350\u001b[0m \u001b[32m━━━━━━━━━━━━━━━━━━━━\u001b[0m\u001b[37m\u001b[0m \u001b[1m0s\u001b[0m 251ms/step - acc: 0.7301 - auc: 0.9903 - f1_score: 0.7080 - loss: 1.3794Epoch 32: Layer now unfrozen 221 (block6d_add)\n",
      "\u001b[1m350/350\u001b[0m \u001b[32m━━━━━━━━━━━━━━━━━━━━\u001b[0m\u001b[37m\u001b[0m \u001b[1m103s\u001b[0m 294ms/step - acc: 0.7301 - auc: 0.9903 - f1_score: 0.7080 - loss: 1.3794 - val_acc: 0.6950 - val_auc: 0.9806 - val_f1_score: 0.6706 - val_loss: 1.5226 - learning_rate: 4.6774e-06\n",
      "Epoch 34/100\n",
      "\u001b[1m350/350\u001b[0m \u001b[32m━━━━━━━━━━━━━━━━━━━━\u001b[0m\u001b[37m\u001b[0m \u001b[1m106s\u001b[0m 301ms/step - acc: 0.7250 - auc: 0.9899 - f1_score: 0.7057 - loss: 1.3883 - val_acc: 0.6950 - val_auc: 0.9806 - val_f1_score: 0.6706 - val_loss: 1.5223 - learning_rate: 4.5709e-06\n",
      "Epoch 35/100\n",
      "\u001b[1m350/350\u001b[0m \u001b[32m━━━━━━━━━━━━━━━━━━━━\u001b[0m\u001b[37m\u001b[0m \u001b[1m0s\u001b[0m 260ms/step - acc: 0.7180 - auc: 0.9896 - f1_score: 0.6952 - loss: 1.3947Epoch 34: Layer now unfrozen 220 (block6d_drop)\n",
      "\u001b[1m350/350\u001b[0m \u001b[32m━━━━━━━━━━━━━━━━━━━━\u001b[0m\u001b[37m\u001b[0m \u001b[1m106s\u001b[0m 303ms/step - acc: 0.7180 - auc: 0.9896 - f1_score: 0.6953 - loss: 1.3947 - val_acc: 0.6950 - val_auc: 0.9806 - val_f1_score: 0.6701 - val_loss: 1.5221 - learning_rate: 4.4668e-06\n",
      "Epoch 36/100\n",
      "\u001b[1m350/350\u001b[0m \u001b[32m━━━━━━━━━━━━━━━━━━━━\u001b[0m\u001b[37m\u001b[0m \u001b[1m107s\u001b[0m 305ms/step - acc: 0.7243 - auc: 0.9889 - f1_score: 0.7039 - loss: 1.3795 - val_acc: 0.6950 - val_auc: 0.9806 - val_f1_score: 0.6704 - val_loss: 1.5219 - learning_rate: 4.3652e-06\n",
      "Epoch 37/100\n",
      "\u001b[1m350/350\u001b[0m \u001b[32m━━━━━━━━━━━━━━━━━━━━\u001b[0m\u001b[37m\u001b[0m \u001b[1m0s\u001b[0m 266ms/step - acc: 0.7257 - auc: 0.9898 - f1_score: 0.7046 - loss: 1.3965Epoch 36: Layer now unfrozen 218 (block6d_project_conv)\n",
      "\u001b[1m350/350\u001b[0m \u001b[32m━━━━━━━━━━━━━━━━━━━━\u001b[0m\u001b[37m\u001b[0m \u001b[1m110s\u001b[0m 314ms/step - acc: 0.7257 - auc: 0.9898 - f1_score: 0.7046 - loss: 1.3964 - val_acc: 0.6950 - val_auc: 0.9806 - val_f1_score: 0.6704 - val_loss: 1.5218 - learning_rate: 4.2658e-06\n",
      "Epoch 38/100\n",
      "\u001b[1m350/350\u001b[0m \u001b[32m━━━━━━━━━━━━━━━━━━━━\u001b[0m\u001b[37m\u001b[0m \u001b[1m110s\u001b[0m 313ms/step - acc: 0.7238 - auc: 0.9907 - f1_score: 0.7025 - loss: 1.3689 - val_acc: 0.6950 - val_auc: 0.9806 - val_f1_score: 0.6702 - val_loss: 1.5215 - learning_rate: 4.1687e-06\n",
      "Epoch 39/100\n",
      "\u001b[1m350/350\u001b[0m \u001b[32m━━━━━━━━━━━━━━━━━━━━\u001b[0m\u001b[37m\u001b[0m \u001b[1m0s\u001b[0m 255ms/step - acc: 0.7244 - auc: 0.9893 - f1_score: 0.7001 - loss: 1.3918Epoch 38: Layer now unfrozen 217 (block6d_se_excite)\n",
      "\u001b[1m350/350\u001b[0m \u001b[32m━━━━━━━━━━━━━━━━━━━━\u001b[0m\u001b[37m\u001b[0m \u001b[1m105s\u001b[0m 299ms/step - acc: 0.7244 - auc: 0.9893 - f1_score: 0.7002 - loss: 1.3918 - val_acc: 0.6950 - val_auc: 0.9806 - val_f1_score: 0.6703 - val_loss: 1.5213 - learning_rate: 4.0738e-06\n",
      "Epoch 40/100\n",
      "\u001b[1m350/350\u001b[0m \u001b[32m━━━━━━━━━━━━━━━━━━━━\u001b[0m\u001b[37m\u001b[0m \u001b[1m105s\u001b[0m 299ms/step - acc: 0.7314 - auc: 0.9905 - f1_score: 0.7095 - loss: 1.3717 - val_acc: 0.6950 - val_auc: 0.9806 - val_f1_score: 0.6700 - val_loss: 1.5209 - learning_rate: 3.9811e-06\n",
      "Epoch 41/100\n",
      "\u001b[1m350/350\u001b[0m \u001b[32m━━━━━━━━━━━━━━━━━━━━\u001b[0m\u001b[37m\u001b[0m \u001b[1m0s\u001b[0m 251ms/step - acc: 0.7136 - auc: 0.9904 - f1_score: 0.6924 - loss: 1.3916Epoch 40: Layer now unfrozen 216 (block6d_se_expand)\n",
      "\u001b[1m350/350\u001b[0m \u001b[32m━━━━━━━━━━━━━━━━━━━━\u001b[0m\u001b[37m\u001b[0m \u001b[1m103s\u001b[0m 294ms/step - acc: 0.7137 - auc: 0.9904 - f1_score: 0.6925 - loss: 1.3916 - val_acc: 0.6956 - val_auc: 0.9806 - val_f1_score: 0.6708 - val_loss: 1.5205 - learning_rate: 3.8905e-06\n",
      "Epoch 42/100\n",
      "\u001b[1m350/350\u001b[0m \u001b[32m━━━━━━━━━━━━━━━━━━━━\u001b[0m\u001b[37m\u001b[0m \u001b[1m105s\u001b[0m 299ms/step - acc: 0.7282 - auc: 0.9909 - f1_score: 0.7076 - loss: 1.3778 - val_acc: 0.6950 - val_auc: 0.9806 - val_f1_score: 0.6703 - val_loss: 1.5203 - learning_rate: 3.8019e-06\n",
      "Epoch 43/100\n",
      "\u001b[1m350/350\u001b[0m \u001b[32m━━━━━━━━━━━━━━━━━━━━\u001b[0m\u001b[37m\u001b[0m \u001b[1m0s\u001b[0m 256ms/step - acc: 0.7278 - auc: 0.9912 - f1_score: 0.7062 - loss: 1.3698Epoch 42: Layer now unfrozen 215 (block6d_se_reduce)\n",
      "\u001b[1m350/350\u001b[0m \u001b[32m━━━━━━━━━━━━━━━━━━━━\u001b[0m\u001b[37m\u001b[0m \u001b[1m106s\u001b[0m 300ms/step - acc: 0.7278 - auc: 0.9912 - f1_score: 0.7063 - loss: 1.3697 - val_acc: 0.6950 - val_auc: 0.9806 - val_f1_score: 0.6703 - val_loss: 1.5202 - learning_rate: 3.7154e-06\n",
      "Epoch 44/100\n",
      "\u001b[1m350/350\u001b[0m \u001b[32m━━━━━━━━━━━━━━━━━━━━\u001b[0m\u001b[37m\u001b[0m \u001b[1m107s\u001b[0m 305ms/step - acc: 0.7226 - auc: 0.9897 - f1_score: 0.7002 - loss: 1.3894 - val_acc: 0.6950 - val_auc: 0.9806 - val_f1_score: 0.6703 - val_loss: 1.5199 - learning_rate: 3.6308e-06\n",
      "Epoch 45/100\n",
      "\u001b[1m350/350\u001b[0m \u001b[32m━━━━━━━━━━━━━━━━━━━━\u001b[0m\u001b[37m\u001b[0m \u001b[1m0s\u001b[0m 262ms/step - acc: 0.7295 - auc: 0.9897 - f1_score: 0.7100 - loss: 1.3626Epoch 44: Layer now unfrozen 214 (block6d_se_reshape)\n",
      "\u001b[1m350/350\u001b[0m \u001b[32m━━━━━━━━━━━━━━━━━━━━\u001b[0m\u001b[37m\u001b[0m \u001b[1m108s\u001b[0m 306ms/step - acc: 0.7295 - auc: 0.9897 - f1_score: 0.7101 - loss: 1.3626 - val_acc: 0.6950 - val_auc: 0.9806 - val_f1_score: 0.6703 - val_loss: 1.5196 - learning_rate: 3.5481e-06\n",
      "Epoch 46/100\n",
      "\u001b[1m350/350\u001b[0m \u001b[32m━━━━━━━━━━━━━━━━━━━━\u001b[0m\u001b[37m\u001b[0m \u001b[1m111s\u001b[0m 314ms/step - acc: 0.7342 - auc: 0.9894 - f1_score: 0.7113 - loss: 1.3575 - val_acc: 0.6956 - val_auc: 0.9806 - val_f1_score: 0.6712 - val_loss: 1.5193 - learning_rate: 3.4674e-06\n",
      "Epoch 47/100\n",
      "\u001b[1m350/350\u001b[0m \u001b[32m━━━━━━━━━━━━━━━━━━━━\u001b[0m\u001b[37m\u001b[0m \u001b[1m0s\u001b[0m 262ms/step - acc: 0.7322 - auc: 0.9906 - f1_score: 0.7141 - loss: 1.3609Epoch 46: Layer now unfrozen 213 (block6d_se_squeeze)\n",
      "\u001b[1m350/350\u001b[0m \u001b[32m━━━━━━━━━━━━━━━━━━━━\u001b[0m\u001b[37m\u001b[0m \u001b[1m108s\u001b[0m 308ms/step - acc: 0.7322 - auc: 0.9906 - f1_score: 0.7141 - loss: 1.3609 - val_acc: 0.6962 - val_auc: 0.9806 - val_f1_score: 0.6720 - val_loss: 1.5190 - learning_rate: 3.3884e-06\n",
      "Epoch 48/100\n",
      "\u001b[1m350/350\u001b[0m \u001b[32m━━━━━━━━━━━━━━━━━━━━\u001b[0m\u001b[37m\u001b[0m \u001b[1m116s\u001b[0m 330ms/step - acc: 0.7323 - auc: 0.9904 - f1_score: 0.7106 - loss: 1.3618 - val_acc: 0.6956 - val_auc: 0.9806 - val_f1_score: 0.6712 - val_loss: 1.5188 - learning_rate: 3.3113e-06\n",
      "Epoch 49/100\n",
      "\u001b[1m350/350\u001b[0m \u001b[32m━━━━━━━━━━━━━━━━━━━━\u001b[0m\u001b[37m\u001b[0m \u001b[1m0s\u001b[0m 258ms/step - acc: 0.7242 - auc: 0.9897 - f1_score: 0.7009 - loss: 1.3728Epoch 48: Layer now unfrozen 212 (block6d_activation)\n",
      "\u001b[1m350/350\u001b[0m \u001b[32m━━━━━━━━━━━━━━━━━━━━\u001b[0m\u001b[37m\u001b[0m \u001b[1m106s\u001b[0m 303ms/step - acc: 0.7242 - auc: 0.9897 - f1_score: 0.7010 - loss: 1.3728 - val_acc: 0.6967 - val_auc: 0.9806 - val_f1_score: 0.6726 - val_loss: 1.5185 - learning_rate: 3.2359e-06\n",
      "Epoch 50/100\n",
      "\u001b[1m350/350\u001b[0m \u001b[32m━━━━━━━━━━━━━━━━━━━━\u001b[0m\u001b[37m\u001b[0m \u001b[1m106s\u001b[0m 301ms/step - acc: 0.7229 - auc: 0.9903 - f1_score: 0.7012 - loss: 1.3767 - val_acc: 0.6967 - val_auc: 0.9806 - val_f1_score: 0.6729 - val_loss: 1.5182 - learning_rate: 3.1623e-06\n",
      "Epoch 51/100\n",
      "\u001b[1m350/350\u001b[0m \u001b[32m━━━━━━━━━━━━━━━━━━━━\u001b[0m\u001b[37m\u001b[0m \u001b[1m0s\u001b[0m 274ms/step - acc: 0.7339 - auc: 0.9905 - f1_score: 0.7105 - loss: 1.3626Epoch 50: Layer now unfrozen 210 (block6d_dwconv)\n",
      "\u001b[1m350/350\u001b[0m \u001b[32m━━━━━━━━━━━━━━━━━━━━\u001b[0m\u001b[37m\u001b[0m \u001b[1m113s\u001b[0m 321ms/step - acc: 0.7339 - auc: 0.9905 - f1_score: 0.7106 - loss: 1.3626 - val_acc: 0.6962 - val_auc: 0.9806 - val_f1_score: 0.6722 - val_loss: 1.5181 - learning_rate: 3.0903e-06\n",
      "Epoch 52/100\n",
      "\u001b[1m350/350\u001b[0m \u001b[32m━━━━━━━━━━━━━━━━━━━━\u001b[0m\u001b[37m\u001b[0m \u001b[1m107s\u001b[0m 305ms/step - acc: 0.7244 - auc: 0.9895 - f1_score: 0.7035 - loss: 1.3779 - val_acc: 0.6967 - val_auc: 0.9806 - val_f1_score: 0.6729 - val_loss: 1.5180 - learning_rate: 3.0200e-06\n",
      "Epoch 53/100\n",
      "\u001b[1m350/350\u001b[0m \u001b[32m━━━━━━━━━━━━━━━━━━━━\u001b[0m\u001b[37m\u001b[0m \u001b[1m0s\u001b[0m 257ms/step - acc: 0.7295 - auc: 0.9904 - f1_score: 0.7106 - loss: 1.3727Epoch 52: Layer now unfrozen 209 (block6d_expand_activation)\n",
      "\u001b[1m350/350\u001b[0m \u001b[32m━━━━━━━━━━━━━━━━━━━━\u001b[0m\u001b[37m\u001b[0m \u001b[1m105s\u001b[0m 300ms/step - acc: 0.7295 - auc: 0.9904 - f1_score: 0.7107 - loss: 1.3726 - val_acc: 0.6967 - val_auc: 0.9806 - val_f1_score: 0.6729 - val_loss: 1.5179 - learning_rate: 2.9512e-06\n",
      "Epoch 54/100\n",
      "\u001b[1m350/350\u001b[0m \u001b[32m━━━━━━━━━━━━━━━━━━━━\u001b[0m\u001b[37m\u001b[0m \u001b[1m109s\u001b[0m 309ms/step - acc: 0.7237 - auc: 0.9913 - f1_score: 0.7027 - loss: 1.3681 - val_acc: 0.6962 - val_auc: 0.9806 - val_f1_score: 0.6723 - val_loss: 1.5177 - learning_rate: 2.8840e-06\n",
      "Epoch 55/100\n",
      "\u001b[1m350/350\u001b[0m \u001b[32m━━━━━━━━━━━━━━━━━━━━\u001b[0m\u001b[37m\u001b[0m \u001b[1m0s\u001b[0m 262ms/step - acc: 0.7339 - auc: 0.9910 - f1_score: 0.7093 - loss: 1.3667Epoch 54: Layer now unfrozen 207 (block6d_expand_conv)\n",
      "\u001b[1m350/350\u001b[0m \u001b[32m━━━━━━━━━━━━━━━━━━━━\u001b[0m\u001b[37m\u001b[0m \u001b[1m108s\u001b[0m 308ms/step - acc: 0.7339 - auc: 0.9910 - f1_score: 0.7094 - loss: 1.3667 - val_acc: 0.6956 - val_auc: 0.9806 - val_f1_score: 0.6715 - val_loss: 1.5175 - learning_rate: 2.8184e-06\n",
      "Epoch 56/100\n",
      "\u001b[1m350/350\u001b[0m \u001b[32m━━━━━━━━━━━━━━━━━━━━\u001b[0m\u001b[37m\u001b[0m \u001b[1m110s\u001b[0m 315ms/step - acc: 0.7245 - auc: 0.9902 - f1_score: 0.7017 - loss: 1.3774 - val_acc: 0.6973 - val_auc: 0.9806 - val_f1_score: 0.6732 - val_loss: 1.5174 - learning_rate: 2.7542e-06\n",
      "Epoch 57/100\n",
      "\u001b[1m350/350\u001b[0m \u001b[32m━━━━━━━━━━━━━━━━━━━━\u001b[0m\u001b[37m\u001b[0m \u001b[1m0s\u001b[0m 260ms/step - acc: 0.7167 - auc: 0.9914 - f1_score: 0.6975 - loss: 1.3661Epoch 56: Layer now unfrozen 206 (block6c_add)\n",
      "\u001b[1m350/350\u001b[0m \u001b[32m━━━━━━━━━━━━━━━━━━━━\u001b[0m\u001b[37m\u001b[0m \u001b[1m107s\u001b[0m 306ms/step - acc: 0.7167 - auc: 0.9914 - f1_score: 0.6976 - loss: 1.3660 - val_acc: 0.6973 - val_auc: 0.9806 - val_f1_score: 0.6732 - val_loss: 1.5173 - learning_rate: 2.6915e-06\n",
      "Epoch 58/100\n",
      "\u001b[1m350/350\u001b[0m \u001b[32m━━━━━━━━━━━━━━━━━━━━\u001b[0m\u001b[37m\u001b[0m \u001b[1m107s\u001b[0m 304ms/step - acc: 0.7299 - auc: 0.9909 - f1_score: 0.7067 - loss: 1.3621 - val_acc: 0.6973 - val_auc: 0.9806 - val_f1_score: 0.6732 - val_loss: 1.5173 - learning_rate: 2.6303e-06\n",
      "Epoch 59/100\n",
      "\u001b[1m350/350\u001b[0m \u001b[32m━━━━━━━━━━━━━━━━━━━━\u001b[0m\u001b[37m\u001b[0m \u001b[1m0s\u001b[0m 259ms/step - acc: 0.7287 - auc: 0.9891 - f1_score: 0.7090 - loss: 1.3637Epoch 58: Layer now unfrozen 205 (block6c_drop)\n",
      "\u001b[1m350/350\u001b[0m \u001b[32m━━━━━━━━━━━━━━━━━━━━\u001b[0m\u001b[37m\u001b[0m \u001b[1m108s\u001b[0m 308ms/step - acc: 0.7287 - auc: 0.9891 - f1_score: 0.7090 - loss: 1.3637 - val_acc: 0.6973 - val_auc: 0.9806 - val_f1_score: 0.6736 - val_loss: 1.5170 - learning_rate: 2.5704e-06\n",
      "Epoch 60/100\n",
      "\u001b[1m350/350\u001b[0m \u001b[32m━━━━━━━━━━━━━━━━━━━━\u001b[0m\u001b[37m\u001b[0m \u001b[1m104s\u001b[0m 295ms/step - acc: 0.7332 - auc: 0.9916 - f1_score: 0.7141 - loss: 1.3561 - val_acc: 0.6973 - val_auc: 0.9807 - val_f1_score: 0.6736 - val_loss: 1.5168 - learning_rate: 2.5119e-06\n",
      "Epoch 61/100\n",
      "\u001b[1m350/350\u001b[0m \u001b[32m━━━━━━━━━━━━━━━━━━━━\u001b[0m\u001b[37m\u001b[0m \u001b[1m0s\u001b[0m 261ms/step - acc: 0.7347 - auc: 0.9898 - f1_score: 0.7148 - loss: 1.3674Epoch 60: Layer now unfrozen 203 (block6c_project_conv)\n",
      "\u001b[1m350/350\u001b[0m \u001b[32m━━━━━━━━━━━━━━━━━━━━\u001b[0m\u001b[37m\u001b[0m \u001b[1m107s\u001b[0m 305ms/step - acc: 0.7347 - auc: 0.9898 - f1_score: 0.7148 - loss: 1.3674 - val_acc: 0.6978 - val_auc: 0.9807 - val_f1_score: 0.6740 - val_loss: 1.5167 - learning_rate: 2.4547e-06\n",
      "Epoch 62/100\n",
      "\u001b[1m350/350\u001b[0m \u001b[32m━━━━━━━━━━━━━━━━━━━━\u001b[0m\u001b[37m\u001b[0m \u001b[1m108s\u001b[0m 306ms/step - acc: 0.7267 - auc: 0.9900 - f1_score: 0.7066 - loss: 1.3723 - val_acc: 0.6973 - val_auc: 0.9807 - val_f1_score: 0.6733 - val_loss: 1.5165 - learning_rate: 2.3988e-06\n",
      "Epoch 63/100\n",
      "\u001b[1m350/350\u001b[0m \u001b[32m━━━━━━━━━━━━━━━━━━━━\u001b[0m\u001b[37m\u001b[0m \u001b[1m0s\u001b[0m 257ms/step - acc: 0.7296 - auc: 0.9909 - f1_score: 0.7055 - loss: 1.3684Epoch 62: Layer now unfrozen 202 (block6c_se_excite)\n",
      "\u001b[1m350/350\u001b[0m \u001b[32m━━━━━━━━━━━━━━━━━━━━\u001b[0m\u001b[37m\u001b[0m \u001b[1m106s\u001b[0m 303ms/step - acc: 0.7296 - auc: 0.9909 - f1_score: 0.7056 - loss: 1.3684 - val_acc: 0.6973 - val_auc: 0.9807 - val_f1_score: 0.6736 - val_loss: 1.5164 - learning_rate: 2.3442e-06\n",
      "Epoch 64/100\n",
      "\u001b[1m350/350\u001b[0m \u001b[32m━━━━━━━━━━━━━━━━━━━━\u001b[0m\u001b[37m\u001b[0m \u001b[1m106s\u001b[0m 302ms/step - acc: 0.7235 - auc: 0.9892 - f1_score: 0.7055 - loss: 1.3808 - val_acc: 0.6978 - val_auc: 0.9807 - val_f1_score: 0.6740 - val_loss: 1.5163 - learning_rate: 2.2909e-06\n",
      "Epoch 65/100\n",
      "\u001b[1m350/350\u001b[0m \u001b[32m━━━━━━━━━━━━━━━━━━━━\u001b[0m\u001b[37m\u001b[0m \u001b[1m0s\u001b[0m 277ms/step - acc: 0.7306 - auc: 0.9903 - f1_score: 0.7096 - loss: 1.3741Epoch 64: Layer now unfrozen 201 (block6c_se_expand)\n",
      "\u001b[1m350/350\u001b[0m \u001b[32m━━━━━━━━━━━━━━━━━━━━\u001b[0m\u001b[37m\u001b[0m \u001b[1m118s\u001b[0m 333ms/step - acc: 0.7306 - auc: 0.9903 - f1_score: 0.7097 - loss: 1.3740 - val_acc: 0.6978 - val_auc: 0.9807 - val_f1_score: 0.6740 - val_loss: 1.5162 - learning_rate: 2.2387e-06\n",
      "Epoch 66/100\n",
      "\u001b[1m350/350\u001b[0m \u001b[32m━━━━━━━━━━━━━━━━━━━━\u001b[0m\u001b[37m\u001b[0m \u001b[1m103s\u001b[0m 292ms/step - acc: 0.7303 - auc: 0.9905 - f1_score: 0.7099 - loss: 1.3604 - val_acc: 0.6978 - val_auc: 0.9807 - val_f1_score: 0.6740 - val_loss: 1.5161 - learning_rate: 2.1878e-06\n",
      "Epoch 67/100\n",
      "\u001b[1m350/350\u001b[0m \u001b[32m━━━━━━━━━━━━━━━━━━━━\u001b[0m\u001b[37m\u001b[0m \u001b[1m0s\u001b[0m 271ms/step - acc: 0.7271 - auc: 0.9902 - f1_score: 0.7052 - loss: 1.3695Epoch 66: Layer now unfrozen 200 (block6c_se_reduce)\n",
      "\u001b[1m350/350\u001b[0m \u001b[32m━━━━━━━━━━━━━━━━━━━━\u001b[0m\u001b[37m\u001b[0m \u001b[1m112s\u001b[0m 318ms/step - acc: 0.7272 - auc: 0.9902 - f1_score: 0.7053 - loss: 1.3695 - val_acc: 0.6978 - val_auc: 0.9807 - val_f1_score: 0.6740 - val_loss: 1.5159 - learning_rate: 2.1380e-06\n",
      "Epoch 68/100\n",
      "\u001b[1m350/350\u001b[0m \u001b[32m━━━━━━━━━━━━━━━━━━━━\u001b[0m\u001b[37m\u001b[0m \u001b[1m116s\u001b[0m 330ms/step - acc: 0.7266 - auc: 0.9909 - f1_score: 0.7058 - loss: 1.3601 - val_acc: 0.6978 - val_auc: 0.9807 - val_f1_score: 0.6743 - val_loss: 1.5158 - learning_rate: 2.0893e-06\n",
      "Epoch 69/100\n",
      "\u001b[1m350/350\u001b[0m \u001b[32m━━━━━━━━━━━━━━━━━━━━\u001b[0m\u001b[37m\u001b[0m \u001b[1m0s\u001b[0m 253ms/step - acc: 0.7267 - auc: 0.9916 - f1_score: 0.7066 - loss: 1.3615Epoch 68: Layer now unfrozen 199 (block6c_se_reshape)\n",
      "\u001b[1m350/350\u001b[0m \u001b[32m━━━━━━━━━━━━━━━━━━━━\u001b[0m\u001b[37m\u001b[0m \u001b[1m106s\u001b[0m 300ms/step - acc: 0.7267 - auc: 0.9916 - f1_score: 0.7067 - loss: 1.3614 - val_acc: 0.6989 - val_auc: 0.9807 - val_f1_score: 0.6754 - val_loss: 1.5156 - learning_rate: 2.0417e-06\n",
      "Epoch 70/100\n",
      "\u001b[1m350/350\u001b[0m \u001b[32m━━━━━━━━━━━━━━━━━━━━\u001b[0m\u001b[37m\u001b[0m \u001b[1m117s\u001b[0m 332ms/step - acc: 0.7248 - auc: 0.9917 - f1_score: 0.7003 - loss: 1.3649 - val_acc: 0.6989 - val_auc: 0.9807 - val_f1_score: 0.6754 - val_loss: 1.5155 - learning_rate: 1.9953e-06\n",
      "Epoch 71/100\n",
      "\u001b[1m350/350\u001b[0m \u001b[32m━━━━━━━━━━━━━━━━━━━━\u001b[0m\u001b[37m\u001b[0m \u001b[1m0s\u001b[0m 252ms/step - acc: 0.7311 - auc: 0.9906 - f1_score: 0.7106 - loss: 1.3505Epoch 70: Layer now unfrozen 198 (block6c_se_squeeze)\n",
      "\u001b[1m350/350\u001b[0m \u001b[32m━━━━━━━━━━━━━━━━━━━━\u001b[0m\u001b[37m\u001b[0m \u001b[1m105s\u001b[0m 298ms/step - acc: 0.7311 - auc: 0.9906 - f1_score: 0.7106 - loss: 1.3505 - val_acc: 0.6989 - val_auc: 0.9807 - val_f1_score: 0.6754 - val_loss: 1.5154 - learning_rate: 1.9498e-06\n",
      "Epoch 72/100\n",
      "\u001b[1m350/350\u001b[0m \u001b[32m━━━━━━━━━━━━━━━━━━━━\u001b[0m\u001b[37m\u001b[0m \u001b[1m104s\u001b[0m 292ms/step - acc: 0.7314 - auc: 0.9906 - f1_score: 0.7102 - loss: 1.3622 - val_acc: 0.6989 - val_auc: 0.9807 - val_f1_score: 0.6754 - val_loss: 1.5153 - learning_rate: 1.9055e-06\n",
      "Epoch 73/100\n",
      "\u001b[1m350/350\u001b[0m \u001b[32m━━━━━━━━━━━━━━━━━━━━\u001b[0m\u001b[37m\u001b[0m \u001b[1m0s\u001b[0m 254ms/step - acc: 0.7313 - auc: 0.9898 - f1_score: 0.7099 - loss: 1.3637Epoch 72: Layer now unfrozen 197 (block6c_activation)\n",
      "\u001b[1m350/350\u001b[0m \u001b[32m━━━━━━━━━━━━━━━━━━━━\u001b[0m\u001b[37m\u001b[0m \u001b[1m106s\u001b[0m 301ms/step - acc: 0.7313 - auc: 0.9898 - f1_score: 0.7100 - loss: 1.3636 - val_acc: 0.6989 - val_auc: 0.9807 - val_f1_score: 0.6754 - val_loss: 1.5153 - learning_rate: 1.8621e-06\n",
      "Epoch 74/100\n",
      "\u001b[1m350/350\u001b[0m \u001b[32m━━━━━━━━━━━━━━━━━━━━\u001b[0m\u001b[37m\u001b[0m \u001b[1m104s\u001b[0m 296ms/step - acc: 0.7359 - auc: 0.9912 - f1_score: 0.7153 - loss: 1.3501 - val_acc: 0.6989 - val_auc: 0.9807 - val_f1_score: 0.6754 - val_loss: 1.5152 - learning_rate: 1.8197e-06\n",
      "Epoch 75/100\n",
      "\u001b[1m350/350\u001b[0m \u001b[32m━━━━━━━━━━━━━━━━━━━━\u001b[0m\u001b[37m\u001b[0m \u001b[1m0s\u001b[0m 269ms/step - acc: 0.7291 - auc: 0.9914 - f1_score: 0.7077 - loss: 1.3549Epoch 74: Layer now unfrozen 195 (block6c_dwconv)\n",
      "\u001b[1m350/350\u001b[0m \u001b[32m━━━━━━━━━━━━━━━━━━━━\u001b[0m\u001b[37m\u001b[0m \u001b[1m113s\u001b[0m 320ms/step - acc: 0.7291 - auc: 0.9914 - f1_score: 0.7078 - loss: 1.3549 - val_acc: 0.6984 - val_auc: 0.9807 - val_f1_score: 0.6750 - val_loss: 1.5151 - learning_rate: 1.7783e-06\n",
      "Epoch 76/100\n",
      "\u001b[1m350/350\u001b[0m \u001b[32m━━━━━━━━━━━━━━━━━━━━\u001b[0m\u001b[37m\u001b[0m \u001b[1m106s\u001b[0m 300ms/step - acc: 0.7300 - auc: 0.9900 - f1_score: 0.7056 - loss: 1.3682 - val_acc: 0.6995 - val_auc: 0.9807 - val_f1_score: 0.6765 - val_loss: 1.5150 - learning_rate: 1.7378e-06\n",
      "Epoch 77/100\n",
      "\u001b[1m350/350\u001b[0m \u001b[32m━━━━━━━━━━━━━━━━━━━━\u001b[0m\u001b[37m\u001b[0m \u001b[1m0s\u001b[0m 257ms/step - acc: 0.7383 - auc: 0.9905 - f1_score: 0.7194 - loss: 1.3503Epoch 76: Layer now unfrozen 194 (block6c_expand_activation)\n",
      "\u001b[1m350/350\u001b[0m \u001b[32m━━━━━━━━━━━━━━━━━━━━\u001b[0m\u001b[37m\u001b[0m \u001b[1m106s\u001b[0m 300ms/step - acc: 0.7383 - auc: 0.9905 - f1_score: 0.7194 - loss: 1.3503 - val_acc: 0.6995 - val_auc: 0.9807 - val_f1_score: 0.6765 - val_loss: 1.5150 - learning_rate: 1.6982e-06\n",
      "Epoch 78/100\n",
      "\u001b[1m350/350\u001b[0m \u001b[32m━━━━━━━━━━━━━━━━━━━━\u001b[0m\u001b[37m\u001b[0m \u001b[1m106s\u001b[0m 300ms/step - acc: 0.7347 - auc: 0.9919 - f1_score: 0.7134 - loss: 1.3632 - val_acc: 0.6995 - val_auc: 0.9807 - val_f1_score: 0.6765 - val_loss: 1.5149 - learning_rate: 1.6596e-06\n",
      "Epoch 79/100\n",
      "\u001b[1m350/350\u001b[0m \u001b[32m━━━━━━━━━━━━━━━━━━━━\u001b[0m\u001b[37m\u001b[0m \u001b[1m0s\u001b[0m 245ms/step - acc: 0.7360 - auc: 0.9909 - f1_score: 0.7164 - loss: 1.3537Epoch 78: Layer now unfrozen 192 (block6c_expand_conv)\n",
      "\u001b[1m350/350\u001b[0m \u001b[32m━━━━━━━━━━━━━━━━━━━━\u001b[0m\u001b[37m\u001b[0m \u001b[1m102s\u001b[0m 290ms/step - acc: 0.7360 - auc: 0.9909 - f1_score: 0.7165 - loss: 1.3537 - val_acc: 0.6995 - val_auc: 0.9807 - val_f1_score: 0.6765 - val_loss: 1.5148 - learning_rate: 1.6218e-06\n",
      "Epoch 80/100\n",
      "\u001b[1m350/350\u001b[0m \u001b[32m━━━━━━━━━━━━━━━━━━━━\u001b[0m\u001b[37m\u001b[0m \u001b[1m103s\u001b[0m 293ms/step - acc: 0.7242 - auc: 0.9910 - f1_score: 0.7020 - loss: 1.3702 - val_acc: 0.6995 - val_auc: 0.9807 - val_f1_score: 0.6764 - val_loss: 1.5147 - learning_rate: 1.5849e-06\n",
      "Epoch 81/100\n",
      "\u001b[1m350/350\u001b[0m \u001b[32m━━━━━━━━━━━━━━━━━━━━\u001b[0m\u001b[37m\u001b[0m \u001b[1m0s\u001b[0m 262ms/step - acc: 0.7247 - auc: 0.9903 - f1_score: 0.7001 - loss: 1.3599Epoch 80: Layer now unfrozen 191 (block6b_add)\n",
      "\u001b[1m350/350\u001b[0m \u001b[32m━━━━━━━━━━━━━━━━━━━━\u001b[0m\u001b[37m\u001b[0m \u001b[1m110s\u001b[0m 312ms/step - acc: 0.7248 - auc: 0.9903 - f1_score: 0.7002 - loss: 1.3599 - val_acc: 0.6995 - val_auc: 0.9807 - val_f1_score: 0.6764 - val_loss: 1.5146 - learning_rate: 1.5488e-06\n",
      "Epoch 82/100\n",
      "\u001b[1m350/350\u001b[0m \u001b[32m━━━━━━━━━━━━━━━━━━━━\u001b[0m\u001b[37m\u001b[0m \u001b[1m112s\u001b[0m 317ms/step - acc: 0.7324 - auc: 0.9910 - f1_score: 0.7115 - loss: 1.3545 - val_acc: 0.6995 - val_auc: 0.9807 - val_f1_score: 0.6764 - val_loss: 1.5146 - learning_rate: 1.5136e-06\n",
      "Epoch 83/100\n",
      "\u001b[1m350/350\u001b[0m \u001b[32m━━━━━━━━━━━━━━━━━━━━\u001b[0m\u001b[37m\u001b[0m \u001b[1m0s\u001b[0m 259ms/step - acc: 0.7354 - auc: 0.9904 - f1_score: 0.7123 - loss: 1.3619Epoch 82: Layer now unfrozen 190 (block6b_drop)\n",
      "\u001b[1m350/350\u001b[0m \u001b[32m━━━━━━━━━━━━━━━━━━━━\u001b[0m\u001b[37m\u001b[0m \u001b[1m107s\u001b[0m 304ms/step - acc: 0.7353 - auc: 0.9904 - f1_score: 0.7123 - loss: 1.3619 - val_acc: 0.7001 - val_auc: 0.9807 - val_f1_score: 0.6771 - val_loss: 1.5144 - learning_rate: 1.4791e-06\n",
      "Epoch 84/100\n",
      "\u001b[1m350/350\u001b[0m \u001b[32m━━━━━━━━━━━━━━━━━━━━\u001b[0m\u001b[37m\u001b[0m \u001b[1m107s\u001b[0m 303ms/step - acc: 0.7305 - auc: 0.9900 - f1_score: 0.7064 - loss: 1.3577 - val_acc: 0.7001 - val_auc: 0.9807 - val_f1_score: 0.6771 - val_loss: 1.5143 - learning_rate: 1.4454e-06\n",
      "Epoch 85/100\n",
      "\u001b[1m350/350\u001b[0m \u001b[32m━━━━━━━━━━━━━━━━━━━━\u001b[0m\u001b[37m\u001b[0m \u001b[1m0s\u001b[0m 268ms/step - acc: 0.7236 - auc: 0.9906 - f1_score: 0.7020 - loss: 1.3568Epoch 84: Layer now unfrozen 188 (block6b_project_conv)\n",
      "\u001b[1m350/350\u001b[0m \u001b[32m━━━━━━━━━━━━━━━━━━━━\u001b[0m\u001b[37m\u001b[0m \u001b[1m109s\u001b[0m 310ms/step - acc: 0.7236 - auc: 0.9906 - f1_score: 0.7021 - loss: 1.3568 - val_acc: 0.7006 - val_auc: 0.9807 - val_f1_score: 0.6775 - val_loss: 1.5142 - learning_rate: 1.4125e-06\n",
      "Epoch 86/100\n",
      "\u001b[1m350/350\u001b[0m \u001b[32m━━━━━━━━━━━━━━━━━━━━\u001b[0m\u001b[37m\u001b[0m \u001b[1m114s\u001b[0m 324ms/step - acc: 0.7339 - auc: 0.9917 - f1_score: 0.7161 - loss: 1.3624 - val_acc: 0.7006 - val_auc: 0.9807 - val_f1_score: 0.6775 - val_loss: 1.5141 - learning_rate: 1.3804e-06\n",
      "Epoch 87/100\n",
      "\u001b[1m350/350\u001b[0m \u001b[32m━━━━━━━━━━━━━━━━━━━━\u001b[0m\u001b[37m\u001b[0m \u001b[1m0s\u001b[0m 253ms/step - acc: 0.7388 - auc: 0.9925 - f1_score: 0.7148 - loss: 1.3553Epoch 86: Layer now unfrozen 187 (block6b_se_excite)\n",
      "\u001b[1m350/350\u001b[0m \u001b[32m━━━━━━━━━━━━━━━━━━━━\u001b[0m\u001b[37m\u001b[0m \u001b[1m105s\u001b[0m 296ms/step - acc: 0.7388 - auc: 0.9925 - f1_score: 0.7148 - loss: 1.3552 - val_acc: 0.7001 - val_auc: 0.9807 - val_f1_score: 0.6772 - val_loss: 1.5140 - learning_rate: 1.3490e-06\n",
      "Epoch 88/100\n",
      "\u001b[1m350/350\u001b[0m \u001b[32m━━━━━━━━━━━━━━━━━━━━\u001b[0m\u001b[37m\u001b[0m \u001b[1m109s\u001b[0m 310ms/step - acc: 0.7292 - auc: 0.9906 - f1_score: 0.7070 - loss: 1.3646 - val_acc: 0.7012 - val_auc: 0.9807 - val_f1_score: 0.6777 - val_loss: 1.5139 - learning_rate: 1.3183e-06\n",
      "Epoch 89/100\n",
      "\u001b[1m350/350\u001b[0m \u001b[32m━━━━━━━━━━━━━━━━━━━━\u001b[0m\u001b[37m\u001b[0m \u001b[1m0s\u001b[0m 255ms/step - acc: 0.7328 - auc: 0.9906 - f1_score: 0.7112 - loss: 1.3506Epoch 88: Layer now unfrozen 186 (block6b_se_expand)\n",
      "\u001b[1m350/350\u001b[0m \u001b[32m━━━━━━━━━━━━━━━━━━━━\u001b[0m\u001b[37m\u001b[0m \u001b[1m105s\u001b[0m 299ms/step - acc: 0.7328 - auc: 0.9906 - f1_score: 0.7113 - loss: 1.3506 - val_acc: 0.7012 - val_auc: 0.9807 - val_f1_score: 0.6777 - val_loss: 1.5139 - learning_rate: 1.2882e-06\n",
      "Epoch 90/100\n",
      "\u001b[1m350/350\u001b[0m \u001b[32m━━━━━━━━━━━━━━━━━━━━\u001b[0m\u001b[37m\u001b[0m \u001b[1m104s\u001b[0m 296ms/step - acc: 0.7325 - auc: 0.9899 - f1_score: 0.7108 - loss: 1.3716 - val_acc: 0.7012 - val_auc: 0.9807 - val_f1_score: 0.6777 - val_loss: 1.5138 - learning_rate: 1.2589e-06\n",
      "Epoch 91/100\n",
      "\u001b[1m350/350\u001b[0m \u001b[32m━━━━━━━━━━━━━━━━━━━━\u001b[0m\u001b[37m\u001b[0m \u001b[1m0s\u001b[0m 253ms/step - acc: 0.7319 - auc: 0.9899 - f1_score: 0.7149 - loss: 1.3540Epoch 90: Layer now unfrozen 185 (block6b_se_reduce)\n",
      "\u001b[1m350/350\u001b[0m \u001b[32m━━━━━━━━━━━━━━━━━━━━\u001b[0m\u001b[37m\u001b[0m \u001b[1m105s\u001b[0m 297ms/step - acc: 0.7319 - auc: 0.9899 - f1_score: 0.7150 - loss: 1.3540 - val_acc: 0.7012 - val_auc: 0.9807 - val_f1_score: 0.6777 - val_loss: 1.5137 - learning_rate: 1.2303e-06\n",
      "Epoch 92/100\n",
      "\u001b[1m350/350\u001b[0m \u001b[32m━━━━━━━━━━━━━━━━━━━━\u001b[0m\u001b[37m\u001b[0m \u001b[1m107s\u001b[0m 306ms/step - acc: 0.7283 - auc: 0.9903 - f1_score: 0.7098 - loss: 1.3691 - val_acc: 0.7012 - val_auc: 0.9807 - val_f1_score: 0.6777 - val_loss: 1.5136 - learning_rate: 1.2023e-06\n",
      "Epoch 93/100\n",
      "\u001b[1m350/350\u001b[0m \u001b[32m━━━━━━━━━━━━━━━━━━━━\u001b[0m\u001b[37m\u001b[0m \u001b[1m0s\u001b[0m 259ms/step - acc: 0.7337 - auc: 0.9909 - f1_score: 0.7125 - loss: 1.3479Epoch 92: Layer now unfrozen 184 (block6b_se_reshape)\n",
      "\u001b[1m350/350\u001b[0m \u001b[32m━━━━━━━━━━━━━━━━━━━━\u001b[0m\u001b[37m\u001b[0m \u001b[1m107s\u001b[0m 303ms/step - acc: 0.7337 - auc: 0.9909 - f1_score: 0.7126 - loss: 1.3479 - val_acc: 0.7006 - val_auc: 0.9807 - val_f1_score: 0.6771 - val_loss: 1.5135 - learning_rate: 1.1749e-06\n",
      "Epoch 94/100\n",
      "\u001b[1m350/350\u001b[0m \u001b[32m━━━━━━━━━━━━━━━━━━━━\u001b[0m\u001b[37m\u001b[0m \u001b[1m108s\u001b[0m 307ms/step - acc: 0.7353 - auc: 0.9911 - f1_score: 0.7133 - loss: 1.3425 - val_acc: 0.7001 - val_auc: 0.9807 - val_f1_score: 0.6767 - val_loss: 1.5134 - learning_rate: 1.1482e-06\n",
      "Epoch 95/100\n",
      "\u001b[1m350/350\u001b[0m \u001b[32m━━━━━━━━━━━━━━━━━━━━\u001b[0m\u001b[37m\u001b[0m \u001b[1m0s\u001b[0m 264ms/step - acc: 0.7360 - auc: 0.9906 - f1_score: 0.7175 - loss: 1.3431Epoch 94: Layer now unfrozen 183 (block6b_se_squeeze)\n",
      "\u001b[1m350/350\u001b[0m \u001b[32m━━━━━━━━━━━━━━━━━━━━\u001b[0m\u001b[37m\u001b[0m \u001b[1m110s\u001b[0m 311ms/step - acc: 0.7360 - auc: 0.9906 - f1_score: 0.7176 - loss: 1.3431 - val_acc: 0.7001 - val_auc: 0.9807 - val_f1_score: 0.6766 - val_loss: 1.5134 - learning_rate: 1.1220e-06\n",
      "Epoch 96/100\n",
      "\u001b[1m350/350\u001b[0m \u001b[32m━━━━━━━━━━━━━━━━━━━━\u001b[0m\u001b[37m\u001b[0m \u001b[1m106s\u001b[0m 300ms/step - acc: 0.7272 - auc: 0.9912 - f1_score: 0.7071 - loss: 1.3597 - val_acc: 0.7006 - val_auc: 0.9807 - val_f1_score: 0.6771 - val_loss: 1.5133 - learning_rate: 1.0965e-06\n",
      "Epoch 97/100\n",
      "\u001b[1m350/350\u001b[0m \u001b[32m━━━━━━━━━━━━━━━━━━━━\u001b[0m\u001b[37m\u001b[0m \u001b[1m0s\u001b[0m 255ms/step - acc: 0.7304 - auc: 0.9919 - f1_score: 0.7123 - loss: 1.3449Epoch 96: Layer now unfrozen 182 (block6b_activation)\n",
      "\u001b[1m350/350\u001b[0m \u001b[32m━━━━━━━━━━━━━━━━━━━━\u001b[0m\u001b[37m\u001b[0m \u001b[1m106s\u001b[0m 300ms/step - acc: 0.7304 - auc: 0.9919 - f1_score: 0.7124 - loss: 1.3449 - val_acc: 0.7001 - val_auc: 0.9807 - val_f1_score: 0.6767 - val_loss: 1.5133 - learning_rate: 1.0715e-06\n",
      "Epoch 98/100\n",
      "\u001b[1m350/350\u001b[0m \u001b[32m━━━━━━━━━━━━━━━━━━━━\u001b[0m\u001b[37m\u001b[0m \u001b[1m115s\u001b[0m 328ms/step - acc: 0.7325 - auc: 0.9913 - f1_score: 0.7108 - loss: 1.3528 - val_acc: 0.6995 - val_auc: 0.9807 - val_f1_score: 0.6760 - val_loss: 1.5133 - learning_rate: 1.0471e-06\n",
      "Epoch 99/100\n",
      "\u001b[1m350/350\u001b[0m \u001b[32m━━━━━━━━━━━━━━━━━━━━\u001b[0m\u001b[37m\u001b[0m \u001b[1m0s\u001b[0m 257ms/step - acc: 0.7367 - auc: 0.9909 - f1_score: 0.7144 - loss: 1.3378Epoch 98: Layer now unfrozen 180 (block6b_dwconv)\n",
      "\u001b[1m350/350\u001b[0m \u001b[32m━━━━━━━━━━━━━━━━━━━━\u001b[0m\u001b[37m\u001b[0m \u001b[1m106s\u001b[0m 301ms/step - acc: 0.7366 - auc: 0.9909 - f1_score: 0.7145 - loss: 1.3378 - val_acc: 0.7001 - val_auc: 0.9807 - val_f1_score: 0.6766 - val_loss: 1.5132 - learning_rate: 1.0233e-06\n",
      "Epoch 100/100\n",
      "\u001b[1m350/350\u001b[0m \u001b[32m━━━━━━━━━━━━━━━━━━━━\u001b[0m\u001b[37m\u001b[0m \u001b[1m110s\u001b[0m 313ms/step - acc: 0.7282 - auc: 0.9907 - f1_score: 0.7077 - loss: 1.3626 - val_acc: 0.7006 - val_auc: 0.9807 - val_f1_score: 0.6770 - val_loss: 1.5131 - learning_rate: 1.0000e-06\n"
     ]
    }
   ],
   "source": [
    "experiment_ft = Experiment(\n",
    "    model=base_model_ft_en,\n",
    "    train_ds=train_ds,\n",
    "    val_ds=val_ds,\n",
    "    experiment_name=\"efficientnet_finetune_c\",\n",
    "    batch_size=32,\n",
    "    image_size=(224, 224),\n",
    "    save_model=True\n",
    ")\n",
    "\n",
    "history_ft_en = experiment_ft.run_experiment(\n",
    "    epochs=100,\n",
    "    callbacks=[progressive_unfreeze, lr_callback]\n",
    ")"
   ]
  },
  {
   "cell_type": "code",
   "execution_count": null,
   "metadata": {},
   "outputs": [],
   "source": [
    "base_model_ft_en.save(\"efficient_net_finetuned_final.keras\")"
   ]
  },
  {
   "cell_type": "code",
   "execution_count": null,
   "metadata": {},
   "outputs": [
    {
     "name": "stdout",
     "output_type": "stream",
     "text": [
      "Found 1798 files belonging to 202 classes.\n"
     ]
    }
   ],
   "source": [
    "test_ds, _ = preprocess.load_img(\n",
    "    data_dir=\"../data/rare_species/test\",\n",
    "    minority_class=[],\n",
    "    augment=None,\n",
    "    shuffle= False,\n",
    "    preprocessing_function=preprocess_input)"
   ]
  },
  {
   "cell_type": "code",
   "execution_count": null,
   "metadata": {},
   "outputs": [
    {
     "name": "stdout",
     "output_type": "stream",
     "text": [
      "\u001b[1m57/57\u001b[0m \u001b[32m━━━━━━━━━━━━━━━━━━━━\u001b[0m\u001b[37m\u001b[0m \u001b[1m23s\u001b[0m 259ms/step - acc: 0.7113 - auc: 0.9231 - f1_score: 0.3195 - loss: 1.3660\n"
     ]
    },
    {
     "data": {
      "text/plain": [
       "[1.470661997795105, 0.7018910050392151, 0.964812159538269, 0.6690705418586731]"
      ]
     },
     "metadata": {},
     "output_type": "display_data"
    }
   ],
   "source": [
    "base_model_ft_en.evaluate(test_ds)"
   ]
  },
  {
   "cell_type": "code",
   "execution_count": null,
   "metadata": {},
   "outputs": [
    {
     "name": "stdout",
     "output_type": "stream",
     "text": [
      "\u001b[1m1/1\u001b[0m \u001b[32m━━━━━━━━━━━━━━━━━━━━\u001b[0m\u001b[37m\u001b[0m \u001b[1m10s\u001b[0m 10s/step\n",
      "\u001b[1m1/1\u001b[0m \u001b[32m━━━━━━━━━━━━━━━━━━━━\u001b[0m\u001b[37m\u001b[0m \u001b[1m1s\u001b[0m 566ms/step\n",
      "\u001b[1m1/1\u001b[0m \u001b[32m━━━━━━━━━━━━━━━━━━━━\u001b[0m\u001b[37m\u001b[0m \u001b[1m0s\u001b[0m 224ms/step\n",
      "\u001b[1m1/1\u001b[0m \u001b[32m━━━━━━━━━━━━━━━━━━━━\u001b[0m\u001b[37m\u001b[0m \u001b[1m0s\u001b[0m 227ms/step\n",
      "\u001b[1m1/1\u001b[0m \u001b[32m━━━━━━━━━━━━━━━━━━━━\u001b[0m\u001b[37m\u001b[0m \u001b[1m0s\u001b[0m 230ms/step\n",
      "\u001b[1m1/1\u001b[0m \u001b[32m━━━━━━━━━━━━━━━━━━━━\u001b[0m\u001b[37m\u001b[0m \u001b[1m0s\u001b[0m 223ms/step\n",
      "\u001b[1m1/1\u001b[0m \u001b[32m━━━━━━━━━━━━━━━━━━━━\u001b[0m\u001b[37m\u001b[0m \u001b[1m0s\u001b[0m 231ms/step\n",
      "\u001b[1m1/1\u001b[0m \u001b[32m━━━━━━━━━━━━━━━━━━━━\u001b[0m\u001b[37m\u001b[0m \u001b[1m0s\u001b[0m 222ms/step\n",
      "\u001b[1m1/1\u001b[0m \u001b[32m━━━━━━━━━━━━━━━━━━━━\u001b[0m\u001b[37m\u001b[0m \u001b[1m0s\u001b[0m 258ms/step\n",
      "\u001b[1m1/1\u001b[0m \u001b[32m━━━━━━━━━━━━━━━━━━━━\u001b[0m\u001b[37m\u001b[0m \u001b[1m0s\u001b[0m 241ms/step\n",
      "\u001b[1m1/1\u001b[0m \u001b[32m━━━━━━━━━━━━━━━━━━━━\u001b[0m\u001b[37m\u001b[0m \u001b[1m0s\u001b[0m 230ms/step\n",
      "\u001b[1m1/1\u001b[0m \u001b[32m━━━━━━━━━━━━━━━━━━━━\u001b[0m\u001b[37m\u001b[0m \u001b[1m0s\u001b[0m 234ms/step\n",
      "\u001b[1m1/1\u001b[0m \u001b[32m━━━━━━━━━━━━━━━━━━━━\u001b[0m\u001b[37m\u001b[0m \u001b[1m0s\u001b[0m 243ms/step\n",
      "\u001b[1m1/1\u001b[0m \u001b[32m━━━━━━━━━━━━━━━━━━━━\u001b[0m\u001b[37m\u001b[0m \u001b[1m0s\u001b[0m 231ms/step\n",
      "\u001b[1m1/1\u001b[0m \u001b[32m━━━━━━━━━━━━━━━━━━━━\u001b[0m\u001b[37m\u001b[0m \u001b[1m0s\u001b[0m 232ms/step\n",
      "\u001b[1m1/1\u001b[0m \u001b[32m━━━━━━━━━━━━━━━━━━━━\u001b[0m\u001b[37m\u001b[0m \u001b[1m0s\u001b[0m 223ms/step\n",
      "\u001b[1m1/1\u001b[0m \u001b[32m━━━━━━━━━━━━━━━━━━━━\u001b[0m\u001b[37m\u001b[0m \u001b[1m0s\u001b[0m 341ms/step\n",
      "\u001b[1m1/1\u001b[0m \u001b[32m━━━━━━━━━━━━━━━━━━━━\u001b[0m\u001b[37m\u001b[0m \u001b[1m0s\u001b[0m 232ms/step\n",
      "\u001b[1m1/1\u001b[0m \u001b[32m━━━━━━━━━━━━━━━━━━━━\u001b[0m\u001b[37m\u001b[0m \u001b[1m0s\u001b[0m 227ms/step\n",
      "\u001b[1m1/1\u001b[0m \u001b[32m━━━━━━━━━━━━━━━━━━━━\u001b[0m\u001b[37m\u001b[0m \u001b[1m0s\u001b[0m 236ms/step\n",
      "\u001b[1m1/1\u001b[0m \u001b[32m━━━━━━━━━━━━━━━━━━━━\u001b[0m\u001b[37m\u001b[0m \u001b[1m0s\u001b[0m 222ms/step\n",
      "\u001b[1m1/1\u001b[0m \u001b[32m━━━━━━━━━━━━━━━━━━━━\u001b[0m\u001b[37m\u001b[0m \u001b[1m0s\u001b[0m 231ms/step\n",
      "\u001b[1m1/1\u001b[0m \u001b[32m━━━━━━━━━━━━━━━━━━━━\u001b[0m\u001b[37m\u001b[0m \u001b[1m0s\u001b[0m 228ms/step\n",
      "\u001b[1m1/1\u001b[0m \u001b[32m━━━━━━━━━━━━━━━━━━━━\u001b[0m\u001b[37m\u001b[0m \u001b[1m0s\u001b[0m 229ms/step\n",
      "\u001b[1m1/1\u001b[0m \u001b[32m━━━━━━━━━━━━━━━━━━━━\u001b[0m\u001b[37m\u001b[0m \u001b[1m0s\u001b[0m 229ms/step\n",
      "\u001b[1m1/1\u001b[0m \u001b[32m━━━━━━━━━━━━━━━━━━━━\u001b[0m\u001b[37m\u001b[0m \u001b[1m0s\u001b[0m 278ms/step\n",
      "\u001b[1m1/1\u001b[0m \u001b[32m━━━━━━━━━━━━━━━━━━━━\u001b[0m\u001b[37m\u001b[0m \u001b[1m0s\u001b[0m 229ms/step\n",
      "\u001b[1m1/1\u001b[0m \u001b[32m━━━━━━━━━━━━━━━━━━━━\u001b[0m\u001b[37m\u001b[0m \u001b[1m0s\u001b[0m 281ms/step\n",
      "\u001b[1m1/1\u001b[0m \u001b[32m━━━━━━━━━━━━━━━━━━━━\u001b[0m\u001b[37m\u001b[0m \u001b[1m0s\u001b[0m 235ms/step\n",
      "\u001b[1m1/1\u001b[0m \u001b[32m━━━━━━━━━━━━━━━━━━━━\u001b[0m\u001b[37m\u001b[0m \u001b[1m0s\u001b[0m 245ms/step\n",
      "\u001b[1m1/1\u001b[0m \u001b[32m━━━━━━━━━━━━━━━━━━━━\u001b[0m\u001b[37m\u001b[0m \u001b[1m0s\u001b[0m 296ms/step\n",
      "\u001b[1m1/1\u001b[0m \u001b[32m━━━━━━━━━━━━━━━━━━━━\u001b[0m\u001b[37m\u001b[0m \u001b[1m0s\u001b[0m 229ms/step\n",
      "\u001b[1m1/1\u001b[0m \u001b[32m━━━━━━━━━━━━━━━━━━━━\u001b[0m\u001b[37m\u001b[0m \u001b[1m0s\u001b[0m 276ms/step\n",
      "\u001b[1m1/1\u001b[0m \u001b[32m━━━━━━━━━━━━━━━━━━━━\u001b[0m\u001b[37m\u001b[0m \u001b[1m0s\u001b[0m 268ms/step\n",
      "\u001b[1m1/1\u001b[0m \u001b[32m━━━━━━━━━━━━━━━━━━━━\u001b[0m\u001b[37m\u001b[0m \u001b[1m0s\u001b[0m 249ms/step\n",
      "\u001b[1m1/1\u001b[0m \u001b[32m━━━━━━━━━━━━━━━━━━━━\u001b[0m\u001b[37m\u001b[0m \u001b[1m0s\u001b[0m 397ms/step\n",
      "\u001b[1m1/1\u001b[0m \u001b[32m━━━━━━━━━━━━━━━━━━━━\u001b[0m\u001b[37m\u001b[0m \u001b[1m0s\u001b[0m 296ms/step\n",
      "\u001b[1m1/1\u001b[0m \u001b[32m━━━━━━━━━━━━━━━━━━━━\u001b[0m\u001b[37m\u001b[0m \u001b[1m0s\u001b[0m 253ms/step\n",
      "\u001b[1m1/1\u001b[0m \u001b[32m━━━━━━━━━━━━━━━━━━━━\u001b[0m\u001b[37m\u001b[0m \u001b[1m1s\u001b[0m 699ms/step\n",
      "\u001b[1m1/1\u001b[0m \u001b[32m━━━━━━━━━━━━━━━━━━━━\u001b[0m\u001b[37m\u001b[0m \u001b[1m1s\u001b[0m 876ms/step\n",
      "\u001b[1m1/1\u001b[0m \u001b[32m━━━━━━━━━━━━━━━━━━━━\u001b[0m\u001b[37m\u001b[0m \u001b[1m0s\u001b[0m 406ms/step\n",
      "\u001b[1m1/1\u001b[0m \u001b[32m━━━━━━━━━━━━━━━━━━━━\u001b[0m\u001b[37m\u001b[0m \u001b[1m0s\u001b[0m 254ms/step\n",
      "\u001b[1m1/1\u001b[0m \u001b[32m━━━━━━━━━━━━━━━━━━━━\u001b[0m\u001b[37m\u001b[0m \u001b[1m0s\u001b[0m 230ms/step\n",
      "\u001b[1m1/1\u001b[0m \u001b[32m━━━━━━━━━━━━━━━━━━━━\u001b[0m\u001b[37m\u001b[0m \u001b[1m0s\u001b[0m 225ms/step\n",
      "\u001b[1m1/1\u001b[0m \u001b[32m━━━━━━━━━━━━━━━━━━━━\u001b[0m\u001b[37m\u001b[0m \u001b[1m0s\u001b[0m 221ms/step\n",
      "\u001b[1m1/1\u001b[0m \u001b[32m━━━━━━━━━━━━━━━━━━━━\u001b[0m\u001b[37m\u001b[0m \u001b[1m0s\u001b[0m 227ms/step\n",
      "\u001b[1m1/1\u001b[0m \u001b[32m━━━━━━━━━━━━━━━━━━━━\u001b[0m\u001b[37m\u001b[0m \u001b[1m0s\u001b[0m 217ms/step\n",
      "\u001b[1m1/1\u001b[0m \u001b[32m━━━━━━━━━━━━━━━━━━━━\u001b[0m\u001b[37m\u001b[0m \u001b[1m0s\u001b[0m 224ms/step\n",
      "\u001b[1m1/1\u001b[0m \u001b[32m━━━━━━━━━━━━━━━━━━━━\u001b[0m\u001b[37m\u001b[0m \u001b[1m0s\u001b[0m 229ms/step\n",
      "\u001b[1m1/1\u001b[0m \u001b[32m━━━━━━━━━━━━━━━━━━━━\u001b[0m\u001b[37m\u001b[0m \u001b[1m0s\u001b[0m 214ms/step\n",
      "\u001b[1m1/1\u001b[0m \u001b[32m━━━━━━━━━━━━━━━━━━━━\u001b[0m\u001b[37m\u001b[0m \u001b[1m0s\u001b[0m 220ms/step\n",
      "\u001b[1m1/1\u001b[0m \u001b[32m━━━━━━━━━━━━━━━━━━━━\u001b[0m\u001b[37m\u001b[0m \u001b[1m0s\u001b[0m 216ms/step\n",
      "\u001b[1m1/1\u001b[0m \u001b[32m━━━━━━━━━━━━━━━━━━━━\u001b[0m\u001b[37m\u001b[0m \u001b[1m0s\u001b[0m 291ms/step\n",
      "\u001b[1m1/1\u001b[0m \u001b[32m━━━━━━━━━━━━━━━━━━━━\u001b[0m\u001b[37m\u001b[0m \u001b[1m0s\u001b[0m 227ms/step\n",
      "\u001b[1m1/1\u001b[0m \u001b[32m━━━━━━━━━━━━━━━━━━━━\u001b[0m\u001b[37m\u001b[0m \u001b[1m0s\u001b[0m 253ms/step\n",
      "\u001b[1m1/1\u001b[0m \u001b[32m━━━━━━━━━━━━━━━━━━━━\u001b[0m\u001b[37m\u001b[0m \u001b[1m0s\u001b[0m 301ms/step\n",
      "\u001b[1m1/1\u001b[0m \u001b[32m━━━━━━━━━━━━━━━━━━━━\u001b[0m\u001b[37m\u001b[0m \u001b[1m1s\u001b[0m 1s/step\n",
      "              precision    recall  f1-score   support\n",
      "\n",
      "           0     0.7143    0.8333    0.7692        18\n",
      "           1     0.7333    0.7857    0.7586        14\n",
      "           2     0.6522    0.9375    0.7692        32\n",
      "           3     0.2500    0.1111    0.1538         9\n",
      "           4     0.5000    0.5556    0.5263        18\n",
      "           5     0.2500    0.2500    0.2500         4\n",
      "           6     1.0000    0.6000    0.7500         5\n",
      "           7     0.3333    0.2500    0.2857         4\n",
      "           8     1.0000    0.3333    0.5000         9\n",
      "           9     1.0000    0.1111    0.2000         9\n",
      "          10     0.6667    0.7407    0.7018        27\n",
      "          11     0.8000    0.8889    0.8421         9\n",
      "          12     1.0000    0.4444    0.6154         9\n",
      "          13     0.9565    0.9565    0.9565        23\n",
      "          14     0.5833    0.7778    0.6667         9\n",
      "          15     1.0000    0.4000    0.5714         5\n",
      "          16     0.6957    0.6957    0.6957        23\n",
      "          17     0.6667    1.0000    0.8000         4\n",
      "          18     1.0000    0.4000    0.5714         5\n",
      "          19     0.3333    0.2500    0.2857         4\n",
      "          20     0.0000    0.0000    0.0000         5\n",
      "          21     1.0000    0.6667    0.8000         9\n",
      "          22     0.7500    0.7500    0.7500         4\n",
      "          23     0.6809    0.8889    0.7711        36\n",
      "          24     0.5000    0.7500    0.6000         4\n",
      "          25     0.6279    0.8438    0.7200        32\n",
      "          26     0.5417    0.5652    0.5532        23\n",
      "          27     0.8889    0.8889    0.8889         9\n",
      "          28     1.0000    1.0000    1.0000         4\n",
      "          29     0.6000    0.8333    0.6977        18\n",
      "          30     0.5000    0.5000    0.5000         4\n",
      "          31     0.3333    0.2500    0.2857         4\n",
      "          32     0.6000    0.6667    0.6316         9\n",
      "          33     0.4533    0.8293    0.5862        41\n",
      "          34     0.8889    0.8889    0.8889         9\n",
      "          35     0.8000    0.8000    0.8000         5\n",
      "          36     0.6429    0.6429    0.6429        14\n",
      "          37     1.0000    0.6000    0.7500         5\n",
      "          38     0.6491    0.8222    0.7255        45\n",
      "          39     1.0000    1.0000    1.0000         4\n",
      "          40     1.0000    0.2500    0.4000         4\n",
      "          41     1.0000    0.8889    0.9412         9\n",
      "          42     0.8000    0.8889    0.8421         9\n",
      "          43     0.8889    0.8889    0.8889         9\n",
      "          44     0.6667    0.8000    0.7273         5\n",
      "          45     0.8000    0.4444    0.5714         9\n",
      "          46     0.0000    0.0000    0.0000         4\n",
      "          47     0.0000    0.0000    0.0000         4\n",
      "          48     1.0000    0.7143    0.8333        14\n",
      "          49     1.0000    1.0000    1.0000         4\n",
      "          50     0.7857    0.7857    0.7857        14\n",
      "          51     1.0000    0.5000    0.6667         4\n",
      "          52     1.0000    1.0000    1.0000         4\n",
      "          53     0.8333    0.5556    0.6667         9\n",
      "          54     1.0000    1.0000    1.0000         5\n",
      "          55     0.4615    0.6667    0.5455         9\n",
      "          56     0.5714    0.4444    0.5000         9\n",
      "          57     1.0000    1.0000    1.0000         4\n",
      "          58     0.8000    0.8000    0.8000         5\n",
      "          59     0.0000    0.0000    0.0000         4\n",
      "          60     0.8636    0.8444    0.8539        45\n",
      "          61     0.3333    0.2500    0.2857         4\n",
      "          62     0.5135    0.8261    0.6333        23\n",
      "          63     0.7500    0.6000    0.6667         5\n",
      "          64     1.0000    0.7500    0.8571         4\n",
      "          65     1.0000    1.0000    1.0000         4\n",
      "          66     0.7000    0.7778    0.7368        18\n",
      "          67     0.7500    0.7500    0.7500         4\n",
      "          68     0.4000    0.5000    0.4444         4\n",
      "          69     0.8462    0.8148    0.8302        27\n",
      "          70     0.3333    0.2000    0.2500         5\n",
      "          71     0.7273    0.8889    0.8000         9\n",
      "          72     0.4444    0.8000    0.5714         5\n",
      "          73     0.5000    0.2222    0.3077         9\n",
      "          74     0.8000    0.8000    0.8000         5\n",
      "          75     0.6667    0.5000    0.5714         4\n",
      "          76     0.5333    0.5714    0.5517        14\n",
      "          77     0.7500    0.3333    0.4615         9\n",
      "          78     0.2500    0.1111    0.1538         9\n",
      "          79     0.8077    0.9545    0.8750        44\n",
      "          80     0.7778    0.7778    0.7778         9\n",
      "          81     1.0000    1.0000    1.0000         4\n",
      "          82     1.0000    0.2500    0.4000         4\n",
      "          83     0.8000    0.8000    0.8000         5\n",
      "          84     0.6875    0.7857    0.7333        14\n",
      "          85     1.0000    0.6000    0.7500         5\n",
      "          86     0.3333    0.2500    0.2857         4\n",
      "          87     0.7500    0.7500    0.7500         4\n",
      "          88     1.0000    1.0000    1.0000         9\n",
      "          89     1.0000    1.0000    1.0000         5\n",
      "          90     1.0000    0.2000    0.3333         5\n",
      "          91     0.8000    1.0000    0.8889         4\n",
      "          92     1.0000    0.2000    0.3333         5\n",
      "          93     0.7500    0.6000    0.6667         5\n",
      "          94     0.5000    0.1111    0.1818         9\n",
      "          95     1.0000    1.0000    1.0000         4\n",
      "          96     0.8333    1.0000    0.9091         5\n",
      "          97     0.9167    0.7857    0.8462        14\n",
      "          98     1.0000    0.5000    0.6667         4\n",
      "          99     0.8750    0.7778    0.8235        18\n",
      "         100     1.0000    0.7500    0.8571         4\n",
      "         101     0.5714    0.4444    0.5000         9\n",
      "         102     0.6667    0.4444    0.5333         9\n",
      "         103     1.0000    0.4000    0.5714         5\n",
      "         104     0.8421    0.6957    0.7619        23\n",
      "         105     0.5714    0.8000    0.6667         5\n",
      "         106     1.0000    0.7778    0.8750         9\n",
      "         107     0.7778    0.7778    0.7778         9\n",
      "         108     1.0000    1.0000    1.0000         4\n",
      "         109     0.6667    0.5000    0.5714         4\n",
      "         110     0.3333    0.2500    0.2857         4\n",
      "         111     0.8333    0.5556    0.6667         9\n",
      "         112     0.7500    0.7500    0.7500         4\n",
      "         113     1.0000    0.7500    0.8571         4\n",
      "         114     1.0000    1.0000    1.0000         5\n",
      "         115     0.5000    0.7500    0.6000         4\n",
      "         116     0.6667    0.4444    0.5333         9\n",
      "         117     0.7500    0.6000    0.6667         5\n",
      "         118     1.0000    0.6000    0.7500         5\n",
      "         119     0.4286    0.7500    0.5455         4\n",
      "         120     0.5000    0.7500    0.6000         4\n",
      "         121     0.5833    0.5000    0.5385        14\n",
      "         122     0.5882    0.7143    0.6452        14\n",
      "         123     0.4000    0.5000    0.4444         4\n",
      "         124     1.0000    0.7500    0.8571         4\n",
      "         125     1.0000    1.0000    1.0000         4\n",
      "         126     0.7500    0.6667    0.7059         9\n",
      "         127     1.0000    0.5000    0.6667         4\n",
      "         128     1.0000    0.7500    0.8571         4\n",
      "         129     0.0000    0.0000    0.0000         5\n",
      "         130     1.0000    1.0000    1.0000         5\n",
      "         131     1.0000    0.7500    0.8571         4\n",
      "         132     0.8000    0.8000    0.8000         5\n",
      "         133     0.7500    0.7500    0.7500         4\n",
      "         134     1.0000    1.0000    1.0000         4\n",
      "         135     1.0000    0.7500    0.8571         4\n",
      "         136     0.6667    0.8000    0.7273         5\n",
      "         137     0.3333    0.5000    0.4000         4\n",
      "         138     0.7500    0.6000    0.6667         5\n",
      "         139     0.8000    0.8000    0.8000         5\n",
      "         140     0.6667    0.5000    0.5714         4\n",
      "         141     1.0000    1.0000    1.0000         4\n",
      "         142     0.6981    0.9024    0.7872        41\n",
      "         143     1.0000    1.0000    1.0000         5\n",
      "         144     0.8750    0.7778    0.8235         9\n",
      "         145     0.2500    0.2500    0.2500         4\n",
      "         146     1.0000    0.7500    0.8571         4\n",
      "         147     0.3333    0.2000    0.2500         5\n",
      "         148     0.6000    0.7500    0.6667         4\n",
      "         149     1.0000    0.5000    0.6667         4\n",
      "         150     0.6667    0.5714    0.6154        14\n",
      "         151     1.0000    1.0000    1.0000         5\n",
      "         152     0.8421    0.8889    0.8649        18\n",
      "         153     0.9000    1.0000    0.9474         9\n",
      "         154     0.7143    0.5556    0.6250         9\n",
      "         155     0.5263    0.7143    0.6061        14\n",
      "         156     0.8000    1.0000    0.8889         4\n",
      "         157     0.7500    0.6000    0.6667         5\n",
      "         158     0.4000    0.5714    0.4706        14\n",
      "         159     1.0000    1.0000    1.0000         5\n",
      "         160     0.8333    0.5556    0.6667         9\n",
      "         161     0.6667    0.4000    0.5000         5\n",
      "         162     1.0000    0.1111    0.2000         9\n",
      "         163     0.5333    0.7805    0.6337        41\n",
      "         164     0.6667    0.5000    0.5714         4\n",
      "         165     1.0000    0.7500    0.8571         4\n",
      "         166     0.8000    1.0000    0.8889         4\n",
      "         167     0.7000    0.7778    0.7368         9\n",
      "         168     1.0000    0.7500    0.8571         4\n",
      "         169     0.8462    0.7857    0.8148        14\n",
      "         170     0.2857    0.5000    0.3636         4\n",
      "         171     0.5000    0.6000    0.5455         5\n",
      "         172     0.3333    0.2500    0.2857         4\n",
      "         173     0.8000    1.0000    0.8889         4\n",
      "         174     0.5000    0.3333    0.4000         9\n",
      "         175     0.7368    0.7778    0.7568        18\n",
      "         176     0.2000    0.0714    0.1053        14\n",
      "         177     0.0000    0.0000    0.0000         5\n",
      "         178     0.7500    0.7500    0.7500         4\n",
      "         179     0.6667    0.6667    0.6667         9\n",
      "         180     1.0000    0.7500    0.8571         4\n",
      "         181     0.5000    0.5000    0.5000         4\n",
      "         182     0.8000    0.8889    0.8421         9\n",
      "         183     0.6429    1.0000    0.7826         9\n",
      "         184     1.0000    0.8000    0.8889         5\n",
      "         185     1.0000    1.0000    1.0000         4\n",
      "         186     0.4444    0.2857    0.3478        14\n",
      "         187     0.5000    0.2500    0.3333         4\n",
      "         188     1.0000    0.5000    0.6667         4\n",
      "         189     0.9286    0.9286    0.9286        14\n",
      "         190     0.7500    0.6000    0.6667         5\n",
      "         191     0.3333    0.2500    0.2857         4\n",
      "         192     0.6250    0.5556    0.5882         9\n",
      "         193     0.9000    1.0000    0.9474         9\n",
      "         194     0.6000    0.6000    0.6000         5\n",
      "         195     1.0000    0.7778    0.8750         9\n",
      "         196     1.0000    1.0000    1.0000         5\n",
      "         197     0.8571    0.6667    0.7500         9\n",
      "         198     0.7500    0.7500    0.7500         4\n",
      "         199     0.6000    0.7500    0.6667         4\n",
      "         200     1.0000    1.0000    1.0000         5\n",
      "         201     0.8333    1.0000    0.9091         5\n",
      "\n",
      "    accuracy                         0.7019      1798\n",
      "   macro avg     0.7296    0.6569    0.6691      1798\n",
      "weighted avg     0.7152    0.7019    0.6877      1798\n",
      "\n",
      "F1 (macro): 0.6690706050301006\n",
      "Accuracy : 0.7018909899888766\n"
     ]
    },
    {
     "name": "stderr",
     "output_type": "stream",
     "text": [
      "2025-04-23 10:24:26.849485: W tensorflow/core/framework/local_rendezvous.cc:404] Local rendezvous is aborting with status: OUT_OF_RANGE: End of sequence\n",
      "/Users/margaridabravocardoso/venvs/deep_learning_venv/lib/python3.12/site-packages/sklearn/metrics/_classification.py:1565: UndefinedMetricWarning: Precision is ill-defined and being set to 0.0 in labels with no predicted samples. Use `zero_division` parameter to control this behavior.\n",
      "  _warn_prf(average, modifier, f\"{metric.capitalize()} is\", len(result))\n",
      "/Users/margaridabravocardoso/venvs/deep_learning_venv/lib/python3.12/site-packages/sklearn/metrics/_classification.py:1565: UndefinedMetricWarning: Precision is ill-defined and being set to 0.0 in labels with no predicted samples. Use `zero_division` parameter to control this behavior.\n",
      "  _warn_prf(average, modifier, f\"{metric.capitalize()} is\", len(result))\n",
      "/Users/margaridabravocardoso/venvs/deep_learning_venv/lib/python3.12/site-packages/sklearn/metrics/_classification.py:1565: UndefinedMetricWarning: Precision is ill-defined and being set to 0.0 in labels with no predicted samples. Use `zero_division` parameter to control this behavior.\n",
      "  _warn_prf(average, modifier, f\"{metric.capitalize()} is\", len(result))\n"
     ]
    }
   ],
   "source": [
    "from sklearn.metrics import classification_report, f1_score, precision_score, recall_score, accuracy_score\n",
    "import numpy as np\n",
    "\n",
    "y_true = []\n",
    "y_pred = []\n",
    "\n",
    "for batch_x, batch_y in test_ds:\n",
    "    preds = base_model_ft_en.predict(batch_x)\n",
    "    y_true.append(np.argmax(batch_y.numpy(), axis=1))\n",
    "    y_pred.append(np.argmax(preds, axis=1))\n",
    "\n",
    "y_true = np.concatenate(y_true)\n",
    "y_pred = np.concatenate(y_pred)\n",
    "\n",
    "print(classification_report(y_true, y_pred, digits=4))\n",
    "\n",
    "print(\"F1 (macro):\", f1_score(y_true, y_pred, average=\"macro\"))\n",
    "print(\"Accuracy :\", accuracy_score(y_true, y_pred))\n"
   ]
  },
  {
   "cell_type": "code",
   "execution_count": null,
   "metadata": {},
   "outputs": [],
   "source": [
    "history_ft_en = pd.DataFrame(history_ft_en.history)\n",
    "history_ft_en.to_csv('efficient_net_final_finetune_history.csv', index=False)"
   ]
  }
 ],
 "metadata": {
  "accelerator": "GPU",
  "colab": {
   "gpuType": "A100",
   "machine_shape": "hm",
   "provenance": []
  },
  "kernelspec": {
   "display_name": "Python 3",
   "name": "python3"
  },
  "language_info": {
   "codemirror_mode": {
    "name": "ipython",
    "version": 3
   },
   "file_extension": ".py",
   "mimetype": "text/x-python",
   "name": "python",
   "nbconvert_exporter": "python",
   "pygments_lexer": "ipython3",
   "version": "3.11.9"
  }
 },
 "nbformat": 4,
 "nbformat_minor": 0
}
