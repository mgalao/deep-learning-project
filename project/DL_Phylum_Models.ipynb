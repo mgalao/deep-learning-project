{
 "cells": [
  {
   "cell_type": "markdown",
   "metadata": {},
   "source": [
    "<div class=\"alert alert-block alert-success\">\n",
    "\n",
    "# **1.** Environment Setup\n",
    "\n",
    "<div>"
   ]
  },
  {
   "cell_type": "markdown",
   "metadata": {},
   "source": [
    "## 1.1 Connect Google Drive"
   ]
  },
  {
   "cell_type": "code",
   "execution_count": 13,
   "metadata": {},
   "outputs": [],
   "source": [
    "# from google.colab import drive\n",
    "# drive.mount('/content/drive')"
   ]
  },
  {
   "cell_type": "code",
   "execution_count": 14,
   "metadata": {},
   "outputs": [],
   "source": [
    "# import os\n",
    "\n",
    "# # Change to the directory where project is located\n",
    "# os.chdir('/content/drive/MyDrive/College/MSc/2nd Semester/Deep Learning/project')\n",
    "\n",
    "# # Verify that we changed the directory\n",
    "# print(\"Changed directory to:\", os.getcwd())"
   ]
  },
  {
   "cell_type": "markdown",
   "metadata": {},
   "source": [
    "## 1.2 Import Libraries"
   ]
  },
  {
   "cell_type": "code",
   "execution_count": 15,
   "metadata": {},
   "outputs": [],
   "source": [
    "# # # Google Colab\n",
    "# !pip install keras_cv"
   ]
  },
  {
   "cell_type": "code",
   "execution_count": 16,
   "metadata": {},
   "outputs": [],
   "source": [
    "import pandas as pd\n",
    "import zipfile\n",
    "import pickle\n",
    "from sklearn.preprocessing import LabelEncoder\n",
    "from pathlib import Path\n",
    "from sklearn.model_selection import train_test_split\n",
    "from tensorflow import keras\n",
    "from keras import regularizers\n",
    "from classes import *\n",
    "from functions import *"
   ]
  },
  {
   "cell_type": "code",
   "execution_count": 17,
   "metadata": {},
   "outputs": [],
   "source": [
    "import tensorflow as tf\n",
    "from tensorflow.keras import models\n",
    "from tensorflow.keras import layers\n",
    "from tensorflow.keras.applications import ResNet50\n",
    "from tensorflow.keras.applications.resnet50 import preprocess_input\n",
    "from tensorflow.keras.models import Model\n",
    "from tensorflow.keras.layers import Dense, GlobalAveragePooling2D, Concatenate, Dropout, Input, Conv2D, MaxPooling2D, Flatten\n",
    "from tensorflow.keras.preprocessing.image import ImageDataGenerator \n",
    "from tensorflow.keras.optimizers import Adam\n",
    "from tensorflow.keras.callbacks import EarlyStopping, LearningRateScheduler, ReduceLROnPlateau\n",
    "from keras.metrics import AUC, F1Score, CategoricalAccuracy, TopKCategoricalAccuracy\n",
    "from sklearn.metrics import f1_score, precision_score, recall_score\n",
    "from keras import optimizers"
   ]
  },
  {
   "cell_type": "markdown",
   "metadata": {},
   "source": [
    "## 1.3 Import Dataset"
   ]
  },
  {
   "cell_type": "markdown",
   "metadata": {},
   "source": [
    "The amount of data we have is not supported by GitHub (where we have our project stored). The solution is: create a folder named data and allocate the rare_species file inside it. The gitignore file makes sure this folder is not used when we are pulling or pushing changes but everyone needs to have it on their machines locally. A random seed was used to ensure that the splits stay the same. "
   ]
  },
  {
   "cell_type": "code",
   "execution_count": 18,
   "metadata": {},
   "outputs": [],
   "source": [
    "# # Google Colab\n",
    "\n",
    "# # Define the path to the zip file and the extraction folder\n",
    "# zip_path = Path(\"../data/rare_species.zip\")\n",
    "\n",
    "# # Get the directory where the zip file is located\n",
    "# extract_path = Path(\"../data/rare_species\")\n",
    "\n",
    "# with zipfile.ZipFile(zip_path, 'r') as zip_ref:\n",
    "#     zip_ref.extractall(extract_path)"
   ]
  },
  {
   "cell_type": "code",
   "execution_count": 19,
   "metadata": {},
   "outputs": [
    {
     "data": {
      "text/html": [
       "<div>\n",
       "<style scoped>\n",
       "    .dataframe tbody tr th:only-of-type {\n",
       "        vertical-align: middle;\n",
       "    }\n",
       "\n",
       "    .dataframe tbody tr th {\n",
       "        vertical-align: top;\n",
       "    }\n",
       "\n",
       "    .dataframe thead th {\n",
       "        text-align: right;\n",
       "    }\n",
       "</style>\n",
       "<table border=\"1\" class=\"dataframe\">\n",
       "  <thead>\n",
       "    <tr style=\"text-align: right;\">\n",
       "      <th></th>\n",
       "      <th>rare_species_id</th>\n",
       "      <th>eol_content_id</th>\n",
       "      <th>eol_page_id</th>\n",
       "      <th>kingdom</th>\n",
       "      <th>phylum</th>\n",
       "      <th>family</th>\n",
       "      <th>file_path</th>\n",
       "    </tr>\n",
       "  </thead>\n",
       "  <tbody>\n",
       "    <tr>\n",
       "      <th>0</th>\n",
       "      <td>75fd91cb-2881-41cd-88e6-de451e8b60e2</td>\n",
       "      <td>12853737</td>\n",
       "      <td>449393</td>\n",
       "      <td>animalia</td>\n",
       "      <td>mollusca</td>\n",
       "      <td>unionidae</td>\n",
       "      <td>mollusca_unionidae/12853737_449393_eol-full-si...</td>\n",
       "    </tr>\n",
       "    <tr>\n",
       "      <th>1</th>\n",
       "      <td>28c508bc-63ff-4e60-9c8f-1934367e1528</td>\n",
       "      <td>20969394</td>\n",
       "      <td>793083</td>\n",
       "      <td>animalia</td>\n",
       "      <td>chordata</td>\n",
       "      <td>geoemydidae</td>\n",
       "      <td>chordata_geoemydidae/20969394_793083_eol-full-...</td>\n",
       "    </tr>\n",
       "    <tr>\n",
       "      <th>2</th>\n",
       "      <td>00372441-588c-4af8-9665-29bee20822c0</td>\n",
       "      <td>28895411</td>\n",
       "      <td>319982</td>\n",
       "      <td>animalia</td>\n",
       "      <td>chordata</td>\n",
       "      <td>cryptobranchidae</td>\n",
       "      <td>chordata_cryptobranchidae/28895411_319982_eol-...</td>\n",
       "    </tr>\n",
       "    <tr>\n",
       "      <th>3</th>\n",
       "      <td>29cc6040-6af2-49ee-86ec-ab7d89793828</td>\n",
       "      <td>29658536</td>\n",
       "      <td>45510188</td>\n",
       "      <td>animalia</td>\n",
       "      <td>chordata</td>\n",
       "      <td>turdidae</td>\n",
       "      <td>chordata_turdidae/29658536_45510188_eol-full-s...</td>\n",
       "    </tr>\n",
       "    <tr>\n",
       "      <th>4</th>\n",
       "      <td>94004bff-3a33-4758-8125-bf72e6e57eab</td>\n",
       "      <td>21252576</td>\n",
       "      <td>7250886</td>\n",
       "      <td>animalia</td>\n",
       "      <td>chordata</td>\n",
       "      <td>indriidae</td>\n",
       "      <td>chordata_indriidae/21252576_7250886_eol-full-s...</td>\n",
       "    </tr>\n",
       "  </tbody>\n",
       "</table>\n",
       "</div>"
      ],
      "text/plain": [
       "                        rare_species_id  eol_content_id  eol_page_id  \\\n",
       "0  75fd91cb-2881-41cd-88e6-de451e8b60e2        12853737       449393   \n",
       "1  28c508bc-63ff-4e60-9c8f-1934367e1528        20969394       793083   \n",
       "2  00372441-588c-4af8-9665-29bee20822c0        28895411       319982   \n",
       "3  29cc6040-6af2-49ee-86ec-ab7d89793828        29658536     45510188   \n",
       "4  94004bff-3a33-4758-8125-bf72e6e57eab        21252576      7250886   \n",
       "\n",
       "    kingdom    phylum            family  \\\n",
       "0  animalia  mollusca         unionidae   \n",
       "1  animalia  chordata       geoemydidae   \n",
       "2  animalia  chordata  cryptobranchidae   \n",
       "3  animalia  chordata          turdidae   \n",
       "4  animalia  chordata         indriidae   \n",
       "\n",
       "                                           file_path  \n",
       "0  mollusca_unionidae/12853737_449393_eol-full-si...  \n",
       "1  chordata_geoemydidae/20969394_793083_eol-full-...  \n",
       "2  chordata_cryptobranchidae/28895411_319982_eol-...  \n",
       "3  chordata_turdidae/29658536_45510188_eol-full-s...  \n",
       "4  chordata_indriidae/21252576_7250886_eol-full-s...  "
      ]
     },
     "execution_count": 19,
     "metadata": {},
     "output_type": "execute_result"
    }
   ],
   "source": [
    "# Import Metadata\n",
    "metadata_path = Path(\"../data/rare_species/metadata.csv\")\n",
    "df = pd.read_csv(metadata_path)\n",
    "df.head()"
   ]
  },
  {
   "cell_type": "code",
   "execution_count": 20,
   "metadata": {},
   "outputs": [
    {
     "data": {
      "text/plain": [
       "(11983, 7)"
      ]
     },
     "execution_count": 20,
     "metadata": {},
     "output_type": "execute_result"
    }
   ],
   "source": [
    "df.shape # 11983 images"
   ]
  },
  {
   "cell_type": "markdown",
   "metadata": {},
   "source": [
    "<div class=\"alert alert-block alert-success\">\n",
    "\n",
    "# **2.** Preprocessing\n",
    "\n",
    "<div>"
   ]
  },
  {
   "cell_type": "code",
   "execution_count": 21,
   "metadata": {},
   "outputs": [],
   "source": [
    "#Load the DataFrames from the .pkl files\n",
    "with open(\"../data/train_df.pkl\", \"rb\") as f:\n",
    "     train_df = pickle.load(f)\n",
    "\n",
    "with open(\"../data/valid_df.pkl\", \"rb\") as f:\n",
    "     val_df = pickle.load(f)\n",
    "\n",
    "with open(\"../data/test_df.pkl\", \"rb\") as f:\n",
    "     test_df = pickle.load(f)\n",
    "\n",
    "with open(\"family_encoder.pkl\", \"rb\") as f:\n",
    "     family_encoder = pickle.load(f)\n",
    "\n",
    "with open(\"phylum_encoder.pkl\", \"rb\") as f:\n",
    "     phylum_encoder = pickle.load(f)"
   ]
  },
  {
   "cell_type": "code",
   "execution_count": 22,
   "metadata": {},
   "outputs": [],
   "source": [
    "batch_size = 32 ## the less the better because in each epoch the model sees N / batch_size images\n",
    "image_size = (224, 224)\n",
    "\n",
    "preprocess = Preprocessor_with_phylum(image_size=image_size, batch_size=batch_size)"
   ]
  },
  {
   "cell_type": "code",
   "execution_count": 23,
   "metadata": {},
   "outputs": [],
   "source": [
    "# identify the minority class\n",
    "minority_class = train_df['family'].value_counts()[train_df['family'].value_counts() < 25].index\n",
    "minority_class=minority_class.to_list()\n",
    "\n",
    "# Load training data with oversampling and mixup augmentation\n",
    "train_ds, family_class_names, phylum_class_names = preprocess.load_img(train_df, minority_class=minority_class, family_encoder=family_encoder, phylum_encoder=phylum_encoder, shuffle=True, augment='mixup', oversampling=True)\n",
    "# train_ds_sampled, class_names = preprocess.load_img(data_dir=\"../data/rare_species/train_sampled\", minority_class=minority_class, augment=None, oversampling=True)\n",
    "\n",
    "# Load validation and test data without augmentation or oversampling\n",
    "val_ds, _, _ = preprocess.load_img(val_df, minority_class=minority_class, family_encoder=family_encoder, phylum_encoder=phylum_encoder, shuffle=False, augment=None, oversampling=False)\n",
    "test_ds, _, _ = preprocess.load_img(test_df, minority_class=minority_class, family_encoder=family_encoder, phylum_encoder=phylum_encoder, shuffle=False, augment=None, oversampling=False)"
   ]
  },
  {
   "cell_type": "code",
   "execution_count": 24,
   "metadata": {},
   "outputs": [],
   "source": [
    "# num_images = 16 ##\n",
    "# rows, cols = 4, 4 ##\n",
    "\n",
    "# plot_batch(train_ds, class_names=class_names, num_images=num_images, rows=rows, cols=cols)"
   ]
  },
  {
   "cell_type": "markdown",
   "metadata": {},
   "source": [
    "<div class=\"alert alert-block alert-success\">\n",
    "\n",
    "# **3.** Models\n",
    "\n",
    "<div>"
   ]
  },
  {
   "cell_type": "markdown",
   "metadata": {},
   "source": [
    "## ResNet50 + Phylum"
   ]
  },
  {
   "cell_type": "markdown",
   "metadata": {},
   "source": [
    "### Model"
   ]
  },
  {
   "cell_type": "code",
   "execution_count": 25,
   "metadata": {},
   "outputs": [],
   "source": [
    "        #     ┌────────────────────┐\n",
    "        #     │  image_input (224x224x3)\n",
    "        #     └─────────┬──────────┘\n",
    "        #               │\n",
    "        #      Pretrained ResNet50 (no top)\n",
    "        #               │\n",
    "        # GlobalAveragePooling2D (→ 2048)\n",
    "        #   - 2048 = number of filters in the final convolutional layer of ResNet50.\n",
    "        #   - GlobalAveragePooling2D averages over 7×7 spatial grid, giving a single 2048-element feature vector per image.\n",
    "\n",
    "        #               │\n",
    "        #               ▼\n",
    "        #        ┌───────────────┐\n",
    "        #        │ image features│\n",
    "        #        └──────┬────────┘\n",
    "        #               │\n",
    "        #     ┌─────────▼────────┐\n",
    "        #     │ phylum_input (5,)│\n",
    "        #     └─────────┬────────┘\n",
    "        #               │\n",
    "        #       Concatenate (→ 2048+5)\n",
    "        #               │\n",
    "        #       Dense(256, ReLU)\n",
    "        #               │\n",
    "        #          Dropout(0.3)\n",
    "        #               │\n",
    "        #    Dense(202, Softmax Output)\n",
    "        #               │\n",
    "        #               ▼\n",
    "        #    Final prediction (family)"
   ]
  },
  {
   "cell_type": "code",
   "execution_count": 26,
   "metadata": {},
   "outputs": [],
   "source": [
    "# Image input pipeline\n",
    "image_input = Input(shape=(224, 224, 3), name=\"image_input\")  # Input for RGB image\n",
    "base_model = ResNet50(include_top=False, weights=\"imagenet\", input_tensor=image_input)  # Pretrained ResNet without final dense layers\n",
    "x = base_model.output\n",
    "x = GlobalAveragePooling2D()(x)  # Convert 4D feature map to 2D vector (batch_size, 2048)\n",
    "\n",
    "# Phylum input (one-hot or multi-class vector with 5 classes)\n",
    "phylum_input = Input(shape=(5,), name=\"phylum_input\")  # Input for phylum-level info\n",
    "\n",
    "# Combine image and phylum features\n",
    "combined = Concatenate()([x, phylum_input])  # Concatenate the two inputs: (batch_size, 2048 + 5)\n",
    "combined = Dense(256, activation='relu')(combined)  # Fully connected layer\n",
    "combined = Dropout(0.5)(combined)  # Dropout for regularization\n",
    "output = Dense(202, activation='softmax')(combined)  # Final classification layer (202 family classes)\n",
    "\n",
    "# Define the model\n",
    "model = Model(inputs=[image_input, phylum_input], outputs=output)\n",
    "\n",
    "# Compile with metrics\n",
    "metrics = [\n",
    "    CategoricalAccuracy(name=\"accuracy\"),\n",
    "    AUC(name=\"auc\"),\n",
    "    F1Score(average=\"macro\", name=\"f1_macro\"),\n",
    "    F1Score(average=\"weighted\", name=\"f1_weighted\"),\n",
    "    TopKCategoricalAccuracy(k=5, name=\"top5_accuracy\")\n",
    "]\n",
    "\n",
    "model.compile(\n",
    "    optimizer=optimizers.RMSprop(learning_rate=1e-4),\n",
    "    loss=keras.losses.CategoricalCrossentropy(label_smoothing=0.01),\n",
    "    metrics=metrics\n",
    ")\n",
    "\n",
    "# Print the model summary\n",
    "# model.summary()"
   ]
  },
  {
   "cell_type": "code",
   "execution_count": null,
   "metadata": {},
   "outputs": [
    {
     "name": "stdout",
     "output_type": "stream",
     "text": [
      "Epoch 1/50\n"
     ]
    },
    {
     "name": "stderr",
     "output_type": "stream",
     "text": [
      "2025-04-21 20:50:00.755892: I tensorflow/core/grappler/optimizers/custom_graph_optimizer_registry.cc:117] Plugin optimizer for device_type GPU is enabled.\n",
      "2025-04-21 20:50:19.947414: I tensorflow/core/kernels/data/shuffle_dataset_op.cc:450] ShuffleDatasetV3:40: Filling up shuffle buffer (this may take a while): 1029 of 8388\n",
      "2025-04-21 20:50:39.947188: I tensorflow/core/kernels/data/shuffle_dataset_op.cc:450] ShuffleDatasetV3:40: Filling up shuffle buffer (this may take a while): 2885 of 8388\n",
      "2025-04-21 20:50:49.966078: I tensorflow/core/kernels/data/shuffle_dataset_op.cc:450] ShuffleDatasetV3:40: Filling up shuffle buffer (this may take a while): 3953 of 8388\n"
     ]
    }
   ],
   "source": [
    "# Initialize the experiment\n",
    "experiment = Experiment(\n",
    "    model=model,\n",
    "    train_ds=train_ds,\n",
    "    val_ds=val_ds,\n",
    "    experiment_name=\"resnet50_with_phylum\",\n",
    "    resume=False,\n",
    ")\n",
    "\n",
    "# Define the learning rate scheduler function\n",
    "initial_lr = 1e-4\n",
    "final_lr = 1e-5\n",
    "n_epochs = 70\n",
    "\n",
    "my_scheduler_fn = lr_scheduler(initial_lr, final_lr, n_epochs)\n",
    "lr_callback = LearningRateScheduler(my_scheduler_fn)\n",
    "\n",
    "# Default callbacks\n",
    "# ExperimentLogger,  # Log experiment results after each epoch\n",
    "# ModelCheckpoint(checkpoint_file, save_best_only=True)  # Save best model based on validation performance\n",
    "\n",
    "# Define additional callbacks\n",
    "callbacks_additional = [\n",
    "    lr_callback,\n",
    "    EarlyStopping(patience=3, restore_best_weights=True),\n",
    "    ReduceLROnPlateau(monitor='val_loss', factor=0.5, patience=3, min_lr=1e-6, verbose=1)\n",
    "]\n",
    "\n",
    "# Run the experiment\n",
    "# resume=False means start from scratch, resume=True means continue from last checkpoint)\n",
    "# callbacks=None use default callbacks (created in the Experiment class)\n",
    "history = experiment.run_experiment(callbacks=callbacks_additional, epochs=50)"
   ]
  },
  {
   "cell_type": "code",
   "execution_count": null,
   "metadata": {},
   "outputs": [
    {
     "data": {
      "image/png": "[encoded data removed]",
      "text/plain": [
       "<Figure size 640x480 with 1 Axes>"
      ]
     },
     "metadata": {},
     "output_type": "display_data"
    }
   ],
   "source": [
    "acc_train = history.history['accuracy']\n",
    "acc_val = history.history['val_accuracy']\n",
    "plot_model_acc(num_epochs=64, train_acc=acc_train, val_acc=acc_val)"
   ]
  },
  {
   "cell_type": "code",
   "execution_count": null,
   "metadata": {},
   "outputs": [
    {
     "data": {
      "image/png": "[encoded data removed]",
      "text/plain": [
       "<Figure size 640x480 with 1 Axes>"
      ]
     },
     "metadata": {},
     "output_type": "display_data"
    }
   ],
   "source": [
    "loss_train = history.history['loss']\n",
    "loss_val = history.history['val_loss']\n",
    "plot_model_loss(num_epochs=64, train_loss=loss_train, val_loss=loss_val)"
   ]
  },
  {
   "cell_type": "code",
   "execution_count": null,
   "metadata": {},
   "outputs": [
    {
     "data": {
      "image/png": "[encoded data removed]",
      "text/plain": [
       "<Figure size 640x480 with 1 Axes>"
      ]
     },
     "metadata": {},
     "output_type": "display_data"
    }
   ],
   "source": [
    "x_axis = range(1,64+1)\n",
    "plt.plot(x_axis, history.history['f1_score'], 'r', label='Training F1-Score')\n",
    "plt.plot(x_axis, history.history['val_f1_score'], 'g', label='Validation F1-Score')\n",
    "plt.title('Training and Validation F1-Score')\n",
    "plt.xlabel('Epochs')\n",
    "plt.ylabel('F1-Score')\n",
    "plt.legend()\n",
    "plt.show()"
   ]
  },
  {
   "cell_type": "code",
   "execution_count": null,
   "metadata": {},
   "outputs": [
    {
     "data": {
      "image/png": "[encoded data removed]",
      "text/plain": [
       "<Figure size 1000x600 with 1 Axes>"
      ]
     },
     "metadata": {},
     "output_type": "display_data"
    }
   ],
   "source": [
    "epochs = range(1, len(loss_train) + 1)\n",
    "plt.figure(figsize=(10, 6))\n",
    "plt.plot(epochs, loss_train, label='Train Loss')\n",
    "plt.plot(epochs, loss_val, label='Validation Loss')\n",
    "plt.axvline(x=40, color='r', linestyle='--', label='Overfitting')\n",
    "plt.xlabel('Epoch')\n",
    "plt.ylabel('Loss')\n",
    "plt.title('Overfitting Detection')\n",
    "plt.legend()\n",
    "plt.grid(True)\n",
    "plt.show()"
   ]
  },
  {
   "cell_type": "code",
   "execution_count": null,
   "metadata": {},
   "outputs": [],
   "source": [
    "epochs = range(1, len(loss_train) + 1)\n",
    "plt.figure(figsize=(10, 6))\n",
    "plt.plot(epochs, loss_train, label='Train Loss')\n",
    "plt.plot(epochs, loss_val, label='Validation Loss')\n",
    "plt.axvline(x=40, color='r', linestyle='--', label='Overfitting')\n",
    "plt.xlabel('Epoch')\n",
    "plt.ylabel('Loss')\n",
    "plt.title('Overfitting Detection')\n",
    "plt.legend()\n",
    "plt.grid(True)\n",
    "plt.show()"
   ]
  },
  {
   "cell_type": "markdown",
   "metadata": {},
   "source": [
    "### Fine-tune"
   ]
  },
  {
   "cell_type": "markdown",
   "metadata": {},
   "source": [
    "References: https://www.tensorflow.org/tutorials/keras/keras_tuner?hl=pt-br"
   ]
  },
  {
   "cell_type": "code",
   "execution_count": null,
   "metadata": {},
   "outputs": [],
   "source": [
    "model_ft = load_model(\"project/resnet50_with_preprocessing_pre_finetuning_with_label_smoothing_batch_sized_corrected_launching_trying_lr_scheduler_until_65.keras\", compile=False)"
   ]
  },
  {
   "cell_type": "code",
   "execution_count": null,
   "metadata": {},
   "outputs": [],
   "source": [
    "trainable = False\n",
    "for layer in model_ft.layers:\n",
    "    if \"conv5_block1_1_conv\" in layer.name:\n",
    "        trainable = True\n",
    "    layer.trainable = trainable\n",
    "\n",
    "model_ft.compile(\n",
    "    optimizer=optimizers.RMSprop(learning_rate=1e-5),\n",
    "    loss='categorical_crossentropy',\n",
    "    metrics=metrics\n",
    ")"
   ]
  },
  {
   "cell_type": "code",
   "execution_count": null,
   "metadata": {},
   "outputs": [
    {
     "name": "stdout",
     "output_type": "stream",
     "text": [
      "No checkpoint found, starting from scratch.\n",
      "Epoch 1/15\n",
      "\u001b[1m350/350\u001b[0m \u001b[32m━━━━━━━━━━━━━━━━━━━━\u001b[0m\u001b[37m\u001b[0m \u001b[1m0s\u001b[0m 425ms/step - accuracy: 0.5676 - auc: 0.7717 - f1_score: 0.4523 - loss: 2.3972"
     ]
    },
    {
     "name": "stderr",
     "output_type": "stream",
     "text": [
      "2025-04-15 21:50:12.540146: W tensorflow/core/framework/local_rendezvous.cc:404] Local rendezvous is aborting with status: OUT_OF_RANGE: End of sequence\n"
     ]
    },
    {
     "name": "stdout",
     "output_type": "stream",
     "text": [
      "\u001b[1m350/350\u001b[0m \u001b[32m━━━━━━━━━━━━━━━━━━━━\u001b[0m\u001b[37m\u001b[0m \u001b[1m140s\u001b[0m 389ms/step\n"
     ]
    },
    {
     "name": "stderr",
     "output_type": "stream",
     "text": [
      "2025-04-15 21:52:34.239698: W tensorflow/core/framework/local_rendezvous.cc:404] Local rendezvous is aborting with status: OUT_OF_RANGE: End of sequence\n"
     ]
    },
    {
     "name": "stdout",
     "output_type": "stream",
     "text": [
      "\u001b[1m75/75\u001b[0m \u001b[32m━━━━━━━━━━━━━━━━━━━━\u001b[0m\u001b[37m\u001b[0m \u001b[1m25s\u001b[0m 279ms/step\n",
      "\u001b[1m350/350\u001b[0m \u001b[32m━━━━━━━━━━━━━━━━━━━━\u001b[0m\u001b[37m\u001b[0m \u001b[1m352s\u001b[0m 987ms/step - accuracy: 0.5675 - auc: 0.7717 - f1_score: 0.4523 - loss: 2.3974 - val_accuracy: 0.5582 - val_auc: 0.9557 - val_f1_score: 0.4552 - val_loss: 2.0267 - learning_rate: 9.5499e-06\n",
      "Epoch 2/15\n",
      "\u001b[1m350/350\u001b[0m \u001b[32m━━━━━━━━━━━━━━━━━━━━\u001b[0m\u001b[37m\u001b[0m \u001b[1m0s\u001b[0m 520ms/step - accuracy: 0.6191 - auc: 0.7738 - f1_score: 0.5066 - loss: 2.1776"
     ]
    },
    {
     "name": "stderr",
     "output_type": "stream",
     "text": [
      "2025-04-15 21:56:38.307295: W tensorflow/core/framework/local_rendezvous.cc:404] Local rendezvous is aborting with status: OUT_OF_RANGE: End of sequence\n"
     ]
    },
    {
     "name": "stdout",
     "output_type": "stream",
     "text": [
      "\u001b[1m350/350\u001b[0m \u001b[32m━━━━━━━━━━━━━━━━━━━━\u001b[0m\u001b[37m\u001b[0m \u001b[1m118s\u001b[0m 337ms/step\n"
     ]
    },
    {
     "name": "stderr",
     "output_type": "stream",
     "text": [
      "2025-04-15 21:58:37.486777: W tensorflow/core/framework/local_rendezvous.cc:404] Local rendezvous is aborting with status: OUT_OF_RANGE: End of sequence\n"
     ]
    },
    {
     "name": "stdout",
     "output_type": "stream",
     "text": [
      "\u001b[1m75/75\u001b[0m \u001b[32m━━━━━━━━━━━━━━━━━━━━\u001b[0m\u001b[37m\u001b[0m \u001b[1m25s\u001b[0m 289ms/step\n",
      "\u001b[1m350/350\u001b[0m \u001b[32m━━━━━━━━━━━━━━━━━━━━\u001b[0m\u001b[37m\u001b[0m \u001b[1m363s\u001b[0m 1s/step - accuracy: 0.6191 - auc: 0.7738 - f1_score: 0.5067 - loss: 2.1777 - val_accuracy: 0.5698 - val_auc: 0.9564 - val_f1_score: 0.4686 - val_loss: 1.9861 - learning_rate: 9.1201e-06\n",
      "Epoch 3/15\n",
      "\u001b[1m350/350\u001b[0m \u001b[32m━━━━━━━━━━━━━━━━━━━━\u001b[0m\u001b[37m\u001b[0m \u001b[1m0s\u001b[0m 596ms/step - accuracy: 0.6494 - auc: 0.7774 - f1_score: 0.5321 - loss: 2.0448"
     ]
    },
    {
     "name": "stderr",
     "output_type": "stream",
     "text": [
      "2025-04-15 22:03:07.725312: W tensorflow/core/framework/local_rendezvous.cc:404] Local rendezvous is aborting with status: OUT_OF_RANGE: End of sequence\n"
     ]
    },
    {
     "name": "stdout",
     "output_type": "stream",
     "text": [
      "\u001b[1m 86/350\u001b[0m \u001b[32m━━━━\u001b[0m\u001b[37m━━━━━━━━━━━━━━━━\u001b[0m \u001b[1m1:46\u001b[0m 403ms/step"
     ]
    }
   ],
   "source": [
    "experiment = Experiment(\n",
    "    model=model_ft,\n",
    "    train_ds=train_ds,\n",
    "    val_ds=val_ds,\n",
    "    experiment_name=\"resnet50_with_preprocessing_finetuning_phase_v2\",\n",
    "    batch_size=32,\n",
    "    image_size=(224, 224)\n",
    ")\n",
    "\n",
    "# Callbacks to reduce overfitting\n",
    "callbacks_finetune = [\n",
    "    ReduceLROnPlateau(monitor='val_loss', factor=0.5, patience=3, min_lr=1e-6, verbose=1)\n",
    "]\n",
    "    \n",
    "# Run the experiment\n",
    "history_finetune = history = experiment.run_experiment(callbacks=callbacks_additional, epochs=15)"
   ]
  },
  {
   "cell_type": "markdown",
   "metadata": {},
   "source": [
    "It's already overfiting. Lets do hyperband tuner in this fine tuning phase."
   ]
  },
  {
   "cell_type": "markdown",
   "metadata": {},
   "source": [
    "### Fine tune with hyperband tuner"
   ]
  },
  {
   "cell_type": "code",
   "execution_count": null,
   "metadata": {},
   "outputs": [],
   "source": [
    "verbose = 1\n",
    "metrics = [\n",
    "    CategoricalAccuracy(name=\"accuracy\"),\n",
    "    AUC(name=\"auc\"),\n",
    "    F1Score(average=\"macro\", name=\"f1_score\")\n",
    "]"
   ]
  },
  {
   "cell_type": "code",
   "execution_count": null,
   "metadata": {},
   "outputs": [],
   "source": [
    "model_ft = load_model(\"fr_resnet50_with_preprocessing_pre_finetuning_with_label_smoothing_batch_sized_corrected_launching_trying_lr_scheduler_70.keras\", compile=False)"
   ]
  },
  {
   "cell_type": "code",
   "execution_count": null,
   "metadata": {},
   "outputs": [
    {
     "data": {
      "text/plain": [
       "179"
      ]
     },
     "metadata": {},
     "output_type": "display_data"
    }
   ],
   "source": [
    "len(model_ft.layers)"
   ]
  },
  {
   "cell_type": "code",
   "execution_count": null,
   "metadata": {},
   "outputs": [],
   "source": [
    "import keras_tuner as kt"
   ]
  },
  {
   "cell_type": "code",
   "execution_count": null,
   "metadata": {},
   "outputs": [],
   "source": [
    "def model_builder(hp):\n",
    "    number_layers_unfreeze = hp.Int('number_layers_unfreeze', min_value = 1, max_value=15, step=1)\n",
    "\n",
    "    trainable = False\n",
    "    for layer in model_ft.layers:\n",
    "        layer.trainable = trainable\n",
    "\n",
    "    if number_layers_unfreeze>0:\n",
    "        for layer in model_ft.layers[-number_layers_unfreeze:]:\n",
    "            layer.trainable = True\n",
    "\n",
    "    # Tune the learning rate for the optimizer\n",
    "    # Choose an optimal value from 0.01, 0.001, or 0.0001\n",
    "    hp_learning_rate = hp.Choice('learning_rate', values=[1e-5, 1e-6, 1e-7])\n",
    "\n",
    "    model_ft.compile(optimizer=keras.optimizers.RMSprop(learning_rate=hp_learning_rate),\n",
    "                    loss=keras.losses.CategoricalCrossentropy(from_logits=False),\n",
    "                    metrics=metrics)\n",
    "\n",
    "    return model_ft"
   ]
  },
  {
   "cell_type": "code",
   "execution_count": null,
   "metadata": {},
   "outputs": [],
   "source": [
    "tuner = kt.Hyperband(\n",
    "    hypermodel=model_builder,\n",
    "    objective=kt.Objective(\"val_loss\", direction=\"min\"),  # ou \"val_f1_score\", direction=\"max\"\n",
    "    max_epochs=45,\n",
    "    factor=3,\n",
    "    hyperband_iterations=1,\n",
    "    seed=42,\n",
    "    tune_new_entries=True,\n",
    "    allow_new_entries=True,\n",
    "    max_retries_per_trial=1,\n",
    "    max_consecutive_failed_trials=3,\n",
    "    directory='project/project',\n",
    "    project_name='fr19_hyperband_finetune_resnet50_with_preprocessing_pre_finetuning_with_label_smoothing_batch_sized_corrected_launching_trying_lr_scheduler_70'\n",
    ")"
   ]
  },
  {
   "cell_type": "code",
   "execution_count": null,
   "metadata": {},
   "outputs": [],
   "source": [
    "callbacks = [EarlyStopping(patience=3, restore_best_weights=True, monitor='val_loss'),\n",
    "            ReduceLROnPlateau(monitor='val_loss', factor=0.5, patience=2)]"
   ]
  },
  {
   "cell_type": "code",
   "execution_count": null,
   "metadata": {},
   "outputs": [
    {
     "name": "stdout",
     "output_type": "stream",
     "text": [
      "Trial 30 Complete [04h 51m 58s]\n",
      "val_loss: 1.7993829250335693\n",
      "\n",
      "Best val_loss So Far: 1.7790106534957886\n",
      "Total elapsed time: 17h 36m 53s\n",
      "\n",
      "Search: Running Trial #31\n",
      "\n",
      "Value             |Best Value So Far |Hyperparameter\n",
      "12                |4                 |number_layers_unfreeze\n",
      "1e-06             |1e-07             |learning_rate\n",
      "2                 |2                 |tuner/epochs\n",
      "0                 |0                 |tuner/initial_epoch\n",
      "3                 |3                 |tuner/bracket\n",
      "0                 |0                 |tuner/round\n",
      "\n"
     ]
    },
    {
     "ename": "KeyboardInterrupt",
     "evalue": "",
     "output_type": "error",
     "traceback": [
      "\u001b[31m---------------------------------------------------------------------------\u001b[39m\n",
      "\u001b[31mKeyboardInterrupt\u001b[39m                         Traceback (most recent call last)\n",
      "\u001b[36mCell\u001b[39m\u001b[36m \u001b[39m\u001b[32mIn[21]\u001b[39m\u001b[32m, line 1\u001b[39m\n",
      "\u001b[32m----> \u001b[39m\u001b[32m1\u001b[39m \u001b[43mtuner\u001b[49m\u001b[43m.\u001b[49m\u001b[43msearch\u001b[49m\u001b[43m(\u001b[49m\n",
      "\u001b[32m      2\u001b[39m \u001b[43m    \u001b[49m\u001b[43mx\u001b[49m\u001b[43m=\u001b[49m\u001b[43mtrain_ds\u001b[49m\u001b[43m,\u001b[49m\n",
      "\u001b[32m      3\u001b[39m \u001b[43m    \u001b[49m\u001b[43mvalidation_data\u001b[49m\u001b[43m=\u001b[49m\u001b[43mval_ds\u001b[49m\u001b[43m,\u001b[49m\n",
      "\u001b[32m      4\u001b[39m \u001b[43m    \u001b[49m\u001b[43mepochs\u001b[49m\u001b[43m=\u001b[49m\u001b[32;43m100\u001b[39;49m\u001b[43m,\u001b[49m\n",
      "\u001b[32m      5\u001b[39m \u001b[43m    \u001b[49m\u001b[43mcallbacks\u001b[49m\u001b[43m=\u001b[49m\u001b[43mcallbacks\u001b[49m\n",
      "\u001b[32m      6\u001b[39m \u001b[43m)\u001b[49m\n",
      "\n",
      "\u001b[36mFile \u001b[39m\u001b[32m~/venvs/deep_learning_venv/lib/python3.12/site-packages/keras_tuner/src/engine/base_tuner.py:234\u001b[39m, in \u001b[36mBaseTuner.search\u001b[39m\u001b[34m(self, *fit_args, **fit_kwargs)\u001b[39m\n",
      "\u001b[32m    231\u001b[39m         \u001b[38;5;28;01mcontinue\u001b[39;00m\n",
      "\u001b[32m    233\u001b[39m     \u001b[38;5;28mself\u001b[39m.on_trial_begin(trial)\n",
      "\u001b[32m--> \u001b[39m\u001b[32m234\u001b[39m     \u001b[38;5;28;43mself\u001b[39;49m\u001b[43m.\u001b[49m\u001b[43m_try_run_and_update_trial\u001b[49m\u001b[43m(\u001b[49m\u001b[43mtrial\u001b[49m\u001b[43m,\u001b[49m\u001b[43m \u001b[49m\u001b[43m*\u001b[49m\u001b[43mfit_args\u001b[49m\u001b[43m,\u001b[49m\u001b[43m \u001b[49m\u001b[43m*\u001b[49m\u001b[43m*\u001b[49m\u001b[43mfit_kwargs\u001b[49m\u001b[43m)\u001b[49m\n",
      "\u001b[32m    235\u001b[39m     \u001b[38;5;28mself\u001b[39m.on_trial_end(trial)\n",
      "\u001b[32m    236\u001b[39m \u001b[38;5;28mself\u001b[39m.on_search_end()\n",
      "\n",
      "\u001b[36mFile \u001b[39m\u001b[32m~/venvs/deep_learning_venv/lib/python3.12/site-packages/keras_tuner/src/engine/base_tuner.py:274\u001b[39m, in \u001b[36mBaseTuner._try_run_and_update_trial\u001b[39m\u001b[34m(self, trial, *fit_args, **fit_kwargs)\u001b[39m\n",
      "\u001b[32m    272\u001b[39m \u001b[38;5;28;01mdef\u001b[39;00m\u001b[38;5;250m \u001b[39m\u001b[34m_try_run_and_update_trial\u001b[39m(\u001b[38;5;28mself\u001b[39m, trial, *fit_args, **fit_kwargs):\n",
      "\u001b[32m    273\u001b[39m     \u001b[38;5;28;01mtry\u001b[39;00m:\n",
      "\u001b[32m--> \u001b[39m\u001b[32m274\u001b[39m         \u001b[38;5;28;43mself\u001b[39;49m\u001b[43m.\u001b[49m\u001b[43m_run_and_update_trial\u001b[49m\u001b[43m(\u001b[49m\u001b[43mtrial\u001b[49m\u001b[43m,\u001b[49m\u001b[43m \u001b[49m\u001b[43m*\u001b[49m\u001b[43mfit_args\u001b[49m\u001b[43m,\u001b[49m\u001b[43m \u001b[49m\u001b[43m*\u001b[49m\u001b[43m*\u001b[49m\u001b[43mfit_kwargs\u001b[49m\u001b[43m)\u001b[49m\n",
      "\u001b[32m    275\u001b[39m         trial.status = trial_module.TrialStatus.COMPLETED\n",
      "\u001b[32m    276\u001b[39m         \u001b[38;5;28;01mreturn\u001b[39;00m\n",
      "\n",
      "\u001b[36mFile \u001b[39m\u001b[32m~/venvs/deep_learning_venv/lib/python3.12/site-packages/keras_tuner/src/engine/base_tuner.py:239\u001b[39m, in \u001b[36mBaseTuner._run_and_update_trial\u001b[39m\u001b[34m(self, trial, *fit_args, **fit_kwargs)\u001b[39m\n",
      "\u001b[32m    238\u001b[39m \u001b[38;5;28;01mdef\u001b[39;00m\u001b[38;5;250m \u001b[39m\u001b[34m_run_and_update_trial\u001b[39m(\u001b[38;5;28mself\u001b[39m, trial, *fit_args, **fit_kwargs):\n",
      "\u001b[32m--> \u001b[39m\u001b[32m239\u001b[39m     results = \u001b[38;5;28;43mself\u001b[39;49m\u001b[43m.\u001b[49m\u001b[43mrun_trial\u001b[49m\u001b[43m(\u001b[49m\u001b[43mtrial\u001b[49m\u001b[43m,\u001b[49m\u001b[43m \u001b[49m\u001b[43m*\u001b[49m\u001b[43mfit_args\u001b[49m\u001b[43m,\u001b[49m\u001b[43m \u001b[49m\u001b[43m*\u001b[49m\u001b[43m*\u001b[49m\u001b[43mfit_kwargs\u001b[49m\u001b[43m)\u001b[49m\n",
      "\u001b[32m    240\u001b[39m     \u001b[38;5;28;01mif\u001b[39;00m \u001b[38;5;28mself\u001b[39m.oracle.get_trial(trial.trial_id).metrics.exists(\n",
      "\u001b[32m    241\u001b[39m         \u001b[38;5;28mself\u001b[39m.oracle.objective.name\n",
      "\u001b[32m    242\u001b[39m     ):\n",
      "\u001b[32m    243\u001b[39m         \u001b[38;5;66;03m# The oracle is updated by calling `self.oracle.update_trial()` in\u001b[39;00m\n",
      "\u001b[32m    244\u001b[39m         \u001b[38;5;66;03m# `Tuner.run_trial()`. For backward compatibility, we support this\u001b[39;00m\n",
      "\u001b[32m    245\u001b[39m         \u001b[38;5;66;03m# use case. No further action needed in this case.\u001b[39;00m\n",
      "\u001b[32m    246\u001b[39m         warnings.warn(\n",
      "\u001b[32m    247\u001b[39m             \u001b[33m\"\u001b[39m\u001b[33mThe use case of calling \u001b[39m\u001b[33m\"\u001b[39m\n",
      "\u001b[32m    248\u001b[39m             \u001b[33m\"\u001b[39m\u001b[33m`self.oracle.update_trial(trial_id, metrics)` \u001b[39m\u001b[33m\"\u001b[39m\n",
      "\u001b[32m   (...)\u001b[39m\u001b[32m    254\u001b[39m             stacklevel=\u001b[32m2\u001b[39m,\n",
      "\u001b[32m    255\u001b[39m         )\n",
      "\n",
      "\u001b[36mFile \u001b[39m\u001b[32m~/venvs/deep_learning_venv/lib/python3.12/site-packages/keras_tuner/src/tuners/hyperband.py:427\u001b[39m, in \u001b[36mHyperband.run_trial\u001b[39m\u001b[34m(self, trial, *fit_args, **fit_kwargs)\u001b[39m\n",
      "\u001b[32m    425\u001b[39m     fit_kwargs[\u001b[33m\"\u001b[39m\u001b[33mepochs\u001b[39m\u001b[33m\"\u001b[39m] = hp.values[\u001b[33m\"\u001b[39m\u001b[33mtuner/epochs\u001b[39m\u001b[33m\"\u001b[39m]\n",
      "\u001b[32m    426\u001b[39m     fit_kwargs[\u001b[33m\"\u001b[39m\u001b[33minitial_epoch\u001b[39m\u001b[33m\"\u001b[39m] = hp.values[\u001b[33m\"\u001b[39m\u001b[33mtuner/initial_epoch\u001b[39m\u001b[33m\"\u001b[39m]\n",
      "\u001b[32m--> \u001b[39m\u001b[32m427\u001b[39m \u001b[38;5;28;01mreturn\u001b[39;00m \u001b[38;5;28;43msuper\u001b[39;49m\u001b[43m(\u001b[49m\u001b[43m)\u001b[49m\u001b[43m.\u001b[49m\u001b[43mrun_trial\u001b[49m\u001b[43m(\u001b[49m\u001b[43mtrial\u001b[49m\u001b[43m,\u001b[49m\u001b[43m \u001b[49m\u001b[43m*\u001b[49m\u001b[43mfit_args\u001b[49m\u001b[43m,\u001b[49m\u001b[43m \u001b[49m\u001b[43m*\u001b[49m\u001b[43m*\u001b[49m\u001b[43mfit_kwargs\u001b[49m\u001b[43m)\u001b[49m\n",
      "\n",
      "\u001b[36mFile \u001b[39m\u001b[32m~/venvs/deep_learning_venv/lib/python3.12/site-packages/keras_tuner/src/engine/tuner.py:314\u001b[39m, in \u001b[36mTuner.run_trial\u001b[39m\u001b[34m(self, trial, *args, **kwargs)\u001b[39m\n",
      "\u001b[32m    312\u001b[39m     callbacks.append(model_checkpoint)\n",
      "\u001b[32m    313\u001b[39m     copied_kwargs[\u001b[33m\"\u001b[39m\u001b[33mcallbacks\u001b[39m\u001b[33m\"\u001b[39m] = callbacks\n",
      "\u001b[32m--> \u001b[39m\u001b[32m314\u001b[39m     obj_value = \u001b[38;5;28;43mself\u001b[39;49m\u001b[43m.\u001b[49m\u001b[43m_build_and_fit_model\u001b[49m\u001b[43m(\u001b[49m\u001b[43mtrial\u001b[49m\u001b[43m,\u001b[49m\u001b[43m \u001b[49m\u001b[43m*\u001b[49m\u001b[43margs\u001b[49m\u001b[43m,\u001b[49m\u001b[43m \u001b[49m\u001b[43m*\u001b[49m\u001b[43m*\u001b[49m\u001b[43mcopied_kwargs\u001b[49m\u001b[43m)\u001b[49m\n",
      "\u001b[32m    316\u001b[39m     histories.append(obj_value)\n",
      "\u001b[32m    317\u001b[39m \u001b[38;5;28;01mreturn\u001b[39;00m histories\n",
      "\n",
      "\u001b[36mFile \u001b[39m\u001b[32m~/venvs/deep_learning_venv/lib/python3.12/site-packages/keras_tuner/src/engine/tuner.py:232\u001b[39m, in \u001b[36mTuner._build_and_fit_model\u001b[39m\u001b[34m(self, trial, *args, **kwargs)\u001b[39m\n",
      "\u001b[32m    214\u001b[39m \u001b[38;5;250m\u001b[39m\u001b[33;03m\"\"\"For AutoKeras to override.\u001b[39;00m\n",
      "\u001b[32m    215\u001b[39m \n",
      "\u001b[32m    216\u001b[39m \u001b[33;03mDO NOT REMOVE this function. AutoKeras overrides the function to tune\u001b[39;00m\n",
      "\u001b[32m   (...)\u001b[39m\u001b[32m    229\u001b[39m \u001b[33;03m    The fit history.\u001b[39;00m\n",
      "\u001b[32m    230\u001b[39m \u001b[33;03m\"\"\"\u001b[39;00m\n",
      "\u001b[32m    231\u001b[39m hp = trial.hyperparameters\n",
      "\u001b[32m--> \u001b[39m\u001b[32m232\u001b[39m model = \u001b[38;5;28;43mself\u001b[39;49m\u001b[43m.\u001b[49m\u001b[43m_try_build\u001b[49m\u001b[43m(\u001b[49m\u001b[43mhp\u001b[49m\u001b[43m)\u001b[49m\n",
      "\u001b[32m    233\u001b[39m results = \u001b[38;5;28mself\u001b[39m.hypermodel.fit(hp, model, *args, **kwargs)\n",
      "\u001b[32m    235\u001b[39m \u001b[38;5;66;03m# Save the build config for model loading later.\u001b[39;00m\n",
      "\n",
      "\u001b[36mFile \u001b[39m\u001b[32m~/venvs/deep_learning_venv/lib/python3.12/site-packages/keras_tuner/src/engine/tuner.py:161\u001b[39m, in \u001b[36mTuner._try_build\u001b[39m\u001b[34m(self, hp)\u001b[39m\n",
      "\u001b[32m    159\u001b[39m \u001b[38;5;28;01mdef\u001b[39;00m\u001b[38;5;250m \u001b[39m\u001b[34m_try_build\u001b[39m(\u001b[38;5;28mself\u001b[39m, hp):\n",
      "\u001b[32m    160\u001b[39m     \u001b[38;5;66;03m# clean-up TF graph from previously stored (defunct) graph\u001b[39;00m\n",
      "\u001b[32m--> \u001b[39m\u001b[32m161\u001b[39m     \u001b[43mkeras\u001b[49m\u001b[43m.\u001b[49m\u001b[43mbackend\u001b[49m\u001b[43m.\u001b[49m\u001b[43mclear_session\u001b[49m\u001b[43m(\u001b[49m\u001b[43m)\u001b[49m\n",
      "\u001b[32m    162\u001b[39m     gc.collect()\n",
      "\u001b[32m    164\u001b[39m     model = \u001b[38;5;28mself\u001b[39m._build_hypermodel(hp)\n",
      "\n",
      "\u001b[36mFile \u001b[39m\u001b[32m~/venvs/deep_learning_venv/lib/python3.12/site-packages/keras/src/backend/common/global_state.py:88\u001b[39m, in \u001b[36mclear_session\u001b[39m\u001b[34m(free_memory)\u001b[39m\n",
      "\u001b[32m     83\u001b[39m     \u001b[38;5;28;01mif\u001b[39;00m tf.executing_eagerly():\n",
      "\u001b[32m     84\u001b[39m         \u001b[38;5;66;03m# Clear pending nodes in eager executors, kernel caches and\u001b[39;00m\n",
      "\u001b[32m     85\u001b[39m         \u001b[38;5;66;03m# step_containers.\u001b[39;00m\n",
      "\u001b[32m     86\u001b[39m         \u001b[38;5;28;01mfrom\u001b[39;00m\u001b[38;5;250m \u001b[39m\u001b[34;01mtensorflow\u001b[39;00m\u001b[34;01m.\u001b[39;00m\u001b[34;01mpython\u001b[39;00m\u001b[34;01m.\u001b[39;00m\u001b[34;01meager\u001b[39;00m\u001b[38;5;250m \u001b[39m\u001b[38;5;28;01mimport\u001b[39;00m context\n",
      "\u001b[32m---> \u001b[39m\u001b[32m88\u001b[39m         \u001b[43mcontext\u001b[49m\u001b[43m.\u001b[49m\u001b[43mcontext\u001b[49m\u001b[43m(\u001b[49m\u001b[43m)\u001b[49m\u001b[43m.\u001b[49m\u001b[43mclear_kernel_cache\u001b[49m\u001b[43m(\u001b[49m\u001b[43m)\u001b[49m\n",
      "\u001b[32m     89\u001b[39m \u001b[38;5;28;01melif\u001b[39;00m backend.backend() == \u001b[33m\"\u001b[39m\u001b[33mtorch\u001b[39m\u001b[33m\"\u001b[39m:\n",
      "\u001b[32m     90\u001b[39m     \u001b[38;5;28;01mimport\u001b[39;00m\u001b[38;5;250m \u001b[39m\u001b[34;01mtorch\u001b[39;00m\u001b[34;01m.\u001b[39;00m\u001b[34;01m_dynamo\u001b[39;00m\u001b[38;5;250m \u001b[39m\u001b[38;5;28;01mas\u001b[39;00m\u001b[38;5;250m \u001b[39m\u001b[34;01mdynamo\u001b[39;00m\n",
      "\n",
      "\u001b[36mFile \u001b[39m\u001b[32m~/venvs/deep_learning_venv/lib/python3.12/site-packages/tensorflow/python/eager/context.py:873\u001b[39m, in \u001b[36mContext.clear_kernel_cache\u001b[39m\u001b[34m(self)\u001b[39m\n",
      "\u001b[32m    871\u001b[39m \u001b[38;5;250m\u001b[39m\u001b[33;03m\"\"\"Clear kernel cache and reset all stateful kernels.\"\"\"\u001b[39;00m\n",
      "\u001b[32m    872\u001b[39m \u001b[38;5;28;01mif\u001b[39;00m \u001b[38;5;28mself\u001b[39m._context_handle \u001b[38;5;129;01mis\u001b[39;00m \u001b[38;5;129;01mnot\u001b[39;00m \u001b[38;5;28;01mNone\u001b[39;00m:\n",
      "\u001b[32m--> \u001b[39m\u001b[32m873\u001b[39m   \u001b[43mpywrap_tfe\u001b[49m\u001b[43m.\u001b[49m\u001b[43mTFE_ContextClearCaches\u001b[49m\u001b[43m(\u001b[49m\u001b[38;5;28;43mself\u001b[39;49m\u001b[43m.\u001b[49m\u001b[43m_context_handle\u001b[49m\u001b[43m)\u001b[49m\n",
      "\n",
      "\u001b[31mKeyboardInterrupt\u001b[39m: "
     ]
    }
   ],
   "source": [
    "tuner.search(\n",
    "    x=train_ds,\n",
    "    validation_data=val_ds,\n",
    "    epochs=100,\n",
    "    callbacks=callbacks\n",
    ")"
   ]
  },
  {
   "cell_type": "markdown",
   "metadata": {},
   "source": [
    "**RUN 1**: The first run of the hyperband tuner showed that a small number of layers to unfreeze + small learning rates are better, so the maximum number of layers to unfreeze will be 15 and we will try a smaller value of learning rate"
   ]
  }
 ],
 "metadata": {
  "kernelspec": {
   "display_name": "venv",
   "language": "python",
   "name": "python3"
  },
  "language_info": {
   "codemirror_mode": {
    "name": "ipython",
    "version": 3
   },
   "file_extension": ".py",
   "mimetype": "text/x-python",
   "name": "python",
   "nbconvert_exporter": "python",
   "pygments_lexer": "ipython3",
   "version": "3.12.4"
  }
 },
 "nbformat": 4,
 "nbformat_minor": 2
}
