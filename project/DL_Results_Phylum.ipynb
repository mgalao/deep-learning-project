{
  "cells": [
    {
      "cell_type": "markdown",
      "id": "02e283f2",
      "metadata": {
        "id": "02e283f2"
      },
      "source": [
        "<div class=\"alert alert-block alert-success\">\n",
        "\n",
        "# **1.** Environment Setup\n",
        "\n",
        "<div>"
      ]
    },
    {
      "cell_type": "markdown",
      "id": "3d815d3b",
      "metadata": {
        "id": "3d815d3b"
      },
      "source": [
        "## 1.1 Import Libraries"
      ]
    },
    {
      "cell_type": "code",
      "execution_count": 1,
      "id": "2f08c574",
      "metadata": {},
      "outputs": [],
      "source": [
        "base_path = \"../\""
      ]
    },
    {
      "cell_type": "code",
      "execution_count": 2,
      "id": "89ef556b",
      "metadata": {
        "id": "89ef556b"
      },
      "outputs": [
        {
          "name": "stderr",
          "output_type": "stream",
          "text": [
            "/Users/brunasimoes/Desktop/nova_ims/2_semester/Trimestral/deep_learning/deep-learning-project/.venv/lib/python3.11/site-packages/tqdm/auto.py:21: TqdmWarning: IProgress not found. Please update jupyter and ipywidgets. See https://ipywidgets.readthedocs.io/en/stable/user_install.html\n",
            "  from .autonotebook import tqdm as notebook_tqdm\n"
          ]
        }
      ],
      "source": [
        "import pandas as pd\n",
        "import zipfile\n",
        "import pickle\n",
        "from sklearn.preprocessing import LabelEncoder\n",
        "from pathlib import Path\n",
        "from sklearn.model_selection import train_test_split\n",
        "from tensorflow import keras\n",
        "from keras import regularizers\n",
        "from classes import *\n",
        "from functions import *"
      ]
    },
    {
      "cell_type": "code",
      "execution_count": 3,
      "id": "55268a9a",
      "metadata": {
        "id": "55268a9a"
      },
      "outputs": [],
      "source": [
        "import tensorflow as tf\n",
        "from tensorflow.keras import models\n",
        "from tensorflow.keras import layers\n",
        "from tensorflow.keras.applications.efficientnet import EfficientNetB0, preprocess_input\n",
        "from tensorflow.keras.applications import ResNet50\n",
        "from tensorflow.keras.models import Model\n",
        "from tensorflow.keras.layers import Dense, GlobalAveragePooling2D, Concatenate, Dropout, Input, Conv2D, MaxPooling2D, Flatten\n",
        "from tensorflow.keras.preprocessing.image import ImageDataGenerator\n",
        "from tensorflow.keras.optimizers import Adam\n",
        "from tensorflow.keras.callbacks import EarlyStopping, LearningRateScheduler, ReduceLROnPlateau\n",
        "from keras.metrics import AUC, F1Score, CategoricalAccuracy, TopKCategoricalAccuracy\n",
        "from sklearn.metrics import f1_score, precision_score, recall_score\n",
        "from keras import optimizers"
      ]
    },
    {
      "cell_type": "code",
      "execution_count": 4,
      "id": "0hMHy4gsBGa-",
      "metadata": {
        "id": "0hMHy4gsBGa-"
      },
      "outputs": [],
      "source": [
        "#Load the DataFrames from the .pkl files\n",
        "with open(os.path.join(base_path,\"data/train_df.pkl\"), \"rb\") as f:\n",
        "     train_df = pickle.load(f)\n",
        "\n",
        "with open(os.path.join(base_path,\"data/val_df.pkl\"), \"rb\") as f:\n",
        "     val_df = pickle.load(f)\n",
        "\n",
        "with open(os.path.join(base_path,\"data/test_df.pkl\"), \"rb\") as f:\n",
        "     test_df = pickle.load(f)\n",
        "\n",
        "with open(os.path.join(base_path,\"data/train_df_sampled.pkl\"), \"rb\") as f:\n",
        "     train_df_sampled = pickle.load(f)\n",
        "\n",
        "with open(os.path.join(base_path,\"data/family_encoder.pkl\"), \"rb\") as f:\n",
        "     family_encoder = pickle.load(f)"
      ]
    },
    {
      "cell_type": "code",
      "execution_count": 5,
      "id": "TyiaZbJsBvxM",
      "metadata": {
        "colab": {
          "base_uri": "https://localhost:8080/"
        },
        "id": "TyiaZbJsBvxM",
        "outputId": "4bb0f9bb-c342-439d-be25-d6ec518a219d"
      },
      "outputs": [
        {
          "data": {
            "text/plain": [
              "array(['accipitridae', 'acipenseridae', 'acroporidae', 'agamidae',\n",
              "       'agariciidae', 'albulidae', 'alcedinidae', 'alligatoridae',\n",
              "       'alopiidae', 'ambystomatidae', 'anatidae', 'anguidae', 'aotidae',\n",
              "       'apidae', 'ardeidae', 'arthroleptidae', 'atelidae', 'attelabidae',\n",
              "       'balaenicipitidae', 'balaenidae', 'balaenopteridae', 'balistidae',\n",
              "       'bombycillidae', 'bovidae', 'brachypteraciidae', 'bucerotidae',\n",
              "       'bufonidae', 'burhinidae', 'cacatuidae', 'callitrichidae',\n",
              "       'callorhinchidae', 'caprimulgidae', 'carabidae', 'carcharhinidae',\n",
              "       'cardiidae', 'carettochelyidae', 'cebidae', 'cerambycidae',\n",
              "       'cercopithecidae', 'cervidae', 'cetorhinidae', 'chaetodontidae',\n",
              "       'chamaeleonidae', 'charadriidae', 'cheirogaleidae', 'chelidae',\n",
              "       'cheloniidae', 'chelydridae', 'ciconiidae', 'coenagrionidae',\n",
              "       'colubridae', 'columbidae', 'conidae', 'cracidae', 'cricetidae',\n",
              "       'crocodylidae', 'cryptobranchidae', 'ctenomyidae', 'cuculidae',\n",
              "       'cyprinodontidae', 'dactyloidae', 'dalatiidae', 'dasyatidae',\n",
              "       'dasypodidae', 'dasyuridae', 'daubentoniidae', 'delphinidae',\n",
              "       'dendrobatidae', 'dendrophylliidae', 'diomedeidae',\n",
              "       'diploastraeidae', 'diplodactylidae', 'elapidae', 'emydidae',\n",
              "       'equidae', 'estrildidae', 'euphylliidae', 'falconidae', 'faviidae',\n",
              "       'formicidae', 'fringillidae', 'fungiidae', 'gavialidae',\n",
              "       'gekkonidae', 'geoemydidae', 'giraffidae', 'glareolidae',\n",
              "       'gliridae', 'gomphidae', 'goodeidae', 'gymnuridae', 'haliotidae',\n",
              "       'helioporidae', 'hemiscylliidae', 'hexanchidae', 'hominidae',\n",
              "       'hyaenidae', 'hylobatidae', 'hynobiidae', 'iguanidae', 'indriidae',\n",
              "       'labridae', 'lacertidae', 'lamnidae', 'laridae', 'latimeriidae',\n",
              "       'lemuridae', 'leporidae', 'lobophylliidae', 'lucanidae',\n",
              "       'lutjanidae', 'manidae', 'mantellidae', 'meandrinidae',\n",
              "       'megapodiidae', 'merlucciidae', 'merulinidae', 'mesitornithidae',\n",
              "       'mimidae', 'motacillidae', 'muscicapidae', 'mustelidae',\n",
              "       'myliobatidae', 'nesospingidae', 'nymphalidae', 'odontophoridae',\n",
              "       'otariidae', 'otididae', 'palinuridae', 'pangasiidae',\n",
              "       'papilionidae', 'paradisaeidae', 'pardalotidae', 'parulidae',\n",
              "       'percidae', 'phasianidae', 'phrynosomatidae', 'phyllomedusidae',\n",
              "       'phyllostomidae', 'pisauridae', 'pittidae', 'platystictidae',\n",
              "       'plethodontidae', 'pleuronectidae', 'pocilloporidae',\n",
              "       'podocnemididae', 'polyprionidae', 'pontoporiidae', 'potoroidae',\n",
              "       'pristidae', 'procellariidae', 'pseudophasmatidae', 'psittacidae',\n",
              "       'psittaculidae', 'pythonidae', 'rajidae', 'rallidae',\n",
              "       'ramphastidae', 'ranidae', 'recurvirostridae', 'rhacophoridae',\n",
              "       'rhinodermatidae', 'rhyacotritonidae', 'salamandridae',\n",
              "       'salmonidae', 'scincidae', 'sciuridae', 'scolopacidae',\n",
              "       'scombridae', 'serranidae', 'siderastreidae', 'siluridae',\n",
              "       'somniosidae', 'soricidae', 'sparidae', 'spheniscidae',\n",
              "       'sphyrnidae', 'squalidae', 'squatinidae', 'stichopodidae',\n",
              "       'strigidae', 'strigopidae', 'syngnathidae', 'testudinidae',\n",
              "       'tettigoniidae', 'theraphosidae', 'thraupidae', 'trionychidae',\n",
              "       'triopsidae', 'trochilidae', 'trogonidae', 'tropiduridae',\n",
              "       'turdidae', 'unionidae', 'urolophidae', 'ursidae', 'vangidae',\n",
              "       'vespertilionidae', 'viperidae', 'vireonidae', 'vombatidae',\n",
              "       'zonitidae'], dtype=object)"
            ]
          },
          "execution_count": 5,
          "metadata": {},
          "output_type": "execute_result"
        }
      ],
      "source": [
        "class_names = family_encoder.classes_\n",
        "\n",
        "class_names"
      ]
    },
    {
      "cell_type": "markdown",
      "id": "803176e3",
      "metadata": {
        "id": "803176e3"
      },
      "source": [
        "<div class=\"alert alert-block alert-success\">\n",
        "\n",
        "# **2.** Preprocessing\n",
        "\n",
        "<div>"
      ]
    },
    {
      "cell_type": "code",
      "execution_count": 6,
      "id": "a7ca1ca0",
      "metadata": {
        "id": "a7ca1ca0"
      },
      "outputs": [],
      "source": [
        "minority_class = train_df['family'].value_counts()[train_df['family'].value_counts() < 25].index\n",
        "minority_class=minority_class.to_list()"
      ]
    },
    {
      "cell_type": "code",
      "execution_count": 7,
      "id": "9020e1ec",
      "metadata": {
        "id": "9020e1ec"
      },
      "outputs": [
        {
          "name": "stderr",
          "output_type": "stream",
          "text": [
            "2025-04-29 20:50:11.704456: I metal_plugin/src/device/metal_device.cc:1154] Metal device set to: Apple M3\n",
            "2025-04-29 20:50:11.704485: I metal_plugin/src/device/metal_device.cc:296] systemMemory: 16.00 GB\n",
            "2025-04-29 20:50:11.704491: I metal_plugin/src/device/metal_device.cc:313] maxCacheSize: 5.33 GB\n",
            "2025-04-29 20:50:11.704645: I tensorflow/core/common_runtime/pluggable_device/pluggable_device_factory.cc:305] Could not identify NUMA node of platform GPU ID 0, defaulting to 0. Your kernel may not have been built with NUMA support.\n",
            "2025-04-29 20:50:11.704660: I tensorflow/core/common_runtime/pluggable_device/pluggable_device_factory.cc:271] Created TensorFlow device (/job:localhost/replica:0/task:0/device:GPU:0 with 0 MB memory) -> physical PluggableDevice (device: 0, name: METAL, pci bus id: <undefined>)\n"
          ]
        }
      ],
      "source": [
        "batch_size = 32 ## the less the better because in each epoch the model sees N / batch_size images\n",
        "image_size = (224, 224)\n",
        "\n",
        "preprocess = Preprocessor(image_size=image_size, batch_size=batch_size)"
      ]
    },
    {
      "cell_type": "markdown",
      "id": "58bae18c",
      "metadata": {
        "id": "58bae18c"
      },
      "source": [
        "<div class=\"alert alert-block alert-success\">\n",
        "\n",
        "# **3.** Results Analysis\n",
        "\n",
        "<div>"
      ]
    },
    {
      "cell_type": "code",
      "execution_count": 8,
      "id": "c51bd5d0",
      "metadata": {
        "colab": {
          "base_uri": "https://localhost:8080/"
        },
        "id": "c51bd5d0",
        "outputId": "066ebd59-ee71-40ad-cda6-4392bbce2490"
      },
      "outputs": [
        {
          "name": "stderr",
          "output_type": "stream",
          "text": [
            "/Users/brunasimoes/Desktop/nova_ims/2_semester/Trimestral/deep_learning/deep-learning-project/.venv/lib/python3.11/site-packages/keras/src/saving/saving_lib.py:757: UserWarning: Skipping variable loading for optimizer 'rmsprop', because it has 34 variables whereas the saved optimizer has 6 variables. \n",
            "  saveable.load_own_variables(weights_store.get(inner_path))\n"
          ]
        }
      ],
      "source": [
        "# Load model keras\\\n",
        "model = load_model(os.path.join(base_path,\"project/efficient_net_finetuned_final.keras\"))"
      ]
    },
    {
      "cell_type": "code",
      "execution_count": 9,
      "id": "b9376929",
      "metadata": {
        "colab": {
          "base_uri": "https://localhost:8080/"
        },
        "id": "b9376929",
        "outputId": "07bdce52-d4f1-46b9-b40f-7b8d35cadd54"
      },
      "outputs": [
        {
          "name": "stdout",
          "output_type": "stream",
          "text": [
            "Found 8388 files belonging to 202 classes.\n",
            "Found 1797 files belonging to 202 classes.\n"
          ]
        }
      ],
      "source": [
        "# load datasets with efficientnets preprocessing\n",
        "train_ds, _ = preprocess.load_img(\n",
        "    data_dir=os.path.join(base_path,\"data/rare_species/train\"),\n",
        "    minority_class=minority_class,\n",
        "    augment=\"mixup\",\n",
        "    oversampling=False,\n",
        "    shuffle= True,\n",
        "    preprocessing_function=preprocess_input)\n",
        "\n",
        "val_ds, _ = preprocess.load_img(\n",
        "    data_dir=os.path.join(base_path,\"data/rare_species/val\"),\n",
        "    minority_class=[],\n",
        "    augment=None,\n",
        "    shuffle= False,\n",
        "    preprocessing_function=preprocess_input)"
      ]
    },
    {
      "cell_type": "code",
      "execution_count": 10,
      "id": "9d22e293",
      "metadata": {
        "colab": {
          "base_uri": "https://localhost:8080/"
        },
        "id": "9d22e293",
        "outputId": "becb6f93-7895-4ce4-efe7-63166aa7a730"
      },
      "outputs": [
        {
          "name": "stderr",
          "output_type": "stream",
          "text": [
            "2025-04-29 20:50:14.643935: I tensorflow/core/grappler/optimizers/custom_graph_optimizer_registry.cc:117] Plugin optimizer for device_type GPU is enabled.\n"
          ]
        },
        {
          "name": "stdout",
          "output_type": "stream",
          "text": [
            "\u001b[1m57/57\u001b[0m \u001b[32m━━━━━━━━━━━━━━━━━━━━\u001b[0m\u001b[37m\u001b[0m \u001b[1m16s\u001b[0m 236ms/step\n"
          ]
        }
      ],
      "source": [
        "y_pred = model.predict(val_ds)"
      ]
    },
    {
      "cell_type": "markdown",
      "id": "eaecb56d",
      "metadata": {
        "id": "eaecb56d"
      },
      "source": [
        "### Classification report"
      ]
    },
    {
      "cell_type": "code",
      "execution_count": 22,
      "id": "1a7452f6",
      "metadata": {
        "id": "1a7452f6"
      },
      "outputs": [
        {
          "name": "stdout",
          "output_type": "stream",
          "text": [
            "\n",
            "Evaluating model: ../project/efficient_net_finetuned_final.keras\n"
          ]
        },
        {
          "name": "stderr",
          "output_type": "stream",
          "text": [
            "/Users/brunasimoes/Desktop/nova_ims/2_semester/Trimestral/deep_learning/deep-learning-project/.venv/lib/python3.11/site-packages/keras/src/saving/saving_lib.py:757: UserWarning: Skipping variable loading for optimizer 'rmsprop', because it has 34 variables whereas the saved optimizer has 6 variables. \n",
            "  saveable.load_own_variables(weights_store.get(inner_path))\n"
          ]
        },
        {
          "name": "stdout",
          "output_type": "stream",
          "text": [
            "              precision    recall  f1-score   support\n",
            "\n",
            "           0     0.7391    0.9444    0.8293        18\n",
            "           1     0.6429    0.6923    0.6667        13\n",
            "           2     0.6579    0.8065    0.7246        31\n",
            "           3     0.7143    0.5556    0.6250         9\n",
            "           4     0.6364    0.7778    0.7000        18\n",
            "           5     0.6000    0.6000    0.6000         5\n",
            "           6     0.0000    0.0000    0.0000         4\n",
            "           7     0.6667    0.4000    0.5000         5\n",
            "           8     1.0000    0.1111    0.2000         9\n",
            "           9     1.0000    0.3333    0.5000         9\n",
            "          10     0.6364    0.7778    0.7000        27\n",
            "          11     0.7500    0.6667    0.7059         9\n",
            "          12     1.0000    0.5556    0.7143         9\n",
            "          13     1.0000    1.0000    1.0000        22\n",
            "          14     0.7143    0.5556    0.6250         9\n",
            "          15     1.0000    0.5000    0.6667         4\n",
            "          16     0.5909    0.5909    0.5909        22\n",
            "          17     1.0000    0.8000    0.8889         5\n",
            "          18     1.0000    0.5000    0.6667         4\n",
            "          19     0.0000    0.0000    0.0000         5\n",
            "          20     1.0000    0.5000    0.6667         4\n",
            "          21     0.8889    0.8889    0.8889         9\n",
            "          22     1.0000    0.6000    0.7500         5\n",
            "          23     0.6000    0.8333    0.6977        36\n",
            "          24     0.6667    0.4000    0.5000         5\n",
            "          25     0.6512    0.9032    0.7568        31\n",
            "          26     0.7143    0.6818    0.6977        22\n",
            "          27     1.0000    0.6667    0.8000         9\n",
            "          28     0.8000    0.8000    0.8000         5\n",
            "          29     0.7059    0.6667    0.6857        18\n",
            "          30     1.0000    0.4000    0.5714         5\n",
            "          31     1.0000    0.2000    0.3333         5\n",
            "          32     1.0000    0.8889    0.9412         9\n",
            "          33     0.5538    0.9000    0.6857        40\n",
            "          34     0.7000    0.7778    0.7368         9\n",
            "          35     0.6000    0.7500    0.6667         4\n",
            "          36     0.7500    0.6923    0.7200        13\n",
            "          37     1.0000    1.0000    1.0000         4\n",
            "          38     0.6538    0.7556    0.7010        45\n",
            "          39     1.0000    0.2000    0.3333         5\n",
            "          40     0.3333    0.2000    0.2500         5\n",
            "          41     0.8889    0.8889    0.8889         9\n",
            "          42     0.6667    1.0000    0.8000         8\n",
            "          43     0.9000    1.0000    0.9474         9\n",
            "          44     1.0000    0.7500    0.8571         4\n",
            "          45     0.7500    0.7500    0.7500         8\n",
            "          46     0.2000    0.2000    0.2000         5\n",
            "          47     0.4000    0.4000    0.4000         5\n",
            "          48     0.7692    0.7692    0.7692        13\n",
            "          49     0.6667    0.8000    0.7273         5\n",
            "          50     0.6923    0.6923    0.6923        13\n",
            "          51     1.0000    1.0000    1.0000         5\n",
            "          52     1.0000    1.0000    1.0000         5\n",
            "          53     0.7143    0.5556    0.6250         9\n",
            "          54     1.0000    1.0000    1.0000         4\n",
            "          55     0.6364    0.7778    0.7000         9\n",
            "          56     0.3333    0.4444    0.3810         9\n",
            "          57     0.6250    1.0000    0.7692         5\n",
            "          58     0.8000    1.0000    0.8889         4\n",
            "          59     1.0000    0.6000    0.7500         5\n",
            "          60     0.7000    0.7778    0.7368        45\n",
            "          61     0.5000    0.4000    0.4444         5\n",
            "          62     0.5625    0.8182    0.6667        22\n",
            "          63     0.6667    0.5000    0.5714         4\n",
            "          64     1.0000    0.4000    0.5714         5\n",
            "          65     0.5000    0.2000    0.2857         5\n",
            "          66     0.5000    0.7222    0.5909        18\n",
            "          67     1.0000    0.8000    0.8889         5\n",
            "          68     1.0000    0.4000    0.5714         5\n",
            "          69     0.7500    0.7778    0.7636        27\n",
            "          70     0.8000    1.0000    0.8889         4\n",
            "          71     0.5455    0.6667    0.6000         9\n",
            "          72     0.6667    1.0000    0.8000         4\n",
            "          73     0.8000    0.4444    0.5714         9\n",
            "          74     1.0000    0.5000    0.6667         4\n",
            "          75     1.0000    1.0000    1.0000         5\n",
            "          76     0.5714    0.6154    0.5926        13\n",
            "          77     0.5000    0.3333    0.4000         9\n",
            "          78     0.7000    0.7778    0.7368         9\n",
            "          79     0.8571    0.9767    0.9130        43\n",
            "          80     0.7778    0.7778    0.7778         9\n",
            "          81     1.0000    0.8000    0.8889         5\n",
            "          82     1.0000    0.4000    0.5714         5\n",
            "          83     0.8000    1.0000    0.8889         4\n",
            "          84     0.5294    0.6923    0.6000        13\n",
            "          85     1.0000    1.0000    1.0000         4\n",
            "          86     0.5000    0.6000    0.5455         5\n",
            "          87     0.5000    0.4000    0.4444         5\n",
            "          88     1.0000    0.8889    0.9412         9\n",
            "          89     0.6667    1.0000    0.8000         4\n",
            "          90     0.3333    0.2500    0.2857         4\n",
            "          91     0.7500    0.6000    0.6667         5\n",
            "          92     0.3333    0.2500    0.2857         4\n",
            "          93     0.5000    0.2500    0.3333         4\n",
            "          94     0.6667    0.2222    0.3333         9\n",
            "          95     1.0000    1.0000    1.0000         5\n",
            "          96     1.0000    0.7500    0.8571         4\n",
            "          97     0.6667    0.4615    0.5455        13\n",
            "          98     0.0000    0.0000    0.0000         5\n",
            "          99     0.8750    0.7778    0.8235        18\n",
            "         100     1.0000    0.8000    0.8889         5\n",
            "         101     0.6000    0.6667    0.6316         9\n",
            "         102     0.7000    0.7778    0.7368         9\n",
            "         103     0.8000    1.0000    0.8889         4\n",
            "         104     0.8077    0.9545    0.8750        22\n",
            "         105     0.6667    0.5000    0.5714         4\n",
            "         106     0.7778    0.7778    0.7778         9\n",
            "         107     0.8333    0.5556    0.6667         9\n",
            "         108     0.8000    0.8000    0.8000         5\n",
            "         109     1.0000    0.8000    0.8889         5\n",
            "         110     1.0000    0.2000    0.3333         5\n",
            "         111     1.0000    0.5556    0.7143         9\n",
            "         112     1.0000    0.8000    0.8889         5\n",
            "         113     1.0000    0.4000    0.5714         5\n",
            "         114     1.0000    1.0000    1.0000         4\n",
            "         115     0.6667    0.8000    0.7273         5\n",
            "         116     0.3333    0.3333    0.3333         9\n",
            "         117     0.8000    1.0000    0.8889         4\n",
            "         118     0.7500    0.7500    0.7500         4\n",
            "         119     1.0000    0.6000    0.7500         5\n",
            "         120     0.8000    0.8000    0.8000         5\n",
            "         121     0.7273    0.6154    0.6667        13\n",
            "         122     0.5000    0.3077    0.3810        13\n",
            "         123     0.5000    0.8000    0.6154         5\n",
            "         124     1.0000    0.8000    0.8889         5\n",
            "         125     1.0000    1.0000    1.0000         5\n",
            "         126     0.8571    0.6667    0.7500         9\n",
            "         127     1.0000    0.4000    0.5714         5\n",
            "         128     1.0000    0.8000    0.8889         5\n",
            "         129     0.3333    0.2500    0.2857         4\n",
            "         130     1.0000    1.0000    1.0000         4\n",
            "         131     0.8000    0.8000    0.8000         5\n",
            "         132     0.7500    0.7500    0.7500         4\n",
            "         133     0.6000    0.6000    0.6000         5\n",
            "         134     1.0000    1.0000    1.0000         5\n",
            "         135     1.0000    0.8000    0.8889         5\n",
            "         136     1.0000    0.5000    0.6667         4\n",
            "         137     0.7500    0.6000    0.6667         5\n",
            "         138     0.7500    0.7500    0.7500         4\n",
            "         139     0.2500    0.2500    0.2500         4\n",
            "         140     1.0000    1.0000    1.0000         5\n",
            "         141     1.0000    0.4000    0.5714         5\n",
            "         142     0.5763    0.8500    0.6869        40\n",
            "         143     1.0000    1.0000    1.0000         4\n",
            "         144     0.6667    0.4444    0.5333         9\n",
            "         145     0.6667    0.4000    0.5000         5\n",
            "         146     1.0000    0.4000    0.5714         5\n",
            "         147     0.8000    1.0000    0.8889         4\n",
            "         148     0.6667    0.8000    0.7273         5\n",
            "         149     0.6667    0.4000    0.5000         5\n",
            "         150     0.5000    0.3846    0.4348        13\n",
            "         151     0.7500    0.7500    0.7500         4\n",
            "         152     0.6667    0.8889    0.7619        18\n",
            "         153     0.8571    0.6667    0.7500         9\n",
            "         154     1.0000    0.8889    0.9412         9\n",
            "         155     0.7143    0.3846    0.5000        13\n",
            "         156     1.0000    0.8000    0.8889         5\n",
            "         157     0.6667    0.5000    0.5714         4\n",
            "         158     0.5385    0.5385    0.5385        13\n",
            "         159     1.0000    1.0000    1.0000         4\n",
            "         160     0.7000    0.7778    0.7368         9\n",
            "         161     1.0000    0.7500    0.8571         4\n",
            "         162     0.0000    0.0000    0.0000         9\n",
            "         163     0.5082    0.7750    0.6139        40\n",
            "         164     0.3333    0.2000    0.2500         5\n",
            "         165     0.7500    0.6000    0.6667         5\n",
            "         166     0.7143    1.0000    0.8333         5\n",
            "         167     0.8750    0.7778    0.8235         9\n",
            "         168     0.6667    0.8000    0.7273         5\n",
            "         169     0.6667    0.7692    0.7143        13\n",
            "         170     0.6667    0.8000    0.7273         5\n",
            "         171     0.4000    0.5000    0.4444         4\n",
            "         172     1.0000    0.6000    0.7500         5\n",
            "         173     0.6667    0.8000    0.7273         5\n",
            "         174     0.6667    0.6667    0.6667         9\n",
            "         175     0.7000    0.7778    0.7368        18\n",
            "         176     0.0000    0.0000    0.0000        13\n",
            "         177     0.0000    0.0000    0.0000         4\n",
            "         178     1.0000    0.6000    0.7500         5\n",
            "         179     0.7778    0.7778    0.7778         9\n",
            "         180     1.0000    0.4000    0.5714         5\n",
            "         181     1.0000    0.8000    0.8889         5\n",
            "         182     0.7500    0.6667    0.7059         9\n",
            "         183     0.8000    0.8889    0.8421         9\n",
            "         184     0.8000    1.0000    0.8889         4\n",
            "         185     1.0000    1.0000    1.0000         5\n",
            "         186     0.5882    0.7692    0.6667        13\n",
            "         187     0.7500    0.6000    0.6667         5\n",
            "         188     1.0000    0.4000    0.5714         5\n",
            "         189     0.8000    0.9231    0.8571        13\n",
            "         190     1.0000    0.7500    0.8571         4\n",
            "         191     0.6000    0.6000    0.6000         5\n",
            "         192     0.8333    0.5556    0.6667         9\n",
            "         193     0.5294    1.0000    0.6923         9\n",
            "         194     0.4286    0.7500    0.5455         4\n",
            "         195     1.0000    0.7778    0.8750         9\n",
            "         196     0.6000    0.7500    0.6667         4\n",
            "         197     0.5714    0.4444    0.5000         9\n",
            "         198     0.8000    0.8000    0.8000         5\n",
            "         199     0.6000    0.6000    0.6000         5\n",
            "         200     0.5000    0.5000    0.5000         4\n",
            "         201     0.8000    1.0000    0.8889         4\n",
            "\n",
            "    accuracy                         0.7006      1797\n",
            "   macro avg     0.7439    0.6621    0.6770      1797\n",
            "weighted avg     0.7132    0.7006    0.6859      1797\n",
            "\n",
            "Accuracy     : 0.7006121313299944\n",
            "F1 (macro)   : 0.677013335354349\n",
            "Precision    : 0.7438634419993236\n",
            "Recall       : 0.6620633202018337\n"
          ]
        },
        {
          "name": "stderr",
          "output_type": "stream",
          "text": [
            "2025-04-29 18:19:16.274259: W tensorflow/core/framework/local_rendezvous.cc:404] Local rendezvous is aborting with status: OUT_OF_RANGE: End of sequence\n",
            "/Users/brunasimoes/Desktop/nova_ims/2_semester/Trimestral/deep_learning/deep-learning-project/.venv/lib/python3.11/site-packages/sklearn/metrics/_classification.py:1565: UndefinedMetricWarning: Precision is ill-defined and being set to 0.0 in labels with no predicted samples. Use `zero_division` parameter to control this behavior.\n",
            "  _warn_prf(average, modifier, f\"{metric.capitalize()} is\", len(result))\n",
            "/Users/brunasimoes/Desktop/nova_ims/2_semester/Trimestral/deep_learning/deep-learning-project/.venv/lib/python3.11/site-packages/sklearn/metrics/_classification.py:1565: UndefinedMetricWarning: Precision is ill-defined and being set to 0.0 in labels with no predicted samples. Use `zero_division` parameter to control this behavior.\n",
            "  _warn_prf(average, modifier, f\"{metric.capitalize()} is\", len(result))\n",
            "/Users/brunasimoes/Desktop/nova_ims/2_semester/Trimestral/deep_learning/deep-learning-project/.venv/lib/python3.11/site-packages/sklearn/metrics/_classification.py:1565: UndefinedMetricWarning: Precision is ill-defined and being set to 0.0 in labels with no predicted samples. Use `zero_division` parameter to control this behavior.\n",
            "  _warn_prf(average, modifier, f\"{metric.capitalize()} is\", len(result))\n",
            "/Users/brunasimoes/Desktop/nova_ims/2_semester/Trimestral/deep_learning/deep-learning-project/.venv/lib/python3.11/site-packages/sklearn/metrics/_classification.py:1565: UndefinedMetricWarning: Precision is ill-defined and being set to 0.0 in labels with no predicted samples. Use `zero_division` parameter to control this behavior.\n",
            "  _warn_prf(average, modifier, f\"{metric.capitalize()} is\", len(result))\n"
          ]
        },
        {
          "data": {
            "text/plain": [
              "(array([  0,   0,   0, ..., 201, 201, 201]),\n",
              " array([  0,   0,   0, ..., 201, 201, 201]))"
            ]
          },
          "execution_count": 22,
          "metadata": {},
          "output_type": "execute_result"
        }
      ],
      "source": [
        "get_metric(val_ds, os.path.join(base_path,\"project/efficient_net_finetuned_final.keras\"))"
      ]
    },
    {
      "cell_type": "markdown",
      "id": "9197a567",
      "metadata": {},
      "source": [
        "### Incorporate phylum"
      ]
    },
    {
      "cell_type": "markdown",
      "id": "8dade6ad",
      "metadata": {
        "id": "8dade6ad"
      },
      "source": [
        "#### Histogram of model confidence, divided by correctly and incorrectly classified images"
      ]
    },
    {
      "cell_type": "code",
      "execution_count": 11,
      "id": "e38640ab",
      "metadata": {},
      "outputs": [
        {
          "name": "stderr",
          "output_type": "stream",
          "text": [
            "2025-04-29 20:51:01.599719: W tensorflow/core/framework/local_rendezvous.cc:404] Local rendezvous is aborting with status: OUT_OF_RANGE: End of sequence\n"
          ]
        },
        {
          "name": "stdout",
          "output_type": "stream",
          "text": [
            "(8388, 224, 224, 3)\n",
            "(8388, 202)\n"
          ]
        }
      ],
      "source": [
        "# Create a list of all images and labels\n",
        "train_images = []\n",
        "train_labels = []\n",
        "\n",
        "for batch in train_ds:\n",
        "    images_batch, labels_batch = batch\n",
        "    train_images.append(images_batch.numpy())\n",
        "    train_labels.append(labels_batch.numpy())\n",
        "\n",
        "# Stack properly\n",
        "train_images = np.vstack(train_images)\n",
        "train_labels = np.vstack(train_labels)\n",
        "\n",
        "print(train_images.shape)\n",
        "print(train_labels.shape)"
      ]
    },
    {
      "cell_type": "code",
      "execution_count": 12,
      "id": "bb06c8d1",
      "metadata": {},
      "outputs": [
        {
          "name": "stdout",
          "output_type": "stream",
          "text": [
            "\u001b[1m263/263\u001b[0m \u001b[32m━━━━━━━━━━━━━━━━━━━━\u001b[0m\u001b[37m\u001b[0m \u001b[1m68s\u001b[0m 238ms/step\n"
          ]
        }
      ],
      "source": [
        "# Predict all train images\n",
        "pred_probs_all = model.predict(train_ds, verbose=1)\n",
        "y_pred = np.argmax(pred_probs_all, axis=1)\n",
        "y_true = train_labels"
      ]
    },
    {
      "cell_type": "code",
      "execution_count": 13,
      "id": "cb232c3c",
      "metadata": {
        "id": "cb232c3c"
      },
      "outputs": [
        {
          "data": {
            "image/png": "[encoded data removed]",
            "text/plain": [
              "<Figure size 800x500 with 2 Axes>"
            ]
          },
          "metadata": {},
          "output_type": "display_data"
        }
      ],
      "source": [
        "# 1) prepare labels\n",
        "labels = train_labels\n",
        "if labels.ndim > 1:\n",
        "    labels = np.argmax(labels, axis=1)\n",
        "\n",
        "# 2) get preds and confidences\n",
        "preds = np.argmax(pred_probs_all, axis=1)\n",
        "confidences = np.max(pred_probs_all, axis=1)\n",
        "\n",
        "# 3) split confidences by correctness\n",
        "correct_conf = confidences[preds == labels]\n",
        "incorrect_conf = confidences[preds != labels]\n",
        "\n",
        "# 4) define bins\n",
        "bins = np.linspace(0, 1, 21)  # 20 bins\n",
        "\n",
        "# 5) histogram counts for each bin\n",
        "correct_counts, _   = np.histogram(correct_conf,   bins=bins)\n",
        "incorrect_counts, _ = np.histogram(incorrect_conf, bins=bins)\n",
        "total_counts = correct_counts + incorrect_counts\n",
        "\n",
        "# 6) misclassification rate per bin (in %), guard against zero-division\n",
        "with np.errstate(divide='ignore', invalid='ignore'):\n",
        "    misclass_rate = 100 * incorrect_counts / total_counts\n",
        "misclass_rate = np.nan_to_num(misclass_rate)  # zero where total_counts==0\n",
        "\n",
        "# 7) bin centers for plotting the line\n",
        "bin_centers = (bins[:-1] + bins[1:]) / 2\n",
        "\n",
        "# 8) plot\n",
        "fig, ax1 = plt.subplots(figsize=(8, 5))\n",
        "\n",
        "# stacked histogram\n",
        "ax1.hist(\n",
        "    [correct_conf, incorrect_conf],\n",
        "    bins=bins,\n",
        "    stacked=True,\n",
        "    color=['green', 'red'],\n",
        "    label=['Correct classification', 'Incorrect classification'],\n",
        "    edgecolor=\"black\"\n",
        ")\n",
        "ax1.set_xlabel('Model Confidence (Max Softmax Probability)')\n",
        "ax1.set_ylabel('Number of Samples')\n",
        "ax1.legend(loc='upper left')\n",
        "\n",
        "# secondary axis for misclassification %\n",
        "ax2 = ax1.twinx()\n",
        "ax2.plot(\n",
        "    bin_centers,\n",
        "    misclass_rate,\n",
        "    marker='o',\n",
        "    linestyle='-',\n",
        "    color='blue',\n",
        "    label='Misclassification rate (%)'\n",
        ")\n",
        "ax2.set_ylabel('Misclassification Rate (%)')\n",
        "ax2.set_ylim(0, 100)\n",
        "ax2.legend(loc='upper right')\n",
        "\n",
        "plt.title('Distribution of Model Confidence')\n",
        "plt.tight_layout()\n",
        "plt.show()\n"
      ]
    },
    {
      "cell_type": "markdown",
      "id": "1d20e6c8",
      "metadata": {
        "id": "1d20e6c8"
      },
      "source": [
        "#### Trying to incorporate phylum"
      ]
    },
    {
      "cell_type": "code",
      "execution_count": 14,
      "id": "e51884f0",
      "metadata": {
        "id": "e51884f0"
      },
      "outputs": [
        {
          "name": "stderr",
          "output_type": "stream",
          "text": [
            "2025-04-29 20:52:57.344238: W tensorflow/core/framework/local_rendezvous.cc:404] Local rendezvous is aborting with status: OUT_OF_RANGE: End of sequence\n"
          ]
        },
        {
          "name": "stdout",
          "output_type": "stream",
          "text": [
            "\u001b[1m57/57\u001b[0m \u001b[32m━━━━━━━━━━━━━━━━━━━━\u001b[0m\u001b[37m\u001b[0m \u001b[1m14s\u001b[0m 201ms/step\n"
          ]
        }
      ],
      "source": [
        "# Unbatch train_ds into list\n",
        "val_images = []\n",
        "val_labels = []\n",
        "\n",
        "for img, label in val_ds.unbatch():\n",
        "    val_images.append(img.numpy())\n",
        "    val_labels.append(label.numpy())\n",
        "\n",
        "val_images = np.array(val_images)\n",
        "val_labels = np.array(val_labels)\n",
        "\n",
        "# Predict all val images\n",
        "pred_probs_all_val = model.predict(val_images, verbose=1)\n",
        "y_pred = np.argmax(pred_probs_all, axis=1)\n",
        "y_true = val_labels"
      ]
    },
    {
      "cell_type": "code",
      "execution_count": 15,
      "id": "3182fc5e",
      "metadata": {
        "id": "3182fc5e"
      },
      "outputs": [],
      "source": [
        "import pandas as pd\n",
        "import numpy as np\n",
        "import matplotlib.pyplot as plt\n",
        "from sklearn.metrics import accuracy_score\n",
        "\n",
        "# create family:phylum dicionary\n",
        "meta = pd.read_csv('../data/rare_species/metadata.csv')\n",
        "dup = meta.groupby('family')['phylum'].nunique()\n",
        "family_to_phylum = dict(zip(meta['family'], meta['phylum']))\n"
      ]
    },
    {
      "cell_type": "code",
      "execution_count": 16,
      "id": "5c182f96",
      "metadata": {
        "id": "5c182f96"
      },
      "outputs": [],
      "source": [
        "# --- 2) Prepare true labels & names ---\n",
        "# train_labels: your true labels, shape (11200,) or one-hot (11200,202)\n",
        "# class_names: list of length 202 mapping index→family string\n",
        "labels = np.argmax(val_labels, axis=1) # family# prediction, not one-hot-encoded\n",
        "y_true_fam   = np.array([class_names[i] for i in labels])\n",
        "y_true_phyl  = np.array([family_to_phylum[f] for f in y_true_fam])\n"
      ]
    },
    {
      "cell_type": "code",
      "execution_count": 17,
      "id": "5238f7c4",
      "metadata": {
        "id": "5238f7c4"
      },
      "outputs": [],
      "source": [
        "# --- 3) Baseline predictions & phylum check ---\n",
        "y_pred       = np.argmax(pred_probs_all_val, axis=1)\n",
        "y_pred_fam   = np.array([class_names[i] for i in y_pred])\n",
        "y_pred_phyl  = np.array([family_to_phylum[f] for f in y_pred_fam])"
      ]
    },
    {
      "cell_type": "code",
      "execution_count": 18,
      "id": "49c97d0f",
      "metadata": {
        "id": "49c97d0f"
      },
      "outputs": [],
      "source": [
        "# a dictionary phylum:[list of indices of classes that belong to that phylum]\n",
        "phylum_to_inds = {}\n",
        "for idx, fam in enumerate(class_names):\n",
        "    ph = family_to_phylum[fam]\n",
        "    phylum_to_inds.setdefault(ph, []).append(idx)\n"
      ]
    },
    {
      "cell_type": "code",
      "execution_count": 19,
      "id": "a924cea4",
      "metadata": {
        "id": "a924cea4"
      },
      "outputs": [],
      "source": [
        "# --- 4) Hierarchical override logic ---\n",
        "y_pred_hier = y_pred.copy()\n",
        "for i, probs in enumerate(pred_probs_all_val):\n",
        "    # if predicted phylum ≠ true phylum, force to best within true phylum\n",
        "    if y_pred_phyl[i] != y_true_phyl[i]:\n",
        "        valid_idx = phylum_to_inds[y_true_phyl[i]]\n",
        "        y_pred_hier[i] = valid_idx[np.argmax(probs[valid_idx])]\n",
        "\n"
      ]
    },
    {
      "cell_type": "code",
      "execution_count": 20,
      "id": "6535eee7",
      "metadata": {
        "id": "6535eee7"
      },
      "outputs": [
        {
          "name": "stdout",
          "output_type": "stream",
          "text": [
            "Baseline overall accuracy:     0.7006\n",
            "Hierarchical override accuracy:0.7101\n"
          ]
        }
      ],
      "source": [
        "# --- 5) Overall accuracy comparison ---\n",
        "acc_base  = accuracy_score(labels, y_pred)\n",
        "acc_hier  = accuracy_score(labels, y_pred_hier)\n",
        "print(f\"Baseline overall accuracy:     {acc_base:.4f}\")\n",
        "print(f\"Hierarchical override accuracy:{acc_hier:.4f}\")"
      ]
    },
    {
      "cell_type": "code",
      "execution_count": 21,
      "id": "fd706552",
      "metadata": {
        "id": "fd706552"
      },
      "outputs": [
        {
          "name": "stdout",
          "output_type": "stream",
          "text": [
            "Classification report with original predictions:\n",
            "              precision    recall  f1-score   support\n",
            "\n",
            "           0       0.74      0.94      0.83        18\n",
            "           1       0.64      0.69      0.67        13\n",
            "           2       0.66      0.81      0.72        31\n",
            "           3       0.71      0.56      0.62         9\n",
            "           4       0.64      0.78      0.70        18\n",
            "           5       0.60      0.60      0.60         5\n",
            "           6       0.00      0.00      0.00         4\n",
            "           7       0.67      0.40      0.50         5\n",
            "           8       1.00      0.11      0.20         9\n",
            "           9       1.00      0.33      0.50         9\n",
            "          10       0.64      0.78      0.70        27\n",
            "          11       0.75      0.67      0.71         9\n",
            "          12       1.00      0.56      0.71         9\n",
            "          13       1.00      1.00      1.00        22\n",
            "          14       0.71      0.56      0.62         9\n",
            "          15       1.00      0.50      0.67         4\n",
            "          16       0.59      0.59      0.59        22\n",
            "          17       1.00      0.80      0.89         5\n",
            "          18       1.00      0.50      0.67         4\n",
            "          19       0.00      0.00      0.00         5\n",
            "          20       1.00      0.50      0.67         4\n",
            "          21       0.89      0.89      0.89         9\n",
            "          22       1.00      0.60      0.75         5\n",
            "          23       0.60      0.83      0.70        36\n",
            "          24       0.67      0.40      0.50         5\n",
            "          25       0.65      0.90      0.76        31\n",
            "          26       0.71      0.68      0.70        22\n",
            "          27       1.00      0.67      0.80         9\n",
            "          28       0.80      0.80      0.80         5\n",
            "          29       0.71      0.67      0.69        18\n",
            "          30       1.00      0.40      0.57         5\n",
            "          31       1.00      0.20      0.33         5\n",
            "          32       1.00      0.89      0.94         9\n",
            "          33       0.55      0.90      0.69        40\n",
            "          34       0.70      0.78      0.74         9\n",
            "          35       0.60      0.75      0.67         4\n",
            "          36       0.75      0.69      0.72        13\n",
            "          37       1.00      1.00      1.00         4\n",
            "          38       0.65      0.76      0.70        45\n",
            "          39       1.00      0.20      0.33         5\n",
            "          40       0.33      0.20      0.25         5\n",
            "          41       0.89      0.89      0.89         9\n",
            "          42       0.67      1.00      0.80         8\n",
            "          43       0.90      1.00      0.95         9\n",
            "          44       1.00      0.75      0.86         4\n",
            "          45       0.75      0.75      0.75         8\n",
            "          46       0.20      0.20      0.20         5\n",
            "          47       0.40      0.40      0.40         5\n",
            "          48       0.77      0.77      0.77        13\n",
            "          49       0.67      0.80      0.73         5\n",
            "          50       0.69      0.69      0.69        13\n",
            "          51       1.00      1.00      1.00         5\n",
            "          52       1.00      1.00      1.00         5\n",
            "          53       0.71      0.56      0.62         9\n",
            "          54       1.00      1.00      1.00         4\n",
            "          55       0.64      0.78      0.70         9\n",
            "          56       0.33      0.44      0.38         9\n",
            "          57       0.62      1.00      0.77         5\n",
            "          58       0.80      1.00      0.89         4\n",
            "          59       1.00      0.60      0.75         5\n",
            "          60       0.70      0.78      0.74        45\n",
            "          61       0.50      0.40      0.44         5\n",
            "          62       0.56      0.82      0.67        22\n",
            "          63       0.67      0.50      0.57         4\n",
            "          64       1.00      0.40      0.57         5\n",
            "          65       0.50      0.20      0.29         5\n",
            "          66       0.50      0.72      0.59        18\n",
            "          67       1.00      0.80      0.89         5\n",
            "          68       1.00      0.40      0.57         5\n",
            "          69       0.75      0.78      0.76        27\n",
            "          70       0.80      1.00      0.89         4\n",
            "          71       0.55      0.67      0.60         9\n",
            "          72       0.67      1.00      0.80         4\n",
            "          73       0.80      0.44      0.57         9\n",
            "          74       1.00      0.50      0.67         4\n",
            "          75       1.00      1.00      1.00         5\n",
            "          76       0.57      0.62      0.59        13\n",
            "          77       0.50      0.33      0.40         9\n",
            "          78       0.70      0.78      0.74         9\n",
            "          79       0.86      0.98      0.91        43\n",
            "          80       0.78      0.78      0.78         9\n",
            "          81       1.00      0.80      0.89         5\n",
            "          82       1.00      0.40      0.57         5\n",
            "          83       0.80      1.00      0.89         4\n",
            "          84       0.53      0.69      0.60        13\n",
            "          85       1.00      1.00      1.00         4\n",
            "          86       0.50      0.60      0.55         5\n",
            "          87       0.50      0.40      0.44         5\n",
            "          88       1.00      0.89      0.94         9\n",
            "          89       0.67      1.00      0.80         4\n",
            "          90       0.33      0.25      0.29         4\n",
            "          91       0.75      0.60      0.67         5\n",
            "          92       0.33      0.25      0.29         4\n",
            "          93       0.50      0.25      0.33         4\n",
            "          94       0.67      0.22      0.33         9\n",
            "          95       1.00      1.00      1.00         5\n",
            "          96       1.00      0.75      0.86         4\n",
            "          97       0.67      0.46      0.55        13\n",
            "          98       0.00      0.00      0.00         5\n",
            "          99       0.88      0.78      0.82        18\n",
            "         100       1.00      0.80      0.89         5\n",
            "         101       0.60      0.67      0.63         9\n",
            "         102       0.70      0.78      0.74         9\n",
            "         103       0.80      1.00      0.89         4\n",
            "         104       0.81      0.95      0.88        22\n",
            "         105       0.67      0.50      0.57         4\n",
            "         106       0.78      0.78      0.78         9\n",
            "         107       0.83      0.56      0.67         9\n",
            "         108       0.80      0.80      0.80         5\n",
            "         109       1.00      0.80      0.89         5\n",
            "         110       1.00      0.20      0.33         5\n",
            "         111       1.00      0.56      0.71         9\n",
            "         112       1.00      0.80      0.89         5\n",
            "         113       1.00      0.40      0.57         5\n",
            "         114       1.00      1.00      1.00         4\n",
            "         115       0.67      0.80      0.73         5\n",
            "         116       0.33      0.33      0.33         9\n",
            "         117       0.80      1.00      0.89         4\n",
            "         118       0.75      0.75      0.75         4\n",
            "         119       1.00      0.60      0.75         5\n",
            "         120       0.80      0.80      0.80         5\n",
            "         121       0.73      0.62      0.67        13\n",
            "         122       0.50      0.31      0.38        13\n",
            "         123       0.50      0.80      0.62         5\n",
            "         124       1.00      0.80      0.89         5\n",
            "         125       1.00      1.00      1.00         5\n",
            "         126       0.86      0.67      0.75         9\n",
            "         127       1.00      0.40      0.57         5\n",
            "         128       1.00      0.80      0.89         5\n",
            "         129       0.33      0.25      0.29         4\n",
            "         130       1.00      1.00      1.00         4\n",
            "         131       0.80      0.80      0.80         5\n",
            "         132       0.75      0.75      0.75         4\n",
            "         133       0.60      0.60      0.60         5\n",
            "         134       1.00      1.00      1.00         5\n",
            "         135       1.00      0.80      0.89         5\n",
            "         136       1.00      0.50      0.67         4\n",
            "         137       0.75      0.60      0.67         5\n",
            "         138       0.75      0.75      0.75         4\n",
            "         139       0.25      0.25      0.25         4\n",
            "         140       1.00      1.00      1.00         5\n",
            "         141       1.00      0.40      0.57         5\n",
            "         142       0.58      0.85      0.69        40\n",
            "         143       1.00      1.00      1.00         4\n",
            "         144       0.67      0.44      0.53         9\n",
            "         145       0.67      0.40      0.50         5\n",
            "         146       1.00      0.40      0.57         5\n",
            "         147       0.80      1.00      0.89         4\n",
            "         148       0.67      0.80      0.73         5\n",
            "         149       0.67      0.40      0.50         5\n",
            "         150       0.50      0.38      0.43        13\n",
            "         151       0.75      0.75      0.75         4\n",
            "         152       0.67      0.89      0.76        18\n",
            "         153       0.86      0.67      0.75         9\n",
            "         154       1.00      0.89      0.94         9\n",
            "         155       0.71      0.38      0.50        13\n",
            "         156       1.00      0.80      0.89         5\n",
            "         157       0.67      0.50      0.57         4\n",
            "         158       0.54      0.54      0.54        13\n",
            "         159       1.00      1.00      1.00         4\n",
            "         160       0.70      0.78      0.74         9\n",
            "         161       1.00      0.75      0.86         4\n",
            "         162       0.00      0.00      0.00         9\n",
            "         163       0.51      0.78      0.61        40\n",
            "         164       0.33      0.20      0.25         5\n",
            "         165       0.75      0.60      0.67         5\n",
            "         166       0.71      1.00      0.83         5\n",
            "         167       0.88      0.78      0.82         9\n",
            "         168       0.67      0.80      0.73         5\n",
            "         169       0.67      0.77      0.71        13\n",
            "         170       0.67      0.80      0.73         5\n",
            "         171       0.40      0.50      0.44         4\n",
            "         172       1.00      0.60      0.75         5\n",
            "         173       0.67      0.80      0.73         5\n",
            "         174       0.67      0.67      0.67         9\n",
            "         175       0.70      0.78      0.74        18\n",
            "         176       0.00      0.00      0.00        13\n",
            "         177       0.00      0.00      0.00         4\n",
            "         178       1.00      0.60      0.75         5\n",
            "         179       0.78      0.78      0.78         9\n",
            "         180       1.00      0.40      0.57         5\n",
            "         181       1.00      0.80      0.89         5\n",
            "         182       0.75      0.67      0.71         9\n",
            "         183       0.80      0.89      0.84         9\n",
            "         184       0.80      1.00      0.89         4\n",
            "         185       1.00      1.00      1.00         5\n",
            "         186       0.59      0.77      0.67        13\n",
            "         187       0.75      0.60      0.67         5\n",
            "         188       1.00      0.40      0.57         5\n",
            "         189       0.80      0.92      0.86        13\n",
            "         190       1.00      0.75      0.86         4\n",
            "         191       0.60      0.60      0.60         5\n",
            "         192       0.83      0.56      0.67         9\n",
            "         193       0.53      1.00      0.69         9\n",
            "         194       0.43      0.75      0.55         4\n",
            "         195       1.00      0.78      0.88         9\n",
            "         196       0.60      0.75      0.67         4\n",
            "         197       0.57      0.44      0.50         9\n",
            "         198       0.80      0.80      0.80         5\n",
            "         199       0.60      0.60      0.60         5\n",
            "         200       0.50      0.50      0.50         4\n",
            "         201       0.80      1.00      0.89         4\n",
            "\n",
            "    accuracy                           0.70      1797\n",
            "   macro avg       0.74      0.66      0.68      1797\n",
            "weighted avg       0.71      0.70      0.69      1797\n",
            "\n",
            "Classification report with original predictions:\n",
            "              precision    recall  f1-score   support\n",
            "\n",
            "           0     0.7391    0.9444    0.8293        18\n",
            "           1     0.6429    0.6923    0.6667        13\n",
            "           2     0.6842    0.8387    0.7536        31\n",
            "           3     0.7143    0.5556    0.6250         9\n",
            "           4     0.6667    0.7778    0.7179        18\n",
            "           5     0.6000    0.6000    0.6000         5\n",
            "           6     0.0000    0.0000    0.0000         4\n",
            "           7     0.6667    0.4000    0.5000         5\n",
            "           8     1.0000    0.1111    0.2000         9\n",
            "           9     1.0000    0.3333    0.5000         9\n",
            "          10     0.6562    0.7778    0.7119        27\n",
            "          11     0.7500    0.6667    0.7059         9\n",
            "          12     1.0000    0.5556    0.7143         9\n",
            "          13     1.0000    1.0000    1.0000        22\n",
            "          14     0.8333    0.5556    0.6667         9\n",
            "          15     1.0000    0.5000    0.6667         4\n",
            "          16     0.5909    0.5909    0.5909        22\n",
            "          17     1.0000    1.0000    1.0000         5\n",
            "          18     1.0000    0.5000    0.6667         4\n",
            "          19     0.0000    0.0000    0.0000         5\n",
            "          20     1.0000    0.5000    0.6667         4\n",
            "          21     0.8889    0.8889    0.8889         9\n",
            "          22     1.0000    0.6000    0.7500         5\n",
            "          23     0.5882    0.8333    0.6897        36\n",
            "          24     0.6667    0.4000    0.5000         5\n",
            "          25     0.6512    0.9032    0.7568        31\n",
            "          26     0.6522    0.6818    0.6667        22\n",
            "          27     1.0000    0.6667    0.8000         9\n",
            "          28     0.8000    0.8000    0.8000         5\n",
            "          29     0.7059    0.6667    0.6857        18\n",
            "          30     1.0000    0.4000    0.5714         5\n",
            "          31     1.0000    0.2000    0.3333         5\n",
            "          32     1.0000    0.8889    0.9412         9\n",
            "          33     0.5455    0.9000    0.6792        40\n",
            "          34     1.0000    1.0000    1.0000         9\n",
            "          35     0.6000    0.7500    0.6667         4\n",
            "          36     0.7500    0.6923    0.7200        13\n",
            "          37     1.0000    1.0000    1.0000         4\n",
            "          38     0.6538    0.7556    0.7010        45\n",
            "          39     1.0000    0.2000    0.3333         5\n",
            "          40     0.3333    0.2000    0.2500         5\n",
            "          41     0.8889    0.8889    0.8889         9\n",
            "          42     0.6667    1.0000    0.8000         8\n",
            "          43     0.9000    1.0000    0.9474         9\n",
            "          44     1.0000    0.7500    0.8571         4\n",
            "          45     0.7500    0.7500    0.7500         8\n",
            "          46     0.3333    0.2000    0.2500         5\n",
            "          47     0.4000    0.4000    0.4000         5\n",
            "          48     0.7692    0.7692    0.7692        13\n",
            "          49     0.6667    0.8000    0.7273         5\n",
            "          50     0.6923    0.6923    0.6923        13\n",
            "          51     1.0000    1.0000    1.0000         5\n",
            "          52     1.0000    1.0000    1.0000         5\n",
            "          53     0.7143    0.5556    0.6250         9\n",
            "          54     1.0000    1.0000    1.0000         4\n",
            "          55     0.6364    0.7778    0.7000         9\n",
            "          56     0.3333    0.4444    0.3810         9\n",
            "          57     0.6250    1.0000    0.7692         5\n",
            "          58     0.8000    1.0000    0.8889         4\n",
            "          59     1.0000    0.6000    0.7500         5\n",
            "          60     0.6863    0.7778    0.7292        45\n",
            "          61     0.4000    0.4000    0.4000         5\n",
            "          62     0.5625    0.8182    0.6667        22\n",
            "          63     0.6667    0.5000    0.5714         4\n",
            "          64     1.0000    0.4000    0.5714         5\n",
            "          65     0.5000    0.2000    0.2857         5\n",
            "          66     0.4815    0.7222    0.5778        18\n",
            "          67     1.0000    0.8000    0.8889         5\n",
            "          68     1.0000    0.4000    0.5714         5\n",
            "          69     0.7500    0.7778    0.7636        27\n",
            "          70     0.8000    1.0000    0.8889         4\n",
            "          71     0.5455    0.6667    0.6000         9\n",
            "          72     0.6667    1.0000    0.8000         4\n",
            "          73     0.8333    0.5556    0.6667         9\n",
            "          74     1.0000    0.5000    0.6667         4\n",
            "          75     1.0000    1.0000    1.0000         5\n",
            "          76     0.6154    0.6154    0.6154        13\n",
            "          77     0.4286    0.3333    0.3750         9\n",
            "          78     0.7000    0.7778    0.7368         9\n",
            "          79     0.9130    0.9767    0.9438        43\n",
            "          80     0.7000    0.7778    0.7368         9\n",
            "          81     1.0000    0.8000    0.8889         5\n",
            "          82     1.0000    0.4000    0.5714         5\n",
            "          83     0.8000    1.0000    0.8889         4\n",
            "          84     0.5294    0.6923    0.6000        13\n",
            "          85     1.0000    1.0000    1.0000         4\n",
            "          86     0.5000    0.6000    0.5455         5\n",
            "          87     0.5000    0.4000    0.4444         5\n",
            "          88     1.0000    1.0000    1.0000         9\n",
            "          89     0.6667    1.0000    0.8000         4\n",
            "          90     0.3333    0.2500    0.2857         4\n",
            "          91     1.0000    0.6000    0.7500         5\n",
            "          92     0.2500    0.2500    0.2500         4\n",
            "          93     0.5000    0.2500    0.3333         4\n",
            "          94     0.6667    0.2222    0.3333         9\n",
            "          95     1.0000    1.0000    1.0000         5\n",
            "          96     0.7500    0.7500    0.7500         4\n",
            "          97     0.6667    0.4615    0.5455        13\n",
            "          98     0.0000    0.0000    0.0000         5\n",
            "          99     0.8235    0.7778    0.8000        18\n",
            "         100     1.0000    0.8000    0.8889         5\n",
            "         101     0.6000    0.6667    0.6316         9\n",
            "         102     0.7000    0.7778    0.7368         9\n",
            "         103     0.8000    1.0000    0.8889         4\n",
            "         104     0.8077    0.9545    0.8750        22\n",
            "         105     0.6667    0.5000    0.5714         4\n",
            "         106     0.7778    0.7778    0.7778         9\n",
            "         107     0.8333    0.5556    0.6667         9\n",
            "         108     1.0000    0.8000    0.8889         5\n",
            "         109     0.8000    0.8000    0.8000         5\n",
            "         110     1.0000    0.2000    0.3333         5\n",
            "         111     0.8333    0.5556    0.6667         9\n",
            "         112     1.0000    0.8000    0.8889         5\n",
            "         113     1.0000    0.4000    0.5714         5\n",
            "         114     1.0000    1.0000    1.0000         4\n",
            "         115     0.6667    0.8000    0.7273         5\n",
            "         116     0.3333    0.3333    0.3333         9\n",
            "         117     0.8000    1.0000    0.8889         4\n",
            "         118     0.7500    0.7500    0.7500         4\n",
            "         119     1.0000    0.6000    0.7500         5\n",
            "         120     0.8000    0.8000    0.8000         5\n",
            "         121     0.7273    0.6154    0.6667        13\n",
            "         122     0.4444    0.3077    0.3636        13\n",
            "         123     0.5000    0.8000    0.6154         5\n",
            "         124     1.0000    1.0000    1.0000         5\n",
            "         125     1.0000    1.0000    1.0000         5\n",
            "         126     0.8571    0.6667    0.7500         9\n",
            "         127     1.0000    0.4000    0.5714         5\n",
            "         128     1.0000    0.8000    0.8889         5\n",
            "         129     0.5000    0.2500    0.3333         4\n",
            "         130     1.0000    1.0000    1.0000         4\n",
            "         131     0.8000    0.8000    0.8000         5\n",
            "         132     0.7500    0.7500    0.7500         4\n",
            "         133     0.6000    0.6000    0.6000         5\n",
            "         134     1.0000    1.0000    1.0000         5\n",
            "         135     1.0000    0.8000    0.8889         5\n",
            "         136     1.0000    0.5000    0.6667         4\n",
            "         137     0.7500    0.6000    0.6667         5\n",
            "         138     0.7500    0.7500    0.7500         4\n",
            "         139     0.5000    0.5000    0.5000         4\n",
            "         140     1.0000    1.0000    1.0000         5\n",
            "         141     1.0000    0.6000    0.7500         5\n",
            "         142     0.5763    0.8500    0.6869        40\n",
            "         143     1.0000    1.0000    1.0000         4\n",
            "         144     1.0000    0.4444    0.6154         9\n",
            "         145     0.6667    0.4000    0.5000         5\n",
            "         146     1.0000    0.4000    0.5714         5\n",
            "         147     0.8000    1.0000    0.8889         4\n",
            "         148     0.6667    0.8000    0.7273         5\n",
            "         149     0.6667    0.4000    0.5000         5\n",
            "         150     0.5455    0.4615    0.5000        13\n",
            "         151     0.7500    0.7500    0.7500         4\n",
            "         152     0.6400    0.8889    0.7442        18\n",
            "         153     0.8571    0.6667    0.7500         9\n",
            "         154     1.0000    0.8889    0.9412         9\n",
            "         155     0.7143    0.3846    0.5000        13\n",
            "         156     1.0000    0.8000    0.8889         5\n",
            "         157     0.6667    0.5000    0.5714         4\n",
            "         158     0.5000    0.5385    0.5185        13\n",
            "         159     1.0000    1.0000    1.0000         4\n",
            "         160     0.7000    0.7778    0.7368         9\n",
            "         161     1.0000    0.7500    0.8571         4\n",
            "         162     0.0000    0.0000    0.0000         9\n",
            "         163     0.5439    0.7750    0.6392        40\n",
            "         164     0.3333    0.2000    0.2500         5\n",
            "         165     0.7500    0.6000    0.6667         5\n",
            "         166     0.7143    1.0000    0.8333         5\n",
            "         167     0.8750    0.7778    0.8235         9\n",
            "         168     0.6667    0.8000    0.7273         5\n",
            "         169     0.7059    0.9231    0.8000        13\n",
            "         170     0.6667    0.8000    0.7273         5\n",
            "         171     0.4000    0.5000    0.4444         4\n",
            "         172     1.0000    0.6000    0.7500         5\n",
            "         173     0.6667    0.8000    0.7273         5\n",
            "         174     0.6667    0.6667    0.6667         9\n",
            "         175     0.7000    0.7778    0.7368        18\n",
            "         176     0.0000    0.0000    0.0000        13\n",
            "         177     0.0000    0.0000    0.0000         4\n",
            "         178     1.0000    0.6000    0.7500         5\n",
            "         179     1.0000    1.0000    1.0000         9\n",
            "         180     1.0000    0.4000    0.5714         5\n",
            "         181     1.0000    0.8000    0.8889         5\n",
            "         182     0.8750    0.7778    0.8235         9\n",
            "         183     0.8000    0.8889    0.8421         9\n",
            "         184     0.8000    1.0000    0.8889         4\n",
            "         185     1.0000    1.0000    1.0000         5\n",
            "         186     0.6250    0.7692    0.6897        13\n",
            "         187     0.7500    0.6000    0.6667         5\n",
            "         188     1.0000    0.8000    0.8889         5\n",
            "         189     0.8571    0.9231    0.8889        13\n",
            "         190     1.0000    0.7500    0.8571         4\n",
            "         191     0.6000    0.6000    0.6000         5\n",
            "         192     0.8333    0.5556    0.6667         9\n",
            "         193     0.8182    1.0000    0.9000         9\n",
            "         194     0.3750    0.7500    0.5000         4\n",
            "         195     1.0000    0.7778    0.8750         9\n",
            "         196     0.6000    0.7500    0.6667         4\n",
            "         197     0.5714    0.4444    0.5000         9\n",
            "         198     0.8000    0.8000    0.8000         5\n",
            "         199     0.6000    0.6000    0.6000         5\n",
            "         200     0.5000    0.5000    0.5000         4\n",
            "         201     1.0000    1.0000    1.0000         4\n",
            "\n",
            "    accuracy                         0.7101      1797\n",
            "   macro avg     0.7524    0.6734    0.6879      1797\n",
            "weighted avg     0.7217    0.7101    0.6957      1797\n",
            "\n"
          ]
        },
        {
          "name": "stderr",
          "output_type": "stream",
          "text": [
            "/Users/brunasimoes/Desktop/nova_ims/2_semester/Trimestral/deep_learning/deep-learning-project/.venv/lib/python3.11/site-packages/sklearn/metrics/_classification.py:1565: UndefinedMetricWarning: Precision is ill-defined and being set to 0.0 in labels with no predicted samples. Use `zero_division` parameter to control this behavior.\n",
            "  _warn_prf(average, modifier, f\"{metric.capitalize()} is\", len(result))\n",
            "/Users/brunasimoes/Desktop/nova_ims/2_semester/Trimestral/deep_learning/deep-learning-project/.venv/lib/python3.11/site-packages/sklearn/metrics/_classification.py:1565: UndefinedMetricWarning: Precision is ill-defined and being set to 0.0 in labels with no predicted samples. Use `zero_division` parameter to control this behavior.\n",
            "  _warn_prf(average, modifier, f\"{metric.capitalize()} is\", len(result))\n",
            "/Users/brunasimoes/Desktop/nova_ims/2_semester/Trimestral/deep_learning/deep-learning-project/.venv/lib/python3.11/site-packages/sklearn/metrics/_classification.py:1565: UndefinedMetricWarning: Precision is ill-defined and being set to 0.0 in labels with no predicted samples. Use `zero_division` parameter to control this behavior.\n",
            "  _warn_prf(average, modifier, f\"{metric.capitalize()} is\", len(result))\n",
            "/Users/brunasimoes/Desktop/nova_ims/2_semester/Trimestral/deep_learning/deep-learning-project/.venv/lib/python3.11/site-packages/sklearn/metrics/_classification.py:1565: UndefinedMetricWarning: Precision is ill-defined and being set to 0.0 in labels with no predicted samples. Use `zero_division` parameter to control this behavior.\n",
            "  _warn_prf(average, modifier, f\"{metric.capitalize()} is\", len(result))\n",
            "/Users/brunasimoes/Desktop/nova_ims/2_semester/Trimestral/deep_learning/deep-learning-project/.venv/lib/python3.11/site-packages/sklearn/metrics/_classification.py:1565: UndefinedMetricWarning: Precision is ill-defined and being set to 0.0 in labels with no predicted samples. Use `zero_division` parameter to control this behavior.\n",
            "  _warn_prf(average, modifier, f\"{metric.capitalize()} is\", len(result))\n",
            "/Users/brunasimoes/Desktop/nova_ims/2_semester/Trimestral/deep_learning/deep-learning-project/.venv/lib/python3.11/site-packages/sklearn/metrics/_classification.py:1565: UndefinedMetricWarning: Precision is ill-defined and being set to 0.0 in labels with no predicted samples. Use `zero_division` parameter to control this behavior.\n",
            "  _warn_prf(average, modifier, f\"{metric.capitalize()} is\", len(result))\n"
          ]
        }
      ],
      "source": [
        "print(\"Classification report with original predictions:\")\n",
        "print(classification_report(labels,y_pred))\n",
        "print(\"Classification report with original predictions:\")\n",
        "print(classification_report(labels,y_pred_hier,digits=4))"
      ]
    },
    {
      "cell_type": "code",
      "execution_count": 22,
      "id": "209f9b80",
      "metadata": {
        "id": "209f9b80"
      },
      "outputs": [
        {
          "data": {
            "image/png": "[encoded data removed]",
            "text/plain": [
              "<Figure size 1000x500 with 1 Axes>"
            ]
          },
          "metadata": {},
          "output_type": "display_data"
        }
      ],
      "source": [
        "# --- 6) Per-phylum accuracy improvement ---\n",
        "phyla = np.unique(y_true_phyl)\n",
        "base_scores = []\n",
        "hier_scores = []\n",
        "for ph in phyla:\n",
        "    idxs = np.where(y_true_phyl == ph)[0]\n",
        "    base_scores.append( accuracy_score(labels[idxs], y_pred[idxs]) )\n",
        "    hier_scores.append( accuracy_score(labels[idxs], y_pred_hier[idxs]) )\n",
        "\n",
        "x = np.arange(len(phyla))\n",
        "width = 0.35\n",
        "\n",
        "plt.figure(figsize=(10,5))\n",
        "plt.bar(x - width/2, base_scores, width, label='Baseline')\n",
        "plt.bar(x + width/2, hier_scores, width, label='Hierarchical')\n",
        "plt.xticks(x, phyla, rotation=45, ha='right')\n",
        "plt.ylabel('Accuracy')\n",
        "plt.title('Accuracy by Phylum')\n",
        "plt.legend()\n",
        "plt.tight_layout()\n",
        "plt.show()\n"
      ]
    }
  ],
  "metadata": {
    "accelerator": "GPU",
    "colab": {
      "gpuType": "T4",
      "provenance": []
    },
    "kernelspec": {
      "display_name": ".venv",
      "language": "python",
      "name": "python3"
    },
    "language_info": {
      "codemirror_mode": {
        "name": "ipython",
        "version": 3
      },
      "file_extension": ".py",
      "mimetype": "text/x-python",
      "name": "python",
      "nbconvert_exporter": "python",
      "pygments_lexer": "ipython3",
      "version": "3.11.0"
    }
  },
  "nbformat": 4,
  "nbformat_minor": 5
}
