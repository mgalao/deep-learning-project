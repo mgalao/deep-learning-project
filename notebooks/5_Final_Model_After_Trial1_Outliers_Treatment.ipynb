{
 "cells": [
  {
   "cell_type": "markdown",
   "metadata": {},
   "source": [
    "<div class=\"alert alert-block alert-success\">\n",
    "\n",
    "# **1.** Environment Setup\n",
    "\n",
    "<div>"
   ]
  },
  {
   "cell_type": "markdown",
   "metadata": {},
   "source": [
    "## 1.1 Connect Google Drive"
   ]
  },
  {
   "cell_type": "code",
   "execution_count": 1,
   "metadata": {},
   "outputs": [],
   "source": [
    "# from google.colab import drive\n",
    "# drive.mount('/content/drive')"
   ]
  },
  {
   "cell_type": "code",
   "execution_count": 2,
   "metadata": {},
   "outputs": [],
   "source": [
    "# import os\n",
    "\n",
    "# # Change to the directory where project is located\n",
    "# os.chdir('/content/drive/MyDrive/College/MSc/2nd Semester/Deep Learning/project')\n",
    "\n",
    "# # Verify that we changed the directory\n",
    "# print(\"Changed directory to:\", os.getcwd())"
   ]
  },
  {
   "cell_type": "markdown",
   "metadata": {},
   "source": [
    "## 1.2 Import Libraries"
   ]
  },
  {
   "cell_type": "code",
   "execution_count": 3,
   "metadata": {},
   "outputs": [],
   "source": [
    "# # # Google Colab\n",
    "# !pip install keras_cv"
   ]
  },
  {
   "cell_type": "code",
   "execution_count": 1,
   "metadata": {},
   "outputs": [
    {
     "name": "stderr",
     "output_type": "stream",
     "text": [
      "/Users/brunasimoes/Desktop/nova_ims/2_semester/Trimestral/deep_learning/deep-learning-project/.venv/lib/python3.11/site-packages/tqdm/auto.py:21: TqdmWarning: IProgress not found. Please update jupyter and ipywidgets. See https://ipywidgets.readthedocs.io/en/stable/user_install.html\n",
      "  from .autonotebook import tqdm as notebook_tqdm\n"
     ]
    }
   ],
   "source": [
    "import pandas as pd\n",
    "import zipfile\n",
    "import pickle\n",
    "from sklearn.preprocessing import LabelEncoder\n",
    "from pathlib import Path\n",
    "from sklearn.model_selection import train_test_split\n",
    "from tensorflow import keras\n",
    "from keras import regularizers\n",
    "from classes import *\n",
    "from functions import *"
   ]
  },
  {
   "cell_type": "code",
   "execution_count": 2,
   "metadata": {},
   "outputs": [],
   "source": [
    "import tensorflow as tf\n",
    "from tensorflow.keras import models\n",
    "from tensorflow.keras import layers\n",
    "from tensorflow.keras.applications import ResNet50\n",
    "from tensorflow.keras.applications.resnet50 import preprocess_input\n",
    "from tensorflow.keras.models import Model\n",
    "from tensorflow.keras.layers import Dense, GlobalAveragePooling2D, Concatenate, Dropout, Input, Conv2D, MaxPooling2D, Flatten\n",
    "from tensorflow.keras.preprocessing.image import ImageDataGenerator \n",
    "from tensorflow.keras.optimizers import Adam\n",
    "from tensorflow.keras.callbacks import ReduceLROnPlateau, EarlyStopping\n",
    "from keras.metrics import AUC, F1Score, CategoricalAccuracy, TopKCategoricalAccuracy\n",
    "from keras import optimizers\n",
    "from sklearn.metrics import classification_report, f1_score, precision_score, recall_score, accuracy_score\n",
    "import numpy as np"
   ]
  },
  {
   "cell_type": "markdown",
   "metadata": {},
   "source": [
    "## 1.3 Import Dataset"
   ]
  },
  {
   "cell_type": "markdown",
   "metadata": {},
   "source": [
    "The amount of data we have is not supported by GitHub (where we have our project stored). The solution is: create a folder named data and allocate the rare_species file inside it. The gitignore file makes sure this folder is not used when we are pulling or pushing changes but everyone needs to have it on their machines locally. A random seed was used to ensure that the splits stay the same. "
   ]
  },
  {
   "cell_type": "code",
   "execution_count": 3,
   "metadata": {},
   "outputs": [],
   "source": [
    "# # Google Colab\n",
    "\n",
    "# # Define the path to the zip file and the extraction folder\n",
    "# zip_path = Path(\"../data/rare_species.zip\")\n",
    "\n",
    "# # Get the directory where the zip file is located\n",
    "# extract_path = Path(\"../data/rare_species\")\n",
    "\n",
    "# with zipfile.ZipFile(zip_path, 'r') as zip_ref:\n",
    "#     zip_ref.extractall(extract_path)"
   ]
  },
  {
   "cell_type": "code",
   "execution_count": 3,
   "metadata": {},
   "outputs": [
    {
     "data": {
      "text/html": [
       "<div>\n",
       "<style scoped>\n",
       "    .dataframe tbody tr th:only-of-type {\n",
       "        vertical-align: middle;\n",
       "    }\n",
       "\n",
       "    .dataframe tbody tr th {\n",
       "        vertical-align: top;\n",
       "    }\n",
       "\n",
       "    .dataframe thead th {\n",
       "        text-align: right;\n",
       "    }\n",
       "</style>\n",
       "<table border=\"1\" class=\"dataframe\">\n",
       "  <thead>\n",
       "    <tr style=\"text-align: right;\">\n",
       "      <th></th>\n",
       "      <th>rare_species_id</th>\n",
       "      <th>eol_content_id</th>\n",
       "      <th>eol_page_id</th>\n",
       "      <th>kingdom</th>\n",
       "      <th>phylum</th>\n",
       "      <th>family</th>\n",
       "      <th>file_path</th>\n",
       "    </tr>\n",
       "  </thead>\n",
       "  <tbody>\n",
       "    <tr>\n",
       "      <th>0</th>\n",
       "      <td>75fd91cb-2881-41cd-88e6-de451e8b60e2</td>\n",
       "      <td>12853737</td>\n",
       "      <td>449393</td>\n",
       "      <td>animalia</td>\n",
       "      <td>mollusca</td>\n",
       "      <td>unionidae</td>\n",
       "      <td>mollusca_unionidae/12853737_449393_eol-full-si...</td>\n",
       "    </tr>\n",
       "    <tr>\n",
       "      <th>1</th>\n",
       "      <td>28c508bc-63ff-4e60-9c8f-1934367e1528</td>\n",
       "      <td>20969394</td>\n",
       "      <td>793083</td>\n",
       "      <td>animalia</td>\n",
       "      <td>chordata</td>\n",
       "      <td>geoemydidae</td>\n",
       "      <td>chordata_geoemydidae/20969394_793083_eol-full-...</td>\n",
       "    </tr>\n",
       "    <tr>\n",
       "      <th>2</th>\n",
       "      <td>00372441-588c-4af8-9665-29bee20822c0</td>\n",
       "      <td>28895411</td>\n",
       "      <td>319982</td>\n",
       "      <td>animalia</td>\n",
       "      <td>chordata</td>\n",
       "      <td>cryptobranchidae</td>\n",
       "      <td>chordata_cryptobranchidae/28895411_319982_eol-...</td>\n",
       "    </tr>\n",
       "    <tr>\n",
       "      <th>3</th>\n",
       "      <td>29cc6040-6af2-49ee-86ec-ab7d89793828</td>\n",
       "      <td>29658536</td>\n",
       "      <td>45510188</td>\n",
       "      <td>animalia</td>\n",
       "      <td>chordata</td>\n",
       "      <td>turdidae</td>\n",
       "      <td>chordata_turdidae/29658536_45510188_eol-full-s...</td>\n",
       "    </tr>\n",
       "    <tr>\n",
       "      <th>4</th>\n",
       "      <td>94004bff-3a33-4758-8125-bf72e6e57eab</td>\n",
       "      <td>21252576</td>\n",
       "      <td>7250886</td>\n",
       "      <td>animalia</td>\n",
       "      <td>chordata</td>\n",
       "      <td>indriidae</td>\n",
       "      <td>chordata_indriidae/21252576_7250886_eol-full-s...</td>\n",
       "    </tr>\n",
       "  </tbody>\n",
       "</table>\n",
       "</div>"
      ],
      "text/plain": [
       "                        rare_species_id  eol_content_id  eol_page_id  \\\n",
       "0  75fd91cb-2881-41cd-88e6-de451e8b60e2        12853737       449393   \n",
       "1  28c508bc-63ff-4e60-9c8f-1934367e1528        20969394       793083   \n",
       "2  00372441-588c-4af8-9665-29bee20822c0        28895411       319982   \n",
       "3  29cc6040-6af2-49ee-86ec-ab7d89793828        29658536     45510188   \n",
       "4  94004bff-3a33-4758-8125-bf72e6e57eab        21252576      7250886   \n",
       "\n",
       "    kingdom    phylum            family  \\\n",
       "0  animalia  mollusca         unionidae   \n",
       "1  animalia  chordata       geoemydidae   \n",
       "2  animalia  chordata  cryptobranchidae   \n",
       "3  animalia  chordata          turdidae   \n",
       "4  animalia  chordata         indriidae   \n",
       "\n",
       "                                           file_path  \n",
       "0  mollusca_unionidae/12853737_449393_eol-full-si...  \n",
       "1  chordata_geoemydidae/20969394_793083_eol-full-...  \n",
       "2  chordata_cryptobranchidae/28895411_319982_eol-...  \n",
       "3  chordata_turdidae/29658536_45510188_eol-full-s...  \n",
       "4  chordata_indriidae/21252576_7250886_eol-full-s...  "
      ]
     },
     "execution_count": 3,
     "metadata": {},
     "output_type": "execute_result"
    }
   ],
   "source": [
    "# Import Metadata\n",
    "metadata_path = Path(\"../data/rare_species/metadata.csv\")\n",
    "df = pd.read_csv(metadata_path)\n",
    "df.head()"
   ]
  },
  {
   "cell_type": "code",
   "execution_count": 4,
   "metadata": {},
   "outputs": [
    {
     "data": {
      "text/plain": [
       "(11983, 7)"
      ]
     },
     "execution_count": 4,
     "metadata": {},
     "output_type": "execute_result"
    }
   ],
   "source": [
    "df.shape # 11983 images"
   ]
  },
  {
   "cell_type": "markdown",
   "metadata": {},
   "source": [
    "<div class=\"alert alert-block alert-success\">\n",
    "\n",
    "# **2.** Feature Engineering \n",
    "\n",
    "<div>"
   ]
  },
  {
   "cell_type": "code",
   "execution_count": 5,
   "metadata": {},
   "outputs": [],
   "source": [
    "#Load the DataFrames from the .pkl files\n",
    "with open(\"../data/train_confident_df.pkl\", \"rb\") as f:\n",
    "     train_df = pickle.load(f)\n",
    "\n",
    "with open(\"../data/val_df.pkl\", \"rb\") as f:\n",
    "     valid_df = pickle.load(f)\n",
    "\n",
    "with open(\"../data/test_df.pkl\", \"rb\") as f:\n",
    "     test_df = pickle.load(f)"
   ]
  },
  {
   "cell_type": "code",
   "execution_count": 6,
   "metadata": {},
   "outputs": [],
   "source": [
    "minority_class = train_df['family'].value_counts()[train_df['family'].value_counts() < 25].index\n",
    "minority_class=minority_class.to_list()"
   ]
  },
  {
   "cell_type": "code",
   "execution_count": 7,
   "metadata": {},
   "outputs": [
    {
     "name": "stderr",
     "output_type": "stream",
     "text": [
      "2025-04-30 23:12:22.974743: I metal_plugin/src/device/metal_device.cc:1154] Metal device set to: Apple M3\n",
      "2025-04-30 23:12:22.974952: I metal_plugin/src/device/metal_device.cc:296] systemMemory: 16.00 GB\n",
      "2025-04-30 23:12:22.974963: I metal_plugin/src/device/metal_device.cc:313] maxCacheSize: 5.33 GB\n",
      "2025-04-30 23:12:22.975185: I tensorflow/core/common_runtime/pluggable_device/pluggable_device_factory.cc:305] Could not identify NUMA node of platform GPU ID 0, defaulting to 0. Your kernel may not have been built with NUMA support.\n",
      "2025-04-30 23:12:22.975209: I tensorflow/core/common_runtime/pluggable_device/pluggable_device_factory.cc:271] Created TensorFlow device (/job:localhost/replica:0/task:0/device:GPU:0 with 0 MB memory) -> physical PluggableDevice (device: 0, name: METAL, pci bus id: <undefined>)\n"
     ]
    }
   ],
   "source": [
    "batch_size = 32 ## in each epoch the model sees N / batch_size images\n",
    "image_size = (224, 224)\n",
    "preprocess = Preprocessor(image_size=image_size, batch_size=batch_size)"
   ]
  },
  {
   "cell_type": "markdown",
   "metadata": {},
   "source": [
    "<div class=\"alert alert-block alert-success\">\n",
    "\n",
    "# **3.** Models\n",
    "\n",
    "<div>"
   ]
  },
  {
   "cell_type": "markdown",
   "metadata": {},
   "source": [
    "## EfficientNet (Includes Best Model)"
   ]
  },
  {
   "cell_type": "markdown",
   "metadata": {},
   "source": [
    "### Set-up"
   ]
  },
  {
   "cell_type": "code",
   "execution_count": 8,
   "metadata": {},
   "outputs": [],
   "source": [
    "from tensorflow.keras.applications.efficientnet import EfficientNetB0, preprocess_input"
   ]
  },
  {
   "cell_type": "code",
   "execution_count": 9,
   "metadata": {},
   "outputs": [
    {
     "name": "stdout",
     "output_type": "stream",
     "text": [
      "Found 8124 files belonging to 202 classes.\n",
      "Found 1797 files belonging to 202 classes.\n"
     ]
    }
   ],
   "source": [
    "# load datasets\n",
    "train_ds, class_names = preprocess.load_img(\n",
    "    data_dir=\"../data/rare_species/train_confident\",\n",
    "    minority_class=minority_class,\n",
    "    augment='mixup',\n",
    "    oversampling=True,\n",
    "    shuffle=True,\n",
    "    preprocessing_function=preprocess_input)\n",
    "\n",
    "val_ds, _ = preprocess.load_img(\n",
    "    data_dir=\"../data/rare_species/val\",\n",
    "    minority_class=[],\n",
    "    augment=None,\n",
    "    shuffle= False,\n",
    "    preprocessing_function=preprocess_input)"
   ]
  },
  {
   "cell_type": "markdown",
   "metadata": {},
   "source": [
    "### Head Train"
   ]
  },
  {
   "cell_type": "code",
   "execution_count": 15,
   "metadata": {},
   "outputs": [],
   "source": [
    "verbose = 1\n",
    "metrics = [\n",
    "    CategoricalAccuracy(name=\"acc\"),\n",
    "    AUC(name=\"auc\"),\n",
    "    F1Score(average=\"macro\", name=\"f1_score\")\n",
    "]\n",
    "\n",
    "initial_lr = 1e-4  \n",
    "final_lr = 4.5409e-05\n",
    "n_epochs = 25\n",
    "my_scheduler_fn = lr_scheduler(initial_lr, final_lr, n_epochs)\n",
    "lr_callback = LearningRateScheduler(my_scheduler_fn)"
   ]
  },
  {
   "cell_type": "code",
   "execution_count": 16,
   "metadata": {},
   "outputs": [],
   "source": [
    "input_img = Input(shape=(224, 224, 3))\n",
    "base_model = EfficientNetB0(include_top=False, weights='imagenet', input_tensor=input_img)\n",
    "\n",
    "for layer in base_model.layers:\n",
    "    layer.trainable = False\n",
    "\n",
    "x = layers.GlobalAveragePooling2D()(base_model.output)\n",
    "x = layers.Dense(256, activation='relu', kernel_regularizer=regularizers.l2(1e-4))(x)\n",
    "x = layers.Dropout(0.5)(x)\n",
    "x = layers.Dense(202, activation='softmax', kernel_regularizer=regularizers.l2(1e-4))(x)\n",
    "\n",
    "model = models.Model(inputs=base_model.input, outputs=x)\n",
    "\n",
    "model.compile(\n",
    "    optimizer=optimizers.RMSprop(learning_rate=1e-4),\n",
    "    loss=keras.losses.CategoricalCrossentropy(label_smoothing=0.01),\n",
    "    metrics=metrics\n",
    ")"
   ]
  },
  {
   "cell_type": "code",
   "execution_count": 17,
   "metadata": {},
   "outputs": [],
   "source": [
    "callbacks_additional = [lr_callback]"
   ]
  },
  {
   "cell_type": "code",
   "execution_count": 18,
   "metadata": {},
   "outputs": [],
   "source": [
    "experiment_en = Experiment(\n",
    "    model=model,\n",
    "    train_ds=train_ds,\n",
    "    val_ds=val_ds,\n",
    "    experiment_name=\"efficient_net_pre_finetuning_without_outliers\",\n",
    "    save_model=False,\n",
    "    batch_size=32,\n",
    "    image_size=(224, 224)\n",
    ")"
   ]
  },
  {
   "cell_type": "code",
   "execution_count": 19,
   "metadata": {},
   "outputs": [
    {
     "name": "stdout",
     "output_type": "stream",
     "text": [
      "Epoch 1/50\n"
     ]
    },
    {
     "name": "stderr",
     "output_type": "stream",
     "text": [
      "/Users/brunasimoes/Desktop/nova_ims/2_semester/Trimestral/deep_learning/deep-learning-project/.venv/lib/python3.11/site-packages/keras/src/models/functional.py:237: UserWarning: The structure of `inputs` doesn't match the expected structure.\n",
      "Expected: ['keras_tensor_242']\n",
      "Received: inputs=Tensor(shape=(None, 224, 224, 3))\n",
      "  warnings.warn(msg)\n"
     ]
    },
    {
     "name": "stdout",
     "output_type": "stream",
     "text": [
      "\u001b[1m339/339\u001b[0m \u001b[32m━━━━━━━━━━━━━━━━━━━━\u001b[0m\u001b[37m\u001b[0m \u001b[1m84s\u001b[0m 235ms/step - acc: 0.0226 - auc: 0.5676 - f1_score: 0.0123 - loss: 5.3878 - val_acc: 0.2165 - val_auc: 0.8043 - val_f1_score: 0.0854 - val_loss: 4.5822 - learning_rate: 9.6891e-05\n",
      "Epoch 2/50\n",
      "\u001b[1m339/339\u001b[0m \u001b[32m━━━━━━━━━━━━━━━━━━━━\u001b[0m\u001b[37m\u001b[0m \u001b[1m159s\u001b[0m 469ms/step - acc: 0.1638 - auc: 0.7745 - f1_score: 0.0779 - loss: 4.6155 - val_acc: 0.2944 - val_auc: 0.8915 - val_f1_score: 0.1504 - val_loss: 3.9424 - learning_rate: 9.3880e-05\n",
      "Epoch 3/50\n",
      "\u001b[1m339/339\u001b[0m \u001b[32m━━━━━━━━━━━━━━━━━━━━\u001b[0m\u001b[37m\u001b[0m \u001b[1m112s\u001b[0m 331ms/step - acc: 0.2424 - auc: 0.8623 - f1_score: 0.1409 - loss: 4.0555 - val_acc: 0.3478 - val_auc: 0.9277 - val_f1_score: 0.2065 - val_loss: 3.4809 - learning_rate: 9.0961e-05\n",
      "Epoch 4/50\n",
      "\u001b[1m339/339\u001b[0m \u001b[32m━━━━━━━━━━━━━━━━━━━━\u001b[0m\u001b[37m\u001b[0m \u001b[1m113s\u001b[0m 334ms/step - acc: 0.3006 - auc: 0.9081 - f1_score: 0.2027 - loss: 3.6191 - val_acc: 0.4057 - val_auc: 0.9490 - val_f1_score: 0.2792 - val_loss: 3.1332 - learning_rate: 8.8134e-05\n",
      "Epoch 5/50\n",
      "\u001b[1m339/339\u001b[0m \u001b[32m━━━━━━━━━━━━━━━━━━━━\u001b[0m\u001b[37m\u001b[0m \u001b[1m106s\u001b[0m 312ms/step - acc: 0.3478 - auc: 0.9299 - f1_score: 0.2524 - loss: 3.2918 - val_acc: 0.4391 - val_auc: 0.9599 - val_f1_score: 0.3217 - val_loss: 2.8593 - learning_rate: 8.5394e-05\n",
      "Epoch 6/50\n",
      "\u001b[1m339/339\u001b[0m \u001b[32m━━━━━━━━━━━━━━━━━━━━\u001b[0m\u001b[37m\u001b[0m \u001b[1m107s\u001b[0m 316ms/step - acc: 0.4021 - auc: 0.9457 - f1_score: 0.3189 - loss: 3.0051 - val_acc: 0.4808 - val_auc: 0.9655 - val_f1_score: 0.3750 - val_loss: 2.6432 - learning_rate: 8.2740e-05\n",
      "Epoch 7/50\n",
      "\u001b[1m339/339\u001b[0m \u001b[32m━━━━━━━━━━━━━━━━━━━━\u001b[0m\u001b[37m\u001b[0m \u001b[1m109s\u001b[0m 323ms/step - acc: 0.4260 - auc: 0.9529 - f1_score: 0.3411 - loss: 2.8027 - val_acc: 0.5131 - val_auc: 0.9683 - val_f1_score: 0.4167 - val_loss: 2.4721 - learning_rate: 8.0168e-05\n",
      "Epoch 8/50\n",
      "\u001b[1m339/339\u001b[0m \u001b[32m━━━━━━━━━━━━━━━━━━━━\u001b[0m\u001b[37m\u001b[0m \u001b[1m112s\u001b[0m 330ms/step - acc: 0.4592 - auc: 0.9594 - f1_score: 0.3823 - loss: 2.6044 - val_acc: 0.5376 - val_auc: 0.9712 - val_f1_score: 0.4454 - val_loss: 2.3344 - learning_rate: 7.7676e-05\n",
      "Epoch 9/50\n",
      "\u001b[1m339/339\u001b[0m \u001b[32m━━━━━━━━━━━━━━━━━━━━\u001b[0m\u001b[37m\u001b[0m \u001b[1m108s\u001b[0m 318ms/step - acc: 0.4899 - auc: 0.9642 - f1_score: 0.4185 - loss: 2.4648 - val_acc: 0.5593 - val_auc: 0.9738 - val_f1_score: 0.4777 - val_loss: 2.2260 - learning_rate: 7.5261e-05\n",
      "Epoch 10/50\n",
      "\u001b[1m339/339\u001b[0m \u001b[32m━━━━━━━━━━━━━━━━━━━━\u001b[0m\u001b[37m\u001b[0m \u001b[1m109s\u001b[0m 323ms/step - acc: 0.5155 - auc: 0.9678 - f1_score: 0.4519 - loss: 2.3379 - val_acc: 0.5743 - val_auc: 0.9749 - val_f1_score: 0.5004 - val_loss: 2.1371 - learning_rate: 7.2922e-05\n",
      "Epoch 11/50\n",
      "\u001b[1m339/339\u001b[0m \u001b[32m━━━━━━━━━━━━━━━━━━━━\u001b[0m\u001b[37m\u001b[0m \u001b[1m121s\u001b[0m 357ms/step - acc: 0.5294 - auc: 0.9684 - f1_score: 0.4660 - loss: 2.2547 - val_acc: 0.5888 - val_auc: 0.9756 - val_f1_score: 0.5198 - val_loss: 2.0651 - learning_rate: 7.0655e-05\n",
      "Epoch 12/50\n",
      "\u001b[1m339/339\u001b[0m \u001b[32m━━━━━━━━━━━━━━━━━━━━\u001b[0m\u001b[37m\u001b[0m \u001b[1m108s\u001b[0m 320ms/step - acc: 0.5493 - auc: 0.9732 - f1_score: 0.4894 - loss: 2.1456 - val_acc: 0.5949 - val_auc: 0.9772 - val_f1_score: 0.5281 - val_loss: 2.0058 - learning_rate: 6.8459e-05\n",
      "Epoch 13/50\n",
      "\u001b[1m339/339\u001b[0m \u001b[32m━━━━━━━━━━━━━━━━━━━━\u001b[0m\u001b[37m\u001b[0m \u001b[1m89s\u001b[0m 264ms/step - acc: 0.5570 - auc: 0.9752 - f1_score: 0.5006 - loss: 2.0609 - val_acc: 0.6049 - val_auc: 0.9771 - val_f1_score: 0.5414 - val_loss: 1.9549 - learning_rate: 6.6331e-05\n",
      "Epoch 14/50\n",
      "\u001b[1m339/339\u001b[0m \u001b[32m━━━━━━━━━━━━━━━━━━━━\u001b[0m\u001b[37m\u001b[0m \u001b[1m90s\u001b[0m 266ms/step - acc: 0.5682 - auc: 0.9778 - f1_score: 0.5154 - loss: 1.9970 - val_acc: 0.6127 - val_auc: 0.9773 - val_f1_score: 0.5515 - val_loss: 1.9109 - learning_rate: 6.4269e-05\n",
      "Epoch 15/50\n",
      "\u001b[1m339/339\u001b[0m \u001b[32m━━━━━━━━━━━━━━━━━━━━\u001b[0m\u001b[37m\u001b[0m \u001b[1m86s\u001b[0m 252ms/step - acc: 0.5795 - auc: 0.9779 - f1_score: 0.5273 - loss: 1.9596 - val_acc: 0.6199 - val_auc: 0.9776 - val_f1_score: 0.5601 - val_loss: 1.8745 - learning_rate: 6.2271e-05\n",
      "Epoch 16/50\n",
      "\u001b[1m339/339\u001b[0m \u001b[32m━━━━━━━━━━━━━━━━━━━━\u001b[0m\u001b[37m\u001b[0m \u001b[1m77s\u001b[0m 228ms/step - acc: 0.5986 - auc: 0.9799 - f1_score: 0.5475 - loss: 1.8889 - val_acc: 0.6266 - val_auc: 0.9784 - val_f1_score: 0.5727 - val_loss: 1.8434 - learning_rate: 6.0335e-05\n",
      "Epoch 17/50\n",
      "\u001b[1m339/339\u001b[0m \u001b[32m━━━━━━━━━━━━━━━━━━━━\u001b[0m\u001b[37m\u001b[0m \u001b[1m79s\u001b[0m 232ms/step - acc: 0.6072 - auc: 0.9813 - f1_score: 0.5579 - loss: 1.8466 - val_acc: 0.6299 - val_auc: 0.9781 - val_f1_score: 0.5762 - val_loss: 1.8151 - learning_rate: 5.8460e-05\n",
      "Epoch 18/50\n",
      "\u001b[1m339/339\u001b[0m \u001b[32m━━━━━━━━━━━━━━━━━━━━\u001b[0m\u001b[37m\u001b[0m \u001b[1m80s\u001b[0m 235ms/step - acc: 0.6119 - auc: 0.9806 - f1_score: 0.5670 - loss: 1.8269 - val_acc: 0.6377 - val_auc: 0.9783 - val_f1_score: 0.5862 - val_loss: 1.7901 - learning_rate: 5.6642e-05\n",
      "Epoch 19/50\n",
      "\u001b[1m339/339\u001b[0m \u001b[32m━━━━━━━━━━━━━━━━━━━━\u001b[0m\u001b[37m\u001b[0m \u001b[1m85s\u001b[0m 252ms/step - acc: 0.6151 - auc: 0.9821 - f1_score: 0.5705 - loss: 1.7959 - val_acc: 0.6383 - val_auc: 0.9783 - val_f1_score: 0.5863 - val_loss: 1.7702 - learning_rate: 5.4882e-05\n",
      "Epoch 20/50\n",
      "\u001b[1m339/339\u001b[0m \u001b[32m━━━━━━━━━━━━━━━━━━━━\u001b[0m\u001b[37m\u001b[0m \u001b[1m80s\u001b[0m 235ms/step - acc: 0.6243 - auc: 0.9815 - f1_score: 0.5787 - loss: 1.7716 - val_acc: 0.6422 - val_auc: 0.9789 - val_f1_score: 0.5946 - val_loss: 1.7522 - learning_rate: 5.3176e-05\n",
      "Epoch 21/50\n",
      "\u001b[1m339/339\u001b[0m \u001b[32m━━━━━━━━━━━━━━━━━━━━\u001b[0m\u001b[37m\u001b[0m \u001b[1m83s\u001b[0m 246ms/step - acc: 0.6268 - auc: 0.9839 - f1_score: 0.5818 - loss: 1.7379 - val_acc: 0.6477 - val_auc: 0.9791 - val_f1_score: 0.5990 - val_loss: 1.7356 - learning_rate: 5.1523e-05\n",
      "Epoch 22/50\n",
      "\u001b[1m339/339\u001b[0m \u001b[32m━━━━━━━━━━━━━━━━━━━━\u001b[0m\u001b[37m\u001b[0m \u001b[1m73s\u001b[0m 217ms/step - acc: 0.6466 - auc: 0.9842 - f1_score: 0.6076 - loss: 1.6959 - val_acc: 0.6505 - val_auc: 0.9790 - val_f1_score: 0.6028 - val_loss: 1.7194 - learning_rate: 4.9921e-05\n",
      "Epoch 23/50\n",
      "\u001b[1m339/339\u001b[0m \u001b[32m━━━━━━━━━━━━━━━━━━━━\u001b[0m\u001b[37m\u001b[0m \u001b[1m72s\u001b[0m 212ms/step - acc: 0.6457 - auc: 0.9853 - f1_score: 0.6039 - loss: 1.6650 - val_acc: 0.6550 - val_auc: 0.9791 - val_f1_score: 0.6092 - val_loss: 1.7059 - learning_rate: 4.8369e-05\n",
      "Epoch 24/50\n",
      "\u001b[1m339/339\u001b[0m \u001b[32m━━━━━━━━━━━━━━━━━━━━\u001b[0m\u001b[37m\u001b[0m \u001b[1m73s\u001b[0m 215ms/step - acc: 0.6464 - auc: 0.9844 - f1_score: 0.6085 - loss: 1.6470 - val_acc: 0.6550 - val_auc: 0.9792 - val_f1_score: 0.6098 - val_loss: 1.6935 - learning_rate: 4.6866e-05\n",
      "Epoch 25/50\n",
      "\u001b[1m339/339\u001b[0m \u001b[32m━━━━━━━━━━━━━━━━━━━━\u001b[0m\u001b[37m\u001b[0m \u001b[1m71s\u001b[0m 210ms/step - acc: 0.6548 - auc: 0.9851 - f1_score: 0.6131 - loss: 1.6241 - val_acc: 0.6589 - val_auc: 0.9790 - val_f1_score: 0.6155 - val_loss: 1.6835 - learning_rate: 4.5409e-05\n",
      "Epoch 26/50\n",
      "\u001b[1m339/339\u001b[0m \u001b[32m━━━━━━━━━━━━━━━━━━━━\u001b[0m\u001b[37m\u001b[0m \u001b[1m71s\u001b[0m 211ms/step - acc: 0.6666 - auc: 0.9854 - f1_score: 0.6254 - loss: 1.6159 - val_acc: 0.6605 - val_auc: 0.9794 - val_f1_score: 0.6178 - val_loss: 1.6731 - learning_rate: 4.3997e-05\n",
      "Epoch 27/50\n",
      "\u001b[1m339/339\u001b[0m \u001b[32m━━━━━━━━━━━━━━━━━━━━\u001b[0m\u001b[37m\u001b[0m \u001b[1m71s\u001b[0m 210ms/step - acc: 0.6561 - auc: 0.9860 - f1_score: 0.6173 - loss: 1.6037 - val_acc: 0.6656 - val_auc: 0.9794 - val_f1_score: 0.6237 - val_loss: 1.6640 - learning_rate: 4.2630e-05\n",
      "Epoch 28/50\n",
      "\u001b[1m339/339\u001b[0m \u001b[32m━━━━━━━━━━━━━━━━━━━━\u001b[0m\u001b[37m\u001b[0m \u001b[1m72s\u001b[0m 211ms/step - acc: 0.6651 - auc: 0.9869 - f1_score: 0.6261 - loss: 1.5815 - val_acc: 0.6644 - val_auc: 0.9790 - val_f1_score: 0.6237 - val_loss: 1.6558 - learning_rate: 4.1305e-05\n",
      "Epoch 29/50\n",
      "\u001b[1m339/339\u001b[0m \u001b[32m━━━━━━━━━━━━━━━━━━━━\u001b[0m\u001b[37m\u001b[0m \u001b[1m71s\u001b[0m 211ms/step - acc: 0.6717 - auc: 0.9868 - f1_score: 0.6359 - loss: 1.5565 - val_acc: 0.6678 - val_auc: 0.9790 - val_f1_score: 0.6255 - val_loss: 1.6484 - learning_rate: 4.0021e-05\n",
      "Epoch 30/50\n",
      "\u001b[1m339/339\u001b[0m \u001b[32m━━━━━━━━━━━━━━━━━━━━\u001b[0m\u001b[37m\u001b[0m \u001b[1m71s\u001b[0m 211ms/step - acc: 0.6815 - auc: 0.9872 - f1_score: 0.6483 - loss: 1.5623 - val_acc: 0.6672 - val_auc: 0.9791 - val_f1_score: 0.6254 - val_loss: 1.6410 - learning_rate: 3.8777e-05\n",
      "Epoch 31/50\n",
      "\u001b[1m339/339\u001b[0m \u001b[32m━━━━━━━━━━━━━━━━━━━━\u001b[0m\u001b[37m\u001b[0m \u001b[1m71s\u001b[0m 211ms/step - acc: 0.6825 - auc: 0.9873 - f1_score: 0.6482 - loss: 1.5387 - val_acc: 0.6700 - val_auc: 0.9794 - val_f1_score: 0.6289 - val_loss: 1.6342 - learning_rate: 3.7571e-05\n",
      "Epoch 32/50\n",
      "\u001b[1m339/339\u001b[0m \u001b[32m━━━━━━━━━━━━━━━━━━━━\u001b[0m\u001b[37m\u001b[0m \u001b[1m72s\u001b[0m 211ms/step - acc: 0.6819 - auc: 0.9869 - f1_score: 0.6468 - loss: 1.5313 - val_acc: 0.6706 - val_auc: 0.9784 - val_f1_score: 0.6296 - val_loss: 1.6282 - learning_rate: 3.6403e-05\n",
      "Epoch 33/50\n",
      "\u001b[1m339/339\u001b[0m \u001b[32m━━━━━━━━━━━━━━━━━━━━\u001b[0m\u001b[37m\u001b[0m \u001b[1m72s\u001b[0m 211ms/step - acc: 0.6825 - auc: 0.9875 - f1_score: 0.6462 - loss: 1.5222 - val_acc: 0.6694 - val_auc: 0.9790 - val_f1_score: 0.6276 - val_loss: 1.6222 - learning_rate: 3.5272e-05\n",
      "Epoch 34/50\n",
      "\u001b[1m339/339\u001b[0m \u001b[32m━━━━━━━━━━━━━━━━━━━━\u001b[0m\u001b[37m\u001b[0m \u001b[1m72s\u001b[0m 212ms/step - acc: 0.6848 - auc: 0.9876 - f1_score: 0.6496 - loss: 1.5079 - val_acc: 0.6733 - val_auc: 0.9788 - val_f1_score: 0.6311 - val_loss: 1.6169 - learning_rate: 3.4175e-05\n",
      "Epoch 35/50\n",
      "\u001b[1m339/339\u001b[0m \u001b[32m━━━━━━━━━━━━━━━━━━━━\u001b[0m\u001b[37m\u001b[0m \u001b[1m72s\u001b[0m 213ms/step - acc: 0.6888 - auc: 0.9876 - f1_score: 0.6541 - loss: 1.5161 - val_acc: 0.6722 - val_auc: 0.9791 - val_f1_score: 0.6301 - val_loss: 1.6123 - learning_rate: 3.3113e-05\n",
      "Epoch 36/50\n",
      "\u001b[1m339/339\u001b[0m \u001b[32m━━━━━━━━━━━━━━━━━━━━\u001b[0m\u001b[37m\u001b[0m \u001b[1m73s\u001b[0m 217ms/step - acc: 0.6877 - auc: 0.9869 - f1_score: 0.6537 - loss: 1.5136 - val_acc: 0.6722 - val_auc: 0.9789 - val_f1_score: 0.6296 - val_loss: 1.6093 - learning_rate: 3.2084e-05\n",
      "Epoch 37/50\n",
      "\u001b[1m339/339\u001b[0m \u001b[32m━━━━━━━━━━━━━━━━━━━━\u001b[0m\u001b[37m\u001b[0m \u001b[1m72s\u001b[0m 213ms/step - acc: 0.6856 - auc: 0.9882 - f1_score: 0.6505 - loss: 1.5004 - val_acc: 0.6745 - val_auc: 0.9792 - val_f1_score: 0.6350 - val_loss: 1.6041 - learning_rate: 3.1086e-05\n",
      "Epoch 38/50\n",
      "\u001b[1m339/339\u001b[0m \u001b[32m━━━━━━━━━━━━━━━━━━━━\u001b[0m\u001b[37m\u001b[0m \u001b[1m72s\u001b[0m 212ms/step - acc: 0.7080 - auc: 0.9890 - f1_score: 0.6710 - loss: 1.4572 - val_acc: 0.6745 - val_auc: 0.9789 - val_f1_score: 0.6334 - val_loss: 1.6016 - learning_rate: 3.0120e-05\n",
      "Epoch 39/50\n",
      "\u001b[1m339/339\u001b[0m \u001b[32m━━━━━━━━━━━━━━━━━━━━\u001b[0m\u001b[37m\u001b[0m \u001b[1m74s\u001b[0m 218ms/step - acc: 0.7024 - auc: 0.9881 - f1_score: 0.6699 - loss: 1.4646 - val_acc: 0.6733 - val_auc: 0.9782 - val_f1_score: 0.6336 - val_loss: 1.5974 - learning_rate: 2.9184e-05\n",
      "Epoch 40/50\n",
      "\u001b[1m339/339\u001b[0m \u001b[32m━━━━━━━━━━━━━━━━━━━━\u001b[0m\u001b[37m\u001b[0m \u001b[1m77s\u001b[0m 229ms/step - acc: 0.6949 - auc: 0.9884 - f1_score: 0.6659 - loss: 1.4678 - val_acc: 0.6722 - val_auc: 0.9777 - val_f1_score: 0.6330 - val_loss: 1.5936 - learning_rate: 2.8277e-05\n",
      "Epoch 41/50\n",
      "\u001b[1m339/339\u001b[0m \u001b[32m━━━━━━━━━━━━━━━━━━━━\u001b[0m\u001b[37m\u001b[0m \u001b[1m78s\u001b[0m 229ms/step - acc: 0.7058 - auc: 0.9892 - f1_score: 0.6715 - loss: 1.4422 - val_acc: 0.6739 - val_auc: 0.9777 - val_f1_score: 0.6332 - val_loss: 1.5903 - learning_rate: 2.7398e-05\n",
      "Epoch 42/50\n",
      "\u001b[1m339/339\u001b[0m \u001b[32m━━━━━━━━━━━━━━━━━━━━\u001b[0m\u001b[37m\u001b[0m \u001b[1m74s\u001b[0m 219ms/step - acc: 0.7147 - auc: 0.9896 - f1_score: 0.6825 - loss: 1.4327 - val_acc: 0.6750 - val_auc: 0.9777 - val_f1_score: 0.6347 - val_loss: 1.5875 - learning_rate: 2.6546e-05\n",
      "Epoch 43/50\n",
      "\u001b[1m339/339\u001b[0m \u001b[32m━━━━━━━━━━━━━━━━━━━━\u001b[0m\u001b[37m\u001b[0m \u001b[1m73s\u001b[0m 215ms/step - acc: 0.7101 - auc: 0.9890 - f1_score: 0.6780 - loss: 1.4477 - val_acc: 0.6745 - val_auc: 0.9775 - val_f1_score: 0.6350 - val_loss: 1.5846 - learning_rate: 2.5721e-05\n",
      "Epoch 44/50\n",
      "\u001b[1m339/339\u001b[0m \u001b[32m━━━━━━━━━━━━━━━━━━━━\u001b[0m\u001b[37m\u001b[0m \u001b[1m72s\u001b[0m 213ms/step - acc: 0.7101 - auc: 0.9894 - f1_score: 0.6775 - loss: 1.4203 - val_acc: 0.6761 - val_auc: 0.9781 - val_f1_score: 0.6358 - val_loss: 1.5820 - learning_rate: 2.4921e-05\n",
      "Epoch 45/50\n",
      "\u001b[1m339/339\u001b[0m \u001b[32m━━━━━━━━━━━━━━━━━━━━\u001b[0m\u001b[37m\u001b[0m \u001b[1m73s\u001b[0m 214ms/step - acc: 0.7128 - auc: 0.9890 - f1_score: 0.6779 - loss: 1.4216 - val_acc: 0.6756 - val_auc: 0.9778 - val_f1_score: 0.6374 - val_loss: 1.5786 - learning_rate: 2.4147e-05\n",
      "Epoch 46/50\n",
      "\u001b[1m339/339\u001b[0m \u001b[32m━━━━━━━━━━━━━━━━━━━━\u001b[0m\u001b[37m\u001b[0m \u001b[1m73s\u001b[0m 214ms/step - acc: 0.7078 - auc: 0.9897 - f1_score: 0.6740 - loss: 1.4187 - val_acc: 0.6784 - val_auc: 0.9776 - val_f1_score: 0.6385 - val_loss: 1.5758 - learning_rate: 2.3396e-05\n",
      "Epoch 47/50\n",
      "\u001b[1m339/339\u001b[0m \u001b[32m━━━━━━━━━━━━━━━━━━━━\u001b[0m\u001b[37m\u001b[0m \u001b[1m75s\u001b[0m 221ms/step - acc: 0.7130 - auc: 0.9892 - f1_score: 0.6789 - loss: 1.4229 - val_acc: 0.6789 - val_auc: 0.9781 - val_f1_score: 0.6399 - val_loss: 1.5744 - learning_rate: 2.2669e-05\n",
      "Epoch 48/50\n",
      "\u001b[1m339/339\u001b[0m \u001b[32m━━━━━━━━━━━━━━━━━━━━\u001b[0m\u001b[37m\u001b[0m \u001b[1m74s\u001b[0m 217ms/step - acc: 0.7141 - auc: 0.9889 - f1_score: 0.6828 - loss: 1.4199 - val_acc: 0.6784 - val_auc: 0.9776 - val_f1_score: 0.6409 - val_loss: 1.5726 - learning_rate: 2.1964e-05\n",
      "Epoch 49/50\n",
      "\u001b[1m339/339\u001b[0m \u001b[32m━━━━━━━━━━━━━━━━━━━━\u001b[0m\u001b[37m\u001b[0m \u001b[1m73s\u001b[0m 214ms/step - acc: 0.7166 - auc: 0.9903 - f1_score: 0.6842 - loss: 1.4093 - val_acc: 0.6806 - val_auc: 0.9779 - val_f1_score: 0.6423 - val_loss: 1.5703 - learning_rate: 2.1281e-05\n",
      "Epoch 50/50\n",
      "\u001b[1m339/339\u001b[0m \u001b[32m━━━━━━━━━━━━━━━━━━━━\u001b[0m\u001b[37m\u001b[0m \u001b[1m73s\u001b[0m 215ms/step - acc: 0.7200 - auc: 0.9895 - f1_score: 0.6869 - loss: 1.4003 - val_acc: 0.6795 - val_auc: 0.9774 - val_f1_score: 0.6406 - val_loss: 1.5687 - learning_rate: 2.0620e-05\n"
     ]
    }
   ],
   "source": [
    "history_en = experiment_en.run_experiment(callbacks=callbacks_additional, epochs=50)"
   ]
  },
  {
   "cell_type": "code",
   "execution_count": 20,
   "metadata": {},
   "outputs": [],
   "source": [
    "df_history_en = pd.DataFrame(history_en.history)\n",
    "df_history_en.to_csv('efficient_net_final_without_outliers_train_history.csv', index=False)"
   ]
  },
  {
   "cell_type": "code",
   "execution_count": 21,
   "metadata": {},
   "outputs": [],
   "source": [
    "model.save(\"efficient_net_pre_finetuning_without_outliers.keras\")"
   ]
  },
  {
   "cell_type": "code",
   "execution_count": 22,
   "metadata": {},
   "outputs": [
    {
     "data": {
      "image/png": "[encoded data removed]",
      "text/plain": [
       "<Figure size 640x480 with 1 Axes>"
      ]
     },
     "metadata": {},
     "output_type": "display_data"
    }
   ],
   "source": [
    "acc_train_en = history_en.history['acc']\n",
    "acc_val_en = history_en.history['val_acc']\n",
    "plot_model_acc(num_epochs=50, train_acc=acc_train_en, val_acc=acc_val_en)"
   ]
  },
  {
   "cell_type": "code",
   "execution_count": 23,
   "metadata": {},
   "outputs": [
    {
     "data": {
      "image/png": "[encoded data removed]",
      "text/plain": [
       "<Figure size 640x480 with 1 Axes>"
      ]
     },
     "metadata": {},
     "output_type": "display_data"
    }
   ],
   "source": [
    "loss_train_en = history_en.history['loss']\n",
    "loss_val_en = history_en.history['val_loss']\n",
    "plot_model_loss(num_epochs=50, train_loss=loss_train_en, val_loss=loss_val_en)"
   ]
  },
  {
   "cell_type": "code",
   "execution_count": 24,
   "metadata": {},
   "outputs": [
    {
     "data": {
      "image/png": "[encoded data removed]",
      "text/plain": [
       "<Figure size 640x480 with 1 Axes>"
      ]
     },
     "metadata": {},
     "output_type": "display_data"
    }
   ],
   "source": [
    "x_axis = range(1,50+1)\n",
    "plt.plot(x_axis, history_en.history['f1_score'], 'r', label='Training F1-Score')\n",
    "plt.plot(x_axis, history_en.history['val_f1_score'], 'g', label='Validation F1-Score')\n",
    "plt.title('Training and Validation F1-Score')\n",
    "plt.xlabel('Epochs')\n",
    "plt.ylabel('F1-Score')\n",
    "plt.legend()\n",
    "plt.show()"
   ]
  },
  {
   "cell_type": "markdown",
   "metadata": {},
   "source": [
    "### Fine-tune"
   ]
  },
  {
   "cell_type": "markdown",
   "metadata": {},
   "source": [
    "References: https://www.tensorflow.org/tutorials/keras/keras_tuner?hl=pt-br\n",
    "\n",
    "\"When fine-tuning a pre-trained model that contains BatchNormalization layers, it is usually a good idea to keep them frozen (i.e., set layer.trainable = False), to avoid corrupting the running statistics that the layers have learned.\""
   ]
  },
  {
   "cell_type": "code",
   "execution_count": 25,
   "metadata": {},
   "outputs": [],
   "source": [
    "base_model_ft_en = load_model(\"efficient_net_pre_finetuning_without_outliers.keras\", compile=False)"
   ]
  },
  {
   "cell_type": "code",
   "execution_count": 26,
   "metadata": {},
   "outputs": [],
   "source": [
    "verbose = 1\n",
    "metrics = [\n",
    "    CategoricalAccuracy(name=\"acc\"),\n",
    "    AUC(name=\"auc\"),\n",
    "    F1Score(average=\"macro\", name=\"f1_score\")\n",
    "]\n",
    "\n",
    "initial_lr = 1e-5\n",
    "final_lr = 1e-6\n",
    "n_epochs = 100\n",
    "my_scheduler_fn = lr_scheduler(initial_lr, final_lr, n_epochs)\n",
    "lr_callback = LearningRateScheduler(my_scheduler_fn)"
   ]
  },
  {
   "cell_type": "code",
   "execution_count": null,
   "metadata": {},
   "outputs": [],
   "source": [
    "progressive_unfreeze = ProgressiveUnfreeze(base_model_ft_en) \n",
    "\n",
    "base_model_ft_en.compile(\n",
    "    optimizer=optimizers.RMSprop(learning_rate=1e-5),\n",
    "    loss=keras.losses.CategoricalCrossentropy(label_smoothing=0.01),\n",
    "    metrics=metrics\n",
    ")\n"
   ]
  },
  {
   "cell_type": "code",
   "execution_count": 29,
   "metadata": {},
   "outputs": [
    {
     "name": "stdout",
     "output_type": "stream",
     "text": [
      "Epoch 1/100\n",
      "\u001b[1m339/339\u001b[0m \u001b[32m━━━━━━━━━━━━━━━━━━━━\u001b[0m\u001b[37m\u001b[0m \u001b[1m0s\u001b[0m 209ms/step - acc: 0.7208 - auc: 0.9897 - f1_score: 0.6889 - loss: 1.3888Epoch 0: Layer now unfrozen 241 (dense_3)\n",
      "\u001b[1m339/339\u001b[0m \u001b[32m━━━━━━━━━━━━━━━━━━━━\u001b[0m\u001b[37m\u001b[0m \u001b[1m92s\u001b[0m 251ms/step - acc: 0.7208 - auc: 0.9897 - f1_score: 0.6890 - loss: 1.3888 - val_acc: 0.6800 - val_auc: 0.9774 - val_f1_score: 0.6419 - val_loss: 1.5686 - learning_rate: 9.7724e-06\n",
      "Epoch 2/100\n",
      "\u001b[1m339/339\u001b[0m \u001b[32m━━━━━━━━━━━━━━━━━━━━\u001b[0m\u001b[37m\u001b[0m \u001b[1m70s\u001b[0m 206ms/step - acc: 0.7274 - auc: 0.9895 - f1_score: 0.6963 - loss: 1.3839 - val_acc: 0.6806 - val_auc: 0.9774 - val_f1_score: 0.6423 - val_loss: 1.5676 - learning_rate: 9.5499e-06\n",
      "Epoch 3/100\n",
      "\u001b[1m339/339\u001b[0m \u001b[32m━━━━━━━━━━━━━━━━━━━━\u001b[0m\u001b[37m\u001b[0m \u001b[1m0s\u001b[0m 184ms/step - acc: 0.7195 - auc: 0.9902 - f1_score: 0.6900 - loss: 1.3951Epoch 2: Layer now unfrozen 240 (dropout_1)\n",
      "\u001b[1m339/339\u001b[0m \u001b[32m━━━━━━━━━━━━━━━━━━━━\u001b[0m\u001b[37m\u001b[0m \u001b[1m73s\u001b[0m 215ms/step - acc: 0.7195 - auc: 0.9902 - f1_score: 0.6901 - loss: 1.3951 - val_acc: 0.6789 - val_auc: 0.9774 - val_f1_score: 0.6406 - val_loss: 1.5667 - learning_rate: 9.3325e-06\n",
      "Epoch 4/100\n",
      "\u001b[1m339/339\u001b[0m \u001b[32m━━━━━━━━━━━━━━━━━━━━\u001b[0m\u001b[37m\u001b[0m \u001b[1m75s\u001b[0m 223ms/step - acc: 0.7232 - auc: 0.9894 - f1_score: 0.6871 - loss: 1.3977 - val_acc: 0.6795 - val_auc: 0.9774 - val_f1_score: 0.6408 - val_loss: 1.5660 - learning_rate: 9.1201e-06\n",
      "Epoch 5/100\n",
      "\u001b[1m339/339\u001b[0m \u001b[32m━━━━━━━━━━━━━━━━━━━━\u001b[0m\u001b[37m\u001b[0m \u001b[1m0s\u001b[0m 187ms/step - acc: 0.7249 - auc: 0.9900 - f1_score: 0.6936 - loss: 1.3888Epoch 4: Layer now unfrozen 239 (dense_2)\n",
      "\u001b[1m339/339\u001b[0m \u001b[32m━━━━━━━━━━━━━━━━━━━━\u001b[0m\u001b[37m\u001b[0m \u001b[1m73s\u001b[0m 215ms/step - acc: 0.7249 - auc: 0.9900 - f1_score: 0.6937 - loss: 1.3888 - val_acc: 0.6811 - val_auc: 0.9774 - val_f1_score: 0.6426 - val_loss: 1.5651 - learning_rate: 8.9125e-06\n",
      "Epoch 6/100\n",
      "\u001b[1m339/339\u001b[0m \u001b[32m━━━━━━━━━━━━━━━━━━━━\u001b[0m\u001b[37m\u001b[0m \u001b[1m73s\u001b[0m 216ms/step - acc: 0.7241 - auc: 0.9898 - f1_score: 0.6910 - loss: 1.3780 - val_acc: 0.6800 - val_auc: 0.9774 - val_f1_score: 0.6412 - val_loss: 1.5642 - learning_rate: 8.7096e-06\n",
      "Epoch 7/100\n",
      "\u001b[1m339/339\u001b[0m \u001b[32m━━━━━━━━━━━━━━━━━━━━\u001b[0m\u001b[37m\u001b[0m \u001b[1m0s\u001b[0m 186ms/step - acc: 0.7247 - auc: 0.9894 - f1_score: 0.6949 - loss: 1.3825Epoch 6: Layer now unfrozen 238 (global_average_pooling2d_1)\n",
      "\u001b[1m339/339\u001b[0m \u001b[32m━━━━━━━━━━━━━━━━━━━━\u001b[0m\u001b[37m\u001b[0m \u001b[1m73s\u001b[0m 216ms/step - acc: 0.7247 - auc: 0.9894 - f1_score: 0.6950 - loss: 1.3825 - val_acc: 0.6811 - val_auc: 0.9777 - val_f1_score: 0.6421 - val_loss: 1.5638 - learning_rate: 8.5114e-06\n",
      "Epoch 8/100\n",
      "\u001b[1m339/339\u001b[0m \u001b[32m━━━━━━━━━━━━━━━━━━━━\u001b[0m\u001b[37m\u001b[0m \u001b[1m72s\u001b[0m 214ms/step - acc: 0.7294 - auc: 0.9900 - f1_score: 0.6955 - loss: 1.3811 - val_acc: 0.6811 - val_auc: 0.9777 - val_f1_score: 0.6423 - val_loss: 1.5633 - learning_rate: 8.3176e-06\n",
      "Epoch 9/100\n",
      "\u001b[1m339/339\u001b[0m \u001b[32m━━━━━━━━━━━━━━━━━━━━\u001b[0m\u001b[37m\u001b[0m \u001b[1m0s\u001b[0m 184ms/step - acc: 0.7223 - auc: 0.9897 - f1_score: 0.6908 - loss: 1.3824Epoch 8: Layer now unfrozen 237 (top_activation)\n",
      "\u001b[1m339/339\u001b[0m \u001b[32m━━━━━━━━━━━━━━━━━━━━\u001b[0m\u001b[37m\u001b[0m \u001b[1m72s\u001b[0m 214ms/step - acc: 0.7223 - auc: 0.9897 - f1_score: 0.6909 - loss: 1.3824 - val_acc: 0.6795 - val_auc: 0.9774 - val_f1_score: 0.6416 - val_loss: 1.5625 - learning_rate: 8.1283e-06\n",
      "Epoch 10/100\n",
      "\u001b[1m339/339\u001b[0m \u001b[32m━━━━━━━━━━━━━━━━━━━━\u001b[0m\u001b[37m\u001b[0m \u001b[1m73s\u001b[0m 214ms/step - acc: 0.7236 - auc: 0.9898 - f1_score: 0.6904 - loss: 1.3801 - val_acc: 0.6806 - val_auc: 0.9774 - val_f1_score: 0.6430 - val_loss: 1.5617 - learning_rate: 7.9433e-06\n",
      "Epoch 11/100\n",
      "\u001b[1m339/339\u001b[0m \u001b[32m━━━━━━━━━━━━━━━━━━━━\u001b[0m\u001b[37m\u001b[0m \u001b[1m0s\u001b[0m 188ms/step - acc: 0.7232 - auc: 0.9898 - f1_score: 0.6918 - loss: 1.3761Epoch 10: Layer now unfrozen 235 (top_conv)\n",
      "\u001b[1m339/339\u001b[0m \u001b[32m━━━━━━━━━━━━━━━━━━━━\u001b[0m\u001b[37m\u001b[0m \u001b[1m74s\u001b[0m 218ms/step - acc: 0.7232 - auc: 0.9898 - f1_score: 0.6919 - loss: 1.3761 - val_acc: 0.6817 - val_auc: 0.9777 - val_f1_score: 0.6435 - val_loss: 1.5609 - learning_rate: 7.7625e-06\n",
      "Epoch 12/100\n",
      "\u001b[1m339/339\u001b[0m \u001b[32m━━━━━━━━━━━━━━━━━━━━\u001b[0m\u001b[37m\u001b[0m \u001b[1m73s\u001b[0m 215ms/step - acc: 0.7222 - auc: 0.9898 - f1_score: 0.6929 - loss: 1.3706 - val_acc: 0.6806 - val_auc: 0.9775 - val_f1_score: 0.6427 - val_loss: 1.5603 - learning_rate: 7.5858e-06\n",
      "Epoch 13/100\n",
      "\u001b[1m339/339\u001b[0m \u001b[32m━━━━━━━━━━━━━━━━━━━━\u001b[0m\u001b[37m\u001b[0m \u001b[1m0s\u001b[0m 185ms/step - acc: 0.7302 - auc: 0.9901 - f1_score: 0.7004 - loss: 1.3597Epoch 12: Layer now unfrozen 233 (block7a_project_conv)\n",
      "\u001b[1m339/339\u001b[0m \u001b[32m━━━━━━━━━━━━━━━━━━━━\u001b[0m\u001b[37m\u001b[0m \u001b[1m73s\u001b[0m 214ms/step - acc: 0.7302 - auc: 0.9901 - f1_score: 0.7004 - loss: 1.3597 - val_acc: 0.6817 - val_auc: 0.9774 - val_f1_score: 0.6440 - val_loss: 1.5598 - learning_rate: 7.4131e-06\n",
      "Epoch 14/100\n",
      "\u001b[1m339/339\u001b[0m \u001b[32m━━━━━━━━━━━━━━━━━━━━\u001b[0m\u001b[37m\u001b[0m \u001b[1m73s\u001b[0m 214ms/step - acc: 0.7397 - auc: 0.9903 - f1_score: 0.7094 - loss: 1.3546 - val_acc: 0.6834 - val_auc: 0.9774 - val_f1_score: 0.6449 - val_loss: 1.5593 - learning_rate: 7.2444e-06\n",
      "Epoch 15/100\n",
      "\u001b[1m339/339\u001b[0m \u001b[32m━━━━━━━━━━━━━━━━━━━━\u001b[0m\u001b[37m\u001b[0m \u001b[1m0s\u001b[0m 185ms/step - acc: 0.7379 - auc: 0.9896 - f1_score: 0.7042 - loss: 1.3624Epoch 14: Layer now unfrozen 232 (block7a_se_excite)\n",
      "\u001b[1m339/339\u001b[0m \u001b[32m━━━━━━━━━━━━━━━━━━━━\u001b[0m\u001b[37m\u001b[0m \u001b[1m73s\u001b[0m 214ms/step - acc: 0.7379 - auc: 0.9896 - f1_score: 0.7043 - loss: 1.3625 - val_acc: 0.6828 - val_auc: 0.9774 - val_f1_score: 0.6448 - val_loss: 1.5587 - learning_rate: 7.0795e-06\n",
      "Epoch 16/100\n",
      "\u001b[1m339/339\u001b[0m \u001b[32m━━━━━━━━━━━━━━━━━━━━\u001b[0m\u001b[37m\u001b[0m \u001b[1m74s\u001b[0m 218ms/step - acc: 0.7405 - auc: 0.9899 - f1_score: 0.7107 - loss: 1.3561 - val_acc: 0.6834 - val_auc: 0.9772 - val_f1_score: 0.6449 - val_loss: 1.5582 - learning_rate: 6.9183e-06\n",
      "Epoch 17/100\n",
      "\u001b[1m339/339\u001b[0m \u001b[32m━━━━━━━━━━━━━━━━━━━━\u001b[0m\u001b[37m\u001b[0m \u001b[1m0s\u001b[0m 187ms/step - acc: 0.7278 - auc: 0.9895 - f1_score: 0.6961 - loss: 1.3765Epoch 16: Layer now unfrozen 231 (block7a_se_expand)\n",
      "\u001b[1m339/339\u001b[0m \u001b[32m━━━━━━━━━━━━━━━━━━━━\u001b[0m\u001b[37m\u001b[0m \u001b[1m73s\u001b[0m 216ms/step - acc: 0.7278 - auc: 0.9895 - f1_score: 0.6962 - loss: 1.3765 - val_acc: 0.6828 - val_auc: 0.9775 - val_f1_score: 0.6444 - val_loss: 1.5577 - learning_rate: 6.7608e-06\n",
      "Epoch 18/100\n",
      "\u001b[1m339/339\u001b[0m \u001b[32m━━━━━━━━━━━━━━━━━━━━\u001b[0m\u001b[37m\u001b[0m \u001b[1m73s\u001b[0m 215ms/step - acc: 0.7351 - auc: 0.9905 - f1_score: 0.7015 - loss: 1.3605 - val_acc: 0.6817 - val_auc: 0.9775 - val_f1_score: 0.6436 - val_loss: 1.5573 - learning_rate: 6.6069e-06\n",
      "Epoch 19/100\n",
      "\u001b[1m339/339\u001b[0m \u001b[32m━━━━━━━━━━━━━━━━━━━━\u001b[0m\u001b[37m\u001b[0m \u001b[1m0s\u001b[0m 186ms/step - acc: 0.7211 - auc: 0.9897 - f1_score: 0.6890 - loss: 1.3854Epoch 18: Layer now unfrozen 230 (block7a_se_reduce)\n",
      "\u001b[1m339/339\u001b[0m \u001b[32m━━━━━━━━━━━━━━━━━━━━\u001b[0m\u001b[37m\u001b[0m \u001b[1m73s\u001b[0m 216ms/step - acc: 0.7211 - auc: 0.9897 - f1_score: 0.6891 - loss: 1.3854 - val_acc: 0.6817 - val_auc: 0.9772 - val_f1_score: 0.6438 - val_loss: 1.5571 - learning_rate: 6.4565e-06\n",
      "Epoch 20/100\n",
      "\u001b[1m339/339\u001b[0m \u001b[32m━━━━━━━━━━━━━━━━━━━━\u001b[0m\u001b[37m\u001b[0m \u001b[1m74s\u001b[0m 218ms/step - acc: 0.7286 - auc: 0.9908 - f1_score: 0.6975 - loss: 1.3543 - val_acc: 0.6822 - val_auc: 0.9772 - val_f1_score: 0.6450 - val_loss: 1.5564 - learning_rate: 6.3096e-06\n",
      "Epoch 21/100\n",
      "\u001b[1m339/339\u001b[0m \u001b[32m━━━━━━━━━━━━━━━━━━━━\u001b[0m\u001b[37m\u001b[0m \u001b[1m0s\u001b[0m 187ms/step - acc: 0.7260 - auc: 0.9905 - f1_score: 0.6954 - loss: 1.3661Epoch 20: Layer now unfrozen 229 (block7a_se_reshape)\n",
      "\u001b[1m339/339\u001b[0m \u001b[32m━━━━━━━━━━━━━━━━━━━━\u001b[0m\u001b[37m\u001b[0m \u001b[1m74s\u001b[0m 217ms/step - acc: 0.7260 - auc: 0.9905 - f1_score: 0.6955 - loss: 1.3661 - val_acc: 0.6822 - val_auc: 0.9772 - val_f1_score: 0.6447 - val_loss: 1.5559 - learning_rate: 6.1660e-06\n",
      "Epoch 22/100\n",
      "\u001b[1m339/339\u001b[0m \u001b[32m━━━━━━━━━━━━━━━━━━━━\u001b[0m\u001b[37m\u001b[0m \u001b[1m73s\u001b[0m 216ms/step - acc: 0.7275 - auc: 0.9907 - f1_score: 0.6965 - loss: 1.3703 - val_acc: 0.6834 - val_auc: 0.9772 - val_f1_score: 0.6456 - val_loss: 1.5556 - learning_rate: 6.0256e-06\n",
      "Epoch 23/100\n",
      "\u001b[1m339/339\u001b[0m \u001b[32m━━━━━━━━━━━━━━━━━━━━\u001b[0m\u001b[37m\u001b[0m \u001b[1m0s\u001b[0m 186ms/step - acc: 0.7325 - auc: 0.9902 - f1_score: 0.7010 - loss: 1.3611Epoch 22: Layer now unfrozen 228 (block7a_se_squeeze)\n",
      "\u001b[1m339/339\u001b[0m \u001b[32m━━━━━━━━━━━━━━━━━━━━\u001b[0m\u001b[37m\u001b[0m \u001b[1m73s\u001b[0m 216ms/step - acc: 0.7325 - auc: 0.9902 - f1_score: 0.7010 - loss: 1.3611 - val_acc: 0.6839 - val_auc: 0.9772 - val_f1_score: 0.6455 - val_loss: 1.5550 - learning_rate: 5.8884e-06\n",
      "Epoch 24/100\n",
      "\u001b[1m339/339\u001b[0m \u001b[32m━━━━━━━━━━━━━━━━━━━━\u001b[0m\u001b[37m\u001b[0m \u001b[1m73s\u001b[0m 216ms/step - acc: 0.7247 - auc: 0.9910 - f1_score: 0.6936 - loss: 1.3721 - val_acc: 0.6834 - val_auc: 0.9775 - val_f1_score: 0.6456 - val_loss: 1.5545 - learning_rate: 5.7544e-06\n",
      "Epoch 25/100\n",
      "\u001b[1m339/339\u001b[0m \u001b[32m━━━━━━━━━━━━━━━━━━━━\u001b[0m\u001b[37m\u001b[0m \u001b[1m0s\u001b[0m 195ms/step - acc: 0.7338 - auc: 0.9898 - f1_score: 0.7035 - loss: 1.3596Epoch 24: Layer now unfrozen 227 (block7a_activation)\n",
      "\u001b[1m339/339\u001b[0m \u001b[32m━━━━━━━━━━━━━━━━━━━━\u001b[0m\u001b[37m\u001b[0m \u001b[1m76s\u001b[0m 225ms/step - acc: 0.7338 - auc: 0.9898 - f1_score: 0.7036 - loss: 1.3596 - val_acc: 0.6839 - val_auc: 0.9772 - val_f1_score: 0.6455 - val_loss: 1.5540 - learning_rate: 5.6234e-06\n",
      "Epoch 26/100\n",
      "\u001b[1m339/339\u001b[0m \u001b[32m━━━━━━━━━━━━━━━━━━━━\u001b[0m\u001b[37m\u001b[0m \u001b[1m73s\u001b[0m 216ms/step - acc: 0.7288 - auc: 0.9901 - f1_score: 0.7005 - loss: 1.3562 - val_acc: 0.6845 - val_auc: 0.9772 - val_f1_score: 0.6467 - val_loss: 1.5536 - learning_rate: 5.4954e-06\n",
      "Epoch 27/100\n",
      "\u001b[1m339/339\u001b[0m \u001b[32m━━━━━━━━━━━━━━━━━━━━\u001b[0m\u001b[37m\u001b[0m \u001b[1m0s\u001b[0m 186ms/step - acc: 0.7261 - auc: 0.9906 - f1_score: 0.6912 - loss: 1.3719Epoch 26: Layer now unfrozen 225 (block7a_dwconv)\n",
      "\u001b[1m339/339\u001b[0m \u001b[32m━━━━━━━━━━━━━━━━━━━━\u001b[0m\u001b[37m\u001b[0m \u001b[1m73s\u001b[0m 216ms/step - acc: 0.7261 - auc: 0.9906 - f1_score: 0.6913 - loss: 1.3719 - val_acc: 0.6850 - val_auc: 0.9772 - val_f1_score: 0.6477 - val_loss: 1.5533 - learning_rate: 5.3703e-06\n",
      "Epoch 28/100\n",
      "\u001b[1m339/339\u001b[0m \u001b[32m━━━━━━━━━━━━━━━━━━━━\u001b[0m\u001b[37m\u001b[0m \u001b[1m73s\u001b[0m 215ms/step - acc: 0.7321 - auc: 0.9906 - f1_score: 0.7002 - loss: 1.3543 - val_acc: 0.6861 - val_auc: 0.9772 - val_f1_score: 0.6486 - val_loss: 1.5527 - learning_rate: 5.2481e-06\n",
      "Epoch 29/100\n",
      "\u001b[1m339/339\u001b[0m \u001b[32m━━━━━━━━━━━━━━━━━━━━\u001b[0m\u001b[37m\u001b[0m \u001b[1m0s\u001b[0m 187ms/step - acc: 0.7210 - auc: 0.9901 - f1_score: 0.6884 - loss: 1.3819Epoch 28: Layer now unfrozen 224 (block7a_expand_activation)\n",
      "\u001b[1m339/339\u001b[0m \u001b[32m━━━━━━━━━━━━━━━━━━━━\u001b[0m\u001b[37m\u001b[0m \u001b[1m74s\u001b[0m 217ms/step - acc: 0.7210 - auc: 0.9901 - f1_score: 0.6885 - loss: 1.3819 - val_acc: 0.6873 - val_auc: 0.9773 - val_f1_score: 0.6499 - val_loss: 1.5524 - learning_rate: 5.1286e-06\n",
      "Epoch 30/100\n",
      "\u001b[1m339/339\u001b[0m \u001b[32m━━━━━━━━━━━━━━━━━━━━\u001b[0m\u001b[37m\u001b[0m \u001b[1m74s\u001b[0m 219ms/step - acc: 0.7363 - auc: 0.9908 - f1_score: 0.7039 - loss: 1.3597 - val_acc: 0.6873 - val_auc: 0.9773 - val_f1_score: 0.6510 - val_loss: 1.5521 - learning_rate: 5.0119e-06\n",
      "Epoch 31/100\n",
      "\u001b[1m339/339\u001b[0m \u001b[32m━━━━━━━━━━━━━━━━━━━━\u001b[0m\u001b[37m\u001b[0m \u001b[1m0s\u001b[0m 186ms/step - acc: 0.7280 - auc: 0.9911 - f1_score: 0.6947 - loss: 1.3628Epoch 30: Layer now unfrozen 222 (block7a_expand_conv)\n",
      "\u001b[1m339/339\u001b[0m \u001b[32m━━━━━━━━━━━━━━━━━━━━\u001b[0m\u001b[37m\u001b[0m \u001b[1m73s\u001b[0m 216ms/step - acc: 0.7280 - auc: 0.9911 - f1_score: 0.6948 - loss: 1.3628 - val_acc: 0.6861 - val_auc: 0.9773 - val_f1_score: 0.6483 - val_loss: 1.5517 - learning_rate: 4.8978e-06\n",
      "Epoch 32/100\n",
      "\u001b[1m339/339\u001b[0m \u001b[32m━━━━━━━━━━━━━━━━━━━━\u001b[0m\u001b[37m\u001b[0m \u001b[1m73s\u001b[0m 216ms/step - acc: 0.7303 - auc: 0.9894 - f1_score: 0.6978 - loss: 1.3683 - val_acc: 0.6867 - val_auc: 0.9773 - val_f1_score: 0.6489 - val_loss: 1.5513 - learning_rate: 4.7863e-06\n",
      "Epoch 33/100\n",
      "\u001b[1m339/339\u001b[0m \u001b[32m━━━━━━━━━━━━━━━━━━━━\u001b[0m\u001b[37m\u001b[0m \u001b[1m0s\u001b[0m 187ms/step - acc: 0.7278 - auc: 0.9905 - f1_score: 0.6959 - loss: 1.3604Epoch 32: Layer now unfrozen 221 (block6d_add)\n",
      "\u001b[1m339/339\u001b[0m \u001b[32m━━━━━━━━━━━━━━━━━━━━\u001b[0m\u001b[37m\u001b[0m \u001b[1m73s\u001b[0m 217ms/step - acc: 0.7278 - auc: 0.9905 - f1_score: 0.6960 - loss: 1.3604 - val_acc: 0.6873 - val_auc: 0.9773 - val_f1_score: 0.6496 - val_loss: 1.5510 - learning_rate: 4.6774e-06\n",
      "Epoch 34/100\n",
      "\u001b[1m339/339\u001b[0m \u001b[32m━━━━━━━━━━━━━━━━━━━━\u001b[0m\u001b[37m\u001b[0m \u001b[1m73s\u001b[0m 217ms/step - acc: 0.7423 - auc: 0.9901 - f1_score: 0.7116 - loss: 1.3496 - val_acc: 0.6873 - val_auc: 0.9770 - val_f1_score: 0.6500 - val_loss: 1.5506 - learning_rate: 4.5709e-06\n",
      "Epoch 35/100\n",
      "\u001b[1m339/339\u001b[0m \u001b[32m━━━━━━━━━━━━━━━━━━━━\u001b[0m\u001b[37m\u001b[0m \u001b[1m0s\u001b[0m 191ms/step - acc: 0.7308 - auc: 0.9900 - f1_score: 0.6972 - loss: 1.3628Epoch 34: Layer now unfrozen 220 (block6d_drop)\n",
      "\u001b[1m339/339\u001b[0m \u001b[32m━━━━━━━━━━━━━━━━━━━━\u001b[0m\u001b[37m\u001b[0m \u001b[1m75s\u001b[0m 221ms/step - acc: 0.7308 - auc: 0.9900 - f1_score: 0.6973 - loss: 1.3628 - val_acc: 0.6867 - val_auc: 0.9770 - val_f1_score: 0.6496 - val_loss: 1.5505 - learning_rate: 4.4668e-06\n",
      "Epoch 36/100\n",
      "\u001b[1m339/339\u001b[0m \u001b[32m━━━━━━━━━━━━━━━━━━━━\u001b[0m\u001b[37m\u001b[0m \u001b[1m73s\u001b[0m 216ms/step - acc: 0.7365 - auc: 0.9913 - f1_score: 0.7075 - loss: 1.3550 - val_acc: 0.6873 - val_auc: 0.9770 - val_f1_score: 0.6502 - val_loss: 1.5503 - learning_rate: 4.3652e-06\n",
      "Epoch 37/100\n",
      "\u001b[1m339/339\u001b[0m \u001b[32m━━━━━━━━━━━━━━━━━━━━\u001b[0m\u001b[37m\u001b[0m \u001b[1m0s\u001b[0m 187ms/step - acc: 0.7309 - auc: 0.9902 - f1_score: 0.6993 - loss: 1.3497Epoch 36: Layer now unfrozen 218 (block6d_project_conv)\n",
      "\u001b[1m339/339\u001b[0m \u001b[32m━━━━━━━━━━━━━━━━━━━━\u001b[0m\u001b[37m\u001b[0m \u001b[1m73s\u001b[0m 216ms/step - acc: 0.7309 - auc: 0.9902 - f1_score: 0.6994 - loss: 1.3497 - val_acc: 0.6873 - val_auc: 0.9773 - val_f1_score: 0.6503 - val_loss: 1.5500 - learning_rate: 4.2658e-06\n",
      "Epoch 38/100\n",
      "\u001b[1m339/339\u001b[0m \u001b[32m━━━━━━━━━━━━━━━━━━━━\u001b[0m\u001b[37m\u001b[0m \u001b[1m73s\u001b[0m 216ms/step - acc: 0.7314 - auc: 0.9908 - f1_score: 0.7037 - loss: 1.3655 - val_acc: 0.6873 - val_auc: 0.9773 - val_f1_score: 0.6498 - val_loss: 1.5498 - learning_rate: 4.1687e-06\n",
      "Epoch 39/100\n",
      "\u001b[1m339/339\u001b[0m \u001b[32m━━━━━━━━━━━━━━━━━━━━\u001b[0m\u001b[37m\u001b[0m \u001b[1m0s\u001b[0m 188ms/step - acc: 0.7354 - auc: 0.9898 - f1_score: 0.7037 - loss: 1.3463Epoch 38: Layer now unfrozen 217 (block6d_se_excite)\n",
      "\u001b[1m339/339\u001b[0m \u001b[32m━━━━━━━━━━━━━━━━━━━━\u001b[0m\u001b[37m\u001b[0m \u001b[1m74s\u001b[0m 218ms/step - acc: 0.7354 - auc: 0.9898 - f1_score: 0.7038 - loss: 1.3464 - val_acc: 0.6878 - val_auc: 0.9773 - val_f1_score: 0.6506 - val_loss: 1.5495 - learning_rate: 4.0738e-06\n",
      "Epoch 40/100\n",
      "\u001b[1m339/339\u001b[0m \u001b[32m━━━━━━━━━━━━━━━━━━━━\u001b[0m\u001b[37m\u001b[0m \u001b[1m74s\u001b[0m 218ms/step - acc: 0.7346 - auc: 0.9910 - f1_score: 0.7019 - loss: 1.3469 - val_acc: 0.6878 - val_auc: 0.9773 - val_f1_score: 0.6510 - val_loss: 1.5494 - learning_rate: 3.9811e-06\n",
      "Epoch 41/100\n",
      "\u001b[1m339/339\u001b[0m \u001b[32m━━━━━━━━━━━━━━━━━━━━\u001b[0m\u001b[37m\u001b[0m \u001b[1m0s\u001b[0m 187ms/step - acc: 0.7388 - auc: 0.9900 - f1_score: 0.7089 - loss: 1.3279Epoch 40: Layer now unfrozen 216 (block6d_se_expand)\n",
      "\u001b[1m339/339\u001b[0m \u001b[32m━━━━━━━━━━━━━━━━━━━━\u001b[0m\u001b[37m\u001b[0m \u001b[1m74s\u001b[0m 217ms/step - acc: 0.7387 - auc: 0.9900 - f1_score: 0.7089 - loss: 1.3280 - val_acc: 0.6873 - val_auc: 0.9770 - val_f1_score: 0.6498 - val_loss: 1.5493 - learning_rate: 3.8905e-06\n",
      "Epoch 42/100\n",
      "\u001b[1m339/339\u001b[0m \u001b[32m━━━━━━━━━━━━━━━━━━━━\u001b[0m\u001b[37m\u001b[0m \u001b[1m74s\u001b[0m 219ms/step - acc: 0.7315 - auc: 0.9903 - f1_score: 0.7014 - loss: 1.3587 - val_acc: 0.6867 - val_auc: 0.9770 - val_f1_score: 0.6490 - val_loss: 1.5490 - learning_rate: 3.8019e-06\n",
      "Epoch 43/100\n",
      "\u001b[1m339/339\u001b[0m \u001b[32m━━━━━━━━━━━━━━━━━━━━\u001b[0m\u001b[37m\u001b[0m \u001b[1m0s\u001b[0m 188ms/step - acc: 0.7331 - auc: 0.9906 - f1_score: 0.6994 - loss: 1.3476Epoch 42: Layer now unfrozen 215 (block6d_se_reduce)\n",
      "\u001b[1m339/339\u001b[0m \u001b[32m━━━━━━━━━━━━━━━━━━━━\u001b[0m\u001b[37m\u001b[0m \u001b[1m74s\u001b[0m 218ms/step - acc: 0.7332 - auc: 0.9906 - f1_score: 0.6995 - loss: 1.3476 - val_acc: 0.6867 - val_auc: 0.9770 - val_f1_score: 0.6498 - val_loss: 1.5488 - learning_rate: 3.7154e-06\n",
      "Epoch 44/100\n",
      "\u001b[1m339/339\u001b[0m \u001b[32m━━━━━━━━━━━━━━━━━━━━\u001b[0m\u001b[37m\u001b[0m \u001b[1m75s\u001b[0m 221ms/step - acc: 0.7344 - auc: 0.9913 - f1_score: 0.7060 - loss: 1.3613 - val_acc: 0.6867 - val_auc: 0.9770 - val_f1_score: 0.6500 - val_loss: 1.5486 - learning_rate: 3.6308e-06\n",
      "Epoch 45/100\n",
      "\u001b[1m339/339\u001b[0m \u001b[32m━━━━━━━━━━━━━━━━━━━━\u001b[0m\u001b[37m\u001b[0m \u001b[1m0s\u001b[0m 189ms/step - acc: 0.7408 - auc: 0.9908 - f1_score: 0.7050 - loss: 1.3316Epoch 44: Layer now unfrozen 214 (block6d_se_reshape)\n",
      "\u001b[1m339/339\u001b[0m \u001b[32m━━━━━━━━━━━━━━━━━━━━\u001b[0m\u001b[37m\u001b[0m \u001b[1m74s\u001b[0m 220ms/step - acc: 0.7407 - auc: 0.9908 - f1_score: 0.7050 - loss: 1.3316 - val_acc: 0.6867 - val_auc: 0.9773 - val_f1_score: 0.6500 - val_loss: 1.5483 - learning_rate: 3.5481e-06\n",
      "Epoch 46/100\n",
      "\u001b[1m339/339\u001b[0m \u001b[32m━━━━━━━━━━━━━━━━━━━━\u001b[0m\u001b[37m\u001b[0m \u001b[1m74s\u001b[0m 219ms/step - acc: 0.7372 - auc: 0.9908 - f1_score: 0.7054 - loss: 1.3480 - val_acc: 0.6867 - val_auc: 0.9773 - val_f1_score: 0.6500 - val_loss: 1.5481 - learning_rate: 3.4674e-06\n",
      "Epoch 47/100\n",
      "\u001b[1m339/339\u001b[0m \u001b[32m━━━━━━━━━━━━━━━━━━━━\u001b[0m\u001b[37m\u001b[0m \u001b[1m0s\u001b[0m 187ms/step - acc: 0.7366 - auc: 0.9911 - f1_score: 0.7058 - loss: 1.3395Epoch 46: Layer now unfrozen 213 (block6d_se_squeeze)\n",
      "\u001b[1m339/339\u001b[0m \u001b[32m━━━━━━━━━━━━━━━━━━━━\u001b[0m\u001b[37m\u001b[0m \u001b[1m74s\u001b[0m 217ms/step - acc: 0.7366 - auc: 0.9911 - f1_score: 0.7059 - loss: 1.3395 - val_acc: 0.6867 - val_auc: 0.9773 - val_f1_score: 0.6498 - val_loss: 1.5481 - learning_rate: 3.3884e-06\n",
      "Epoch 48/100\n",
      "\u001b[1m339/339\u001b[0m \u001b[32m━━━━━━━━━━━━━━━━━━━━\u001b[0m\u001b[37m\u001b[0m \u001b[1m76s\u001b[0m 223ms/step - acc: 0.7344 - auc: 0.9915 - f1_score: 0.7043 - loss: 1.3412 - val_acc: 0.6873 - val_auc: 0.9773 - val_f1_score: 0.6510 - val_loss: 1.5479 - learning_rate: 3.3113e-06\n",
      "Epoch 49/100\n",
      "\u001b[1m339/339\u001b[0m \u001b[32m━━━━━━━━━━━━━━━━━━━━\u001b[0m\u001b[37m\u001b[0m \u001b[1m0s\u001b[0m 191ms/step - acc: 0.7360 - auc: 0.9911 - f1_score: 0.7056 - loss: 1.3452Epoch 48: Layer now unfrozen 212 (block6d_activation)\n",
      "\u001b[1m339/339\u001b[0m \u001b[32m━━━━━━━━━━━━━━━━━━━━\u001b[0m\u001b[37m\u001b[0m \u001b[1m75s\u001b[0m 220ms/step - acc: 0.7360 - auc: 0.9911 - f1_score: 0.7057 - loss: 1.3452 - val_acc: 0.6873 - val_auc: 0.9773 - val_f1_score: 0.6510 - val_loss: 1.5476 - learning_rate: 3.2359e-06\n",
      "Epoch 50/100\n",
      "\u001b[1m339/339\u001b[0m \u001b[32m━━━━━━━━━━━━━━━━━━━━\u001b[0m\u001b[37m\u001b[0m \u001b[1m74s\u001b[0m 217ms/step - acc: 0.7374 - auc: 0.9907 - f1_score: 0.7047 - loss: 1.3451 - val_acc: 0.6873 - val_auc: 0.9773 - val_f1_score: 0.6510 - val_loss: 1.5474 - learning_rate: 3.1623e-06\n",
      "Epoch 51/100\n",
      "\u001b[1m339/339\u001b[0m \u001b[32m━━━━━━━━━━━━━━━━━━━━\u001b[0m\u001b[37m\u001b[0m \u001b[1m0s\u001b[0m 188ms/step - acc: 0.7387 - auc: 0.9912 - f1_score: 0.7073 - loss: 1.3410Epoch 50: Layer now unfrozen 210 (block6d_dwconv)\n",
      "\u001b[1m339/339\u001b[0m \u001b[32m━━━━━━━━━━━━━━━━━━━━\u001b[0m\u001b[37m\u001b[0m \u001b[1m74s\u001b[0m 217ms/step - acc: 0.7387 - auc: 0.9911 - f1_score: 0.7074 - loss: 1.3410 - val_acc: 0.6873 - val_auc: 0.9773 - val_f1_score: 0.6512 - val_loss: 1.5472 - learning_rate: 3.0903e-06\n",
      "Epoch 52/100\n",
      "\u001b[1m339/339\u001b[0m \u001b[32m━━━━━━━━━━━━━━━━━━━━\u001b[0m\u001b[37m\u001b[0m \u001b[1m75s\u001b[0m 222ms/step - acc: 0.7450 - auc: 0.9912 - f1_score: 0.7130 - loss: 1.3291 - val_acc: 0.6878 - val_auc: 0.9773 - val_f1_score: 0.6520 - val_loss: 1.5470 - learning_rate: 3.0200e-06\n",
      "Epoch 53/100\n",
      "\u001b[1m339/339\u001b[0m \u001b[32m━━━━━━━━━━━━━━━━━━━━\u001b[0m\u001b[37m\u001b[0m \u001b[1m0s\u001b[0m 192ms/step - acc: 0.7398 - auc: 0.9909 - f1_score: 0.7094 - loss: 1.3389Epoch 52: Layer now unfrozen 209 (block6d_expand_activation)\n",
      "\u001b[1m339/339\u001b[0m \u001b[32m━━━━━━━━━━━━━━━━━━━━\u001b[0m\u001b[37m\u001b[0m \u001b[1m75s\u001b[0m 222ms/step - acc: 0.7398 - auc: 0.9909 - f1_score: 0.7095 - loss: 1.3389 - val_acc: 0.6878 - val_auc: 0.9773 - val_f1_score: 0.6520 - val_loss: 1.5468 - learning_rate: 2.9512e-06\n",
      "Epoch 54/100\n",
      "\u001b[1m339/339\u001b[0m \u001b[32m━━━━━━━━━━━━━━━━━━━━\u001b[0m\u001b[37m\u001b[0m \u001b[1m74s\u001b[0m 218ms/step - acc: 0.7362 - auc: 0.9912 - f1_score: 0.7045 - loss: 1.3331 - val_acc: 0.6884 - val_auc: 0.9773 - val_f1_score: 0.6527 - val_loss: 1.5465 - learning_rate: 2.8840e-06\n",
      "Epoch 55/100\n",
      "\u001b[1m339/339\u001b[0m \u001b[32m━━━━━━━━━━━━━━━━━━━━\u001b[0m\u001b[37m\u001b[0m \u001b[1m0s\u001b[0m 187ms/step - acc: 0.7402 - auc: 0.9915 - f1_score: 0.7088 - loss: 1.3203Epoch 54: Layer now unfrozen 207 (block6d_expand_conv)\n",
      "\u001b[1m339/339\u001b[0m \u001b[32m━━━━━━━━━━━━━━━━━━━━\u001b[0m\u001b[37m\u001b[0m \u001b[1m74s\u001b[0m 217ms/step - acc: 0.7402 - auc: 0.9915 - f1_score: 0.7089 - loss: 1.3204 - val_acc: 0.6884 - val_auc: 0.9773 - val_f1_score: 0.6527 - val_loss: 1.5463 - learning_rate: 2.8184e-06\n",
      "Epoch 56/100\n",
      "\u001b[1m339/339\u001b[0m \u001b[32m━━━━━━━━━━━━━━━━━━━━\u001b[0m\u001b[37m\u001b[0m \u001b[1m74s\u001b[0m 218ms/step - acc: 0.7342 - auc: 0.9910 - f1_score: 0.7025 - loss: 1.3398 - val_acc: 0.6884 - val_auc: 0.9773 - val_f1_score: 0.6527 - val_loss: 1.5461 - learning_rate: 2.7542e-06\n",
      "Epoch 57/100\n",
      "\u001b[1m339/339\u001b[0m \u001b[32m━━━━━━━━━━━━━━━━━━━━\u001b[0m\u001b[37m\u001b[0m \u001b[1m0s\u001b[0m 188ms/step - acc: 0.7367 - auc: 0.9917 - f1_score: 0.7052 - loss: 1.3304Epoch 56: Layer now unfrozen 206 (block6c_add)\n",
      "\u001b[1m339/339\u001b[0m \u001b[32m━━━━━━━━━━━━━━━━━━━━\u001b[0m\u001b[37m\u001b[0m \u001b[1m74s\u001b[0m 218ms/step - acc: 0.7367 - auc: 0.9917 - f1_score: 0.7053 - loss: 1.3304 - val_acc: 0.6873 - val_auc: 0.9773 - val_f1_score: 0.6506 - val_loss: 1.5460 - learning_rate: 2.6915e-06\n",
      "Epoch 58/100\n",
      "\u001b[1m339/339\u001b[0m \u001b[32m━━━━━━━━━━━━━━━━━━━━\u001b[0m\u001b[37m\u001b[0m \u001b[1m74s\u001b[0m 218ms/step - acc: 0.7397 - auc: 0.9905 - f1_score: 0.7086 - loss: 1.3331 - val_acc: 0.6878 - val_auc: 0.9773 - val_f1_score: 0.6516 - val_loss: 1.5459 - learning_rate: 2.6303e-06\n",
      "Epoch 59/100\n",
      "\u001b[1m339/339\u001b[0m \u001b[32m━━━━━━━━━━━━━━━━━━━━\u001b[0m\u001b[37m\u001b[0m \u001b[1m0s\u001b[0m 189ms/step - acc: 0.7270 - auc: 0.9909 - f1_score: 0.6954 - loss: 1.3445Epoch 58: Layer now unfrozen 205 (block6c_drop)\n",
      "\u001b[1m339/339\u001b[0m \u001b[32m━━━━━━━━━━━━━━━━━━━━\u001b[0m\u001b[37m\u001b[0m \u001b[1m74s\u001b[0m 218ms/step - acc: 0.7270 - auc: 0.9909 - f1_score: 0.6955 - loss: 1.3445 - val_acc: 0.6873 - val_auc: 0.9773 - val_f1_score: 0.6506 - val_loss: 1.5456 - learning_rate: 2.5704e-06\n",
      "Epoch 60/100\n",
      "\u001b[1m339/339\u001b[0m \u001b[32m━━━━━━━━━━━━━━━━━━━━\u001b[0m\u001b[37m\u001b[0m \u001b[1m74s\u001b[0m 219ms/step - acc: 0.7365 - auc: 0.9897 - f1_score: 0.7078 - loss: 1.3380 - val_acc: 0.6873 - val_auc: 0.9773 - val_f1_score: 0.6506 - val_loss: 1.5454 - learning_rate: 2.5119e-06\n",
      "Epoch 61/100\n",
      "\u001b[1m339/339\u001b[0m \u001b[32m━━━━━━━━━━━━━━━━━━━━\u001b[0m\u001b[37m\u001b[0m \u001b[1m0s\u001b[0m 188ms/step - acc: 0.7340 - auc: 0.9911 - f1_score: 0.7008 - loss: 1.3330Epoch 60: Layer now unfrozen 203 (block6c_project_conv)\n",
      "\u001b[1m339/339\u001b[0m \u001b[32m━━━━━━━━━━━━━━━━━━━━\u001b[0m\u001b[37m\u001b[0m \u001b[1m74s\u001b[0m 218ms/step - acc: 0.7340 - auc: 0.9911 - f1_score: 0.7009 - loss: 1.3331 - val_acc: 0.6878 - val_auc: 0.9773 - val_f1_score: 0.6518 - val_loss: 1.5452 - learning_rate: 2.4547e-06\n",
      "Epoch 62/100\n",
      "\u001b[1m339/339\u001b[0m \u001b[32m━━━━━━━━━━━━━━━━━━━━\u001b[0m\u001b[37m\u001b[0m \u001b[1m74s\u001b[0m 218ms/step - acc: 0.7309 - auc: 0.9914 - f1_score: 0.7009 - loss: 1.3290 - val_acc: 0.6878 - val_auc: 0.9773 - val_f1_score: 0.6518 - val_loss: 1.5449 - learning_rate: 2.3988e-06\n",
      "Epoch 63/100\n",
      "\u001b[1m339/339\u001b[0m \u001b[32m━━━━━━━━━━━━━━━━━━━━\u001b[0m\u001b[37m\u001b[0m \u001b[1m0s\u001b[0m 188ms/step - acc: 0.7409 - auc: 0.9922 - f1_score: 0.7122 - loss: 1.3140Epoch 62: Layer now unfrozen 202 (block6c_se_excite)\n",
      "\u001b[1m339/339\u001b[0m \u001b[32m━━━━━━━━━━━━━━━━━━━━\u001b[0m\u001b[37m\u001b[0m \u001b[1m74s\u001b[0m 218ms/step - acc: 0.7409 - auc: 0.9922 - f1_score: 0.7122 - loss: 1.3141 - val_acc: 0.6884 - val_auc: 0.9773 - val_f1_score: 0.6523 - val_loss: 1.5448 - learning_rate: 2.3442e-06\n",
      "Epoch 64/100\n",
      "\u001b[1m339/339\u001b[0m \u001b[32m━━━━━━━━━━━━━━━━━━━━\u001b[0m\u001b[37m\u001b[0m \u001b[1m74s\u001b[0m 217ms/step - acc: 0.7440 - auc: 0.9913 - f1_score: 0.7116 - loss: 1.3235 - val_acc: 0.6884 - val_auc: 0.9773 - val_f1_score: 0.6523 - val_loss: 1.5446 - learning_rate: 2.2909e-06\n",
      "Epoch 65/100\n",
      "\u001b[1m339/339\u001b[0m \u001b[32m━━━━━━━━━━━━━━━━━━━━\u001b[0m\u001b[37m\u001b[0m \u001b[1m0s\u001b[0m 188ms/step - acc: 0.7379 - auc: 0.9901 - f1_score: 0.7039 - loss: 1.3395Epoch 64: Layer now unfrozen 201 (block6c_se_expand)\n",
      "\u001b[1m339/339\u001b[0m \u001b[32m━━━━━━━━━━━━━━━━━━━━\u001b[0m\u001b[37m\u001b[0m \u001b[1m74s\u001b[0m 217ms/step - acc: 0.7379 - auc: 0.9901 - f1_score: 0.7040 - loss: 1.3395 - val_acc: 0.6884 - val_auc: 0.9773 - val_f1_score: 0.6523 - val_loss: 1.5445 - learning_rate: 2.2387e-06\n",
      "Epoch 66/100\n",
      "\u001b[1m339/339\u001b[0m \u001b[32m━━━━━━━━━━━━━━━━━━━━\u001b[0m\u001b[37m\u001b[0m \u001b[1m74s\u001b[0m 217ms/step - acc: 0.7387 - auc: 0.9909 - f1_score: 0.7084 - loss: 1.3300 - val_acc: 0.6884 - val_auc: 0.9773 - val_f1_score: 0.6523 - val_loss: 1.5443 - learning_rate: 2.1878e-06\n",
      "Epoch 67/100\n",
      "\u001b[1m339/339\u001b[0m \u001b[32m━━━━━━━━━━━━━━━━━━━━\u001b[0m\u001b[37m\u001b[0m \u001b[1m0s\u001b[0m 188ms/step - acc: 0.7432 - auc: 0.9910 - f1_score: 0.7102 - loss: 1.3347Epoch 66: Layer now unfrozen 200 (block6c_se_reduce)\n",
      "\u001b[1m339/339\u001b[0m \u001b[32m━━━━━━━━━━━━━━━━━━━━\u001b[0m\u001b[37m\u001b[0m \u001b[1m74s\u001b[0m 217ms/step - acc: 0.7431 - auc: 0.9910 - f1_score: 0.7103 - loss: 1.3348 - val_acc: 0.6884 - val_auc: 0.9773 - val_f1_score: 0.6523 - val_loss: 1.5442 - learning_rate: 2.1380e-06\n",
      "Epoch 68/100\n",
      "\u001b[1m339/339\u001b[0m \u001b[32m━━━━━━━━━━━━━━━━━━━━\u001b[0m\u001b[37m\u001b[0m \u001b[1m74s\u001b[0m 217ms/step - acc: 0.7372 - auc: 0.9916 - f1_score: 0.7062 - loss: 1.3295 - val_acc: 0.6884 - val_auc: 0.9773 - val_f1_score: 0.6524 - val_loss: 1.5440 - learning_rate: 2.0893e-06\n",
      "Epoch 69/100\n",
      "\u001b[1m339/339\u001b[0m \u001b[32m━━━━━━━━━━━━━━━━━━━━\u001b[0m\u001b[37m\u001b[0m \u001b[1m0s\u001b[0m 187ms/step - acc: 0.7330 - auc: 0.9907 - f1_score: 0.7017 - loss: 1.3539Epoch 68: Layer now unfrozen 199 (block6c_se_reshape)\n",
      "\u001b[1m339/339\u001b[0m \u001b[32m━━━━━━━━━━━━━━━━━━━━\u001b[0m\u001b[37m\u001b[0m \u001b[1m74s\u001b[0m 217ms/step - acc: 0.7330 - auc: 0.9907 - f1_score: 0.7018 - loss: 1.3539 - val_acc: 0.6884 - val_auc: 0.9773 - val_f1_score: 0.6523 - val_loss: 1.5439 - learning_rate: 2.0417e-06\n",
      "Epoch 70/100\n",
      "\u001b[1m339/339\u001b[0m \u001b[32m━━━━━━━━━━━━━━━━━━━━\u001b[0m\u001b[37m\u001b[0m \u001b[1m74s\u001b[0m 217ms/step - acc: 0.7481 - auc: 0.9900 - f1_score: 0.7201 - loss: 1.3273 - val_acc: 0.6884 - val_auc: 0.9773 - val_f1_score: 0.6523 - val_loss: 1.5438 - learning_rate: 1.9953e-06\n",
      "Epoch 71/100\n",
      "\u001b[1m339/339\u001b[0m \u001b[32m━━━━━━━━━━━━━━━━━━━━\u001b[0m\u001b[37m\u001b[0m \u001b[1m0s\u001b[0m 188ms/step - acc: 0.7401 - auc: 0.9916 - f1_score: 0.7066 - loss: 1.3404Epoch 70: Layer now unfrozen 198 (block6c_se_squeeze)\n",
      "\u001b[1m339/339\u001b[0m \u001b[32m━━━━━━━━━━━━━━━━━━━━\u001b[0m\u001b[37m\u001b[0m \u001b[1m74s\u001b[0m 218ms/step - acc: 0.7401 - auc: 0.9916 - f1_score: 0.7067 - loss: 1.3404 - val_acc: 0.6884 - val_auc: 0.9773 - val_f1_score: 0.6523 - val_loss: 1.5437 - learning_rate: 1.9498e-06\n",
      "Epoch 72/100\n",
      "\u001b[1m339/339\u001b[0m \u001b[32m━━━━━━━━━━━━━━━━━━━━\u001b[0m\u001b[37m\u001b[0m \u001b[1m76s\u001b[0m 224ms/step - acc: 0.7388 - auc: 0.9916 - f1_score: 0.7096 - loss: 1.3272 - val_acc: 0.6884 - val_auc: 0.9773 - val_f1_score: 0.6523 - val_loss: 1.5435 - learning_rate: 1.9055e-06\n",
      "Epoch 73/100\n",
      "\u001b[1m339/339\u001b[0m \u001b[32m━━━━━━━━━━━━━━━━━━━━\u001b[0m\u001b[37m\u001b[0m \u001b[1m0s\u001b[0m 189ms/step - acc: 0.7411 - auc: 0.9913 - f1_score: 0.7088 - loss: 1.3407Epoch 72: Layer now unfrozen 197 (block6c_activation)\n",
      "\u001b[1m339/339\u001b[0m \u001b[32m━━━━━━━━━━━━━━━━━━━━\u001b[0m\u001b[37m\u001b[0m \u001b[1m74s\u001b[0m 218ms/step - acc: 0.7411 - auc: 0.9913 - f1_score: 0.7089 - loss: 1.3407 - val_acc: 0.6884 - val_auc: 0.9773 - val_f1_score: 0.6523 - val_loss: 1.5434 - learning_rate: 1.8621e-06\n",
      "Epoch 74/100\n",
      "\u001b[1m339/339\u001b[0m \u001b[32m━━━━━━━━━━━━━━━━━━━━\u001b[0m\u001b[37m\u001b[0m \u001b[1m74s\u001b[0m 217ms/step - acc: 0.7400 - auc: 0.9913 - f1_score: 0.7077 - loss: 1.3276 - val_acc: 0.6884 - val_auc: 0.9773 - val_f1_score: 0.6523 - val_loss: 1.5433 - learning_rate: 1.8197e-06\n",
      "Epoch 75/100\n",
      "\u001b[1m339/339\u001b[0m \u001b[32m━━━━━━━━━━━━━━━━━━━━\u001b[0m\u001b[37m\u001b[0m \u001b[1m0s\u001b[0m 187ms/step - acc: 0.7421 - auc: 0.9906 - f1_score: 0.7088 - loss: 1.3430Epoch 74: Layer now unfrozen 195 (block6c_dwconv)\n",
      "\u001b[1m339/339\u001b[0m \u001b[32m━━━━━━━━━━━━━━━━━━━━\u001b[0m\u001b[37m\u001b[0m \u001b[1m73s\u001b[0m 217ms/step - acc: 0.7421 - auc: 0.9906 - f1_score: 0.7089 - loss: 1.3431 - val_acc: 0.6889 - val_auc: 0.9773 - val_f1_score: 0.6536 - val_loss: 1.5432 - learning_rate: 1.7783e-06\n",
      "Epoch 76/100\n",
      "\u001b[1m339/339\u001b[0m \u001b[32m━━━━━━━━━━━━━━━━━━━━\u001b[0m\u001b[37m\u001b[0m \u001b[1m74s\u001b[0m 217ms/step - acc: 0.7423 - auc: 0.9913 - f1_score: 0.7090 - loss: 1.3242 - val_acc: 0.6889 - val_auc: 0.9773 - val_f1_score: 0.6537 - val_loss: 1.5432 - learning_rate: 1.7378e-06\n",
      "Epoch 77/100\n",
      "\u001b[1m339/339\u001b[0m \u001b[32m━━━━━━━━━━━━━━━━━━━━\u001b[0m\u001b[37m\u001b[0m \u001b[1m0s\u001b[0m 187ms/step - acc: 0.7471 - auc: 0.9907 - f1_score: 0.7144 - loss: 1.3119Epoch 76: Layer now unfrozen 194 (block6c_expand_activation)\n",
      "\u001b[1m339/339\u001b[0m \u001b[32m━━━━━━━━━━━━━━━━━━━━\u001b[0m\u001b[37m\u001b[0m \u001b[1m74s\u001b[0m 217ms/step - acc: 0.7471 - auc: 0.9907 - f1_score: 0.7145 - loss: 1.3120 - val_acc: 0.6895 - val_auc: 0.9773 - val_f1_score: 0.6544 - val_loss: 1.5432 - learning_rate: 1.6982e-06\n",
      "Epoch 78/100\n",
      "\u001b[1m339/339\u001b[0m \u001b[32m━━━━━━━━━━━━━━━━━━━━\u001b[0m\u001b[37m\u001b[0m \u001b[1m74s\u001b[0m 217ms/step - acc: 0.7414 - auc: 0.9913 - f1_score: 0.7083 - loss: 1.3346 - val_acc: 0.6895 - val_auc: 0.9773 - val_f1_score: 0.6544 - val_loss: 1.5431 - learning_rate: 1.6596e-06\n",
      "Epoch 79/100\n",
      "\u001b[1m339/339\u001b[0m \u001b[32m━━━━━━━━━━━━━━━━━━━━\u001b[0m\u001b[37m\u001b[0m \u001b[1m0s\u001b[0m 188ms/step - acc: 0.7506 - auc: 0.9919 - f1_score: 0.7175 - loss: 1.3149Epoch 78: Layer now unfrozen 192 (block6c_expand_conv)\n",
      "\u001b[1m339/339\u001b[0m \u001b[32m━━━━━━━━━━━━━━━━━━━━\u001b[0m\u001b[37m\u001b[0m \u001b[1m74s\u001b[0m 217ms/step - acc: 0.7506 - auc: 0.9919 - f1_score: 0.7176 - loss: 1.3149 - val_acc: 0.6895 - val_auc: 0.9773 - val_f1_score: 0.6546 - val_loss: 1.5430 - learning_rate: 1.6218e-06\n",
      "Epoch 80/100\n",
      "\u001b[1m339/339\u001b[0m \u001b[32m━━━━━━━━━━━━━━━━━━━━\u001b[0m\u001b[37m\u001b[0m \u001b[1m74s\u001b[0m 217ms/step - acc: 0.7452 - auc: 0.9917 - f1_score: 0.7128 - loss: 1.3219 - val_acc: 0.6895 - val_auc: 0.9773 - val_f1_score: 0.6546 - val_loss: 1.5430 - learning_rate: 1.5849e-06\n",
      "Epoch 81/100\n",
      "\u001b[1m339/339\u001b[0m \u001b[32m━━━━━━━━━━━━━━━━━━━━\u001b[0m\u001b[37m\u001b[0m \u001b[1m0s\u001b[0m 187ms/step - acc: 0.7408 - auc: 0.9904 - f1_score: 0.7055 - loss: 1.3395Epoch 80: Layer now unfrozen 191 (block6b_add)\n",
      "\u001b[1m339/339\u001b[0m \u001b[32m━━━━━━━━━━━━━━━━━━━━\u001b[0m\u001b[37m\u001b[0m \u001b[1m74s\u001b[0m 217ms/step - acc: 0.7408 - auc: 0.9904 - f1_score: 0.7055 - loss: 1.3395 - val_acc: 0.6895 - val_auc: 0.9773 - val_f1_score: 0.6546 - val_loss: 1.5429 - learning_rate: 1.5488e-06\n",
      "Epoch 82/100\n",
      "\u001b[1m339/339\u001b[0m \u001b[32m━━━━━━━━━━━━━━━━━━━━\u001b[0m\u001b[37m\u001b[0m \u001b[1m74s\u001b[0m 218ms/step - acc: 0.7399 - auc: 0.9905 - f1_score: 0.7084 - loss: 1.3357 - val_acc: 0.6895 - val_auc: 0.9773 - val_f1_score: 0.6546 - val_loss: 1.5427 - learning_rate: 1.5136e-06\n",
      "Epoch 83/100\n",
      "\u001b[1m339/339\u001b[0m \u001b[32m━━━━━━━━━━━━━━━━━━━━\u001b[0m\u001b[37m\u001b[0m \u001b[1m0s\u001b[0m 188ms/step - acc: 0.7462 - auc: 0.9912 - f1_score: 0.7161 - loss: 1.3214Epoch 82: Layer now unfrozen 190 (block6b_drop)\n",
      "\u001b[1m339/339\u001b[0m \u001b[32m━━━━━━━━━━━━━━━━━━━━\u001b[0m\u001b[37m\u001b[0m \u001b[1m74s\u001b[0m 218ms/step - acc: 0.7462 - auc: 0.9912 - f1_score: 0.7161 - loss: 1.3215 - val_acc: 0.6895 - val_auc: 0.9773 - val_f1_score: 0.6546 - val_loss: 1.5426 - learning_rate: 1.4791e-06\n",
      "Epoch 84/100\n",
      "\u001b[1m339/339\u001b[0m \u001b[32m━━━━━━━━━━━━━━━━━━━━\u001b[0m\u001b[37m\u001b[0m \u001b[1m74s\u001b[0m 217ms/step - acc: 0.7420 - auc: 0.9923 - f1_score: 0.7095 - loss: 1.3353 - val_acc: 0.6895 - val_auc: 0.9773 - val_f1_score: 0.6545 - val_loss: 1.5425 - learning_rate: 1.4454e-06\n",
      "Epoch 85/100\n",
      "\u001b[1m339/339\u001b[0m \u001b[32m━━━━━━━━━━━━━━━━━━━━\u001b[0m\u001b[37m\u001b[0m \u001b[1m0s\u001b[0m 191ms/step - acc: 0.7480 - auc: 0.9915 - f1_score: 0.7140 - loss: 1.3253Epoch 84: Layer now unfrozen 188 (block6b_project_conv)\n",
      "\u001b[1m339/339\u001b[0m \u001b[32m━━━━━━━━━━━━━━━━━━━━\u001b[0m\u001b[37m\u001b[0m \u001b[1m75s\u001b[0m 222ms/step - acc: 0.7480 - auc: 0.9915 - f1_score: 0.7140 - loss: 1.3253 - val_acc: 0.6895 - val_auc: 0.9773 - val_f1_score: 0.6545 - val_loss: 1.5425 - learning_rate: 1.4125e-06\n",
      "Epoch 86/100\n",
      "\u001b[1m339/339\u001b[0m \u001b[32m━━━━━━━━━━━━━━━━━━━━\u001b[0m\u001b[37m\u001b[0m \u001b[1m74s\u001b[0m 218ms/step - acc: 0.7384 - auc: 0.9908 - f1_score: 0.7046 - loss: 1.3189 - val_acc: 0.6895 - val_auc: 0.9773 - val_f1_score: 0.6545 - val_loss: 1.5424 - learning_rate: 1.3804e-06\n",
      "Epoch 87/100\n",
      "\u001b[1m339/339\u001b[0m \u001b[32m━━━━━━━━━━━━━━━━━━━━\u001b[0m\u001b[37m\u001b[0m \u001b[1m0s\u001b[0m 187ms/step - acc: 0.7404 - auc: 0.9920 - f1_score: 0.7053 - loss: 1.3225Epoch 86: Layer now unfrozen 187 (block6b_se_excite)\n",
      "\u001b[1m339/339\u001b[0m \u001b[32m━━━━━━━━━━━━━━━━━━━━\u001b[0m\u001b[37m\u001b[0m \u001b[1m73s\u001b[0m 217ms/step - acc: 0.7404 - auc: 0.9920 - f1_score: 0.7054 - loss: 1.3225 - val_acc: 0.6895 - val_auc: 0.9773 - val_f1_score: 0.6545 - val_loss: 1.5423 - learning_rate: 1.3490e-06\n",
      "Epoch 88/100\n",
      "\u001b[1m339/339\u001b[0m \u001b[32m━━━━━━━━━━━━━━━━━━━━\u001b[0m\u001b[37m\u001b[0m \u001b[1m73s\u001b[0m 217ms/step - acc: 0.7340 - auc: 0.9905 - f1_score: 0.7040 - loss: 1.3460 - val_acc: 0.6895 - val_auc: 0.9773 - val_f1_score: 0.6545 - val_loss: 1.5423 - learning_rate: 1.3183e-06\n",
      "Epoch 89/100\n",
      "\u001b[1m339/339\u001b[0m \u001b[32m━━━━━━━━━━━━━━━━━━━━\u001b[0m\u001b[37m\u001b[0m \u001b[1m0s\u001b[0m 188ms/step - acc: 0.7466 - auc: 0.9919 - f1_score: 0.7126 - loss: 1.3234Epoch 88: Layer now unfrozen 186 (block6b_se_expand)\n",
      "\u001b[1m339/339\u001b[0m \u001b[32m━━━━━━━━━━━━━━━━━━━━\u001b[0m\u001b[37m\u001b[0m \u001b[1m74s\u001b[0m 218ms/step - acc: 0.7466 - auc: 0.9919 - f1_score: 0.7127 - loss: 1.3234 - val_acc: 0.6895 - val_auc: 0.9773 - val_f1_score: 0.6545 - val_loss: 1.5422 - learning_rate: 1.2882e-06\n",
      "Epoch 90/100\n",
      "\u001b[1m339/339\u001b[0m \u001b[32m━━━━━━━━━━━━━━━━━━━━\u001b[0m\u001b[37m\u001b[0m \u001b[1m76s\u001b[0m 223ms/step - acc: 0.7422 - auc: 0.9910 - f1_score: 0.7072 - loss: 1.3279 - val_acc: 0.6895 - val_auc: 0.9773 - val_f1_score: 0.6545 - val_loss: 1.5421 - learning_rate: 1.2589e-06\n",
      "Epoch 91/100\n",
      "\u001b[1m339/339\u001b[0m \u001b[32m━━━━━━━━━━━━━━━━━━━━\u001b[0m\u001b[37m\u001b[0m \u001b[1m0s\u001b[0m 207ms/step - acc: 0.7448 - auc: 0.9913 - f1_score: 0.7148 - loss: 1.3254Epoch 90: Layer now unfrozen 185 (block6b_se_reduce)\n",
      "\u001b[1m339/339\u001b[0m \u001b[32m━━━━━━━━━━━━━━━━━━━━\u001b[0m\u001b[37m\u001b[0m \u001b[1m81s\u001b[0m 238ms/step - acc: 0.7448 - auc: 0.9913 - f1_score: 0.7149 - loss: 1.3254 - val_acc: 0.6895 - val_auc: 0.9773 - val_f1_score: 0.6545 - val_loss: 1.5420 - learning_rate: 1.2303e-06\n",
      "Epoch 92/100\n",
      "\u001b[1m339/339\u001b[0m \u001b[32m━━━━━━━━━━━━━━━━━━━━\u001b[0m\u001b[37m\u001b[0m \u001b[1m77s\u001b[0m 227ms/step - acc: 0.7414 - auc: 0.9917 - f1_score: 0.7076 - loss: 1.3279 - val_acc: 0.6895 - val_auc: 0.9773 - val_f1_score: 0.6545 - val_loss: 1.5420 - learning_rate: 1.2023e-06\n",
      "Epoch 93/100\n",
      "\u001b[1m309/339\u001b[0m \u001b[32m━━━━━━━━━━━━━━━━━━\u001b[0m\u001b[37m━━\u001b[0m \u001b[1m6s\u001b[0m 220ms/step - acc: 0.7460 - auc: 0.9907 - f1_score: 0.7100 - loss: 1.3157"
     ]
    },
    {
     "name": "stderr",
     "output_type": "stream",
     "text": [
      "2025-05-01 02:31:51.945 Python[2416:47818] Error creating directory \n",
      " The volume ‚ÄúMacintosh HD‚Äù is out of space. You can‚Äôt save the file ‚Äúmpsgraph-2416-2025-05-01_02_31_51-3423667599‚Äù because the volume ‚ÄúMacintosh HD‚Äù is out of space.\n",
      "2025-05-01 02:31:52.079 Python[2416:47815] Error creating directory \n",
      " The volume ‚ÄúMacintosh HD‚Äù is out of space. You can‚Äôt save the file ‚Äúmpsgraph-2416-2025-05-01_02_31_52-2285135031‚Äù because the volume ‚ÄúMacintosh HD‚Äù is out of space.\n"
     ]
    },
    {
     "name": "stdout",
     "output_type": "stream",
     "text": [
      "\u001b[1m311/339\u001b[0m \u001b[32m━━━━━━━━━━━━━━━━━━\u001b[0m\u001b[37m━━\u001b[0m \u001b[1m6s\u001b[0m 219ms/step - acc: 0.7460 - auc: 0.9907 - f1_score: 0.7102 - loss: 1.3158"
     ]
    },
    {
     "name": "stderr",
     "output_type": "stream",
     "text": [
      "2025-05-01 02:31:52.292 Python[2416:47822] Error creating directory \n",
      " The volume ‚ÄúMacintosh HD‚Äù is out of space. You can‚Äôt save the file ‚Äúmpsgraph-2416-2025-05-01_02_31_52-2822488372‚Äù because the volume ‚ÄúMacintosh HD‚Äù is out of space.\n"
     ]
    },
    {
     "name": "stdout",
     "output_type": "stream",
     "text": [
      "\u001b[1m312/339\u001b[0m \u001b[32m━━━━━━━━━━━━━━━━━━\u001b[0m\u001b[37m━━\u001b[0m \u001b[1m5s\u001b[0m 219ms/step - acc: 0.7459 - auc: 0.9907 - f1_score: 0.7103 - loss: 1.3159"
     ]
    },
    {
     "name": "stderr",
     "output_type": "stream",
     "text": [
      "2025-05-01 02:31:52.505 Python[2416:47817] Error creating directory \n",
      " The volume ‚ÄúMacintosh HD‚Äù is out of space. You can‚Äôt save the file ‚Äúmpsgraph-2416-2025-05-01_02_31_52-701286105‚Äù because the volume ‚ÄúMacintosh HD‚Äù is out of space.\n"
     ]
    },
    {
     "name": "stdout",
     "output_type": "stream",
     "text": [
      "\u001b[1m313/339\u001b[0m \u001b[32m━━━━━━━━━━━━━━━━━━\u001b[0m\u001b[37m━━\u001b[0m \u001b[1m5s\u001b[0m 219ms/step - acc: 0.7459 - auc: 0.9907 - f1_score: 0.7104 - loss: 1.3160"
     ]
    },
    {
     "name": "stderr",
     "output_type": "stream",
     "text": [
      "2025-05-01 02:31:52.803 Python[2416:47815] Error creating directory \n",
      " The volume ‚ÄúMacintosh HD‚Äù is out of space. You can‚Äôt save the file ‚Äúmpsgraph-2416-2025-05-01_02_31_52-3127365229‚Äù because the volume ‚ÄúMacintosh HD‚Äù is out of space.\n",
      "2025-05-01 02:31:52.977 Python[2416:47816] Error creating directory \n",
      " The volume ‚ÄúMacintosh HD‚Äù is out of space. You can‚Äôt save the file ‚Äúmpsgraph-2416-2025-05-01_02_31_52-1617135444‚Äù because the volume ‚ÄúMacintosh HD‚Äù is out of space.\n"
     ]
    },
    {
     "name": "stdout",
     "output_type": "stream",
     "text": [
      "\u001b[1m315/339\u001b[0m \u001b[32m━━━━━━━━━━━━━━━━━━\u001b[0m\u001b[37m━━\u001b[0m \u001b[1m5s\u001b[0m 219ms/step - acc: 0.7458 - auc: 0.9907 - f1_score: 0.7105 - loss: 1.3161"
     ]
    },
    {
     "name": "stderr",
     "output_type": "stream",
     "text": [
      "2025-05-01 02:31:53.165 Python[2416:47817] Error creating directory \n",
      " The volume ‚ÄúMacintosh HD‚Äù is out of space. You can‚Äôt save the file ‚Äúmpsgraph-2416-2025-05-01_02_31_53-1311727826‚Äù because the volume ‚ÄúMacintosh HD‚Äù is out of space.\n",
      "2025-05-01 02:31:53.358 Python[2416:47817] Error creating directory \n",
      " The volume ‚ÄúMacintosh HD‚Äù is out of space. You can‚Äôt save the file ‚Äúmpsgraph-2416-2025-05-01_02_31_53-2052112812‚Äù because the volume ‚ÄúMacintosh HD‚Äù is out of space.\n"
     ]
    },
    {
     "name": "stdout",
     "output_type": "stream",
     "text": [
      "\u001b[1m317/339\u001b[0m \u001b[32m━━━━━━━━━━━━━━━━━━\u001b[0m\u001b[37m━━\u001b[0m \u001b[1m4s\u001b[0m 219ms/step - acc: 0.7458 - auc: 0.9907 - f1_score: 0.7107 - loss: 1.3163"
     ]
    },
    {
     "name": "stderr",
     "output_type": "stream",
     "text": [
      "2025-05-01 02:31:53.559 Python[2416:47821] Error creating directory \n",
      " The volume ‚ÄúMacintosh HD‚Äù is out of space. You can‚Äôt save the file ‚Äúmpsgraph-2416-2025-05-01_02_31_53-928039573‚Äù because the volume ‚ÄúMacintosh HD‚Äù is out of space.\n"
     ]
    },
    {
     "name": "stdout",
     "output_type": "stream",
     "text": [
      "\u001b[1m318/339\u001b[0m \u001b[32m━━━━━━━━━━━━━━━━━━\u001b[0m\u001b[37m━━\u001b[0m \u001b[1m4s\u001b[0m 219ms/step - acc: 0.7458 - auc: 0.9907 - f1_score: 0.7108 - loss: 1.3164"
     ]
    },
    {
     "name": "stderr",
     "output_type": "stream",
     "text": [
      "2025-05-01 02:31:53.760 Python[2416:47821] Error creating directory \n",
      " The volume ‚ÄúMacintosh HD‚Äù is out of space. You can‚Äôt save the file ‚Äúmpsgraph-2416-2025-05-01_02_31_53-3543321853‚Äù because the volume ‚ÄúMacintosh HD‚Äù is out of space.\n",
      "2025-05-01 02:31:53.958 Python[2416:47816] Error creating directory \n",
      " The volume ‚ÄúMacintosh HD‚Äù is out of space. You can‚Äôt save the file ‚Äúmpsgraph-2416-2025-05-01_02_31_53-2357823310‚Äù because the volume ‚ÄúMacintosh HD‚Äù is out of space.\n"
     ]
    },
    {
     "name": "stdout",
     "output_type": "stream",
     "text": [
      "\u001b[1m320/339\u001b[0m \u001b[32m━━━━━━━━━━━━━━━━━━\u001b[0m\u001b[37m━━\u001b[0m \u001b[1m4s\u001b[0m 219ms/step - acc: 0.7457 - auc: 0.9907 - f1_score: 0.7110 - loss: 1.3165"
     ]
    },
    {
     "name": "stderr",
     "output_type": "stream",
     "text": [
      "2025-05-01 02:31:54.250 Python[2416:47815] Error creating directory \n",
      " The volume ‚ÄúMacintosh HD‚Äù is out of space. You can‚Äôt save the file ‚Äúmpsgraph-2416-2025-05-01_02_31_54-3647854202‚Äù because the volume ‚ÄúMacintosh HD‚Äù is out of space.\n",
      "2025-05-01 02:31:54.434 Python[2416:47820] Error creating directory \n",
      " The volume ‚ÄúMacintosh HD‚Äù is out of space. You can‚Äôt save the file ‚Äúmpsgraph-2416-2025-05-01_02_31_54-1059934378‚Äù because the volume ‚ÄúMacintosh HD‚Äù is out of space.\n"
     ]
    },
    {
     "name": "stdout",
     "output_type": "stream",
     "text": [
      "\u001b[1m322/339\u001b[0m \u001b[32m━━━━━━━━━━━━━━━━━━\u001b[0m\u001b[37m━━\u001b[0m \u001b[1m3s\u001b[0m 219ms/step - acc: 0.7457 - auc: 0.9907 - f1_score: 0.7111 - loss: 1.3166"
     ]
    },
    {
     "name": "stderr",
     "output_type": "stream",
     "text": [
      "2025-05-01 02:31:54.630 Python[2416:47816] Error creating directory \n",
      " The volume ‚ÄúMacintosh HD‚Äù is out of space. You can‚Äôt save the file ‚Äúmpsgraph-2416-2025-05-01_02_31_54-2922640100‚Äù because the volume ‚ÄúMacintosh HD‚Äù is out of space.\n"
     ]
    },
    {
     "name": "stdout",
     "output_type": "stream",
     "text": [
      "\u001b[1m323/339\u001b[0m \u001b[32m━━━━━━━━━━━━━━━━━━━\u001b[0m\u001b[37m━\u001b[0m \u001b[1m3s\u001b[0m 219ms/step - acc: 0.7456 - auc: 0.9907 - f1_score: 0.7112 - loss: 1.3167"
     ]
    },
    {
     "name": "stderr",
     "output_type": "stream",
     "text": [
      "2025-05-01 02:31:54.842 Python[2416:47816] Error creating directory \n",
      " The volume ‚ÄúMacintosh HD‚Äù is out of space. You can‚Äôt save the file ‚Äúmpsgraph-2416-2025-05-01_02_31_54-3238469168‚Äù because the volume ‚ÄúMacintosh HD‚Äù is out of space.\n"
     ]
    },
    {
     "name": "stdout",
     "output_type": "stream",
     "text": [
      "\u001b[1m324/339\u001b[0m \u001b[32m━━━━━━━━━━━━━━━━━━━\u001b[0m\u001b[37m━\u001b[0m \u001b[1m3s\u001b[0m 219ms/step - acc: 0.7456 - auc: 0.9907 - f1_score: 0.7113 - loss: 1.3168"
     ]
    },
    {
     "name": "stderr",
     "output_type": "stream",
     "text": [
      "2025-05-01 02:31:55.063 Python[2416:47822] Error creating directory \n",
      " The volume ‚ÄúMacintosh HD‚Äù is out of space. You can‚Äôt save the file ‚Äúmpsgraph-2416-2025-05-01_02_31_55-3825030851‚Äù because the volume ‚ÄúMacintosh HD‚Äù is out of space.\n"
     ]
    },
    {
     "name": "stdout",
     "output_type": "stream",
     "text": [
      "\u001b[1m325/339\u001b[0m \u001b[32m━━━━━━━━━━━━━━━━━━━\u001b[0m\u001b[37m━\u001b[0m \u001b[1m3s\u001b[0m 219ms/step - acc: 0.7456 - auc: 0.9907 - f1_score: 0.7114 - loss: 1.3168"
     ]
    },
    {
     "name": "stderr",
     "output_type": "stream",
     "text": [
      "2025-05-01 02:31:55.279 Python[2416:47818] Error creating directory \n",
      " The volume ‚ÄúMacintosh HD‚Äù is out of space. You can‚Äôt save the file ‚Äúmpsgraph-2416-2025-05-01_02_31_55-3347083285‚Äù because the volume ‚ÄúMacintosh HD‚Äù is out of space.\n"
     ]
    },
    {
     "name": "stdout",
     "output_type": "stream",
     "text": [
      "\u001b[1m326/339\u001b[0m \u001b[32m━━━━━━━━━━━━━━━━━━━\u001b[0m\u001b[37m━\u001b[0m \u001b[1m2s\u001b[0m 220ms/step - acc: 0.7456 - auc: 0.9907 - f1_score: 0.7115 - loss: 1.3169"
     ]
    },
    {
     "name": "stderr",
     "output_type": "stream",
     "text": [
      "2025-05-01 02:31:55.711 Python[2416:47816] Error creating directory \n",
      " The volume ‚ÄúMacintosh HD‚Äù is out of space. You can‚Äôt save the file ‚Äúmpsgraph-2416-2025-05-01_02_31_55-160246986‚Äù because the volume ‚ÄúMacintosh HD‚Äù is out of space.\n",
      "2025-05-01 02:31:55.872 Python[2416:47817] Error creating directory \n",
      " The volume ‚ÄúMacintosh HD‚Äù is out of space. You can‚Äôt save the file ‚Äúmpsgraph-2416-2025-05-01_02_31_55-1706115418‚Äù because the volume ‚ÄúMacintosh HD‚Äù is out of space.\n"
     ]
    },
    {
     "name": "stdout",
     "output_type": "stream",
     "text": [
      "\u001b[1m339/339\u001b[0m \u001b[32m━━━━━━━━━━━━━━━━━━━━\u001b[0m\u001b[37m\u001b[0m \u001b[1m0s\u001b[0m 220ms/step - acc: 0.7453 - auc: 0.9907 - f1_score: 0.7125 - loss: 1.3176Epoch 92: Layer now unfrozen 184 (block6b_se_reshape)\n",
      "\u001b[1m339/339\u001b[0m \u001b[32m━━━━━━━━━━━━━━━━━━━━\u001b[0m\u001b[37m\u001b[0m \u001b[1m88s\u001b[0m 259ms/step - acc: 0.7452 - auc: 0.9907 - f1_score: 0.7126 - loss: 1.3177 - val_acc: 0.6895 - val_auc: 0.9774 - val_f1_score: 0.6545 - val_loss: 1.5419 - learning_rate: 1.1749e-06\n",
      "Epoch 94/100\n",
      "\u001b[1m339/339\u001b[0m \u001b[32m━━━━━━━━━━━━━━━━━━━━\u001b[0m\u001b[37m\u001b[0m \u001b[1m96s\u001b[0m 282ms/step - acc: 0.7407 - auc: 0.9916 - f1_score: 0.7117 - loss: 1.3111 - val_acc: 0.6895 - val_auc: 0.9774 - val_f1_score: 0.6545 - val_loss: 1.5419 - learning_rate: 1.1482e-06\n",
      "Epoch 95/100\n",
      "\u001b[1m339/339\u001b[0m \u001b[32m━━━━━━━━━━━━━━━━━━━━\u001b[0m\u001b[37m\u001b[0m \u001b[1m0s\u001b[0m 201ms/step - acc: 0.7425 - auc: 0.9922 - f1_score: 0.7160 - loss: 1.3146Epoch 94: Layer now unfrozen 183 (block6b_se_squeeze)\n",
      "\u001b[1m339/339\u001b[0m \u001b[32m━━━━━━━━━━━━━━━━━━━━\u001b[0m\u001b[37m\u001b[0m \u001b[1m79s\u001b[0m 232ms/step - acc: 0.7425 - auc: 0.9922 - f1_score: 0.7161 - loss: 1.3146 - val_acc: 0.6895 - val_auc: 0.9774 - val_f1_score: 0.6545 - val_loss: 1.5418 - learning_rate: 1.1220e-06\n",
      "Epoch 96/100\n",
      "\u001b[1m339/339\u001b[0m \u001b[32m━━━━━━━━━━━━━━━━━━━━\u001b[0m\u001b[37m\u001b[0m \u001b[1m75s\u001b[0m 221ms/step - acc: 0.7422 - auc: 0.9924 - f1_score: 0.7123 - loss: 1.3101 - val_acc: 0.6900 - val_auc: 0.9774 - val_f1_score: 0.6555 - val_loss: 1.5418 - learning_rate: 1.0965e-06\n",
      "Epoch 97/100\n",
      "\u001b[1m339/339\u001b[0m \u001b[32m━━━━━━━━━━━━━━━━━━━━\u001b[0m\u001b[37m\u001b[0m \u001b[1m0s\u001b[0m 192ms/step - acc: 0.7460 - auc: 0.9921 - f1_score: 0.7178 - loss: 1.3191Epoch 96: Layer now unfrozen 182 (block6b_activation)\n",
      "\u001b[1m339/339\u001b[0m \u001b[32m━━━━━━━━━━━━━━━━━━━━\u001b[0m\u001b[37m\u001b[0m \u001b[1m75s\u001b[0m 222ms/step - acc: 0.7460 - auc: 0.9921 - f1_score: 0.7179 - loss: 1.3191 - val_acc: 0.6900 - val_auc: 0.9774 - val_f1_score: 0.6555 - val_loss: 1.5417 - learning_rate: 1.0715e-06\n",
      "Epoch 98/100\n",
      "\u001b[1m339/339\u001b[0m \u001b[32m━━━━━━━━━━━━━━━━━━━━\u001b[0m\u001b[37m\u001b[0m \u001b[1m77s\u001b[0m 228ms/step - acc: 0.7341 - auc: 0.9918 - f1_score: 0.7034 - loss: 1.3414 - val_acc: 0.6900 - val_auc: 0.9774 - val_f1_score: 0.6555 - val_loss: 1.5417 - learning_rate: 1.0471e-06\n",
      "Epoch 99/100\n",
      "\u001b[1m339/339\u001b[0m \u001b[32m━━━━━━━━━━━━━━━━━━━━\u001b[0m\u001b[37m\u001b[0m \u001b[1m0s\u001b[0m 195ms/step - acc: 0.7488 - auc: 0.9909 - f1_score: 0.7196 - loss: 1.3280Epoch 98: Layer now unfrozen 180 (block6b_dwconv)\n",
      "\u001b[1m339/339\u001b[0m \u001b[32m━━━━━━━━━━━━━━━━━━━━\u001b[0m\u001b[37m\u001b[0m \u001b[1m76s\u001b[0m 225ms/step - acc: 0.7488 - auc: 0.9909 - f1_score: 0.7197 - loss: 1.3280 - val_acc: 0.6900 - val_auc: 0.9774 - val_f1_score: 0.6555 - val_loss: 1.5416 - learning_rate: 1.0233e-06\n",
      "Epoch 100/100\n",
      "\u001b[1m339/339\u001b[0m \u001b[32m━━━━━━━━━━━━━━━━━━━━\u001b[0m\u001b[37m\u001b[0m \u001b[1m82s\u001b[0m 241ms/step - acc: 0.7414 - auc: 0.9913 - f1_score: 0.7117 - loss: 1.3317 - val_acc: 0.6900 - val_auc: 0.9774 - val_f1_score: 0.6555 - val_loss: 1.5416 - learning_rate: 1.0000e-06\n"
     ]
    }
   ],
   "source": [
    "experiment_ft = Experiment(\n",
    "    model=base_model_ft_en,\n",
    "    train_ds=train_ds,\n",
    "    val_ds=val_ds,\n",
    "    experiment_name=\"efficientnet_without_outliers_finetune_c\",\n",
    "    save_model=False,\n",
    "    batch_size=32,\n",
    "    image_size=(224, 224)\n",
    ")\n",
    "\n",
    "history_ft_en = experiment_ft.run_experiment(\n",
    "    epochs=100,\n",
    "    callbacks=[progressive_unfreeze, lr_callback]\n",
    ")"
   ]
  },
  {
   "cell_type": "code",
   "execution_count": 30,
   "metadata": {},
   "outputs": [],
   "source": [
    "history_ft_en = pd.DataFrame(history_ft_en.history)\n",
    "history_ft_en.to_csv('efficient_net_final_without_outliers_finetune_history.csv', index=False)"
   ]
  },
  {
   "cell_type": "code",
   "execution_count": 33,
   "metadata": {},
   "outputs": [
    {
     "data": {
      "text/html": [
       "<div>\n",
       "<style scoped>\n",
       "    .dataframe tbody tr th:only-of-type {\n",
       "        vertical-align: middle;\n",
       "    }\n",
       "\n",
       "    .dataframe tbody tr th {\n",
       "        vertical-align: top;\n",
       "    }\n",
       "\n",
       "    .dataframe thead th {\n",
       "        text-align: right;\n",
       "    }\n",
       "</style>\n",
       "<table border=\"1\" class=\"dataframe\">\n",
       "  <thead>\n",
       "    <tr style=\"text-align: right;\">\n",
       "      <th></th>\n",
       "      <th>acc</th>\n",
       "      <th>auc</th>\n",
       "      <th>f1_score</th>\n",
       "      <th>loss</th>\n",
       "      <th>val_acc</th>\n",
       "      <th>val_auc</th>\n",
       "      <th>val_f1_score</th>\n",
       "      <th>val_loss</th>\n",
       "      <th>learning_rate</th>\n",
       "    </tr>\n",
       "  </thead>\n",
       "  <tbody>\n",
       "    <tr>\n",
       "      <th>0</th>\n",
       "      <td>0.719395</td>\n",
       "      <td>0.989111</td>\n",
       "      <td>0.720881</td>\n",
       "      <td>1.399375</td>\n",
       "      <td>0.680022</td>\n",
       "      <td>0.977372</td>\n",
       "      <td>0.641858</td>\n",
       "      <td>1.568558</td>\n",
       "      <td>0.000010</td>\n",
       "    </tr>\n",
       "    <tr>\n",
       "      <th>1</th>\n",
       "      <td>0.723359</td>\n",
       "      <td>0.989202</td>\n",
       "      <td>0.724407</td>\n",
       "      <td>1.396934</td>\n",
       "      <td>0.680579</td>\n",
       "      <td>0.977406</td>\n",
       "      <td>0.642323</td>\n",
       "      <td>1.567594</td>\n",
       "      <td>0.000010</td>\n",
       "    </tr>\n",
       "    <tr>\n",
       "      <th>2</th>\n",
       "      <td>0.718566</td>\n",
       "      <td>0.989985</td>\n",
       "      <td>0.719126</td>\n",
       "      <td>1.408303</td>\n",
       "      <td>0.678909</td>\n",
       "      <td>0.977382</td>\n",
       "      <td>0.640583</td>\n",
       "      <td>1.566722</td>\n",
       "      <td>0.000009</td>\n",
       "    </tr>\n",
       "    <tr>\n",
       "      <th>3</th>\n",
       "      <td>0.720409</td>\n",
       "      <td>0.989819</td>\n",
       "      <td>0.718286</td>\n",
       "      <td>1.398099</td>\n",
       "      <td>0.679466</td>\n",
       "      <td>0.977416</td>\n",
       "      <td>0.640775</td>\n",
       "      <td>1.566024</td>\n",
       "      <td>0.000009</td>\n",
       "    </tr>\n",
       "    <tr>\n",
       "      <th>4</th>\n",
       "      <td>0.721055</td>\n",
       "      <td>0.989384</td>\n",
       "      <td>0.721581</td>\n",
       "      <td>1.396551</td>\n",
       "      <td>0.681135</td>\n",
       "      <td>0.977415</td>\n",
       "      <td>0.642648</td>\n",
       "      <td>1.565133</td>\n",
       "      <td>0.000009</td>\n",
       "    </tr>\n",
       "    <tr>\n",
       "      <th>...</th>\n",
       "      <td>...</td>\n",
       "      <td>...</td>\n",
       "      <td>...</td>\n",
       "      <td>...</td>\n",
       "      <td>...</td>\n",
       "      <td>...</td>\n",
       "      <td>...</td>\n",
       "      <td>...</td>\n",
       "      <td>...</td>\n",
       "    </tr>\n",
       "    <tr>\n",
       "      <th>95</th>\n",
       "      <td>0.738201</td>\n",
       "      <td>0.991510</td>\n",
       "      <td>0.741550</td>\n",
       "      <td>1.329032</td>\n",
       "      <td>0.690039</td>\n",
       "      <td>0.977353</td>\n",
       "      <td>0.655489</td>\n",
       "      <td>1.541754</td>\n",
       "      <td>0.000001</td>\n",
       "    </tr>\n",
       "    <tr>\n",
       "      <th>96</th>\n",
       "      <td>0.739399</td>\n",
       "      <td>0.991953</td>\n",
       "      <td>0.742603</td>\n",
       "      <td>1.326779</td>\n",
       "      <td>0.690039</td>\n",
       "      <td>0.977355</td>\n",
       "      <td>0.655489</td>\n",
       "      <td>1.541695</td>\n",
       "      <td>0.000001</td>\n",
       "    </tr>\n",
       "    <tr>\n",
       "      <th>97</th>\n",
       "      <td>0.737371</td>\n",
       "      <td>0.991904</td>\n",
       "      <td>0.740575</td>\n",
       "      <td>1.335330</td>\n",
       "      <td>0.690039</td>\n",
       "      <td>0.977356</td>\n",
       "      <td>0.655489</td>\n",
       "      <td>1.541664</td>\n",
       "      <td>0.000001</td>\n",
       "    </tr>\n",
       "    <tr>\n",
       "      <th>98</th>\n",
       "      <td>0.740321</td>\n",
       "      <td>0.990988</td>\n",
       "      <td>0.742393</td>\n",
       "      <td>1.339962</td>\n",
       "      <td>0.690039</td>\n",
       "      <td>0.977356</td>\n",
       "      <td>0.655489</td>\n",
       "      <td>1.541623</td>\n",
       "      <td>0.000001</td>\n",
       "    </tr>\n",
       "    <tr>\n",
       "      <th>99</th>\n",
       "      <td>0.739399</td>\n",
       "      <td>0.991568</td>\n",
       "      <td>0.743414</td>\n",
       "      <td>1.338020</td>\n",
       "      <td>0.690039</td>\n",
       "      <td>0.977352</td>\n",
       "      <td>0.655489</td>\n",
       "      <td>1.541555</td>\n",
       "      <td>0.000001</td>\n",
       "    </tr>\n",
       "  </tbody>\n",
       "</table>\n",
       "<p>100 rows × 9 columns</p>\n",
       "</div>"
      ],
      "text/plain": [
       "         acc       auc  f1_score      loss   val_acc   val_auc  val_f1_score  \\\n",
       "0   0.719395  0.989111  0.720881  1.399375  0.680022  0.977372      0.641858   \n",
       "1   0.723359  0.989202  0.724407  1.396934  0.680579  0.977406      0.642323   \n",
       "2   0.718566  0.989985  0.719126  1.408303  0.678909  0.977382      0.640583   \n",
       "3   0.720409  0.989819  0.718286  1.398099  0.679466  0.977416      0.640775   \n",
       "4   0.721055  0.989384  0.721581  1.396551  0.681135  0.977415      0.642648   \n",
       "..       ...       ...       ...       ...       ...       ...           ...   \n",
       "95  0.738201  0.991510  0.741550  1.329032  0.690039  0.977353      0.655489   \n",
       "96  0.739399  0.991953  0.742603  1.326779  0.690039  0.977355      0.655489   \n",
       "97  0.737371  0.991904  0.740575  1.335330  0.690039  0.977356      0.655489   \n",
       "98  0.740321  0.990988  0.742393  1.339962  0.690039  0.977356      0.655489   \n",
       "99  0.739399  0.991568  0.743414  1.338020  0.690039  0.977352      0.655489   \n",
       "\n",
       "    val_loss  learning_rate  \n",
       "0   1.568558       0.000010  \n",
       "1   1.567594       0.000010  \n",
       "2   1.566722       0.000009  \n",
       "3   1.566024       0.000009  \n",
       "4   1.565133       0.000009  \n",
       "..       ...            ...  \n",
       "95  1.541754       0.000001  \n",
       "96  1.541695       0.000001  \n",
       "97  1.541664       0.000001  \n",
       "98  1.541623       0.000001  \n",
       "99  1.541555       0.000001  \n",
       "\n",
       "[100 rows x 9 columns]"
      ]
     },
     "execution_count": 33,
     "metadata": {},
     "output_type": "execute_result"
    }
   ],
   "source": [
    "history_ft_en"
   ]
  },
  {
   "cell_type": "code",
   "execution_count": 34,
   "metadata": {},
   "outputs": [
    {
     "data": {
      "image/png": "[encoded data removed]",
      "text/plain": [
       "<Figure size 640x480 with 1 Axes>"
      ]
     },
     "metadata": {},
     "output_type": "display_data"
    }
   ],
   "source": [
    "acc_train_ft_en = history_ft_en['acc']\n",
    "acc_val_ft_en = history_ft_en['val_acc']\n",
    "num_epochs = len(acc_train_ft_en)\n",
    "plot_model_acc(num_epochs=num_epochs, train_acc=acc_train_ft_en, val_acc=acc_val_ft_en)"
   ]
  },
  {
   "cell_type": "code",
   "execution_count": 35,
   "metadata": {},
   "outputs": [
    {
     "data": {
      "image/png": "[encoded data removed]",
      "text/plain": [
       "<Figure size 640x480 with 1 Axes>"
      ]
     },
     "metadata": {},
     "output_type": "display_data"
    }
   ],
   "source": [
    "loss_train_ft_en = history_ft_en['loss']\n",
    "loss_val_ft_en = history_ft_en['val_loss']\n",
    "plot_model_loss(num_epochs=num_epochs, train_loss=loss_train_ft_en, val_loss=loss_val_ft_en)"
   ]
  },
  {
   "cell_type": "code",
   "execution_count": 38,
   "metadata": {},
   "outputs": [
    {
     "data": {
      "image/png": "[encoded data removed]",
      "text/plain": [
       "<Figure size 640x480 with 1 Axes>"
      ]
     },
     "metadata": {},
     "output_type": "display_data"
    }
   ],
   "source": [
    "x_axis = range(1,num_epochs+1)\n",
    "plt.plot(x_axis, history_ft_en['f1_score'], 'r', label='Training F1-Score')\n",
    "plt.plot(x_axis, history_ft_en['val_f1_score'], 'g', label='Validation F1-Score')\n",
    "plt.title('Training and Validation F1-Score')\n",
    "plt.xlabel('Epochs')\n",
    "plt.ylabel('F1-Score')\n",
    "plt.legend()\n",
    "plt.show()"
   ]
  },
  {
   "cell_type": "code",
   "execution_count": 39,
   "metadata": {},
   "outputs": [],
   "source": [
    "base_model_ft_en.save(\"efficient_net_finetuned_without_outliers_final.keras\")"
   ]
  },
  {
   "cell_type": "markdown",
   "metadata": {},
   "source": [
    "### Metrics"
   ]
  },
  {
   "cell_type": "code",
   "execution_count": 41,
   "metadata": {},
   "outputs": [
    {
     "name": "stdout",
     "output_type": "stream",
     "text": [
      "\n",
      "Evaluating model: efficient_net_finetuned_without_outliers_final.keras\n"
     ]
    },
    {
     "name": "stderr",
     "output_type": "stream",
     "text": [
      "/Users/brunasimoes/Desktop/nova_ims/2_semester/Trimestral/deep_learning/deep-learning-project/.venv/lib/python3.11/site-packages/keras/src/saving/saving_lib.py:757: UserWarning: Skipping variable loading for optimizer 'rmsprop', because it has 34 variables whereas the saved optimizer has 6 variables. \n",
      "  saveable.load_own_variables(weights_store.get(inner_path))\n",
      "2025-05-01 02:45:57.091037: W tensorflow/core/framework/local_rendezvous.cc:404] Local rendezvous is aborting with status: OUT_OF_RANGE: End of sequence\n",
      "/Users/brunasimoes/Desktop/nova_ims/2_semester/Trimestral/deep_learning/deep-learning-project/.venv/lib/python3.11/site-packages/sklearn/metrics/_classification.py:1565: UndefinedMetricWarning: Precision is ill-defined and being set to 0.0 in labels with no predicted samples. Use `zero_division` parameter to control this behavior.\n",
      "  _warn_prf(average, modifier, f\"{metric.capitalize()} is\", len(result))\n",
      "/Users/brunasimoes/Desktop/nova_ims/2_semester/Trimestral/deep_learning/deep-learning-project/.venv/lib/python3.11/site-packages/sklearn/metrics/_classification.py:1565: UndefinedMetricWarning: Precision is ill-defined and being set to 0.0 in labels with no predicted samples. Use `zero_division` parameter to control this behavior.\n",
      "  _warn_prf(average, modifier, f\"{metric.capitalize()} is\", len(result))\n",
      "/Users/brunasimoes/Desktop/nova_ims/2_semester/Trimestral/deep_learning/deep-learning-project/.venv/lib/python3.11/site-packages/sklearn/metrics/_classification.py:1565: UndefinedMetricWarning: Precision is ill-defined and being set to 0.0 in labels with no predicted samples. Use `zero_division` parameter to control this behavior.\n",
      "  _warn_prf(average, modifier, f\"{metric.capitalize()} is\", len(result))\n",
      "/Users/brunasimoes/Desktop/nova_ims/2_semester/Trimestral/deep_learning/deep-learning-project/.venv/lib/python3.11/site-packages/sklearn/metrics/_classification.py:1565: UndefinedMetricWarning: Precision is ill-defined and being set to 0.0 in labels with no predicted samples. Use `zero_division` parameter to control this behavior.\n",
      "  _warn_prf(average, modifier, f\"{metric.capitalize()} is\", len(result))\n"
     ]
    },
    {
     "name": "stdout",
     "output_type": "stream",
     "text": [
      "              precision    recall  f1-score   support\n",
      "\n",
      "           0     0.6071    0.9444    0.7391        18\n",
      "           1     0.6429    0.6923    0.6667        13\n",
      "           2     0.5556    0.8065    0.6579        31\n",
      "           3     0.6667    0.4444    0.5333         9\n",
      "           4     0.6818    0.8333    0.7500        18\n",
      "           5     0.5000    0.6000    0.5455         5\n",
      "           6     0.0000    0.0000    0.0000         4\n",
      "           7     1.0000    0.6000    0.7500         5\n",
      "           8     1.0000    0.1111    0.2000         9\n",
      "           9     1.0000    0.2222    0.3636         9\n",
      "          10     0.7097    0.8148    0.7586        27\n",
      "          11     0.5714    0.4444    0.5000         9\n",
      "          12     1.0000    0.5556    0.7143         9\n",
      "          13     1.0000    1.0000    1.0000        22\n",
      "          14     0.7143    0.5556    0.6250         9\n",
      "          15     1.0000    0.5000    0.6667         4\n",
      "          16     0.5714    0.5455    0.5581        22\n",
      "          17     1.0000    0.8000    0.8889         5\n",
      "          18     1.0000    0.7500    0.8571         4\n",
      "          19     0.0000    0.0000    0.0000         5\n",
      "          20     1.0000    0.5000    0.6667         4\n",
      "          21     0.8000    0.8889    0.8421         9\n",
      "          22     1.0000    0.6000    0.7500         5\n",
      "          23     0.6383    0.8333    0.7229        36\n",
      "          24     0.6667    0.4000    0.5000         5\n",
      "          25     0.6364    0.9032    0.7467        31\n",
      "          26     0.5833    0.6364    0.6087        22\n",
      "          27     1.0000    0.6667    0.8000         9\n",
      "          28     0.7500    0.6000    0.6667         5\n",
      "          29     0.7059    0.6667    0.6857        18\n",
      "          30     1.0000    0.2000    0.3333         5\n",
      "          31     1.0000    0.2000    0.3333         5\n",
      "          32     0.8889    0.8889    0.8889         9\n",
      "          33     0.4789    0.8500    0.6126        40\n",
      "          34     0.6000    0.6667    0.6316         9\n",
      "          35     0.4286    0.7500    0.5455         4\n",
      "          36     0.7692    0.7692    0.7692        13\n",
      "          37     1.0000    1.0000    1.0000         4\n",
      "          38     0.6415    0.7556    0.6939        45\n",
      "          39     0.0000    0.0000    0.0000         5\n",
      "          40     0.2500    0.2000    0.2222         5\n",
      "          41     0.8182    1.0000    0.9000         9\n",
      "          42     0.7273    1.0000    0.8421         8\n",
      "          43     0.8889    0.8889    0.8889         9\n",
      "          44     0.7500    0.7500    0.7500         4\n",
      "          45     0.8333    0.6250    0.7143         8\n",
      "          46     0.5000    0.2000    0.2857         5\n",
      "          47     0.1250    0.2000    0.1538         5\n",
      "          48     0.7143    0.7692    0.7407        13\n",
      "          49     0.6000    0.6000    0.6000         5\n",
      "          50     0.9000    0.6923    0.7826        13\n",
      "          51     1.0000    1.0000    1.0000         5\n",
      "          52     1.0000    1.0000    1.0000         5\n",
      "          53     0.5714    0.4444    0.5000         9\n",
      "          54     1.0000    1.0000    1.0000         4\n",
      "          55     0.5833    0.7778    0.6667         9\n",
      "          56     0.5000    0.2222    0.3077         9\n",
      "          57     0.7143    1.0000    0.8333         5\n",
      "          58     0.7500    0.7500    0.7500         4\n",
      "          59     1.0000    0.4000    0.5714         5\n",
      "          60     0.6863    0.7778    0.7292        45\n",
      "          61     0.0000    0.0000    0.0000         5\n",
      "          62     0.5588    0.8636    0.6786        22\n",
      "          63     1.0000    0.5000    0.6667         4\n",
      "          64     1.0000    0.4000    0.5714         5\n",
      "          65     0.6667    0.4000    0.5000         5\n",
      "          66     0.5200    0.7222    0.6047        18\n",
      "          67     1.0000    0.8000    0.8889         5\n",
      "          68     0.5000    0.2000    0.2857         5\n",
      "          69     0.8400    0.7778    0.8077        27\n",
      "          70     0.8000    1.0000    0.8889         4\n",
      "          71     0.8571    0.6667    0.7500         9\n",
      "          72     0.6667    1.0000    0.8000         4\n",
      "          73     0.6667    0.4444    0.5333         9\n",
      "          74     0.6667    0.5000    0.5714         4\n",
      "          75     1.0000    1.0000    1.0000         5\n",
      "          76     0.5714    0.6154    0.5926        13\n",
      "          77     0.2500    0.1111    0.1538         9\n",
      "          78     0.7500    0.6667    0.7059         9\n",
      "          79     0.8750    0.9767    0.9231        43\n",
      "          80     0.8571    0.6667    0.7500         9\n",
      "          81     1.0000    0.8000    0.8889         5\n",
      "          82     1.0000    0.4000    0.5714         5\n",
      "          83     0.8000    1.0000    0.8889         4\n",
      "          84     0.6111    0.8462    0.7097        13\n",
      "          85     1.0000    0.7500    0.8571         4\n",
      "          86     0.6000    0.6000    0.6000         5\n",
      "          87     1.0000    0.4000    0.5714         5\n",
      "          88     1.0000    1.0000    1.0000         9\n",
      "          89     0.8000    1.0000    0.8889         4\n",
      "          90     0.2000    0.2500    0.2222         4\n",
      "          91     1.0000    0.8000    0.8889         5\n",
      "          92     0.5000    0.2500    0.3333         4\n",
      "          93     1.0000    0.2500    0.4000         4\n",
      "          94     0.3333    0.1111    0.1667         9\n",
      "          95     1.0000    1.0000    1.0000         5\n",
      "          96     1.0000    0.7500    0.8571         4\n",
      "          97     0.7778    0.5385    0.6364        13\n",
      "          98     0.0000    0.0000    0.0000         5\n",
      "          99     0.8235    0.7778    0.8000        18\n",
      "         100     1.0000    0.8000    0.8889         5\n",
      "         101     0.8750    0.7778    0.8235         9\n",
      "         102     0.5455    0.6667    0.6000         9\n",
      "         103     0.4444    1.0000    0.6154         4\n",
      "         104     0.8462    1.0000    0.9167        22\n",
      "         105     0.6667    0.5000    0.5714         4\n",
      "         106     0.7000    0.7778    0.7368         9\n",
      "         107     0.6000    0.3333    0.4286         9\n",
      "         108     0.6667    0.8000    0.7273         5\n",
      "         109     1.0000    0.8000    0.8889         5\n",
      "         110     0.5000    0.2000    0.2857         5\n",
      "         111     0.8000    0.4444    0.5714         9\n",
      "         112     1.0000    0.6000    0.7500         5\n",
      "         113     1.0000    0.4000    0.5714         5\n",
      "         114     0.8000    1.0000    0.8889         4\n",
      "         115     0.6000    0.6000    0.6000         5\n",
      "         116     0.5000    0.3333    0.4000         9\n",
      "         117     0.5714    1.0000    0.7273         4\n",
      "         118     0.7500    0.7500    0.7500         4\n",
      "         119     0.7500    0.6000    0.6667         5\n",
      "         120     0.8000    0.8000    0.8000         5\n",
      "         121     0.6667    0.6154    0.6400        13\n",
      "         122     0.5556    0.3846    0.4545        13\n",
      "         123     0.3333    0.4000    0.3636         5\n",
      "         124     1.0000    0.8000    0.8889         5\n",
      "         125     1.0000    1.0000    1.0000         5\n",
      "         126     0.5833    0.7778    0.6667         9\n",
      "         127     1.0000    0.6000    0.7500         5\n",
      "         128     1.0000    0.8000    0.8889         5\n",
      "         129     1.0000    0.2500    0.4000         4\n",
      "         130     1.0000    1.0000    1.0000         4\n",
      "         131     0.7500    0.6000    0.6667         5\n",
      "         132     0.6000    0.7500    0.6667         4\n",
      "         133     0.7500    0.6000    0.6667         5\n",
      "         134     0.8333    1.0000    0.9091         5\n",
      "         135     1.0000    0.6000    0.7500         5\n",
      "         136     0.6667    0.5000    0.5714         4\n",
      "         137     0.6000    0.6000    0.6000         5\n",
      "         138     0.7500    0.7500    0.7500         4\n",
      "         139     0.3333    0.2500    0.2857         4\n",
      "         140     1.0000    1.0000    1.0000         5\n",
      "         141     0.5000    0.4000    0.4444         5\n",
      "         142     0.5738    0.8750    0.6931        40\n",
      "         143     1.0000    1.0000    1.0000         4\n",
      "         144     1.0000    0.5556    0.7143         9\n",
      "         145     0.6667    0.4000    0.5000         5\n",
      "         146     0.6667    0.8000    0.7273         5\n",
      "         147     0.8000    1.0000    0.8889         4\n",
      "         148     0.5000    0.6000    0.5455         5\n",
      "         149     0.5000    0.4000    0.4444         5\n",
      "         150     0.4167    0.3846    0.4000        13\n",
      "         151     0.7500    0.7500    0.7500         4\n",
      "         152     0.6667    0.8889    0.7619        18\n",
      "         153     0.8571    0.6667    0.7500         9\n",
      "         154     0.8889    0.8889    0.8889         9\n",
      "         155     0.8571    0.4615    0.6000        13\n",
      "         156     1.0000    1.0000    1.0000         5\n",
      "         157     0.6667    0.5000    0.5714         4\n",
      "         158     0.3889    0.5385    0.4516        13\n",
      "         159     0.8000    1.0000    0.8889         4\n",
      "         160     0.6000    0.6667    0.6316         9\n",
      "         161     1.0000    0.7500    0.8571         4\n",
      "         162     0.0000    0.0000    0.0000         9\n",
      "         163     0.4762    0.7500    0.5825        40\n",
      "         164     0.3333    0.2000    0.2500         5\n",
      "         165     1.0000    0.6000    0.7500         5\n",
      "         166     0.8333    1.0000    0.9091         5\n",
      "         167     0.8889    0.8889    0.8889         9\n",
      "         168     0.6667    0.8000    0.7273         5\n",
      "         169     0.6923    0.6923    0.6923        13\n",
      "         170     0.6667    0.8000    0.7273         5\n",
      "         171     0.3333    0.2500    0.2857         4\n",
      "         172     1.0000    0.2000    0.3333         5\n",
      "         173     1.0000    0.6000    0.7500         5\n",
      "         174     0.8750    0.7778    0.8235         9\n",
      "         175     0.8333    0.8333    0.8333        18\n",
      "         176     0.0000    0.0000    0.0000        13\n",
      "         177     0.0000    0.0000    0.0000         4\n",
      "         178     1.0000    0.2000    0.3333         5\n",
      "         179     0.7778    0.7778    0.7778         9\n",
      "         180     1.0000    0.4000    0.5714         5\n",
      "         181     1.0000    0.8000    0.8889         5\n",
      "         182     0.7000    0.7778    0.7368         9\n",
      "         183     0.8889    0.8889    0.8889         9\n",
      "         184     0.8000    1.0000    0.8889         4\n",
      "         185     1.0000    1.0000    1.0000         5\n",
      "         186     0.5882    0.7692    0.6667        13\n",
      "         187     0.5000    0.4000    0.4444         5\n",
      "         188     1.0000    0.4000    0.5714         5\n",
      "         189     0.8000    0.9231    0.8571        13\n",
      "         190     0.7500    0.7500    0.7500         4\n",
      "         191     0.6000    0.6000    0.6000         5\n",
      "         192     0.7778    0.7778    0.7778         9\n",
      "         193     0.6429    1.0000    0.7826         9\n",
      "         194     1.0000    0.7500    0.8571         4\n",
      "         195     1.0000    0.8889    0.9412         9\n",
      "         196     0.6667    1.0000    0.8000         4\n",
      "         197     1.0000    0.2222    0.3636         9\n",
      "         198     0.5714    0.8000    0.6667         5\n",
      "         199     0.6000    0.6000    0.6000         5\n",
      "         200     0.6667    1.0000    0.8000         4\n",
      "         201     0.8000    1.0000    0.8889         4\n",
      "\n",
      "    accuracy                         0.6900      1797\n",
      "   macro avg     0.7271    0.6447    0.6555      1797\n",
      "weighted avg     0.7018    0.6900    0.6712      1797\n",
      "\n",
      "Accuracy     : 0.6900389538119087\n",
      "F1 (macro)   : 0.6554892858409636\n",
      "Precision    : 0.7271251278185094\n",
      "Recall       : 0.644720015358529\n",
      "\n",
      "Evaluating model: efficient_net_pre_finetuning_without_outliers.keras\n",
      "              precision    recall  f1-score   support\n",
      "\n",
      "           0     0.6071    0.9444    0.7391        18\n",
      "           1     0.6429    0.6923    0.6667        13\n",
      "           2     0.5532    0.8387    0.6667        31\n",
      "           3     0.6667    0.4444    0.5333         9\n",
      "           4     0.6522    0.8333    0.7317        18\n",
      "           5     0.5000    0.6000    0.5455         5\n",
      "           6     0.0000    0.0000    0.0000         4\n",
      "           7     1.0000    0.6000    0.7500         5\n",
      "           8     1.0000    0.1111    0.2000         9\n",
      "           9     1.0000    0.2222    0.3636         9\n",
      "          10     0.6875    0.8148    0.7458        27\n",
      "          11     0.5714    0.4444    0.5000         9\n",
      "          12     1.0000    0.5556    0.7143         9\n",
      "          13     1.0000    1.0000    1.0000        22\n",
      "          14     0.7143    0.5556    0.6250         9\n",
      "          15     1.0000    0.5000    0.6667         4\n",
      "          16     0.5714    0.5455    0.5581        22\n",
      "          17     1.0000    0.8000    0.8889         5\n",
      "          18     1.0000    0.5000    0.6667         4\n",
      "          19     0.0000    0.0000    0.0000         5\n",
      "          20     1.0000    0.5000    0.6667         4\n",
      "          21     0.8000    0.8889    0.8421         9\n",
      "          22     1.0000    0.6000    0.7500         5\n",
      "          23     0.6122    0.8333    0.7059        36\n",
      "          24     0.6667    0.4000    0.5000         5\n",
      "          25     0.6512    0.9032    0.7568        31\n",
      "          26     0.6087    0.6364    0.6222        22\n",
      "          27     1.0000    0.6667    0.8000         9\n",
      "          28     0.7500    0.6000    0.6667         5\n",
      "          29     0.6875    0.6111    0.6471        18\n",
      "          30     1.0000    0.2000    0.3333         5\n",
      "          31     1.0000    0.2000    0.3333         5\n",
      "          32     0.8889    0.8889    0.8889         9\n",
      "          33     0.4658    0.8500    0.6018        40\n",
      "          34     0.6250    0.5556    0.5882         9\n",
      "          35     0.4286    0.7500    0.5455         4\n",
      "          36     0.7692    0.7692    0.7692        13\n",
      "          37     1.0000    1.0000    1.0000         4\n",
      "          38     0.6182    0.7556    0.6800        45\n",
      "          39     0.0000    0.0000    0.0000         5\n",
      "          40     0.3333    0.2000    0.2500         5\n",
      "          41     0.8182    1.0000    0.9000         9\n",
      "          42     0.7273    1.0000    0.8421         8\n",
      "          43     0.8889    0.8889    0.8889         9\n",
      "          44     0.7500    0.7500    0.7500         4\n",
      "          45     0.8333    0.6250    0.7143         8\n",
      "          46     0.5000    0.2000    0.2857         5\n",
      "          47     0.1429    0.2000    0.1667         5\n",
      "          48     0.6667    0.7692    0.7143        13\n",
      "          49     0.6000    0.6000    0.6000         5\n",
      "          50     0.9000    0.6923    0.7826        13\n",
      "          51     1.0000    1.0000    1.0000         5\n",
      "          52     1.0000    1.0000    1.0000         5\n",
      "          53     0.5714    0.4444    0.5000         9\n",
      "          54     1.0000    1.0000    1.0000         4\n",
      "          55     0.5455    0.6667    0.6000         9\n",
      "          56     0.5000    0.2222    0.3077         9\n",
      "          57     0.7143    1.0000    0.8333         5\n",
      "          58     0.7500    0.7500    0.7500         4\n",
      "          59     1.0000    0.4000    0.5714         5\n",
      "          60     0.6731    0.7778    0.7216        45\n",
      "          61     0.0000    0.0000    0.0000         5\n",
      "          62     0.5625    0.8182    0.6667        22\n",
      "          63     1.0000    0.5000    0.6667         4\n",
      "          64     1.0000    0.4000    0.5714         5\n",
      "          65     0.6667    0.4000    0.5000         5\n",
      "          66     0.4815    0.7222    0.5778        18\n",
      "          67     1.0000    0.6000    0.7500         5\n",
      "          68     0.5000    0.2000    0.2857         5\n",
      "          69     0.8077    0.7778    0.7925        27\n",
      "          70     0.8000    1.0000    0.8889         4\n",
      "          71     0.8571    0.6667    0.7500         9\n",
      "          72     0.6667    1.0000    0.8000         4\n",
      "          73     0.6667    0.4444    0.5333         9\n",
      "          74     0.6667    0.5000    0.5714         4\n",
      "          75     1.0000    1.0000    1.0000         5\n",
      "          76     0.5333    0.6154    0.5714        13\n",
      "          77     0.2500    0.1111    0.1538         9\n",
      "          78     0.7500    0.6667    0.7059         9\n",
      "          79     0.8750    0.9767    0.9231        43\n",
      "          80     0.8333    0.5556    0.6667         9\n",
      "          81     1.0000    0.8000    0.8889         5\n",
      "          82     0.5000    0.4000    0.4444         5\n",
      "          83     0.8000    1.0000    0.8889         4\n",
      "          84     0.6111    0.8462    0.7097        13\n",
      "          85     1.0000    0.7500    0.8571         4\n",
      "          86     0.6000    0.6000    0.6000         5\n",
      "          87     0.5000    0.2000    0.2857         5\n",
      "          88     0.9000    1.0000    0.9474         9\n",
      "          89     0.6667    1.0000    0.8000         4\n",
      "          90     0.2500    0.2500    0.2500         4\n",
      "          91     1.0000    0.8000    0.8889         5\n",
      "          92     0.5000    0.2500    0.3333         4\n",
      "          93     0.5000    0.2500    0.3333         4\n",
      "          94     0.3333    0.1111    0.1667         9\n",
      "          95     1.0000    1.0000    1.0000         5\n",
      "          96     1.0000    0.5000    0.6667         4\n",
      "          97     0.7778    0.5385    0.6364        13\n",
      "          98     0.0000    0.0000    0.0000         5\n",
      "          99     0.8235    0.7778    0.8000        18\n",
      "         100     1.0000    0.8000    0.8889         5\n",
      "         101     0.7778    0.7778    0.7778         9\n",
      "         102     0.5455    0.6667    0.6000         9\n",
      "         103     0.4444    1.0000    0.6154         4\n",
      "         104     0.8462    1.0000    0.9167        22\n",
      "         105     0.6667    0.5000    0.5714         4\n",
      "         106     0.7778    0.7778    0.7778         9\n",
      "         107     0.6000    0.3333    0.4286         9\n",
      "         108     0.6667    0.8000    0.7273         5\n",
      "         109     1.0000    0.8000    0.8889         5\n",
      "         110     0.5000    0.2000    0.2857         5\n",
      "         111     0.8000    0.4444    0.5714         9\n",
      "         112     1.0000    0.6000    0.7500         5\n",
      "         113     1.0000    0.4000    0.5714         5\n",
      "         114     0.8000    1.0000    0.8889         4\n",
      "         115     0.5000    0.6000    0.5455         5\n",
      "         116     0.5000    0.3333    0.4000         9\n",
      "         117     0.4286    0.7500    0.5455         4\n",
      "         118     0.7500    0.7500    0.7500         4\n",
      "         119     0.7500    0.6000    0.6667         5\n",
      "         120     0.8000    0.8000    0.8000         5\n",
      "         121     0.6667    0.6154    0.6400        13\n",
      "         122     0.6250    0.3846    0.4762        13\n",
      "         123     0.3333    0.4000    0.3636         5\n",
      "         124     1.0000    0.8000    0.8889         5\n",
      "         125     1.0000    1.0000    1.0000         5\n",
      "         126     0.6364    0.7778    0.7000         9\n",
      "         127     1.0000    0.6000    0.7500         5\n",
      "         128     1.0000    0.8000    0.8889         5\n",
      "         129     1.0000    0.2500    0.4000         4\n",
      "         130     1.0000    1.0000    1.0000         4\n",
      "         131     0.7500    0.6000    0.6667         5\n",
      "         132     0.6000    0.7500    0.6667         4\n",
      "         133     0.7500    0.6000    0.6667         5\n",
      "         134     0.8333    1.0000    0.9091         5\n",
      "         135     1.0000    0.6000    0.7500         5\n",
      "         136     0.6667    0.5000    0.5714         4\n",
      "         137     0.6000    0.6000    0.6000         5\n",
      "         138     0.7500    0.7500    0.7500         4\n",
      "         139     0.3333    0.2500    0.2857         4\n",
      "         140     1.0000    1.0000    1.0000         5\n",
      "         141     0.5000    0.4000    0.4444         5\n",
      "         142     0.5645    0.8750    0.6863        40\n",
      "         143     0.8000    1.0000    0.8889         4\n",
      "         144     1.0000    0.5556    0.7143         9\n",
      "         145     0.6667    0.4000    0.5000         5\n",
      "         146     0.6000    0.6000    0.6000         5\n",
      "         147     0.6667    0.5000    0.5714         4\n",
      "         148     0.5000    0.6000    0.5455         5\n",
      "         149     0.6667    0.4000    0.5000         5\n",
      "         150     0.4545    0.3846    0.4167        13\n",
      "         151     0.7500    0.7500    0.7500         4\n",
      "         152     0.6400    0.8889    0.7442        18\n",
      "         153     0.8333    0.5556    0.6667         9\n",
      "         154     0.8889    0.8889    0.8889         9\n",
      "         155     0.8333    0.3846    0.5263        13\n",
      "         156     1.0000    0.8000    0.8889         5\n",
      "         157     0.6667    0.5000    0.5714         4\n",
      "         158     0.4118    0.5385    0.4667        13\n",
      "         159     0.8000    1.0000    0.8889         4\n",
      "         160     0.6000    0.6667    0.6316         9\n",
      "         161     1.0000    0.7500    0.8571         4\n",
      "         162     0.0000    0.0000    0.0000         9\n",
      "         163     0.4677    0.7250    0.5686        40\n",
      "         164     0.5000    0.2000    0.2857         5\n",
      "         165     1.0000    0.6000    0.7500         5\n",
      "         166     0.8333    1.0000    0.9091         5\n",
      "         167     0.8889    0.8889    0.8889         9\n",
      "         168     0.6667    0.8000    0.7273         5\n",
      "         169     0.6923    0.6923    0.6923        13\n",
      "         170     0.6667    0.8000    0.7273         5\n",
      "         171     0.3333    0.2500    0.2857         4\n",
      "         172     1.0000    0.2000    0.3333         5\n",
      "         173     1.0000    0.6000    0.7500         5\n",
      "         174     0.8750    0.7778    0.8235         9\n",
      "         175     0.7500    0.8333    0.7895        18\n",
      "         176     0.0000    0.0000    0.0000        13\n",
      "         177     0.0000    0.0000    0.0000         4\n",
      "         178     1.0000    0.2000    0.3333         5\n",
      "         179     0.7778    0.7778    0.7778         9\n",
      "         180     1.0000    0.4000    0.5714         5\n",
      "         181     1.0000    0.8000    0.8889         5\n",
      "         182     0.6667    0.6667    0.6667         9\n",
      "         183     0.8889    0.8889    0.8889         9\n",
      "         184     0.8000    1.0000    0.8889         4\n",
      "         185     1.0000    1.0000    1.0000         5\n",
      "         186     0.5882    0.7692    0.6667        13\n",
      "         187     0.5000    0.4000    0.4444         5\n",
      "         188     1.0000    0.4000    0.5714         5\n",
      "         189     0.8000    0.9231    0.8571        13\n",
      "         190     0.7500    0.7500    0.7500         4\n",
      "         191     0.6000    0.6000    0.6000         5\n",
      "         192     0.7778    0.7778    0.7778         9\n",
      "         193     0.6429    1.0000    0.7826         9\n",
      "         194     0.7500    0.7500    0.7500         4\n",
      "         195     1.0000    0.7778    0.8750         9\n",
      "         196     0.6667    1.0000    0.8000         4\n",
      "         197     0.5000    0.2222    0.3077         9\n",
      "         198     0.5714    0.8000    0.6667         5\n",
      "         199     0.5000    0.6000    0.5455         5\n",
      "         200     0.6000    0.7500    0.6667         4\n",
      "         201     0.6667    1.0000    0.8000         4\n",
      "\n",
      "    accuracy                         0.6795      1797\n",
      "   macro avg     0.7109    0.6292    0.6406      1797\n",
      "weighted avg     0.6886    0.6795    0.6597      1797\n",
      "\n",
      "Accuracy     : 0.679465776293823\n",
      "F1 (macro)   : 0.6406395060472919\n",
      "Precision    : 0.7108667416472598\n",
      "Recall       : 0.6291886204076195\n"
     ]
    },
    {
     "name": "stderr",
     "output_type": "stream",
     "text": [
      "2025-05-01 02:46:20.017484: W tensorflow/core/framework/local_rendezvous.cc:404] Local rendezvous is aborting with status: OUT_OF_RANGE: End of sequence\n",
      "/Users/brunasimoes/Desktop/nova_ims/2_semester/Trimestral/deep_learning/deep-learning-project/.venv/lib/python3.11/site-packages/sklearn/metrics/_classification.py:1565: UndefinedMetricWarning: Precision is ill-defined and being set to 0.0 in labels with no predicted samples. Use `zero_division` parameter to control this behavior.\n",
      "  _warn_prf(average, modifier, f\"{metric.capitalize()} is\", len(result))\n",
      "/Users/brunasimoes/Desktop/nova_ims/2_semester/Trimestral/deep_learning/deep-learning-project/.venv/lib/python3.11/site-packages/sklearn/metrics/_classification.py:1565: UndefinedMetricWarning: Precision is ill-defined and being set to 0.0 in labels with no predicted samples. Use `zero_division` parameter to control this behavior.\n",
      "  _warn_prf(average, modifier, f\"{metric.capitalize()} is\", len(result))\n",
      "/Users/brunasimoes/Desktop/nova_ims/2_semester/Trimestral/deep_learning/deep-learning-project/.venv/lib/python3.11/site-packages/sklearn/metrics/_classification.py:1565: UndefinedMetricWarning: Precision is ill-defined and being set to 0.0 in labels with no predicted samples. Use `zero_division` parameter to control this behavior.\n",
      "  _warn_prf(average, modifier, f\"{metric.capitalize()} is\", len(result))\n",
      "/Users/brunasimoes/Desktop/nova_ims/2_semester/Trimestral/deep_learning/deep-learning-project/.venv/lib/python3.11/site-packages/sklearn/metrics/_classification.py:1565: UndefinedMetricWarning: Precision is ill-defined and being set to 0.0 in labels with no predicted samples. Use `zero_division` parameter to control this behavior.\n",
      "  _warn_prf(average, modifier, f\"{metric.capitalize()} is\", len(result))\n"
     ]
    },
    {
     "data": {
      "text/plain": [
       "(array([  0,   0,   0, ..., 201, 201, 201]),\n",
       " array([  0,   0,  23, ..., 201, 201, 201]))"
      ]
     },
     "execution_count": 41,
     "metadata": {},
     "output_type": "execute_result"
    }
   ],
   "source": [
    "get_metric(val_ds, \"efficient_net_finetuned_without_outliers_final.keras\")\n",
    "get_metric(val_ds,\"efficient_net_pre_finetuning_without_outliers.keras\")\n",
    "# custom function to include the metrics per class, as well as the precision and recall for error analysis purposes"
   ]
  },
  {
   "cell_type": "code",
   "execution_count": null,
   "metadata": {},
   "outputs": [],
   "source": []
  }
 ],
 "metadata": {
  "kernelspec": {
   "display_name": ".venv",
   "language": "python",
   "name": "python3"
  },
  "language_info": {
   "codemirror_mode": {
    "name": "ipython",
    "version": 3
   },
   "file_extension": ".py",
   "mimetype": "text/x-python",
   "name": "python",
   "nbconvert_exporter": "python",
   "pygments_lexer": "ipython3",
   "version": "3.11.0"
  }
 },
 "nbformat": 4,
 "nbformat_minor": 2
}
